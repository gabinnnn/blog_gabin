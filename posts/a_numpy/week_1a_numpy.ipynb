{
  "cells": [
    {
      "attachments": {},
      "cell_type": "markdown",
      "metadata": {},
      "source": [
        "---\n",
        "title: \"Numpy\"\n",
        "author: \"Gabin Lee\"\n",
        "date: \"2023-04-11\"\n",
        "categories: [new, code, analysis]\n",
        "image: \"image.png\"\n",
        "---"
      ]
    },
    {
      "attachments": {},
      "cell_type": "markdown",
      "metadata": {
        "id": "-BpEYICMx35f"
      },
      "source": [
        "# \"Numpy 기본\"\n",
        "> \"numpy 기본 코드 실습(한글)\"\n",
        "\n",
        "- toc:true\n",
        "- branch: master\n",
        "- badges: true\n",
        "- comments: true\n",
        "- categories: [jupyter, python]"
      ]
    },
    {
      "attachments": {},
      "cell_type": "markdown",
      "metadata": {
        "id": "RoJBQ174e18V"
      },
      "source": [
        "**도구 - 넘파이(NumPy)**\n",
        "\n",
        "*넘파이(NumPy)는 파이썬의 과학 컴퓨팅을 위한 기본 라이브러리입니다. 넘파이의 핵심은 강력한 N-차원 배열 객체입니다. 또한 선형 대수, 푸리에(Fourier) 변환, 유사 난수 생성과 같은 유용한 함수들도 제공합니다.\""
      ]
    },
    {
      "attachments": {},
      "cell_type": "markdown",
      "metadata": {
        "id": "0PJnnb8Ge18W"
      },
      "source": [
        "<table align=\"left\">\n",
        "  <td>\n",
        "    <a target=\"_blank\" href=\"https://colab.research.google.com/github/rickiepark/handson-ml2/blob/master/tools_numpy.ipynb\"><img src=\"https://www.tensorflow.org/images/colab_logo_32px.png\" />구글 코랩에서 실행하기</a>\n",
        "  </td>\n",
        "</table>"
      ]
    },
    {
      "attachments": {},
      "cell_type": "markdown",
      "metadata": {
        "id": "kZv9j5lye18X"
      },
      "source": [
        "# 배열 생성"
      ]
    },
    {
      "attachments": {},
      "cell_type": "markdown",
      "metadata": {
        "id": "Z1NRiZrNe18X"
      },
      "source": [
        "`numpy`를 임포트해 보죠. 대부분의 사람들이 `np`로 알리아싱하여 임포트합니다:"
      ]
    },
    {
      "cell_type": "code",
      "execution_count": 4,
      "metadata": {
        "id": "cLHSwTL-e18X"
      },
      "outputs": [],
      "source": [
        "import numpy as np"
      ]
    },
    {
      "attachments": {},
      "cell_type": "markdown",
      "metadata": {
        "id": "ohmdO906e18X"
      },
      "source": [
        "## `np.zeros`"
      ]
    },
    {
      "attachments": {},
      "cell_type": "markdown",
      "metadata": {
        "id": "9tqkXgL4e18X"
      },
      "source": [
        "`zeros` 함수는 0으로 채워진 배열을 만듭니다:"
      ]
    },
    {
      "cell_type": "code",
      "execution_count": 5,
      "metadata": {
        "colab": {
          "base_uri": "https://localhost:8080/"
        },
        "id": "_5-A5CIoe18Y",
        "outputId": "55348f56-2987-4439-e68e-2c55c57d7573"
      },
      "outputs": [
        {
          "data": {
            "text/plain": [
              "array([0., 0., 0., 0., 0.])"
            ]
          },
          "execution_count": 5,
          "metadata": {},
          "output_type": "execute_result"
        }
      ],
      "source": [
        "np.zeros(5)"
      ]
    },
    {
      "attachments": {},
      "cell_type": "markdown",
      "metadata": {
        "id": "VpJ57KNXe18Y"
      },
      "source": [
        "2D 배열(즉, 행렬)을 만들려면 원하는 행과 열의 크기를 튜플로 전달합니다. 예를 들어 다음은 $3 \\times 4$ 크기의 행렬입니다:"
      ]
    },
    {
      "cell_type": "code",
      "execution_count": 6,
      "metadata": {
        "colab": {
          "base_uri": "https://localhost:8080/"
        },
        "id": "iS2ZVhqje18Y",
        "outputId": "d9a14f1d-18d5-4d2a-b8f6-e794e911ce0e"
      },
      "outputs": [
        {
          "data": {
            "text/plain": [
              "array([[0., 0., 0., 0.],\n",
              "       [0., 0., 0., 0.],\n",
              "       [0., 0., 0., 0.]])"
            ]
          },
          "execution_count": 6,
          "metadata": {},
          "output_type": "execute_result"
        }
      ],
      "source": [
        "np.zeros((3,4))"
      ]
    },
    {
      "attachments": {},
      "cell_type": "markdown",
      "metadata": {
        "id": "8Rp3lMcie18Y"
      },
      "source": [
        "## 용어\n",
        "\n",
        "* 넘파이에서 각 차원을 **축**(axis) 이라고 합니다\n",
        "* 축의 개수를 **랭크**(rank) 라고 합니다.\n",
        "    * 예를 들어, 위의 $3 \\times 4$ 행렬은 랭크 2인 배열입니다(즉 2차원입니다).\n",
        "    * 첫 번째 축의 길이는 3이고 두 번째 축의 길이는 4입니다.\n",
        "* 배열의 축 길이를 배열의 **크기**(shape)라고 합니다.\n",
        "    * 예를 들어, 위 행렬의 크기는 `(3, 4)`입니다.\n",
        "    * 랭크는 크기의 길이와 같습니다.\n",
        "* 배열의 **사이즈**(size)는 전체 원소의 개수입니다. 축의 길이를 모두 곱해서 구할 수 있습니다(가령, $3 \\times 4=12$)."
      ]
    },
    {
      "cell_type": "code",
      "execution_count": 7,
      "metadata": {
        "colab": {
          "base_uri": "https://localhost:8080/"
        },
        "id": "g5Dy159He18Y",
        "outputId": "2c6da791-49a6-4fe3-fe30-fd280fed4387"
      },
      "outputs": [
        {
          "data": {
            "text/plain": [
              "array([[0., 0., 0., 0.],\n",
              "       [0., 0., 0., 0.],\n",
              "       [0., 0., 0., 0.]])"
            ]
          },
          "execution_count": 7,
          "metadata": {},
          "output_type": "execute_result"
        }
      ],
      "source": [
        "a = np.zeros((3,4)) #3(0번째 축), 4(1번째 축)\n",
        "a"
      ]
    },
    {
      "cell_type": "code",
      "execution_count": 8,
      "metadata": {
        "colab": {
          "base_uri": "https://localhost:8080/"
        },
        "id": "tSXp4dISe18Y",
        "outputId": "910d261e-a38d-4ec2-9e18-b29ea1864ada"
      },
      "outputs": [
        {
          "data": {
            "text/plain": [
              "(3, 4)"
            ]
          },
          "execution_count": 8,
          "metadata": {},
          "output_type": "execute_result"
        }
      ],
      "source": [
        "a.shape"
      ]
    },
    {
      "cell_type": "code",
      "execution_count": 10,
      "metadata": {
        "colab": {
          "base_uri": "https://localhost:8080/"
        },
        "id": "aMY1UjlTe18Y",
        "outputId": "ec72aacb-e364-4fda-8c14-1c372356a0be"
      },
      "outputs": [
        {
          "data": {
            "text/plain": [
              "2"
            ]
          },
          "execution_count": 10,
          "metadata": {},
          "output_type": "execute_result"
        }
      ],
      "source": [
        "a.ndim  # len(a.shape)와 같습니다"
      ]
    },
    {
      "cell_type": "code",
      "execution_count": 11,
      "metadata": {
        "colab": {
          "base_uri": "https://localhost:8080/"
        },
        "id": "2y_sCE8jSUFj",
        "outputId": "902b3e49-9166-4d03-ebd1-978809884282"
      },
      "outputs": [
        {
          "data": {
            "text/plain": [
              "2"
            ]
          },
          "execution_count": 11,
          "metadata": {},
          "output_type": "execute_result"
        }
      ],
      "source": [
        "len(a.shape)"
      ]
    },
    {
      "cell_type": "code",
      "execution_count": 12,
      "metadata": {
        "colab": {
          "base_uri": "https://localhost:8080/"
        },
        "id": "FVI25cs6e18Z",
        "outputId": "acf432be-4985-4b9f-e117-1f9184473aa5"
      },
      "outputs": [
        {
          "data": {
            "text/plain": [
              "12"
            ]
          },
          "execution_count": 12,
          "metadata": {},
          "output_type": "execute_result"
        }
      ],
      "source": [
        "a.size"
      ]
    },
    {
      "attachments": {},
      "cell_type": "markdown",
      "metadata": {
        "id": "HkPN3ijSe18Z"
      },
      "source": [
        "## N-차원 배열\n",
        "임의의 랭크 수를 가진 N-차원 배열을 만들 수 있습니다. 예를 들어, 다음은 크기가 `(2,3,4)`인 3D 배열(랭크=3)입니다:"
      ]
    },
    {
      "cell_type": "code",
      "execution_count": null,
      "metadata": {
        "colab": {
          "base_uri": "https://localhost:8080/"
        },
        "id": "olP3UVoVe18Z",
        "outputId": "e5e2d2a3-7863-49cc-cb4a-8fe997f35769"
      },
      "outputs": [
        {
          "data": {
            "text/plain": [
              "array([[[0., 0., 0., 0.],\n",
              "        [0., 0., 0., 0.],\n",
              "        [0., 0., 0., 0.]],\n",
              "\n",
              "       [[0., 0., 0., 0.],\n",
              "        [0., 0., 0., 0.],\n",
              "        [0., 0., 0., 0.]]])"
            ]
          },
          "execution_count": 39,
          "metadata": {},
          "output_type": "execute_result"
        }
      ],
      "source": [
        "np.zeros((2,3,4))"
      ]
    },
    {
      "attachments": {},
      "cell_type": "markdown",
      "metadata": {
        "id": "js_UNm5pe18Z"
      },
      "source": [
        "## 배열 타입\n",
        "넘파이 배열의 타입은 `ndarray`입니다:"
      ]
    },
    {
      "cell_type": "code",
      "execution_count": null,
      "metadata": {
        "colab": {
          "base_uri": "https://localhost:8080/"
        },
        "id": "QO6hVeSze18Z",
        "outputId": "c90d4c8a-0e2a-4066-f92f-fbc0aa0851f6"
      },
      "outputs": [
        {
          "data": {
            "text/plain": [
              "numpy.ndarray"
            ]
          },
          "execution_count": 40,
          "metadata": {},
          "output_type": "execute_result"
        }
      ],
      "source": [
        "type(np.zeros((3,4)))"
      ]
    },
    {
      "attachments": {},
      "cell_type": "markdown",
      "metadata": {
        "id": "33G8lxzCe18Z"
      },
      "source": [
        "## `np.ones`\n",
        "`ndarray`를 만들 수 있는 넘파이 함수가 많습니다.\n",
        "\n",
        "다음은 1로 채워진 $3 \\times 4$ 크기의 행렬입니다:"
      ]
    },
    {
      "cell_type": "code",
      "execution_count": null,
      "metadata": {
        "colab": {
          "base_uri": "https://localhost:8080/"
        },
        "id": "n72gORzye18Z",
        "outputId": "52fcff0f-7061-4b1f-982b-82398ebe1c62"
      },
      "outputs": [
        {
          "data": {
            "text/plain": [
              "array([[1., 1., 1., 1.],\n",
              "       [1., 1., 1., 1.],\n",
              "       [1., 1., 1., 1.]])"
            ]
          },
          "execution_count": 41,
          "metadata": {},
          "output_type": "execute_result"
        }
      ],
      "source": [
        "np.ones((3,4))"
      ]
    },
    {
      "attachments": {},
      "cell_type": "markdown",
      "metadata": {
        "id": "Xbp1lBMde18Z"
      },
      "source": [
        "## `np.full`\n",
        "주어진 값으로 지정된 크기의 배열을 초기화합니다. 다음은 `π`로 채워진 $3 \\times 4$ 크기의 행렬입니다."
      ]
    },
    {
      "cell_type": "code",
      "execution_count": null,
      "metadata": {
        "colab": {
          "base_uri": "https://localhost:8080/"
        },
        "id": "YVzE5gANe18Z",
        "outputId": "aa7748a9-575d-42bc-b2ea-1c31623e49d4"
      },
      "outputs": [
        {
          "data": {
            "text/plain": [
              "array([[3.14159265, 3.14159265, 3.14159265, 3.14159265],\n",
              "       [3.14159265, 3.14159265, 3.14159265, 3.14159265],\n",
              "       [3.14159265, 3.14159265, 3.14159265, 3.14159265]])"
            ]
          },
          "execution_count": 42,
          "metadata": {},
          "output_type": "execute_result"
        }
      ],
      "source": [
        "np.full((3,4), np.pi)"
      ]
    },
    {
      "attachments": {},
      "cell_type": "markdown",
      "metadata": {
        "id": "lGM5v1BKe18Z"
      },
      "source": [
        "## `np.empty`\n",
        "초기화되지 않은 $2 \\times 3$ 크기의 배열을 만듭니다(배열의 내용은 예측이 불가능하며 메모리 상황에 따라 달라집니다):"
      ]
    },
    {
      "cell_type": "code",
      "execution_count": null,
      "metadata": {
        "colab": {
          "base_uri": "https://localhost:8080/"
        },
        "id": "LT_g08kte18a",
        "outputId": "78966d24-1a1d-4f5e-9c7c-e5fe3e2a4a41",
        "scrolled": true
      },
      "outputs": [
        {
          "data": {
            "text/plain": [
              "array([[2.8851758e-316, 0.0000000e+000, 0.0000000e+000],\n",
              "       [0.0000000e+000, 0.0000000e+000, 0.0000000e+000]])"
            ]
          },
          "execution_count": 43,
          "metadata": {},
          "output_type": "execute_result"
        }
      ],
      "source": [
        "np.empty((2,3))"
      ]
    },
    {
      "attachments": {},
      "cell_type": "markdown",
      "metadata": {
        "id": "CronQ6fTe18a"
      },
      "source": [
        "## np.array\n",
        "`array` 함수는 파이썬 리스트를 사용하여 `ndarray`를 초기화합니다:"
      ]
    },
    {
      "cell_type": "code",
      "execution_count": null,
      "metadata": {
        "colab": {
          "base_uri": "https://localhost:8080/"
        },
        "id": "qVLkDuC5e18a",
        "outputId": "57fe432c-c707-4d01-a23e-63ad47646e02"
      },
      "outputs": [
        {
          "data": {
            "text/plain": [
              "array([[ 1,  2,  3,  4],\n",
              "       [10, 20, 30, 40]])"
            ]
          },
          "execution_count": 44,
          "metadata": {},
          "output_type": "execute_result"
        }
      ],
      "source": [
        "np.array([[1,2,3,4], [10, 20, 30, 40]])"
      ]
    },
    {
      "attachments": {},
      "cell_type": "markdown",
      "metadata": {
        "id": "dIlBGhTke18a"
      },
      "source": [
        "## `np.arange`\n",
        "파이썬의 기본 `range` 함수와 비슷한 넘파이 `arange` 함수를 사용하여 `ndarray`를 만들 수 있습니다:"
      ]
    },
    {
      "cell_type": "code",
      "execution_count": null,
      "metadata": {
        "colab": {
          "base_uri": "https://localhost:8080/"
        },
        "id": "GNdq6rY1e18a",
        "outputId": "b88addef-4e1b-485e-c662-d2f0ab779afe",
        "scrolled": true
      },
      "outputs": [
        {
          "data": {
            "text/plain": [
              "array([1, 2, 3, 4])"
            ]
          },
          "execution_count": 45,
          "metadata": {},
          "output_type": "execute_result"
        }
      ],
      "source": [
        "np.arange(1, 5)"
      ]
    },
    {
      "attachments": {},
      "cell_type": "markdown",
      "metadata": {
        "id": "MBr2EIUFe18a"
      },
      "source": [
        "부동 소수도 가능합니다:"
      ]
    },
    {
      "cell_type": "code",
      "execution_count": null,
      "metadata": {
        "colab": {
          "base_uri": "https://localhost:8080/"
        },
        "id": "1WExGjLfe18a",
        "outputId": "61e9549e-d216-42fb-db58-021e2daedae7"
      },
      "outputs": [
        {
          "data": {
            "text/plain": [
              "array([1., 2., 3., 4.])"
            ]
          },
          "execution_count": 46,
          "metadata": {},
          "output_type": "execute_result"
        }
      ],
      "source": [
        "np.arange(1.0, 5.0)"
      ]
    },
    {
      "attachments": {},
      "cell_type": "markdown",
      "metadata": {
        "id": "5bX9HW6Xe18b"
      },
      "source": [
        "파이썬의 기본 `range` 함수처럼 건너 뛰는 정도를 지정할 수 있습니다:"
      ]
    },
    {
      "cell_type": "code",
      "execution_count": null,
      "metadata": {
        "colab": {
          "base_uri": "https://localhost:8080/"
        },
        "id": "nqPAWSN8e18b",
        "outputId": "afb14260-406a-434a-8b93-1b1fcddabf5d"
      },
      "outputs": [
        {
          "data": {
            "text/plain": [
              "array([1. , 1.5, 2. , 2.5, 3. , 3.5, 4. , 4.5])"
            ]
          },
          "execution_count": 68,
          "metadata": {},
          "output_type": "execute_result"
        }
      ],
      "source": [
        "np.arange(1, 5, 0.5)"
      ]
    },
    {
      "attachments": {},
      "cell_type": "markdown",
      "metadata": {
        "id": "shM-hIqze18b"
      },
      "source": [
        "부동 소수를 사용하면 원소의 개수가 일정하지 않을 수 있습니다. 예를 들면 다음과 같습니다:"
      ]
    },
    {
      "cell_type": "code",
      "execution_count": null,
      "metadata": {
        "colab": {
          "base_uri": "https://localhost:8080/"
        },
        "id": "ZS_9tMhQe18b",
        "outputId": "65380dcc-4ebd-4add-e0bf-9e057f18fff8"
      },
      "outputs": [
        {
          "name": "stdout",
          "output_type": "stream",
          "text": [
            "[0.         0.33333333 0.66666667 1.         1.33333333 1.66666667]\n",
            "[0.         0.33333333 0.66666667 1.         1.33333333 1.66666667]\n",
            "[0.         0.33333333 0.66666667 1.         1.33333334]\n"
          ]
        }
      ],
      "source": [
        "print(np.arange(0, 5/3, 1/3)) # 부동 소수 오차 때문에, 최댓값은 4/3 또는 5/3이 됩니다.\n",
        "print(np.arange(0, 5/3, 0.333333333))\n",
        "print(np.arange(0, 5/3, 0.333333334))"
      ]
    },
    {
      "attachments": {},
      "cell_type": "markdown",
      "metadata": {
        "id": "G2j6Y70xyrLg"
      },
      "source": [
        "for loops를 사용하지 않고 전체 array에 대한 연산 수행이 가능합니다.  \n",
        "평균적으로 Numpy-based 알고리즘은 10~100배정도 속도가 더 빠르고 적은 메모리를 사용합니다."
      ]
    },
    {
      "cell_type": "code",
      "execution_count": 55,
      "metadata": {
        "colab": {
          "base_uri": "https://localhost:8080/"
        },
        "id": "GO1QDal-yrLh",
        "outputId": "3af0ac65-69da-44f0-b48f-de325fbea5a1"
      },
      "outputs": [
        {
          "name": "stdout",
          "output_type": "stream",
          "text": [
            "Wall time: 14.8 ms\n",
            "Wall time: 772 ms\n"
          ]
        }
      ],
      "source": [
        "my_arr = np.arange(1000000)\n",
        "my_list = list(range(1000000))\n",
        "\n",
        "%time for _ in range(10): my_arr2 = my_arr * 2\n",
        "%time for _ in range(10): my_list2 = [x * 2 for x in my_list]"
      ]
    },
    {
      "attachments": {},
      "cell_type": "markdown",
      "metadata": {
        "id": "5o9fy9SAyrLh"
      },
      "source": [
        "For loop를 돌릴 때의 속도 비교"
      ]
    },
    {
      "cell_type": "code",
      "execution_count": 57,
      "metadata": {
        "id": "NCzmflctBJTw"
      },
      "outputs": [],
      "source": [
        "size = 10\n",
        "for x in range(size): x ** 2"
      ]
    },
    {
      "cell_type": "code",
      "execution_count": null,
      "metadata": {
        "id": "exTpbQ_0yrLh",
        "outputId": "15629712-b124-4f6b-dea6-bb57c3e83ce9"
      },
      "outputs": [
        {
          "name": "stdout",
          "output_type": "stream",
          "text": [
            "1.77 µs ± 3.95 ns per loop (mean ± std. dev. of 7 runs, 1000000 loops each)\n",
            "2.73 µs ± 66.2 ns per loop (mean ± std. dev. of 7 runs, 100000 loops each)\n",
            "942 ns ± 7.45 ns per loop (mean ± std. dev. of 7 runs, 1000000 loops each)\n"
          ]
        }
      ],
      "source": [
        "import sys\n",
        "\n",
        "size = 10\n",
        "\n",
        "%timeit for x in range(size): x ** 2\n",
        "# out: 10 loops, best of 3: 136 ms per loop\n",
        "\n",
        "# avoid this\n",
        "%timeit for x in np.arange(size): x ** 2\n",
        "#out: 1 loops, best of 3: 1.16 s per loop\n",
        "# 루프 돌릴 때 np.arange 속도 느려 그래서 사용 안 해\n",
        "\n",
        "# use this\n",
        "%timeit np.arange(size) ** 2\n",
        "#out: 100 loops, best of 3: 19.5 ms per loop"
      ]
    },
    {
      "attachments": {},
      "cell_type": "markdown",
      "metadata": {
        "id": "jXHF_Tise18b"
      },
      "source": [
        "## `np.linspace`\n",
        "이런 이유로 부동 소수를 사용할 땐 `arange` 대신에 `linspace` 함수를 사용하는 것이 좋습니다. `linspace` 함수는 지정된 개수만큼 두 값 사이를 나눈 배열을 반환합니다(`arange`와는 다르게 최댓값이 **포함**됩니다):"
      ]
    },
    {
      "cell_type": "code",
      "execution_count": null,
      "metadata": {
        "colab": {
          "base_uri": "https://localhost:8080/"
        },
        "id": "JDcNhQ-_e18b",
        "outputId": "ebc1f77a-10cd-480c-ef94-18e4c41e52ff"
      },
      "outputs": [
        {
          "name": "stdout",
          "output_type": "stream",
          "text": [
            "[0.         0.33333333 0.66666667 1.         1.33333333 1.66666667]\n"
          ]
        }
      ],
      "source": [
        "print(np.linspace(0, 5/3, 6)) # 0부터 5/3까지 범위에서 6개의 균일한 간격으로 배열을 생성"
      ]
    },
    {
      "attachments": {},
      "cell_type": "markdown",
      "metadata": {
        "id": "r1c0sm27e18b"
      },
      "source": [
        "## `np.rand`와 `np.randn`\n",
        "넘파이의 `random` 모듈에는 `ndarray`를 랜덤한 값으로 초기화할 수 있는 함수들이 많이 있습니다.\n",
        "예를 들어, 다음은 (균등 분포인) 0과 1사이의 랜덤한 부동 소수로 $3 \\times 4$ 행렬을 초기화합니다:"
      ]
    },
    {
      "cell_type": "code",
      "execution_count": 74,
      "metadata": {
        "id": "J4Mv5Dxke18b",
        "outputId": "5212a761-a650-4fff-fad3-fe639639c552"
      },
      "outputs": [
        {
          "data": {
            "text/plain": [
              "array([[0.68157531, 0.66101567, 0.22755701, 0.65766925],\n",
              "       [0.12408664, 0.4787438 , 0.07891764, 0.47322174],\n",
              "       [0.32486121, 0.8501232 , 0.15577098, 0.6906177 ]])"
            ]
          },
          "execution_count": 74,
          "metadata": {},
          "output_type": "execute_result"
        }
      ],
      "source": [
        "np.random.rand(3,4)"
      ]
    },
    {
      "attachments": {},
      "cell_type": "markdown",
      "metadata": {
        "id": "S0l7NAWbe18b"
      },
      "source": [
        "다음은 평균이 0이고 분산이 1인 일변량 [정규 분포](https://ko.wikipedia.org/wiki/%EC%A0%95%EA%B7%9C_%EB%B6%84%ED%8F%AC)(가우시안 분포)에서 샘플링한 랜덤한 부동 소수를 담은 $3 \\times 4$ 행렬입니다:"
      ]
    },
    {
      "cell_type": "code",
      "execution_count": null,
      "metadata": {
        "id": "RMK3OjKXe18c",
        "outputId": "4a7a6149-d80d-44de-b991-c3b174811822"
      },
      "outputs": [
        {
          "data": {
            "text/plain": [
              "array([[ 0.83811287, -0.57131751, -0.4381827 ,  1.1485899 ],\n",
              "       [ 1.45316084, -0.47259181, -1.23426057, -0.0669813 ],\n",
              "       [ 1.01003549,  1.04381736, -0.93060038,  2.39043293]])"
            ]
          },
          "execution_count": 20,
          "metadata": {},
          "output_type": "execute_result"
        }
      ],
      "source": [
        "np.random.randn(3,4)"
      ]
    },
    {
      "attachments": {},
      "cell_type": "markdown",
      "metadata": {
        "id": "H8wUWW6Le18c"
      },
      "source": [
        "이 분포의 모양을 알려면 맷플롯립을 사용해 그려보는 것이 좋습니다(더 자세한 것은 [맷플롯립 튜토리얼](tools_matplotlib.ipynb)을 참고하세요):"
      ]
    },
    {
      "cell_type": "code",
      "execution_count": null,
      "metadata": {
        "id": "npjk6A9oe18c"
      },
      "outputs": [],
      "source": [
        "%matplotlib inline\n",
        "import matplotlib.pyplot as plt"
      ]
    },
    {
      "cell_type": "code",
      "execution_count": null,
      "metadata": {
        "colab": {
          "base_uri": "https://localhost:8080/",
          "height": 295
        },
        "id": "JSc7Zphfe18c",
        "outputId": "df9dd86c-41d4-41c9-b249-f90e905cd3a7"
      },
      "outputs": [
        {
          "data": {
            "image/png": "[encoded data removed]",
            "text/plain": [
              "<Figure size 432x288 with 1 Axes>"
            ]
          },
          "metadata": {
            "needs_background": "light"
          },
          "output_type": "display_data"
        }
      ],
      "source": [
        "plt.hist(np.random.rand(100000), density=True, bins=100, histtype=\"step\", color=\"blue\", label=\"rand\")\n",
        "plt.hist(np.random.randn(100000), density=True, bins=100, histtype=\"step\", color=\"red\", label=\"randn\")\n",
        "plt.axis([-2.5, 2.5, 0, 1.1])\n",
        "plt.legend(loc = \"upper left\")\n",
        "plt.title(\"Random distributions\")\n",
        "plt.xlabel(\"Value\")\n",
        "plt.ylabel(\"Density\")\n",
        "plt.show()"
      ]
    },
    {
      "attachments": {},
      "cell_type": "markdown",
      "metadata": {
        "id": "VNILctSme18c"
      },
      "source": [
        "## np.fromfunction\n",
        "함수를 사용하여 `ndarray`를 초기화할 수도 있습니다:"
      ]
    },
    {
      "cell_type": "code",
      "execution_count": null,
      "metadata": {
        "id": "1PPxhCvKe18c",
        "outputId": "4520cb28-963e-4d1a-db31-01e02f59ca76"
      },
      "outputs": [
        {
          "data": {
            "text/plain": [
              "array([[[  0.,   1.,   2.,   3.,   4.,   5.,   6.,   7.,   8.,   9.],\n",
              "        [ 10.,  11.,  12.,  13.,  14.,  15.,  16.,  17.,  18.,  19.]],\n",
              "\n",
              "       [[100., 101., 102., 103., 104., 105., 106., 107., 108., 109.],\n",
              "        [110., 111., 112., 113., 114., 115., 116., 117., 118., 119.]],\n",
              "\n",
              "       [[200., 201., 202., 203., 204., 205., 206., 207., 208., 209.],\n",
              "        [210., 211., 212., 213., 214., 215., 216., 217., 218., 219.]]])"
            ]
          },
          "execution_count": 7,
          "metadata": {},
          "output_type": "execute_result"
        }
      ],
      "source": [
        "def my_function(z, y, x):\n",
        "    return x + 10 * y + 100 * z\n",
        "\n",
        "np.fromfunction(my_function, (3, 2, 10))"
      ]
    },
    {
      "attachments": {},
      "cell_type": "markdown",
      "metadata": {
        "id": "U-dUAGbVe18c"
      },
      "source": [
        "넘파이는 먼저 크기가 `(3, 2, 10)`인 세 개의 `ndarray`(차원마다 하나씩)를 만듭니다. 각 배열은 축을 따라 좌표 값과 같은 값을 가집니다. 예를 들어, `z` 축에 있는 배열의 모든 원소는 z-축의 값과 같습니다:\n",
        "\n",
        "    [[[ 0.  0.  0.  0.  0.  0.  0.  0.  0.  0.]\n",
        "      [ 0.  0.  0.  0.  0.  0.  0.  0.  0.  0.]]\n",
        "    \n",
        "     [[ 1.  1.  1.  1.  1.  1.  1.  1.  1.  1.]\n",
        "      [ 1.  1.  1.  1.  1.  1.  1.  1.  1.  1.]]\n",
        "    \n",
        "     [[ 2.  2.  2.  2.  2.  2.  2.  2.  2.  2.]\n",
        "      [ 2.  2.  2.  2.  2.  2.  2.  2.  2.  2.]]]\n",
        "\n",
        "위의 식 `x + 10 * y + 100 * z`에서 `x`, `y`, `z`는 사실 `ndarray`입니다(배열의 산술 연산에 대해서는 아래에서 설명합니다). 중요한 점은 함수 `my_function`이 원소마다 호출되는 것이 아니고 딱 **한 번** 호출된다는 점입니다. 그래서 매우 효율적으로 초기화할 수 있습니다."
      ]
    },
    {
      "attachments": {},
      "cell_type": "markdown",
      "metadata": {
        "id": "PHJTX0h2e18c"
      },
      "source": [
        "# 배열 데이터\n",
        "## `dtype`\n",
        "넘파이의 `ndarray`는 모든 원소가 동일한 타입(보통 숫자)을 가지기 때문에 효율적입니다. `dtype` 속성으로 쉽게 데이터 타입을 확인할 수 있습니다:"
      ]
    },
    {
      "cell_type": "code",
      "execution_count": null,
      "metadata": {
        "colab": {
          "base_uri": "https://localhost:8080/"
        },
        "id": "BntmDU3me18c",
        "outputId": "a6d39949-ff4a-404f-9c5d-5156f0e8be88",
        "scrolled": true
      },
      "outputs": [
        {
          "name": "stdout",
          "output_type": "stream",
          "text": [
            "int32 [1 2 3 4]\n"
          ]
        }
      ],
      "source": [
        "c = np.arange(1, 5)\n",
        "print(c.dtype, c)"
      ]
    },
    {
      "cell_type": "code",
      "execution_count": null,
      "metadata": {
        "colab": {
          "base_uri": "https://localhost:8080/"
        },
        "id": "V0qVWqW1e18d",
        "outputId": "f0233337-0c11-4579-9a77-0559015c9d62"
      },
      "outputs": [
        {
          "name": "stdout",
          "output_type": "stream",
          "text": [
            "float64 [1. 2. 3. 4.]\n"
          ]
        }
      ],
      "source": [
        "c = np.arange(1.0, 5.0)\n",
        "print(c.dtype, c)"
      ]
    },
    {
      "attachments": {},
      "cell_type": "markdown",
      "metadata": {
        "id": "FpIP98kue18d"
      },
      "source": [
        "넘파이가 데이터 타입을 결정하도록 내버려 두는 대신 `dtype` 매개변수를 사용해서 배열을 만들 때 명시적으로 지정할 수 있습니다:"
      ]
    },
    {
      "cell_type": "code",
      "execution_count": null,
      "metadata": {
        "colab": {
          "base_uri": "https://localhost:8080/"
        },
        "id": "ELWDvG9Ae18d",
        "outputId": "5fa42da8-c6d7-4ea9-b2a9-18cd4c630f2d"
      },
      "outputs": [
        {
          "name": "stdout",
          "output_type": "stream",
          "text": [
            "complex64 [1.+0.j 2.+0.j 3.+0.j 4.+0.j]\n"
          ]
        }
      ],
      "source": [
        "d = np.arange(1, 5, dtype=np.complex64)\n",
        "print(d.dtype, d)"
      ]
    },
    {
      "attachments": {},
      "cell_type": "markdown",
      "metadata": {
        "id": "LYE1YHZQe18d"
      },
      "source": [
        "가능한 데이터 타입은 `int8`, `int16`, `int32`, `int64`, `uint8`|`16`|`32`|`64`, `float16`|`32`|`64`, `complex64`|`128`가 있습니다. 전체 리스트는 [온라인 문서](http://docs.scipy.org/doc/numpy/user/basics.types.html)를 참고하세요.\n",
        "\n",
        "## `itemsize`\n",
        "`itemsize` 속성은 각 아이템의 크기(바이트)를 반환합니다:"
      ]
    },
    {
      "cell_type": "code",
      "execution_count": 96,
      "metadata": {
        "id": "xOtAWh7Ee18d",
        "outputId": "e62be970-e82f-43d2-efce-17f5ccb56cf1"
      },
      "outputs": [
        {
          "data": {
            "text/plain": [
              "8"
            ]
          },
          "execution_count": 96,
          "metadata": {},
          "output_type": "execute_result"
        }
      ],
      "source": [
        "e = np.arange(1, 5, dtype=np.complex64)\n",
        "e.itemsize"
      ]
    },
    {
      "attachments": {},
      "cell_type": "markdown",
      "metadata": {
        "id": "CLNopDire18d"
      },
      "source": [
        "## `data` 버퍼\n",
        "배열의 데이터는 1차원 바이트 버퍼로 메모리에 저장됩니다. `data` 속성을 사용해 참조할 수 있습니다(사용할 일은 거의 없겠지만요)."
      ]
    },
    {
      "cell_type": "code",
      "execution_count": 100,
      "metadata": {
        "id": "Xy4Uwjcze18e",
        "outputId": "30adfdc5-ae0d-421e-80d2-6745d53c78dc"
      },
      "outputs": [
        {
          "data": {
            "text/plain": [
              "<memory at 0x000001DC98630C70>"
            ]
          },
          "execution_count": 100,
          "metadata": {},
          "output_type": "execute_result"
        }
      ],
      "source": [
        "f = np.array([[1,2],[1000, 2000]], dtype=np.int32)\n",
        "f.data"
      ]
    },
    {
      "attachments": {},
      "cell_type": "markdown",
      "metadata": {
        "id": "xxI2ePQte18e"
      },
      "source": [
        "파이썬 2에서는 `f.data`가 버퍼이고 파이썬 3에서는 memoryview입니다."
      ]
    },
    {
      "cell_type": "code",
      "execution_count": 65,
      "metadata": {
        "id": "eDJLlHISe18e",
        "outputId": "be1942c3-a904-47e6-f9e1-245139eec99f"
      },
      "outputs": [
        {
          "data": {
            "text/plain": [
              "b'\\x01\\x00\\x00\\x00\\x02\\x00\\x00\\x00\\xe8\\x03\\x00\\x00\\xd0\\x07\\x00\\x00'"
            ]
          },
          "execution_count": 65,
          "metadata": {},
          "output_type": "execute_result"
        }
      ],
      "source": [
        "if (hasattr(f.data, \"tobytes\")):\n",
        "    data_bytes = f.data.tobytes() # python 3\n",
        "else:\n",
        "    data_bytes = memoryview(f.data).tobytes() # python 2\n",
        "\n",
        "data_bytes"
      ]
    },
    {
      "attachments": {},
      "cell_type": "markdown",
      "metadata": {
        "id": "tkK5xTVce18e"
      },
      "source": [
        "여러 개의 `ndarray`가 데이터 버퍼를 공유할 수 있습니다. 하나를 수정하면 다른 것도 바뀝니다. 잠시 후에 예를 살펴 보겠습니다."
      ]
    },
    {
      "attachments": {},
      "cell_type": "markdown",
      "metadata": {
        "id": "y8N0o_53e18e"
      },
      "source": [
        "# 배열 크기 변경\n",
        "\n",
        "## 자신을 변경\n",
        "\n",
        "`ndarray`의 `shape` 속성을 지정하면 간단히 크기를 바꿀 수 있습니다. 배열의 원소 개수는 동일하게 유지됩니다."
      ]
    },
    {
      "cell_type": "code",
      "execution_count": 109,
      "metadata": {
        "colab": {
          "base_uri": "https://localhost:8080/"
        },
        "id": "tUusVP4Ee18e",
        "outputId": "651b1582-7523-4db5-e7f8-befc2c5c0b65"
      },
      "outputs": [
        {
          "name": "stdout",
          "output_type": "stream",
          "text": [
            "[ 0  1  2  3  4  5  6  7  8  9 10 11 12 13 14 15 16 17 18 19 20 21 22 23]\n",
            "랭크: 1\n"
          ]
        }
      ],
      "source": [
        "g = np.arange(24) # 한 줄로\n",
        "print(g)\n",
        "print(\"랭크:\", g.ndim)"
      ]
    },
    {
      "cell_type": "code",
      "execution_count": null,
      "metadata": {
        "colab": {
          "base_uri": "https://localhost:8080/"
        },
        "id": "DGI6k-ePe18e",
        "outputId": "ce03f234-9586-4b07-ca6c-196de798557a"
      },
      "outputs": [
        {
          "name": "stdout",
          "output_type": "stream",
          "text": [
            "[[ 0  1  2  3]\n",
            " [ 4  5  6  7]\n",
            " [ 8  9 10 11]\n",
            " [12 13 14 15]\n",
            " [16 17 18 19]\n",
            " [20 21 22 23]]\n",
            "랭크: 2\n"
          ]
        }
      ],
      "source": [
        "g.shape = (6, 4) # 2차원배열\n",
        "print(g)\n",
        "print(\"랭크:\", g.ndim)"
      ]
    },
    {
      "cell_type": "code",
      "execution_count": 115,
      "metadata": {
        "colab": {
          "base_uri": "https://localhost:8080/"
        },
        "id": "ZYYm1gVUe18e",
        "outputId": "ef8de233-19c0-4534-a827-c90bc140381a",
        "scrolled": true
      },
      "outputs": [
        {
          "name": "stdout",
          "output_type": "stream",
          "text": [
            "[[[ 0  1  2  3]\n",
            "  [ 4  5  6  7]\n",
            "  [ 8  9 10 11]]\n",
            "\n",
            " [[12 13 14 15]\n",
            "  [16 17 18 19]\n",
            "  [20 21 22 23]]]\n",
            "랭크: 3\n"
          ]
        }
      ],
      "source": [
        "g.shape = (2, 3, 4) # 3차원배열\n",
        "print(g)\n",
        "print(\"랭크:\", g.ndim)"
      ]
    },
    {
      "cell_type": "code",
      "execution_count": 117,
      "metadata": {
        "colab": {
          "base_uri": "https://localhost:8080/"
        },
        "id": "qrbzhqFCBP07",
        "outputId": "2410623e-6516-49e8-f32d-83224437c300"
      },
      "outputs": [
        {
          "data": {
            "text/plain": [
              "17"
            ]
          },
          "execution_count": 117,
          "metadata": {},
          "output_type": "execute_result"
        }
      ],
      "source": [
        "g[1,1,1] # 17"
      ]
    },
    {
      "attachments": {},
      "cell_type": "markdown",
      "metadata": {
        "id": "9XoR2crwe18f"
      },
      "source": [
        "## `reshape`\n",
        "\n",
        "`reshape` 함수는 동일한 데이터를 가리키는 새로운 `ndarray` 객체를 반환합니다. 한 배열을 수정하면 다른 것도 함께 바뀝니다."
      ]
    },
    {
      "cell_type": "code",
      "execution_count": null,
      "metadata": {
        "colab": {
          "base_uri": "https://localhost:8080/"
        },
        "id": "eY-c8dr0e18f",
        "outputId": "1b0796a6-6cc5-4882-c884-f77f3ad4bc46",
        "scrolled": true
      },
      "outputs": [
        {
          "name": "stdout",
          "output_type": "stream",
          "text": [
            "[[ 0  1  2  3  4  5]\n",
            " [ 6  7  8  9 10 11]\n",
            " [12 13 14 15 16 17]\n",
            " [18 19 20 21 22 23]]\n",
            "랭크: 2\n"
          ]
        }
      ],
      "source": [
        "g2 = g.reshape(4,6)\n",
        "print(g2)\n",
        "print(\"랭크:\", g2.ndim)\n",
        "# reshape=차원을 바꾸는 함수"
      ]
    },
    {
      "cell_type": "code",
      "execution_count": null,
      "metadata": {
        "colab": {
          "base_uri": "https://localhost:8080/"
        },
        "id": "DwYfV3apyrLn",
        "outputId": "4f6fcaa9-e5dc-4969-a951-4d5d2c43c739"
      },
      "outputs": [
        {
          "data": {
            "text/plain": [
              "array([[10,  1,  2,  3,  4,  5],\n",
              "       [ 6,  7,  8,  9, 10, 11],\n",
              "       [12, 13, 14, 15, 16, 17],\n",
              "       [18, 19, 20, 21, 22, 23]])"
            ]
          },
          "execution_count": 13,
          "metadata": {},
          "output_type": "execute_result"
        }
      ],
      "source": [
        "g[0,0,0] = 10\n",
        "g2"
      ]
    },
    {
      "attachments": {},
      "cell_type": "markdown",
      "metadata": {
        "id": "5UxABFO6e18f"
      },
      "source": [
        "행 1, 열 2의 원소를 999로 설정합니다(인덱싱 방식은 아래를 참고하세요)."
      ]
    },
    {
      "cell_type": "code",
      "execution_count": null,
      "metadata": {
        "id": "q9pTNitre18f",
        "outputId": "b6406ebb-49f1-4593-be6f-da52227ee1e0"
      },
      "outputs": [
        {
          "data": {
            "text/plain": [
              "array([[ 10,   1,   2,   3,   4,   5],\n",
              "       [  6,   7, 999,   9,  10,  11],\n",
              "       [ 12,  13,  14,  15,  16,  17],\n",
              "       [ 18,  19,  20,  21,  22,  23]])"
            ]
          },
          "execution_count": 114,
          "metadata": {},
          "output_type": "execute_result"
        }
      ],
      "source": [
        "g2[1, 2] = 999\n",
        "g2"
      ]
    },
    {
      "attachments": {},
      "cell_type": "markdown",
      "metadata": {
        "id": "ViCL0brVe18f"
      },
      "source": [
        "이에 상응하는 `g`의 원소도 수정됩니다."
      ]
    },
    {
      "cell_type": "code",
      "execution_count": 123,
      "metadata": {
        "id": "FB8GNr99e18f",
        "outputId": "84d77aad-f774-4478-f314-59eabe5a8d27"
      },
      "outputs": [
        {
          "data": {
            "text/plain": [
              "array([[[ 10,   1,   2,   3],\n",
              "        [  4,   5,   6,   7],\n",
              "        [999,   9,  10,  11]],\n",
              "\n",
              "       [[ 12,  13,  14,  15],\n",
              "        [ 16,  17,  18,  19],\n",
              "        [ 20,  21,  22,  23]]])"
            ]
          },
          "execution_count": 123,
          "metadata": {},
          "output_type": "execute_result"
        }
      ],
      "source": [
        "g"
      ]
    },
    {
      "attachments": {},
      "cell_type": "markdown",
      "metadata": {
        "id": "bHD2G_YVyrLo"
      },
      "source": [
        "완전히 다른 공간에 값만 같게 복사를 하고 싶다면 `copy`를 사용.  \n",
        "이렇게 할 경우 두 객체는 독립적인 객체로 존재함"
      ]
    },
    {
      "cell_type": "code",
      "execution_count": 125,
      "metadata": {
        "id": "CoqL7DnLyrLo"
      },
      "outputs": [],
      "source": [
        "g2 = g.copy()\n",
        "# 독립적으로 복사"
      ]
    },
    {
      "attachments": {},
      "cell_type": "markdown",
      "metadata": {
        "id": "uMMXIC2pe18f"
      },
      "source": [
        "## `ravel`\n",
        "\n",
        "마지막으로 `ravel` 함수는 동일한 데이터를 가리키는 새로운 1차원 `ndarray`를 반환합니다:"
      ]
    },
    {
      "cell_type": "code",
      "execution_count": null,
      "metadata": {
        "id": "jfGnxvIhe18f",
        "outputId": "c53be7f6-8225-466e-8dee-eeef7eb1be3c"
      },
      "outputs": [
        {
          "data": {
            "text/plain": [
              "array([ 10,   1,   2,   3,   4,   5,   6,   7, 999,   9,  10,  11,  12,\n",
              "        13,  14,  15,  16,  17,  18,  19,  20,  21,  22,  23])"
            ]
          },
          "execution_count": 119,
          "metadata": {},
          "output_type": "execute_result"
        }
      ],
      "source": [
        "g.ravel()\n",
        "# 차원 다 해지"
      ]
    },
    {
      "attachments": {},
      "cell_type": "markdown",
      "metadata": {
        "id": "2y0Wg_ZGe18f"
      },
      "source": [
        "# 산술 연산\n",
        "\n",
        "일반적인 산술 연산자(`+`, `-`, `*`, `/`, `//`, `**` 등)는 모두 `ndarray`와 사용할 수 있습니다. 이 연산자는 원소별로 적용됩니다:"
      ]
    },
    {
      "cell_type": "code",
      "execution_count": null,
      "metadata": {
        "id": "wTVKZhAme18f",
        "outputId": "81bc44c0-dea0-4022-dd5d-9164bf246997"
      },
      "outputs": [
        {
          "name": "stdout",
          "output_type": "stream",
          "text": [
            "a + b  = [19 27 35 43]\n",
            "a - b  = [ 9 19 29 39]\n",
            "a * b  = [70 92 96 82]\n",
            "a / b  = [ 2.8         5.75       10.66666667 20.5       ]\n",
            "a // b  = [ 2  5 10 20]\n",
            "a % b  = [4 3 2 1]\n",
            "a ** b = [537824 279841  32768   1681]\n"
          ]
        }
      ],
      "source": [
        "a = np.array([14, 23, 32, 41])\n",
        "b = np.array([5,  4,  3,  2])\n",
        "print(\"a + b  =\", a + b)\n",
        "print(\"a - b  =\", a - b)\n",
        "print(\"a * b  =\", a * b)\n",
        "print(\"a / b  =\", a / b)\n",
        "print(\"a // b  =\", a // b) # 몫\n",
        "print(\"a % b  =\", a % b) # 나머지\n",
        "print(\"a ** b =\", a ** b)"
      ]
    },
    {
      "cell_type": "code",
      "execution_count": null,
      "metadata": {
        "id": "PTUYZR7gyrLo",
        "outputId": "c4c2ddcd-68a8-4106-ce60-c02dc7905db7"
      },
      "outputs": [
        {
          "data": {
            "text/plain": [
              "125"
            ]
          },
          "execution_count": 35,
          "metadata": {},
          "output_type": "execute_result"
        }
      ],
      "source": [
        "5 ** 3"
      ]
    },
    {
      "attachments": {},
      "cell_type": "markdown",
      "metadata": {
        "id": "kpMeyQyae18g"
      },
      "source": [
        "여기 곱셈은 행렬 곱셈이 아닙니다. 행렬 연산은 아래에서 설명합니다.\n",
        "\n",
        "배열의 크기는 같아야 합니다. 그렇지 않으면 넘파이가 브로드캐스팅 규칙을 적용합니다."
      ]
    },
    {
      "attachments": {},
      "cell_type": "markdown",
      "metadata": {
        "id": "hY8Mk8Vye18g"
      },
      "source": [
        "# 브로드캐스팅"
      ]
    },
    {
      "attachments": {},
      "cell_type": "markdown",
      "metadata": {
        "id": "CefC9OGoe18g"
      },
      "source": [
        "일반적으로 넘파이는 동일한 크기의 배열을 기대합니다. 그렇지 않은 상황에는 브로드캐스팅 규칙을 적용합니다:\n",
        "\n",
        "## 규칙 1\n",
        "\n",
        "배열의 랭크가 동일하지 않으면 랭크가 맞을 때까지 랭크가 작은 배열 앞에 1을 추가합니다."
      ]
    },
    {
      "cell_type": "code",
      "execution_count": 95,
      "metadata": {
        "colab": {
          "base_uri": "https://localhost:8080/"
        },
        "id": "33JIuE1Ve18g",
        "outputId": "2f2b795a-bc16-4ba7-e68c-0a66991183ea"
      },
      "outputs": [
        {
          "data": {
            "text/plain": [
              "array([[[0, 1, 2, 3, 4]]])"
            ]
          },
          "execution_count": 95,
          "metadata": {},
          "output_type": "execute_result"
        }
      ],
      "source": [
        "h = np.arange(5).reshape(1, 1, 5)\n",
        "h\n",
        "# 3차원"
      ]
    },
    {
      "attachments": {},
      "cell_type": "markdown",
      "metadata": {
        "id": "kGwQkU9Qe18g"
      },
      "source": [
        "여기에 `(1,1,5)` 크기의 3D 배열에 `(5,)` 크기의 1D 배열을 더해 보죠. 브로드캐스팅의 규칙 1이 적용됩니다!"
      ]
    },
    {
      "cell_type": "code",
      "execution_count": null,
      "metadata": {
        "colab": {
          "base_uri": "https://localhost:8080/"
        },
        "id": "Yfzln3pbe18g",
        "outputId": "d7812f5e-2437-4d47-d438-2efab9ceb918"
      },
      "outputs": [
        {
          "data": {
            "text/plain": [
              "array([[[10, 21, 32, 43, 54]]])"
            ]
          },
          "execution_count": 17,
          "metadata": {},
          "output_type": "execute_result"
        }
      ],
      "source": [
        "h + [10, 20, 30, 40, 50]  # 다음과 동일합니다: h + [[[10, 20, 30, 40, 50]]]\n",
        "# 배열이 달라도 계산가능"
      ]
    },
    {
      "attachments": {},
      "cell_type": "markdown",
      "metadata": {
        "id": "05djVE0Je18g"
      },
      "source": [
        "## 규칙 2\n",
        "\n",
        "특정 차원이 1인 배열은 그 차원에서 크기가 가장 큰 배열의 크기에 맞춰 동작합니다. 배열의 원소가 차원을 따라 반복됩니다."
      ]
    },
    {
      "cell_type": "code",
      "execution_count": 101,
      "metadata": {
        "colab": {
          "base_uri": "https://localhost:8080/"
        },
        "id": "GwqhHlP9e18g",
        "outputId": "4e15a238-8daa-4259-888e-21224eb61c4c"
      },
      "outputs": [
        {
          "data": {
            "text/plain": [
              "array([[0, 1, 2],\n",
              "       [3, 4, 5]])"
            ]
          },
          "execution_count": 101,
          "metadata": {},
          "output_type": "execute_result"
        }
      ],
      "source": [
        "k = np.arange(6).reshape(2, 3) # 2차원 배열\n",
        "k"
      ]
    },
    {
      "cell_type": "code",
      "execution_count": 102,
      "metadata": {
        "colab": {
          "base_uri": "https://localhost:8080/"
        },
        "id": "GHCK7p_DC1ua",
        "outputId": "4a087437-28aa-4a16-ba8f-08776c72312a"
      },
      "outputs": [
        {
          "data": {
            "text/plain": [
              "[[100], [200]]"
            ]
          },
          "execution_count": 102,
          "metadata": {},
          "output_type": "execute_result"
        }
      ],
      "source": [
        "[[100], [200]]"
      ]
    },
    {
      "attachments": {},
      "cell_type": "markdown",
      "metadata": {
        "id": "fYePtBoIe18g"
      },
      "source": [
        "`(2,3)` 크기의 2D `ndarray`에 `(2,1)` 크기의 2D 배열을 더해 보죠. 넘파이는 브로드캐스팅 규칙 2를 적용합니다:"
      ]
    },
    {
      "cell_type": "code",
      "execution_count": null,
      "metadata": {
        "id": "4bU_7EtKe18g",
        "outputId": "ed8b04f1-ba93-4ea1-8210-1e5aed1ab121"
      },
      "outputs": [
        {
          "data": {
            "text/plain": [
              "array([[100, 101, 102],\n",
              "       [203, 204, 205]])"
            ]
          },
          "execution_count": 134,
          "metadata": {},
          "output_type": "execute_result"
        }
      ],
      "source": [
        "k + [[100], [200]]  # 다음과 같습니다: k + [[100, 100, 100], [200, 200, 200]]\n",
        "# 길이가 다르면 이렇게 계산"
      ]
    },
    {
      "attachments": {},
      "cell_type": "markdown",
      "metadata": {
        "id": "muwkgFQJe18h"
      },
      "source": [
        "규칙 1과 2를 합치면 다음과 같이 동작합니다:  \n",
        "`(2,3)` 크기의 `ndarray`에 (3,) 크기의 `ndarray` 더하기"
      ]
    },
    {
      "cell_type": "code",
      "execution_count": 150,
      "metadata": {
        "colab": {
          "base_uri": "https://localhost:8080/"
        },
        "id": "sv3rNGs2yrLp",
        "outputId": "258b778b-7dfb-4888-f0ec-5425e849d460"
      },
      "outputs": [
        {
          "data": {
            "text/plain": [
              "array([[0, 1, 2],\n",
              "       [3, 4, 5]])"
            ]
          },
          "execution_count": 150,
          "metadata": {},
          "output_type": "execute_result"
        }
      ],
      "source": [
        "k"
      ]
    },
    {
      "cell_type": "code",
      "execution_count": 151,
      "metadata": {
        "colab": {
          "base_uri": "https://localhost:8080/"
        },
        "id": "9EM-Dfake18h",
        "outputId": "0fe30cf7-136f-4d59-df66-2ab4c75a54ff"
      },
      "outputs": [
        {
          "data": {
            "text/plain": [
              "array([[100, 201, 302],\n",
              "       [103, 204, 305]])"
            ]
          },
          "execution_count": 151,
          "metadata": {},
          "output_type": "execute_result"
        }
      ],
      "source": [
        "k + [100, 200, 300]  # 규칙 1 적용: [[100, 200, 300]], 규칙 2 적용: [[100, 200, 300], [100, 200, 300]]"
      ]
    },
    {
      "cell_type": "code",
      "execution_count": 154,
      "metadata": {
        "id": "BVjTpgzPyrLq",
        "outputId": "fbcf65a3-a2a4-40f3-adbf-d1e66a981e01"
      },
      "outputs": [
        {
          "data": {
            "text/plain": [
              "array([100, 200, 300])"
            ]
          },
          "execution_count": 154,
          "metadata": {},
          "output_type": "execute_result"
        }
      ],
      "source": [
        "test = np.array([100, 200, 300])\n",
        "test.shape\n",
        "test"
      ]
    },
    {
      "cell_type": "code",
      "execution_count": 111,
      "metadata": {
        "id": "BENDPCrdyrLq",
        "outputId": "79a0f84e-06b6-47af-859d-4999ac1caa4c"
      },
      "outputs": [
        {
          "data": {
            "text/plain": [
              "array([[100, 200, 300]])"
            ]
          },
          "execution_count": 111,
          "metadata": {},
          "output_type": "execute_result"
        }
      ],
      "source": [
        "# step 1\n",
        "test = test.reshape(1,3)\n",
        "test"
      ]
    },
    {
      "cell_type": "code",
      "execution_count": null,
      "metadata": {
        "id": "72bGP39ayrLq",
        "outputId": "3ec5741a-7872-40c4-914e-1a55e9f5c0f2"
      },
      "outputs": [
        {
          "data": {
            "text/plain": [
              "array([[100, 200, 300],\n",
              "       [100, 200, 300]])"
            ]
          },
          "execution_count": 140,
          "metadata": {},
          "output_type": "execute_result"
        }
      ],
      "source": [
        "# step 2\n",
        "np.vstack((test,test))"
      ]
    },
    {
      "cell_type": "code",
      "execution_count": null,
      "metadata": {
        "id": "Gz2vgPLlyrLq",
        "outputId": "92d73e93-a2b5-4f9e-91c9-f128bc37a332"
      },
      "outputs": [
        {
          "data": {
            "text/plain": [
              "array([[100, 200, 300],\n",
              "       [100, 200, 300]])"
            ]
          },
          "execution_count": 141,
          "metadata": {},
          "output_type": "execute_result"
        }
      ],
      "source": [
        "# step 2\n",
        "np.concatenate((test,test),axis=0)"
      ]
    },
    {
      "attachments": {},
      "cell_type": "markdown",
      "metadata": {
        "id": "PCjsT87ye18h"
      },
      "source": [
        "또 매우 간단히 다음 처럼 해도 됩니다:"
      ]
    },
    {
      "cell_type": "code",
      "execution_count": 117,
      "metadata": {
        "id": "M9zAHTcyyrLq",
        "outputId": "be15a493-b2a7-4c73-f1b4-259e19e23a01"
      },
      "outputs": [
        {
          "data": {
            "text/plain": [
              "array([[0, 1, 2],\n",
              "       [3, 4, 5]])"
            ]
          },
          "execution_count": 117,
          "metadata": {},
          "output_type": "execute_result"
        }
      ],
      "source": [
        "k"
      ]
    },
    {
      "cell_type": "code",
      "execution_count": 162,
      "metadata": {
        "id": "3TIhMyJMe18h",
        "outputId": "ad1e05f2-4931-4b71-a2b2-bcb872487970"
      },
      "outputs": [
        {
          "data": {
            "text/plain": [
              "array([[1000, 1001, 1002],\n",
              "       [1003, 1004, 1005]])"
            ]
          },
          "execution_count": 162,
          "metadata": {},
          "output_type": "execute_result"
        }
      ],
      "source": [
        "k + 1000  # 다음과 같습니다: k + [[1000, 1000, 1000], [1000, 1000, 1000]]"
      ]
    },
    {
      "attachments": {},
      "cell_type": "markdown",
      "metadata": {
        "id": "vRH8YKCde18h"
      },
      "source": [
        "## 규칙 3\n",
        "\n",
        "규칙 1 & 2을 적용했을 때 모든 배열의 크기가 맞아야 합니다."
      ]
    },
    {
      "cell_type": "code",
      "execution_count": 118,
      "metadata": {
        "id": "Q6rgLRNEyrLr",
        "outputId": "e7a341d6-4736-4487-c555-8b82316783ad"
      },
      "outputs": [
        {
          "data": {
            "text/plain": [
              "array([[0, 1, 2],\n",
              "       [3, 4, 5]])"
            ]
          },
          "execution_count": 118,
          "metadata": {},
          "output_type": "execute_result"
        }
      ],
      "source": [
        "k"
      ]
    },
    {
      "cell_type": "code",
      "execution_count": null,
      "metadata": {
        "id": "Q6gMlLdTe18h",
        "outputId": "35d328c0-237a-4401-9465-8f4e8895a340"
      },
      "outputs": [
        {
          "name": "stdout",
          "output_type": "stream",
          "text": [
            "operands could not be broadcast together with shapes (2,3) (2,) \n"
          ]
        }
      ],
      "source": [
        "try:\n",
        "    k + [33, 44]\n",
        "except ValueError as e:\n",
        "    print(e)\n",
        "# shapes이 맞지않아서"
      ]
    },
    {
      "attachments": {},
      "cell_type": "markdown",
      "metadata": {
        "id": "m1xKfOI0e18h"
      },
      "source": [
        "브로드캐스팅 규칙은 산술 연산 뿐만 아니라 넘파이 연산에서 많이 사용됩니다. 아래에서 더 보도록 하죠. 브로드캐스팅에 관한 더 자세한 정보는 [온라인 문서](https://numpy.org/doc/stable/user/basics.broadcasting.html)를 참고하세요."
      ]
    },
    {
      "cell_type": "code",
      "execution_count": 124,
      "metadata": {
        "id": "GsIV1NreyrLr"
      },
      "outputs": [
        {
          "data": {
            "text/plain": [
              "array([[ 0.],\n",
              "       [10.],\n",
              "       [20.],\n",
              "       [30.]])"
            ]
          },
          "execution_count": 124,
          "metadata": {},
          "output_type": "execute_result"
        }
      ],
      "source": [
        "a = np.array([[0.0],[10.0],[20.0],[30.0]])\n",
        "a"
      ]
    },
    {
      "cell_type": "code",
      "execution_count": null,
      "metadata": {
        "colab": {
          "base_uri": "https://localhost:8080/"
        },
        "id": "4yg4wh4-yrLr",
        "outputId": "d155e625-0238-40d5-9eed-615a8172452c"
      },
      "outputs": [
        {
          "data": {
            "text/plain": [
              "array([[ 1.,  2.,  3.],\n",
              "       [11., 12., 13.],\n",
              "       [21., 22., 23.],\n",
              "       [31., 32., 33.]])"
            ]
          },
          "execution_count": 22,
          "metadata": {},
          "output_type": "execute_result"
        }
      ],
      "source": [
        "a = np.array([0.0, 10.0, 20.0, 30.0])\n",
        "b = np.array([1.0, 2.0, 3.0])\n",
        "a[:, np.newaxis] + b"
      ]
    },
    {
      "attachments": {},
      "cell_type": "markdown",
      "metadata": {
        "id": "RazGg4iFe18h"
      },
      "source": [
        "## 업캐스팅 (생략)\n",
        "\n",
        "`dtype`이 다른 배열을 합칠 때 넘파이는 (실제 값에 상관없이) 모든 값을 다룰 수 있는 타입으로 업캐스팅합니다."
      ]
    },
    {
      "cell_type": "code",
      "execution_count": 173,
      "metadata": {
        "id": "-QpkGg3Re18h",
        "outputId": "3c80e710-b5c8-4ff0-b904-fa959224f6dc"
      },
      "outputs": [
        {
          "name": "stdout",
          "output_type": "stream",
          "text": [
            "uint8 [0 1 2 3 4]\n"
          ]
        }
      ],
      "source": [
        "k1 = np.arange(0, 5, dtype=np.uint8)\n",
        "print(k1.dtype, k1)"
      ]
    },
    {
      "cell_type": "code",
      "execution_count": 174,
      "metadata": {
        "id": "7bv6CdyTe18h",
        "outputId": "997402a6-a5ff-4a38-a24f-8a49bfe19b9f"
      },
      "outputs": [
        {
          "name": "stdout",
          "output_type": "stream",
          "text": [
            "int16 [ 5  7  9 11 13]\n"
          ]
        }
      ],
      "source": [
        "k2 = k1 + np.array([5, 6, 7, 8, 9], dtype=np.int8)\n",
        "print(k2.dtype, k2)"
      ]
    },
    {
      "attachments": {},
      "cell_type": "markdown",
      "metadata": {
        "id": "cqJAQ7Uje18i"
      },
      "source": [
        "모든 `int8`과 `uint8` 값(-128에서 255까지)을 표현하기 위해 `int16`이 필요합니다. 이 코드에서는 `uint8`이면 충분하지만 업캐스팅되었습니다."
      ]
    },
    {
      "cell_type": "code",
      "execution_count": 175,
      "metadata": {
        "id": "RbLcnjDhe18i",
        "outputId": "fb5e63a2-5b57-407a-f082-c66bd6405525"
      },
      "outputs": [
        {
          "name": "stdout",
          "output_type": "stream",
          "text": [
            "float64 [1.5 2.5 3.5 4.5 5.5]\n"
          ]
        }
      ],
      "source": [
        "k3 = k1 + 1.5\n",
        "print(k3.dtype, k3)"
      ]
    },
    {
      "attachments": {},
      "cell_type": "markdown",
      "metadata": {
        "id": "kW-yEKcWe18i"
      },
      "source": [
        "# 조건 연산자"
      ]
    },
    {
      "attachments": {},
      "cell_type": "markdown",
      "metadata": {
        "id": "807ng-0se18i"
      },
      "source": [
        "조건 연산자도 원소별로 적용됩니다:"
      ]
    },
    {
      "cell_type": "code",
      "execution_count": 130,
      "metadata": {
        "colab": {
          "base_uri": "https://localhost:8080/"
        },
        "id": "_2De9VRje18i",
        "outputId": "6e83f86b-6db0-464a-a639-135e197923eb"
      },
      "outputs": [
        {
          "data": {
            "text/plain": [
              "array([False,  True,  True, False])"
            ]
          },
          "execution_count": 130,
          "metadata": {},
          "output_type": "execute_result"
        }
      ],
      "source": [
        "m = np.array([20, -5, 30, 40])\n",
        "m < [15, 16, 35, 36] # 조건"
      ]
    },
    {
      "attachments": {},
      "cell_type": "markdown",
      "metadata": {
        "id": "C-BPYqKde18i"
      },
      "source": [
        "브로드캐스팅을 사용합니다:"
      ]
    },
    {
      "cell_type": "code",
      "execution_count": null,
      "metadata": {
        "colab": {
          "base_uri": "https://localhost:8080/"
        },
        "id": "FheSPsIIe18i",
        "outputId": "efb25ae5-c1f6-4792-984b-64bff9089755"
      },
      "outputs": [
        {
          "data": {
            "text/plain": [
              "array([ True,  True, False, False])"
            ]
          },
          "execution_count": 24,
          "metadata": {},
          "output_type": "execute_result"
        }
      ],
      "source": [
        "m < 25  # m < [25, 25, 25, 25] 와 동일"
      ]
    },
    {
      "attachments": {},
      "cell_type": "markdown",
      "metadata": {
        "id": "wwPTkGfne18i"
      },
      "source": [
        "불리언 인덱싱과 함께 사용하면 아주 유용합니다(아래에서 설명하겠습니다)."
      ]
    },
    {
      "cell_type": "code",
      "execution_count": 179,
      "metadata": {
        "colab": {
          "base_uri": "https://localhost:8080/"
        },
        "id": "NY5Qm7jne18i",
        "outputId": "58d889a9-7dd0-4e2e-8d68-6acb36abf1bb"
      },
      "outputs": [
        {
          "data": {
            "text/plain": [
              "array([20, -5])"
            ]
          },
          "execution_count": 179,
          "metadata": {},
          "output_type": "execute_result"
        }
      ],
      "source": [
        "m[m < 25] # 인덱싱"
      ]
    },
    {
      "attachments": {},
      "cell_type": "markdown",
      "metadata": {
        "id": "KagoY9cqe18i"
      },
      "source": [
        "# 수학 함수와 통계 함수"
      ]
    },
    {
      "attachments": {},
      "cell_type": "markdown",
      "metadata": {
        "id": "J7y3L3VSe18j"
      },
      "source": [
        "`ndarray`에서 사용할 수 있는 수학 함수와 통계 함수가 많습니다.\n",
        "\n",
        "## `ndarray` 메서드\n",
        "\n",
        "일부 함수는 `ndarray` 메서드로 제공됩니다. 예를 들면:"
      ]
    },
    {
      "cell_type": "code",
      "execution_count": 180,
      "metadata": {
        "colab": {
          "base_uri": "https://localhost:8080/"
        },
        "id": "LIix_Jl6e18j",
        "outputId": "05bed0a0-b3c6-44e4-f3ba-bf2376932c8f"
      },
      "outputs": [
        {
          "name": "stdout",
          "output_type": "stream",
          "text": [
            "[[-2.5  3.1  7. ]\n",
            " [10.  11.  12. ]]\n",
            "평균 = 6.766666666666667\n"
          ]
        }
      ],
      "source": [
        "a = np.array([[-2.5, 3.1, 7], [10, 11, 12]])\n",
        "print(a)\n",
        "print(\"평균 =\", a.mean()) # 전체에 대한 평균"
      ]
    },
    {
      "cell_type": "code",
      "execution_count": 184,
      "metadata": {},
      "outputs": [
        {
          "name": "stdout",
          "output_type": "stream",
          "text": [
            "[[-2.5  3.1  7. ]\n",
            " [10.  11.  12. ]]\n",
            "평균 = [3.75 7.05 9.5 ]\n"
          ]
        }
      ],
      "source": [
        "a = np.array([[-2.5, 3.1, 7], [10, 11, 12]])\n",
        "print(a)\n",
        "print(\"평균 =\", a.mean(axis=0))\n",
        "# axis=0, axis=1, 축에 따라 다르게"
      ]
    },
    {
      "attachments": {},
      "cell_type": "markdown",
      "metadata": {
        "id": "Ynv9rv5ye18j"
      },
      "source": [
        "이 명령은 크기에 상관없이 `ndarray`에 있는 모든 원소의 평균을 계산합니다.\n",
        "\n",
        "다음은 유용한 `ndarray` 메서드입니다:"
      ]
    },
    {
      "cell_type": "code",
      "execution_count": 144,
      "metadata": {
        "colab": {
          "base_uri": "https://localhost:8080/"
        },
        "id": "_-kMH4Rue18j",
        "outputId": "f0b6bff7-bc35-47e0-d2c5-b207a7bcbc49"
      },
      "outputs": [
        {
          "name": "stdout",
          "output_type": "stream",
          "text": [
            "min = 1\n",
            "max = 30\n",
            "sum = 66\n",
            "prod = 36000\n",
            "std = 10.708252269472673\n",
            "var = 114.66666666666667\n"
          ]
        }
      ],
      "source": [
        "for func in (a.min, a.max, a.sum, a.prod, a.std, a.var):\n",
        "    print(func.__name__, \"=\", func())\n",
        "# a.prod(모든 원소를 곱한 값), a.std(표준편차), a.var(분산), func.__name__(func 함수의 이름을 문자열로)"
      ]
    },
    {
      "attachments": {},
      "cell_type": "markdown",
      "metadata": {
        "id": "6lwQHGJIe18j"
      },
      "source": [
        "이 함수들은 선택적으로 매개변수 `axis`를 사용합니다. 지정된 축을 따라 원소에 연산을 적용하는데 사용합니다. 예를 들면:"
      ]
    },
    {
      "cell_type": "code",
      "execution_count": 148,
      "metadata": {
        "colab": {
          "base_uri": "https://localhost:8080/"
        },
        "id": "3in-Q2mLe18j",
        "outputId": "67e8d0ac-93d6-462d-b198-43159d5649fc"
      },
      "outputs": [
        {
          "data": {
            "text/plain": [
              "array([[[ 0,  1,  2,  3],\n",
              "        [ 4,  5,  6,  7],\n",
              "        [ 8,  9, 10, 11]],\n",
              "\n",
              "       [[12, 13, 14, 15],\n",
              "        [16, 17, 18, 19],\n",
              "        [20, 21, 22, 23]]])"
            ]
          },
          "execution_count": 148,
          "metadata": {},
          "output_type": "execute_result"
        }
      ],
      "source": [
        "c=np.arange(24).reshape(2,3,4) # 3차원 배열\n",
        "c"
      ]
    },
    {
      "cell_type": "code",
      "execution_count": 194,
      "metadata": {
        "colab": {
          "base_uri": "https://localhost:8080/"
        },
        "id": "F_AYCAo1e18j",
        "outputId": "089ef69b-b6e3-4780-b0a6-9665ab2b48fc"
      },
      "outputs": [
        {
          "data": {
            "text/plain": [
              "array([[12, 14, 16, 18],\n",
              "       [20, 22, 24, 26],\n",
              "       [28, 30, 32, 34]])"
            ]
          },
          "execution_count": 194,
          "metadata": {},
          "output_type": "execute_result"
        }
      ],
      "source": [
        "c.sum(axis=0)  # 첫 번째 축(2)을 따라 더함, 결과는 3x4 배열(2가 사라짐)"
      ]
    },
    {
      "cell_type": "code",
      "execution_count": 195,
      "metadata": {
        "colab": {
          "base_uri": "https://localhost:8080/"
        },
        "id": "SRf1rNPye18j",
        "outputId": "4409eefc-9a32-4068-9a11-1e131b8bbb40"
      },
      "outputs": [
        {
          "data": {
            "text/plain": [
              "array([[12, 15, 18, 21],\n",
              "       [48, 51, 54, 57]])"
            ]
          },
          "execution_count": 195,
          "metadata": {},
          "output_type": "execute_result"
        }
      ],
      "source": [
        "c.sum(axis=1)  # 두 번째 축을 따라 더함, 결과는 2x4 배열"
      ]
    },
    {
      "cell_type": "code",
      "execution_count": 196,
      "metadata": {},
      "outputs": [
        {
          "data": {
            "text/plain": [
              "(2, 4)"
            ]
          },
          "execution_count": 196,
          "metadata": {},
          "output_type": "execute_result"
        }
      ],
      "source": [
        "c.sum(axis=1).shape"
      ]
    },
    {
      "cell_type": "code",
      "execution_count": 197,
      "metadata": {
        "colab": {
          "base_uri": "https://localhost:8080/"
        },
        "id": "KaY52bzNyrLt",
        "outputId": "1129e559-d129-4c0f-c17b-6ff54400b819"
      },
      "outputs": [
        {
          "data": {
            "text/plain": [
              "array([[ 6, 22, 38],\n",
              "       [54, 70, 86]])"
            ]
          },
          "execution_count": 197,
          "metadata": {},
          "output_type": "execute_result"
        }
      ],
      "source": [
        "c.sum(axis=2) "
      ]
    },
    {
      "attachments": {},
      "cell_type": "markdown",
      "metadata": {
        "id": "vfxUKNuze18j"
      },
      "source": [
        "여러 축에 대해서 더할 수도 있습니다:"
      ]
    },
    {
      "cell_type": "code",
      "execution_count": 198,
      "metadata": {
        "colab": {
          "base_uri": "https://localhost:8080/"
        },
        "id": "LfmgW7OGyrLt",
        "outputId": "874fe216-e4cc-41ee-90db-bb6ab96e00f5"
      },
      "outputs": [
        {
          "data": {
            "text/plain": [
              "array([[[ 0,  1,  2,  3],\n",
              "        [ 4,  5,  6,  7],\n",
              "        [ 8,  9, 10, 11]],\n",
              "\n",
              "       [[12, 13, 14, 15],\n",
              "        [16, 17, 18, 19],\n",
              "        [20, 21, 22, 23]]])"
            ]
          },
          "execution_count": 198,
          "metadata": {},
          "output_type": "execute_result"
        }
      ],
      "source": [
        "c"
      ]
    },
    {
      "cell_type": "code",
      "execution_count": null,
      "metadata": {
        "colab": {
          "base_uri": "https://localhost:8080/"
        },
        "id": "9Qiv59VYe18k",
        "outputId": "ca3e71b8-adf7-4e43-9317-82b1d693254f"
      },
      "outputs": [
        {
          "data": {
            "text/plain": [
              "array([ 60,  92, 124])"
            ]
          },
          "execution_count": 41,
          "metadata": {},
          "output_type": "execute_result"
        }
      ],
      "source": [
        "c.sum(axis=(0,2))  # 첫 번째 축과 세 번째 축을 따라 더함, 결과는 (3,) 배열"
      ]
    },
    {
      "cell_type": "code",
      "execution_count": 205,
      "metadata": {
        "colab": {
          "base_uri": "https://localhost:8080/"
        },
        "id": "odwrqqGse18k",
        "outputId": "399931bc-6fe6-4b67-ce16-dbeb8fefaf1b"
      },
      "outputs": [
        {
          "data": {
            "text/plain": [
              "(60, 92, 124)"
            ]
          },
          "execution_count": 205,
          "metadata": {},
          "output_type": "execute_result"
        }
      ],
      "source": [
        "0+1+2+3 + 12+13+14+15, 4+5+6+7 + 16+17+18+19, 8+9+10+11 + 20+21+22+23"
      ]
    },
    {
      "attachments": {},
      "cell_type": "markdown",
      "metadata": {
        "id": "myi5rRlle18k"
      },
      "source": [
        "## 일반 함수\n",
        "\n",
        "넘파이는 일반 함수(universal function) 또는 **ufunc**라고 부르는 원소별 함수를 제공합니다. 예를 들면 `square` 함수는 원본 `ndarray`를 복사하여 각 원소를 제곱한 새로운 `ndarray` 객체를 반환합니다:"
      ]
    },
    {
      "cell_type": "code",
      "execution_count": null,
      "metadata": {
        "id": "zV_XOyCGe18k",
        "outputId": "fe881a00-5bea-4830-c0d3-2a513d594908"
      },
      "outputs": [
        {
          "data": {
            "text/plain": [
              "array([[  6.25,   9.61,  49.  ],\n",
              "       [100.  , 121.  , 144.  ]])"
            ]
          },
          "execution_count": 177,
          "metadata": {},
          "output_type": "execute_result"
        }
      ],
      "source": [
        "a = np.array([[-2.5, 3.1, 7], [10, 11, 12]])\n",
        "np.square(a)"
      ]
    },
    {
      "attachments": {},
      "cell_type": "markdown",
      "metadata": {
        "id": "SMUb2Dz5e18k"
      },
      "source": [
        "다음은 유용한 단항 일반 함수들입니다:"
      ]
    },
    {
      "cell_type": "code",
      "execution_count": null,
      "metadata": {
        "colab": {
          "base_uri": "https://localhost:8080/"
        },
        "id": "pLVfUQlee18k",
        "outputId": "fd772847-7c70-466c-90ba-27474adf5e9a"
      },
      "outputs": [
        {
          "name": "stdout",
          "output_type": "stream",
          "text": [
            "원본 ndarray\n",
            "[[-2.5  3.1  7. ]\n",
            " [10.  11.  12. ]]\n",
            "\n",
            " absolute\n",
            "[[ 2.5  3.1  7. ]\n",
            " [10.  11.  12. ]]\n",
            "\n",
            " sqrt\n",
            "[[       nan 1.76068169 2.64575131]\n",
            " [3.16227766 3.31662479 3.46410162]]\n",
            "\n",
            " exp\n",
            "[[8.20849986e-02 2.21979513e+01 1.09663316e+03]\n",
            " [2.20264658e+04 5.98741417e+04 1.62754791e+05]]\n",
            "\n",
            " log\n",
            "[[       nan 1.13140211 1.94591015]\n",
            " [2.30258509 2.39789527 2.48490665]]\n",
            "\n",
            " sign\n",
            "[[-1.  1.  1.]\n",
            " [ 1.  1.  1.]]\n",
            "\n",
            " ceil\n",
            "[[-2.  4.  7.]\n",
            " [10. 11. 12.]]\n",
            "\n",
            " modf\n",
            "(array([[-0.5,  0.1,  0. ],\n",
            "       [ 0. ,  0. ,  0. ]]), array([[-2.,  3.,  7.],\n",
            "       [10., 11., 12.]]))\n",
            "\n",
            " isnan\n",
            "[[False False False]\n",
            " [False False False]]\n",
            "\n",
            " cos\n",
            "[[-0.80114362 -0.99913515  0.75390225]\n",
            " [-0.83907153  0.0044257   0.84385396]]\n"
          ]
        },
        {
          "name": "stderr",
          "output_type": "stream",
          "text": [
            "<ipython-input-43-d791c8e37e6f>:5: RuntimeWarning: invalid value encountered in sqrt\n",
            "  print(func(a))\n",
            "<ipython-input-43-d791c8e37e6f>:5: RuntimeWarning: invalid value encountered in log\n",
            "  print(func(a))\n"
          ]
        }
      ],
      "source": [
        "print(\"원본 ndarray\")\n",
        "print(a)\n",
        "for func in (np.abs, np.sqrt, np.exp, np.log, np.sign, np.ceil, np.modf, np.isnan, np.cos):\n",
        "    print(\"\\n\", func.__name__)\n",
        "    print(func(a))"
      ]
    },
    {
      "attachments": {},
      "cell_type": "markdown",
      "metadata": {
        "id": "P6WLVBN7e18k"
      },
      "source": [
        "## 이항 일반 함수\n",
        "\n",
        "두 개의 `ndarray`에 원소별로 적용되는 이항 함수도 많습니다. 두 배열이 동일한 크기가 아니면 브로드캐스팅 규칙이 적용됩니다:"
      ]
    },
    {
      "cell_type": "code",
      "execution_count": 33,
      "metadata": {
        "id": "l27etEMve18k",
        "outputId": "00c6fd50-49e7-4012-c814-fee289631bea"
      },
      "outputs": [
        {
          "data": {
            "text/plain": [
              "array([ 3,  6,  2, 11])"
            ]
          },
          "execution_count": 33,
          "metadata": {},
          "output_type": "execute_result"
        }
      ],
      "source": [
        "a = np.array([1, -2, 3, 4])\n",
        "b = np.array([2, 8, -1, 7])\n",
        "np.add(a, b)  # a + b 와 동일"
      ]
    },
    {
      "cell_type": "code",
      "execution_count": null,
      "metadata": {
        "id": "HCIGD_dOe18l",
        "outputId": "ff8b3dee-1717-4a51-c059-e028845c1f45"
      },
      "outputs": [
        {
          "data": {
            "text/plain": [
              "array([False, False,  True, False])"
            ]
          },
          "execution_count": 180,
          "metadata": {},
          "output_type": "execute_result"
        }
      ],
      "source": [
        "np.greater(a, b)  # a > b 와 동일"
      ]
    },
    {
      "cell_type": "code",
      "execution_count": null,
      "metadata": {
        "id": "n-Q9AFLye18l",
        "outputId": "6cbce538-05ef-414c-c83d-af0f7d77d8e1"
      },
      "outputs": [
        {
          "data": {
            "text/plain": [
              "array([2, 8, 3, 7])"
            ]
          },
          "execution_count": 181,
          "metadata": {},
          "output_type": "execute_result"
        }
      ],
      "source": [
        "np.maximum(a, b)"
      ]
    },
    {
      "cell_type": "code",
      "execution_count": null,
      "metadata": {
        "id": "iY8GnA1qe18l",
        "outputId": "266a7127-8f76-455f-8abc-3efc9d4c05a5"
      },
      "outputs": [
        {
          "data": {
            "text/plain": [
              "array([ 1.,  2., -3.,  4.])"
            ]
          },
          "execution_count": 183,
          "metadata": {},
          "output_type": "execute_result"
        }
      ],
      "source": [
        "np.copysign(a, b)"
      ]
    },
    {
      "attachments": {},
      "cell_type": "markdown",
      "metadata": {
        "id": "fFfmH5nle18l"
      },
      "source": [
        "# 배열 인덱싱 (중요!)\n",
        "\n",
        "## 1차원 배열\n",
        "\n",
        "1차원 넘파이 배열은 보통의 파이썬 배열과 비슷하게 사용할 수 있습니다:"
      ]
    },
    {
      "cell_type": "code",
      "execution_count": 163,
      "metadata": {
        "colab": {
          "base_uri": "https://localhost:8080/"
        },
        "id": "7WPXxqVAe18l",
        "outputId": "9c7c7c01-fe73-4f61-d194-188d17226d63"
      },
      "outputs": [
        {
          "data": {
            "text/plain": [
              "19"
            ]
          },
          "execution_count": 163,
          "metadata": {},
          "output_type": "execute_result"
        }
      ],
      "source": [
        "a = np.array([1, 5, 3, 19, 13, 7, 3])\n",
        "a[3]"
      ]
    },
    {
      "cell_type": "code",
      "execution_count": 164,
      "metadata": {
        "colab": {
          "base_uri": "https://localhost:8080/"
        },
        "id": "KHFwjJboe18l",
        "outputId": "0654be3e-881e-4181-e4d1-b0805a0f1ce8"
      },
      "outputs": [
        {
          "data": {
            "text/plain": [
              "array([ 3, 19, 13])"
            ]
          },
          "execution_count": 164,
          "metadata": {},
          "output_type": "execute_result"
        }
      ],
      "source": [
        "a[2:5]"
      ]
    },
    {
      "cell_type": "code",
      "execution_count": 165,
      "metadata": {
        "colab": {
          "base_uri": "https://localhost:8080/"
        },
        "id": "m00dyOz4e18l",
        "outputId": "053f14f1-a35e-463e-b0b6-6e6380f1e9f0"
      },
      "outputs": [
        {
          "data": {
            "text/plain": [
              "array([ 3, 19, 13,  7])"
            ]
          },
          "execution_count": 165,
          "metadata": {},
          "output_type": "execute_result"
        }
      ],
      "source": [
        "a[2:-1]"
      ]
    },
    {
      "cell_type": "code",
      "execution_count": 166,
      "metadata": {
        "colab": {
          "base_uri": "https://localhost:8080/"
        },
        "id": "6r4_FOPde18l",
        "outputId": "faf2e886-253b-4127-cae2-99e6956bad29"
      },
      "outputs": [
        {
          "data": {
            "text/plain": [
              "array([1, 5])"
            ]
          },
          "execution_count": 166,
          "metadata": {},
          "output_type": "execute_result"
        }
      ],
      "source": [
        "a[:2]"
      ]
    },
    {
      "cell_type": "code",
      "execution_count": 167,
      "metadata": {
        "colab": {
          "base_uri": "https://localhost:8080/"
        },
        "id": "tik9SCLte18l",
        "outputId": "326ae133-bfd7-401d-b2b5-97f565c3f169"
      },
      "outputs": [
        {
          "data": {
            "text/plain": [
              "array([ 3, 13,  3])"
            ]
          },
          "execution_count": 167,
          "metadata": {},
          "output_type": "execute_result"
        }
      ],
      "source": [
        "a[2::2] # 2칸씩"
      ]
    },
    {
      "cell_type": "code",
      "execution_count": 168,
      "metadata": {
        "colab": {
          "base_uri": "https://localhost:8080/"
        },
        "id": "BZ-T87vOe18m",
        "outputId": "2d15a06f-40a4-405b-e8d0-670d06337b60"
      },
      "outputs": [
        {
          "data": {
            "text/plain": [
              "array([ 3,  7, 13, 19,  3,  5,  1])"
            ]
          },
          "execution_count": 168,
          "metadata": {},
          "output_type": "execute_result"
        }
      ],
      "source": [
        "a[::-1] # 뒤에서부터"
      ]
    },
    {
      "attachments": {},
      "cell_type": "markdown",
      "metadata": {
        "id": "QZNzwoFwe18m"
      },
      "source": [
        "물론 원소를 수정할 수 있죠:"
      ]
    },
    {
      "cell_type": "code",
      "execution_count": 170,
      "metadata": {
        "id": "vZDX4AjHe18m",
        "outputId": "3563fedc-683e-4090-c66f-e8d0d3a9da64"
      },
      "outputs": [
        {
          "data": {
            "text/plain": [
              "array([  1,   5,   3, 999,  13,   7,   3])"
            ]
          },
          "execution_count": 170,
          "metadata": {},
          "output_type": "execute_result"
        }
      ],
      "source": [
        "a[3]=999 # 임의의 원소 수정\n",
        "a"
      ]
    },
    {
      "attachments": {},
      "cell_type": "markdown",
      "metadata": {
        "id": "ZkyUjKcMe18m"
      },
      "source": [
        "슬라이싱을 사용해 `ndarray`를 수정할 수 있습니다:"
      ]
    },
    {
      "cell_type": "code",
      "execution_count": 83,
      "metadata": {
        "id": "aNJvUbxce18m",
        "outputId": "1a3d3da0-eeb9-4310-bf12-74fad4432e37"
      },
      "outputs": [
        {
          "data": {
            "text/plain": [
              "[9, 10, 997, 998, 999, 4, 5, 6]"
            ]
          },
          "execution_count": 83,
          "metadata": {},
          "output_type": "execute_result"
        }
      ],
      "source": [
        "a[2:5] = [997, 998, 999]\n",
        "a"
      ]
    },
    {
      "attachments": {},
      "cell_type": "markdown",
      "metadata": {
        "id": "IZPUNcs36Liy"
      },
      "source": [
        "Quiz. 아래의 array를 사용해서 다음 퀴즈를 풀어봅시다."
      ]
    },
    {
      "cell_type": "code",
      "execution_count": 176,
      "metadata": {},
      "outputs": [
        {
          "data": {
            "text/plain": [
              "array([[ 5, 10, 15],\n",
              "       [20, 25, 30],\n",
              "       [35, 40, 45]])"
            ]
          },
          "execution_count": 176,
          "metadata": {},
          "output_type": "execute_result"
        }
      ],
      "source": [
        "np.arange(5,50,5).reshape(3,3)"
      ]
    },
    {
      "cell_type": "code",
      "execution_count": 50,
      "metadata": {
        "id": "pTheHZoT6Ksv"
      },
      "outputs": [],
      "source": [
        "import numpy as np\n",
        "\n",
        "array_2d = np.array([[5, 10, 15],\n",
        "                     [20, 25, 30],\n",
        "                     [35, 40, 45]])"
      ]
    },
    {
      "attachments": {},
      "cell_type": "markdown",
      "metadata": {
        "id": "zVVgBKpK6ckQ"
      },
      "source": [
        "1. 2차원 배열 'array_2d'에서 첫 번째 행(row)의 모든 요소를 선택해 보세요.\n",
        "\n",
        "    >힌트: 인덱싱을 사용하여 첫 번째 행을 선택할 수 있습니다.\n",
        "\n"
      ]
    },
    {
      "cell_type": "code",
      "execution_count": null,
      "metadata": {
        "colab": {
          "base_uri": "https://localhost:8080/"
        },
        "id": "U2otmrXjK3Qc",
        "outputId": "4018e389-070b-4aa9-abab-e797a133f6f1"
      },
      "outputs": [
        {
          "data": {
            "text/plain": [
              "array([ 5, 10, 15])"
            ]
          },
          "execution_count": 24,
          "metadata": {},
          "output_type": "execute_result"
        }
      ],
      "source": [
        "array_2d[0,0:3] # array_2d[0,:]"
      ]
    },
    {
      "attachments": {},
      "cell_type": "markdown",
      "metadata": {
        "id": "cFgNc_uI7kM3"
      },
      "source": [
        "2. 2차원 배열 'array_2d'에서 두 번째 열(column)의 모든 요소를 선택해 보세요.\n",
        "\n",
        "    > 힌트: 인덱싱과 슬라이싱을 사용하여 두 번째 열을 선택할 수 있습니다.\n"
      ]
    },
    {
      "cell_type": "code",
      "execution_count": 57,
      "metadata": {
        "colab": {
          "base_uri": "https://localhost:8080/"
        },
        "id": "th1r_i_4LHXX",
        "outputId": "4cf17e32-95b2-4a4d-812d-6459af022509"
      },
      "outputs": [
        {
          "data": {
            "text/plain": [
              "array([10, 25, 40])"
            ]
          },
          "execution_count": 57,
          "metadata": {},
          "output_type": "execute_result"
        }
      ],
      "source": [
        "array_2d[0:3,1] # array_2d[:,1]"
      ]
    },
    {
      "attachments": {},
      "cell_type": "markdown",
      "metadata": {
        "id": "DJa7Yn8V7lHj"
      },
      "source": [
        "\n",
        "3. 2차원 배열 'array_2d'에서 다음 요소들을 선택해 보세요: 25, 30, 40, 45\n",
        "\n",
        "    > 힌트: 팬시 인덱싱(fancy indexing)을 사용하여 여러 요소를 한 번에 선택할 수 있습니다."
      ]
    },
    {
      "cell_type": "code",
      "execution_count": null,
      "metadata": {
        "colab": {
          "base_uri": "https://localhost:8080/"
        },
        "id": "TtbrQHVcLIQH",
        "outputId": "8f2c0efd-aa3e-428b-809f-30f3bdc400e6"
      },
      "outputs": [
        {
          "data": {
            "text/plain": [
              "array([25, 30, 40, 45])"
            ]
          },
          "execution_count": 27,
          "metadata": {},
          "output_type": "execute_result"
        }
      ],
      "source": [
        "array_2d[(1,1,2,2),(1,2,1,2)] # array_2d[[1,1,2,2],[1,2,1,2]]"
      ]
    },
    {
      "attachments": {},
      "cell_type": "markdown",
      "metadata": {
        "id": "P3DbyrLoe18m"
      },
      "source": [
        "## 보통의 파이썬 배열과 차이점\n",
        "\n",
        "보통의 파이썬 배열과 대조적으로 `ndarray` 슬라이싱에 하나의 값을 할당하면 슬라이싱 전체에 복사됩니다. 위에서 언급한 브로드캐스팅 덕택입니다."
      ]
    },
    {
      "cell_type": "code",
      "execution_count": 182,
      "metadata": {
        "colab": {
          "base_uri": "https://localhost:8080/"
        },
        "id": "Q60_ycC0G-gl",
        "outputId": "9ec98396-39cc-4fc8-9da0-898bdaa53cda"
      },
      "outputs": [
        {
          "data": {
            "text/plain": [
              "array([  1,   5, 100, 200, 300,   7,   3])"
            ]
          },
          "execution_count": 182,
          "metadata": {},
          "output_type": "execute_result"
        }
      ],
      "source": [
        "a"
      ]
    },
    {
      "cell_type": "code",
      "execution_count": 183,
      "metadata": {
        "colab": {
          "base_uri": "https://localhost:8080/"
        },
        "id": "tFSrPtaMe18m",
        "outputId": "fb6163cd-ed22-407b-b93a-497b3d84bbef"
      },
      "outputs": [
        {
          "data": {
            "text/plain": [
              "array([ 1,  5, -1, -1, -1,  7,  3])"
            ]
          },
          "execution_count": 183,
          "metadata": {},
          "output_type": "execute_result"
        }
      ],
      "source": [
        "a[2:5] = -1\n",
        "a"
      ]
    },
    {
      "attachments": {},
      "cell_type": "markdown",
      "metadata": {
        "id": "ozUcLBsfyrLv"
      },
      "source": [
        "List는 브로드캐스팅으로 할당이 안됨"
      ]
    },
    {
      "cell_type": "code",
      "execution_count": 184,
      "metadata": {},
      "outputs": [
        {
          "data": {
            "text/plain": [
              "[1, 5, 3, 19, 13, 7, 3]"
            ]
          },
          "execution_count": 184,
          "metadata": {},
          "output_type": "execute_result"
        }
      ],
      "source": [
        "b = [1, 5, 3, 19, 13, 7, 3]\n",
        "b"
      ]
    },
    {
      "cell_type": "code",
      "execution_count": 185,
      "metadata": {},
      "outputs": [
        {
          "data": {
            "text/plain": [
              "[1, 2, 3, 4, 5]"
            ]
          },
          "execution_count": 185,
          "metadata": {},
          "output_type": "execute_result"
        }
      ],
      "source": [
        "b=[1,2,3,4,5]\n",
        "b"
      ]
    },
    {
      "cell_type": "code",
      "execution_count": 186,
      "metadata": {
        "colab": {
          "base_uri": "https://localhost:8080/",
          "height": 205
        },
        "id": "gFC9ecFzyrLv",
        "outputId": "d3679e22-11ac-468e-83d3-792aa4e395a9"
      },
      "outputs": [
        {
          "ename": "TypeError",
          "evalue": "can only assign an iterable",
          "output_type": "error",
          "traceback": [
            "\u001b[1;31m---------------------------------------------------------------------------\u001b[0m",
            "\u001b[1;31mTypeError\u001b[0m                                 Traceback (most recent call last)",
            "\u001b[1;32m~\\AppData\\Local\\Temp\\ipykernel_12364\\4010487725.py\u001b[0m in \u001b[0;36m<module>\u001b[1;34m\u001b[0m\n\u001b[0;32m      1\u001b[0m \u001b[0mb\u001b[0m \u001b[1;33m=\u001b[0m \u001b[1;33m[\u001b[0m\u001b[1;36m1\u001b[0m\u001b[1;33m,\u001b[0m \u001b[1;36m5\u001b[0m\u001b[1;33m,\u001b[0m \u001b[1;36m3\u001b[0m\u001b[1;33m,\u001b[0m \u001b[1;36m19\u001b[0m\u001b[1;33m,\u001b[0m \u001b[1;36m13\u001b[0m\u001b[1;33m,\u001b[0m \u001b[1;36m7\u001b[0m\u001b[1;33m,\u001b[0m \u001b[1;36m3\u001b[0m\u001b[1;33m]\u001b[0m\u001b[1;33m\u001b[0m\u001b[1;33m\u001b[0m\u001b[0m\n\u001b[1;32m----> 2\u001b[1;33m \u001b[0mb\u001b[0m\u001b[1;33m[\u001b[0m\u001b[1;36m2\u001b[0m\u001b[1;33m:\u001b[0m\u001b[1;36m5\u001b[0m\u001b[1;33m]\u001b[0m \u001b[1;33m=\u001b[0m \u001b[1;33m-\u001b[0m\u001b[1;36m1\u001b[0m\u001b[1;33m\u001b[0m\u001b[1;33m\u001b[0m\u001b[0m\n\u001b[0m\u001b[0;32m      3\u001b[0m \u001b[1;31m# 일반리스트에서는 개수가 달라서 안돼\u001b[0m\u001b[1;33m\u001b[0m\u001b[1;33m\u001b[0m\u001b[0m\n",
            "\u001b[1;31mTypeError\u001b[0m: can only assign an iterable"
          ]
        }
      ],
      "source": [
        "b = [1, 5, 3, 19, 13, 7, 3]\n",
        "b[2:5] = -1\n",
        "# 일반리스트에서는 개수가 달라서 안돼"
      ]
    },
    {
      "attachments": {},
      "cell_type": "markdown",
      "metadata": {
        "id": "7bCrkb59e18m"
      },
      "source": [
        "또한 이런 식으로 `ndarray` 크기를 늘리거나 줄일 수 없습니다:"
      ]
    },
    {
      "cell_type": "code",
      "execution_count": 187,
      "metadata": {
        "id": "32c-sDzBe18m",
        "outputId": "bf19e35a-8626-4906-a071-454e073751e7"
      },
      "outputs": [
        {
          "name": "stdout",
          "output_type": "stream",
          "text": [
            "could not broadcast input array from shape (6,) into shape (3,)\n"
          ]
        }
      ],
      "source": [
        "try:\n",
        "    a[2:5] = [1,2,3,4,5,6]  # 너무 길어요\n",
        "except ValueError as e:\n",
        "    print(e)"
      ]
    },
    {
      "cell_type": "code",
      "execution_count": 188,
      "metadata": {},
      "outputs": [
        {
          "name": "stdout",
          "output_type": "stream",
          "text": [
            "[9, 10, 1, 2, 3, 4, 14]\n"
          ]
        }
      ],
      "source": [
        "aa = [9,10,11,12,13,14]\n",
        "\n",
        "try:\n",
        "    aa[2:5] = [1, 2,3,4]\n",
        "except ValueError as e:\n",
        "    print(e)\n",
        "\n",
        "print(aa)"
      ]
    },
    {
      "attachments": {},
      "cell_type": "markdown",
      "metadata": {
        "id": "a0gf3yrAe18n"
      },
      "source": [
        "원소를 삭제할 수도 없습니다:"
      ]
    },
    {
      "cell_type": "code",
      "execution_count": 191,
      "metadata": {
        "id": "lk1Zgme_e18n",
        "outputId": "74dfa441-83dd-4baf-8ad8-6c7cbac4c9f6"
      },
      "outputs": [
        {
          "name": "stdout",
          "output_type": "stream",
          "text": [
            "cannot delete array elements\n"
          ]
        }
      ],
      "source": [
        "try:\n",
        "    del a[2:5]\n",
        "except ValueError as e:\n",
        "    print(e)"
      ]
    },
    {
      "attachments": {},
      "cell_type": "markdown",
      "metadata": {
        "id": "5nrx6wsQyrLv"
      },
      "source": [
        "List에서는 삭제가 가능"
      ]
    },
    {
      "cell_type": "code",
      "execution_count": null,
      "metadata": {
        "id": "_WanYtS5yrLv",
        "outputId": "2e9a8208-0b27-4e93-a6f2-e6b50efc3cca"
      },
      "outputs": [
        {
          "data": {
            "text/plain": [
              "[1, 5, 7, 3]"
            ]
          },
          "execution_count": 202,
          "metadata": {},
          "output_type": "execute_result"
        }
      ],
      "source": [
        "b = [1, 5, 3, 19, 13, 7, 3] \n",
        "del b[2:5]\n",
        "b"
      ]
    },
    {
      "attachments": {},
      "cell_type": "markdown",
      "metadata": {
        "id": "kYBdIw-De18n"
      },
      "source": [
        "중요한 점은 `ndarray`의 슬라이싱은 같은 데이터 버퍼를 바라보는 뷰(view)입니다. 슬라이싱된 객체를 수정하면 실제 원본 `ndarray`가 수정됩니다!"
      ]
    },
    {
      "cell_type": "code",
      "execution_count": 194,
      "metadata": {
        "colab": {
          "base_uri": "https://localhost:8080/"
        },
        "id": "yBDgH25-e18n",
        "outputId": "c3f69ea1-48ab-4d23-cc02-ff12a5856029"
      },
      "outputs": [
        {
          "data": {
            "text/plain": [
              "array([   1,    5,   -1, 1000,   -1,    7,    3])"
            ]
          },
          "execution_count": 194,
          "metadata": {},
          "output_type": "execute_result"
        }
      ],
      "source": [
        "a_slice = a[2:6]\n",
        "a_slice[1] = 1000\n",
        "a  # 원본 배열이 수정됩니다!"
      ]
    },
    {
      "cell_type": "code",
      "execution_count": 195,
      "metadata": {},
      "outputs": [
        {
          "name": "stdout",
          "output_type": "stream",
          "text": [
            "[  -1 1000   -1    7]\n"
          ]
        },
        {
          "data": {
            "text/plain": [
              "array([   1,    5,   -1, 1000,   -1,    7,    3])"
            ]
          },
          "execution_count": 195,
          "metadata": {},
          "output_type": "execute_result"
        }
      ],
      "source": [
        "a_slice = a[2:6]\n",
        "a_slice[1] = 1000\n",
        "print(a_slice)\n",
        "a"
      ]
    },
    {
      "cell_type": "code",
      "execution_count": 197,
      "metadata": {},
      "outputs": [
        {
          "data": {
            "text/plain": [
              "array([   1,    5,   -1, 2000,   -1,    7,    3])"
            ]
          },
          "execution_count": 197,
          "metadata": {},
          "output_type": "execute_result"
        }
      ],
      "source": [
        "a[3] = 2000\n",
        "a"
      ]
    },
    {
      "cell_type": "code",
      "execution_count": 198,
      "metadata": {
        "id": "B4dpMTBje18n",
        "outputId": "19c0deb3-12a7-40e8-815d-86e4db026aae"
      },
      "outputs": [
        {
          "data": {
            "text/plain": [
              "array([  -1, 2000,   -1,    7])"
            ]
          },
          "execution_count": 198,
          "metadata": {},
          "output_type": "execute_result"
        }
      ],
      "source": [
        "a[3] = 2000\n",
        "a_slice  # 비슷하게 원본 배열을 수정하면 슬라이싱 객체에도 반영됩니다!"
      ]
    },
    {
      "attachments": {},
      "cell_type": "markdown",
      "metadata": {
        "id": "90EqRFpre18n"
      },
      "source": [
        "데이터를 복사하려면 `copy` 메서드를 사용해야 합니다:"
      ]
    },
    {
      "cell_type": "code",
      "execution_count": null,
      "metadata": {
        "id": "7FgDTA6Xe18n",
        "outputId": "4d705b67-9553-4c8d-90ec-5b308a4ddd72"
      },
      "outputs": [
        {
          "data": {
            "text/plain": [
              "array([   1,    5,    1, 2000,    3,    7,    3])"
            ]
          },
          "execution_count": 205,
          "metadata": {},
          "output_type": "execute_result"
        }
      ],
      "source": [
        "another_slice = a[2:6].copy()\n",
        "another_slice[1] = 3000\n",
        "a  # 원본 배열이 수정되지 않습니다"
      ]
    },
    {
      "cell_type": "code",
      "execution_count": null,
      "metadata": {
        "id": "upX5iWIee18n",
        "outputId": "f83b75bb-699f-4ac3-e320-b09fdd22c55f"
      },
      "outputs": [
        {
          "data": {
            "text/plain": [
              "array([   1, 3000,    3,    7])"
            ]
          },
          "execution_count": 206,
          "metadata": {},
          "output_type": "execute_result"
        }
      ],
      "source": [
        "a[3] = 4000\n",
        "another_slice  # 마찬가지로 원본 배열을 수정해도 복사된 배열은 바뀌지 않습니다"
      ]
    },
    {
      "attachments": {},
      "cell_type": "markdown",
      "metadata": {
        "id": "CjHv573Je18o"
      },
      "source": [
        "## 다차원 배열\n",
        "\n",
        "다차원 배열은 비슷한 방식으로 각 축을 따라 인덱싱 또는 슬라이싱해서 사용합니다. 콤마로 구분합니다:"
      ]
    },
    {
      "cell_type": "code",
      "execution_count": 204,
      "metadata": {},
      "outputs": [
        {
          "data": {
            "text/plain": [
              "array([ 0,  1,  2,  3,  4,  5,  6,  7,  8,  9, 10, 11, 12, 13, 14, 15, 16,\n",
              "       17, 18, 19, 20, 21, 22, 23, 24, 25, 26, 27, 28, 29, 30, 31, 32, 33,\n",
              "       34, 35, 36, 37, 38, 39, 40, 41, 42, 43, 44, 45, 46, 47])"
            ]
          },
          "execution_count": 204,
          "metadata": {},
          "output_type": "execute_result"
        }
      ],
      "source": [
        "np.arange(48) # 1차원배열"
      ]
    },
    {
      "cell_type": "code",
      "execution_count": 205,
      "metadata": {
        "colab": {
          "base_uri": "https://localhost:8080/"
        },
        "id": "aAHgLjTme18o",
        "outputId": "3dbe4987-8e08-4d32-b58e-d3bfb4a0ae09"
      },
      "outputs": [
        {
          "data": {
            "text/plain": [
              "array([[ 0,  1,  2,  3,  4,  5,  6,  7,  8,  9, 10, 11],\n",
              "       [12, 13, 14, 15, 16, 17, 18, 19, 20, 21, 22, 23],\n",
              "       [24, 25, 26, 27, 28, 29, 30, 31, 32, 33, 34, 35],\n",
              "       [36, 37, 38, 39, 40, 41, 42, 43, 44, 45, 46, 47]])"
            ]
          },
          "execution_count": 205,
          "metadata": {},
          "output_type": "execute_result"
        }
      ],
      "source": [
        "b = np.arange(48).reshape(4, 12) #0~47, 4행 12열\n",
        "b\n",
        "# reshape=원하는 차원으로 바꿀 수 있음"
      ]
    },
    {
      "cell_type": "code",
      "execution_count": 206,
      "metadata": {
        "id": "2lIRE6dGe18o",
        "outputId": "833aaeef-0b6c-4921-afff-51370d85fb19"
      },
      "outputs": [
        {
          "data": {
            "text/plain": [
              "14"
            ]
          },
          "execution_count": 206,
          "metadata": {},
          "output_type": "execute_result"
        }
      ],
      "source": [
        "b[1, 2]  # 행1, 열2"
      ]
    },
    {
      "cell_type": "code",
      "execution_count": 207,
      "metadata": {
        "id": "KZ3AY0BJe18o",
        "outputId": "64962f41-214f-41f1-8426-0a4c7a0b3f30"
      },
      "outputs": [
        {
          "data": {
            "text/plain": [
              "array([12, 13, 14, 15, 16, 17, 18, 19, 20, 21, 22, 23])"
            ]
          },
          "execution_count": 207,
          "metadata": {},
          "output_type": "execute_result"
        }
      ],
      "source": [
        "b[1, :]  # 행 1, 모든 열"
      ]
    },
    {
      "cell_type": "code",
      "execution_count": 208,
      "metadata": {
        "id": "I5d9TK93e18o",
        "outputId": "b98f8dfa-e307-4125-d23d-44941d49e7e0"
      },
      "outputs": [
        {
          "data": {
            "text/plain": [
              "array([ 1, 13, 25, 37])"
            ]
          },
          "execution_count": 208,
          "metadata": {},
          "output_type": "execute_result"
        }
      ],
      "source": [
        "b[:, 1]  # 모든 행, 열 1"
      ]
    },
    {
      "attachments": {},
      "cell_type": "markdown",
      "metadata": {
        "id": "GoovJkWie18o"
      },
      "source": [
        "**주의**: 다음 두 표현에는 미묘한 차이가 있습니다: "
      ]
    },
    {
      "cell_type": "code",
      "execution_count": 209,
      "metadata": {
        "id": "OChnVCeSH3R5"
      },
      "outputs": [
        {
          "data": {
            "text/plain": [
              "array([12, 13, 14, 15, 16, 17, 18, 19, 20, 21, 22, 23])"
            ]
          },
          "execution_count": 209,
          "metadata": {},
          "output_type": "execute_result"
        }
      ],
      "source": [
        "b[1, :] #1차원"
      ]
    },
    {
      "cell_type": "code",
      "execution_count": 210,
      "metadata": {
        "id": "s5s8uM2ge18o",
        "outputId": "ba0a4654-7a98-4504-e90d-df6a46767c92"
      },
      "outputs": [
        {
          "data": {
            "text/plain": [
              "array([[12, 13, 14, 15, 16, 17, 18, 19, 20, 21, 22, 23]])"
            ]
          },
          "execution_count": 210,
          "metadata": {},
          "output_type": "execute_result"
        }
      ],
      "source": [
        "b[1:2, :] #2차원"
      ]
    },
    {
      "cell_type": "code",
      "execution_count": 211,
      "metadata": {
        "id": "QlhhxNp8e18o",
        "outputId": "00a6aba1-8566-4768-c2d6-8cc43fd65aea",
        "scrolled": true
      },
      "outputs": [
        {
          "data": {
            "text/plain": [
              "(12,)"
            ]
          },
          "execution_count": 211,
          "metadata": {},
          "output_type": "execute_result"
        }
      ],
      "source": [
        "b[1, :].shape"
      ]
    },
    {
      "cell_type": "code",
      "execution_count": 212,
      "metadata": {
        "id": "VV-Zcb30IUfQ"
      },
      "outputs": [
        {
          "data": {
            "text/plain": [
              "(1, 12)"
            ]
          },
          "execution_count": 212,
          "metadata": {},
          "output_type": "execute_result"
        }
      ],
      "source": [
        "b[1:2, :].shape"
      ]
    },
    {
      "attachments": {},
      "cell_type": "markdown",
      "metadata": {
        "id": "2UU8DSuJe18o"
      },
      "source": [
        "첫 번째 표현식은 `(12,)` 크기인 1D 배열로 행이 하나입니다. 두 번째는 `(1, 12)` 크기인 2D 배열로 같은 행을 반환합니다."
      ]
    },
    {
      "attachments": {},
      "cell_type": "markdown",
      "metadata": {
        "id": "tkqKX2JGe18p"
      },
      "source": [
        "## 팬시 인덱싱(Fancy indexing)\n",
        "\n",
        "관심 대상의 인덱스 리스트를 지정할 수도 있습니다. 이를 팬시 인덱싱이라고 부릅니다."
      ]
    },
    {
      "cell_type": "code",
      "execution_count": 213,
      "metadata": {
        "colab": {
          "base_uri": "https://localhost:8080/"
        },
        "id": "0KYu8FqFIiFb",
        "outputId": "aec95e6a-cbb9-40ee-e204-a4b5d29cdbac"
      },
      "outputs": [
        {
          "data": {
            "text/plain": [
              "array([[ 0,  1,  2,  3,  4,  5,  6,  7,  8,  9, 10, 11],\n",
              "       [12, 13, 14, 15, 16, 17, 18, 19, 20, 21, 22, 23],\n",
              "       [24, 25, 26, 27, 28, 29, 30, 31, 32, 33, 34, 35],\n",
              "       [36, 37, 38, 39, 40, 41, 42, 43, 44, 45, 46, 47]])"
            ]
          },
          "execution_count": 213,
          "metadata": {},
          "output_type": "execute_result"
        }
      ],
      "source": [
        "b"
      ]
    },
    {
      "cell_type": "code",
      "execution_count": 214,
      "metadata": {
        "id": "tYJcpYdRe18p",
        "outputId": "df0a6cc1-98f2-4218-f6da-1c998e6c29bf",
        "scrolled": true
      },
      "outputs": [
        {
          "data": {
            "text/plain": [
              "array([[ 2,  3,  4],\n",
              "       [26, 27, 28]])"
            ]
          },
          "execution_count": 214,
          "metadata": {},
          "output_type": "execute_result"
        }
      ],
      "source": [
        "b[(0,2), 2:5]  # 행 0과 2, 열 2에서 4(5-1)까지"
      ]
    },
    {
      "cell_type": "code",
      "execution_count": 216,
      "metadata": {
        "id": "BKXr4leXe18p",
        "outputId": "4affd0e7-becc-439d-e19f-fea5e3851897"
      },
      "outputs": [
        {
          "data": {
            "text/plain": [
              "array([[11,  2, 11],\n",
              "       [23, 14, 23],\n",
              "       [35, 26, 35],\n",
              "       [47, 38, 47]])"
            ]
          },
          "execution_count": 216,
          "metadata": {},
          "output_type": "execute_result"
        }
      ],
      "source": [
        "b[:, (-1, 2, -1)]  # 모든 행, 열 -1 (마지막), 2와 -1 (다시 반대 방향으로)"
      ]
    },
    {
      "cell_type": "code",
      "execution_count": 217,
      "metadata": {
        "colab": {
          "base_uri": "https://localhost:8080/"
        },
        "id": "H7DNiyS1I2bp",
        "outputId": "c0a9a88f-3620-4c57-99be-b65be483cf8a"
      },
      "outputs": [
        {
          "data": {
            "text/plain": [
              "array([[24, 25],\n",
              "       [36, 37]])"
            ]
          },
          "execution_count": 217,
          "metadata": {},
          "output_type": "execute_result"
        }
      ],
      "source": [
        "b[2:4,0:2] # b[(2,3),0:2]"
      ]
    },
    {
      "attachments": {},
      "cell_type": "markdown",
      "metadata": {
        "id": "cTM2oZU_e18p"
      },
      "source": [
        "여러 개의 인덱스 리스트를 지정하면 인덱스에 맞는 값이 포함된 1D `ndarray`를 반환됩니다."
      ]
    },
    {
      "cell_type": "code",
      "execution_count": 218,
      "metadata": {},
      "outputs": [
        {
          "data": {
            "text/plain": [
              "array([[ 0,  1,  2,  3,  4,  5,  6,  7,  8,  9, 10, 11],\n",
              "       [12, 13, 14, 15, 16, 17, 18, 19, 20, 21, 22, 23],\n",
              "       [24, 25, 26, 27, 28, 29, 30, 31, 32, 33, 34, 35],\n",
              "       [36, 37, 38, 39, 40, 41, 42, 43, 44, 45, 46, 47]])"
            ]
          },
          "execution_count": 218,
          "metadata": {},
          "output_type": "execute_result"
        }
      ],
      "source": [
        "b"
      ]
    },
    {
      "cell_type": "code",
      "execution_count": 219,
      "metadata": {
        "id": "-uREynwFe18p",
        "outputId": "85292774-dc6e-4b94-adac-84512b222bd5"
      },
      "outputs": [
        {
          "data": {
            "text/plain": [
              "array([41, 33, 37, 33])"
            ]
          },
          "execution_count": 219,
          "metadata": {},
          "output_type": "execute_result"
        }
      ],
      "source": [
        "b[(-1, 2, -1, 2), (5, 9, 1, 9)]  # returns a 1D array with b[-1, 5], b[2, 9], b[-1, 1] and b[2, 9] (again)\n",
        "# 값만 뽑을거야"
      ]
    },
    {
      "attachments": {},
      "cell_type": "markdown",
      "metadata": {
        "id": "e5EXK7gpe18p"
      },
      "source": [
        "## 고차원\n",
        "\n",
        "고차원에서도 동일한 방식이 적용됩니다. 몇 가지 예를 살펴 보겠습니다:"
      ]
    },
    {
      "cell_type": "code",
      "execution_count": 220,
      "metadata": {
        "colab": {
          "base_uri": "https://localhost:8080/"
        },
        "id": "ZTnnUVz5e18p",
        "outputId": "5b6381aa-737c-4ea9-eab3-89b70c4d58c7"
      },
      "outputs": [
        {
          "data": {
            "text/plain": [
              "array([[[ 0,  1,  2,  3,  4,  5],\n",
              "        [ 6,  7,  8,  9, 10, 11]],\n",
              "\n",
              "       [[12, 13, 14, 15, 16, 17],\n",
              "        [18, 19, 20, 21, 22, 23]],\n",
              "\n",
              "       [[24, 25, 26, 27, 28, 29],\n",
              "        [30, 31, 32, 33, 34, 35]],\n",
              "\n",
              "       [[36, 37, 38, 39, 40, 41],\n",
              "        [42, 43, 44, 45, 46, 47]]])"
            ]
          },
          "execution_count": 220,
          "metadata": {},
          "output_type": "execute_result"
        }
      ],
      "source": [
        "c = b.reshape(4,2,6) # 3차원\n",
        "c"
      ]
    },
    {
      "cell_type": "code",
      "execution_count": 221,
      "metadata": {
        "colab": {
          "base_uri": "https://localhost:8080/"
        },
        "id": "Y4DKvZhLe18p",
        "outputId": "884f3a78-06e1-41db-eb30-d679e3edba4e"
      },
      "outputs": [
        {
          "data": {
            "text/plain": [
              "34"
            ]
          },
          "execution_count": 221,
          "metadata": {},
          "output_type": "execute_result"
        }
      ],
      "source": [
        "c[2, 1, 4]  # 행렬 2, 행 1, 열 4"
      ]
    },
    {
      "cell_type": "code",
      "execution_count": 222,
      "metadata": {
        "id": "1mfj_5whe18p",
        "outputId": "790cb87a-5f85-4ba7-8a9a-897755f95e4f"
      },
      "outputs": [
        {
          "data": {
            "text/plain": [
              "array([27, 33])"
            ]
          },
          "execution_count": 222,
          "metadata": {},
          "output_type": "execute_result"
        }
      ],
      "source": [
        "c[2, :, 3]  # 행렬 2, 모든 행, 열 3"
      ]
    },
    {
      "attachments": {},
      "cell_type": "markdown",
      "metadata": {
        "id": "kVTY5Hx_e18q"
      },
      "source": [
        "어떤 축에 대한 인덱스를 지정하지 않으면 이 축의 모든 원소가 반환됩니다:"
      ]
    },
    {
      "cell_type": "code",
      "execution_count": 223,
      "metadata": {
        "id": "TMowyixXe18q",
        "outputId": "5046e5ce-16b3-4152-f90b-97763961de17"
      },
      "outputs": [
        {
          "data": {
            "text/plain": [
              "array([30, 31, 32, 33, 34, 35])"
            ]
          },
          "execution_count": 223,
          "metadata": {},
          "output_type": "execute_result"
        }
      ],
      "source": [
        "c[2, 1]  # 행렬 2, 행 1, 모든 열이 반환됩니다. c[2, 1, :]와 동일합니다."
      ]
    },
    {
      "attachments": {},
      "cell_type": "markdown",
      "metadata": {
        "id": "GYaas-SIe18q"
      },
      "source": [
        "## 생략 부호 (`...`)\n",
        "\n",
        "생략 부호(`...`)를 쓰면 모든 지정하지 않은 축의 원소를 포함합니다."
      ]
    },
    {
      "cell_type": "code",
      "execution_count": 224,
      "metadata": {},
      "outputs": [
        {
          "data": {
            "text/plain": [
              "array([[[ 0,  1,  2,  3,  4,  5],\n",
              "        [ 6,  7,  8,  9, 10, 11]],\n",
              "\n",
              "       [[12, 13, 14, 15, 16, 17],\n",
              "        [18, 19, 20, 21, 22, 23]],\n",
              "\n",
              "       [[24, 25, 26, 27, 28, 29],\n",
              "        [30, 31, 32, 33, 34, 35]],\n",
              "\n",
              "       [[36, 37, 38, 39, 40, 41],\n",
              "        [42, 43, 44, 45, 46, 47]]])"
            ]
          },
          "execution_count": 224,
          "metadata": {},
          "output_type": "execute_result"
        }
      ],
      "source": [
        "c"
      ]
    },
    {
      "cell_type": "code",
      "execution_count": 225,
      "metadata": {
        "id": "2-76HqTme18q",
        "outputId": "cfc05bbb-65b5-47c7-c331-14ea926af8d7"
      },
      "outputs": [
        {
          "data": {
            "text/plain": [
              "array([[24, 25, 26, 27, 28, 29],\n",
              "       [30, 31, 32, 33, 34, 35]])"
            ]
          },
          "execution_count": 225,
          "metadata": {},
          "output_type": "execute_result"
        }
      ],
      "source": [
        "c[2, ...]  #  행렬 2, 모든 행, 모든 열. c[2, :, :]와 동일"
      ]
    },
    {
      "cell_type": "code",
      "execution_count": 226,
      "metadata": {
        "id": "r0xrjZuHe18q",
        "outputId": "803b9c44-e2d6-4740-e155-457fbeb9503f"
      },
      "outputs": [
        {
          "data": {
            "text/plain": [
              "array([30, 31, 32, 33, 34, 35])"
            ]
          },
          "execution_count": 226,
          "metadata": {},
          "output_type": "execute_result"
        }
      ],
      "source": [
        "c[2, 1, ...]  # 행렬 2, 행 1, 모든 열. c[2, 1, :]와 동일"
      ]
    },
    {
      "cell_type": "code",
      "execution_count": 227,
      "metadata": {
        "id": "GDamNZlAe18q",
        "outputId": "ded0f0d4-c509-463a-dfa7-fb701191fc95"
      },
      "outputs": [
        {
          "data": {
            "text/plain": [
              "array([27, 33])"
            ]
          },
          "execution_count": 227,
          "metadata": {},
          "output_type": "execute_result"
        }
      ],
      "source": [
        "c[2, ..., 3]  # 행렬 2, 모든 행, 열 3. c[2, :, 3]와 동일"
      ]
    },
    {
      "cell_type": "code",
      "execution_count": 228,
      "metadata": {
        "id": "ep_ZLfjge18q",
        "outputId": "876a3bd4-740a-43e8-9848-f68281585e3b"
      },
      "outputs": [
        {
          "data": {
            "text/plain": [
              "array([[ 3,  9],\n",
              "       [15, 21],\n",
              "       [27, 33],\n",
              "       [39, 45]])"
            ]
          },
          "execution_count": 228,
          "metadata": {},
          "output_type": "execute_result"
        }
      ],
      "source": [
        "c[..., 3]  # 모든 행렬, 모든 행, 열 3. c[:, :, 3]와 동일"
      ]
    },
    {
      "attachments": {},
      "cell_type": "markdown",
      "metadata": {
        "id": "AQHnSY4ye18q"
      },
      "source": [
        "## 불리언 인덱싱\n",
        "\n",
        "불리언 값을 가진 `ndarray`를 사용해 축의 인덱스를 지정할 수 있습니다."
      ]
    },
    {
      "cell_type": "code",
      "execution_count": 229,
      "metadata": {
        "id": "jxA7H4L4e18q",
        "outputId": "51067425-5ae4-4a1f-cfa1-3f2aa4218514"
      },
      "outputs": [
        {
          "data": {
            "text/plain": [
              "array([[ 0,  1,  2,  3,  4,  5,  6,  7,  8,  9, 10, 11],\n",
              "       [12, 13, 14, 15, 16, 17, 18, 19, 20, 21, 22, 23],\n",
              "       [24, 25, 26, 27, 28, 29, 30, 31, 32, 33, 34, 35],\n",
              "       [36, 37, 38, 39, 40, 41, 42, 43, 44, 45, 46, 47]])"
            ]
          },
          "execution_count": 229,
          "metadata": {},
          "output_type": "execute_result"
        }
      ],
      "source": [
        "b = np.arange(48).reshape(4, 12)\n",
        "b"
      ]
    },
    {
      "cell_type": "code",
      "execution_count": 230,
      "metadata": {
        "id": "Eip-K1ape18r",
        "outputId": "44596b0f-20d1-4a9a-c37f-602a2d9e2eae"
      },
      "outputs": [
        {
          "data": {
            "text/plain": [
              "array([[ 0,  1,  2,  3,  4,  5,  6,  7,  8,  9, 10, 11],\n",
              "       [24, 25, 26, 27, 28, 29, 30, 31, 32, 33, 34, 35]])"
            ]
          },
          "execution_count": 230,
          "metadata": {},
          "output_type": "execute_result"
        }
      ],
      "source": [
        "rows_on = np.array([True, False, True, False])\n",
        "b[rows_on, :]  # 행 0과 2, 모든 열. b[(0, 2), :]와 동일"
      ]
    },
    {
      "cell_type": "code",
      "execution_count": 231,
      "metadata": {},
      "outputs": [
        {
          "data": {
            "text/plain": [
              "[False,\n",
              " True,\n",
              " False,\n",
              " False,\n",
              " True,\n",
              " False,\n",
              " False,\n",
              " True,\n",
              " False,\n",
              " False,\n",
              " True,\n",
              " False]"
            ]
          },
          "execution_count": 231,
          "metadata": {},
          "output_type": "execute_result"
        }
      ],
      "source": [
        "[False, True, False] * 4"
      ]
    },
    {
      "cell_type": "code",
      "execution_count": 232,
      "metadata": {
        "id": "I4ZgDP1be18r",
        "outputId": "de2cb1ae-e888-4161-87c2-6141266e15ba"
      },
      "outputs": [
        {
          "data": {
            "text/plain": [
              "array([[ 1,  4,  7, 10],\n",
              "       [13, 16, 19, 22],\n",
              "       [25, 28, 31, 34],\n",
              "       [37, 40, 43, 46]])"
            ]
          },
          "execution_count": 232,
          "metadata": {},
          "output_type": "execute_result"
        }
      ],
      "source": [
        "cols_on = np.array([False, True, False] * 4)\n",
        "b[:, cols_on]  # 모든 행, 열 1, 4, 7, 10"
      ]
    },
    {
      "attachments": {},
      "cell_type": "markdown",
      "metadata": {
        "id": "Mn05nb4re18r"
      },
      "source": [
        "## `np.ix_`\n",
        "\n",
        "여러 축에 걸쳐서는 불리언 인덱싱을 사용할 수 없고 `ix_` 함수를 사용합니다:"
      ]
    },
    {
      "cell_type": "code",
      "execution_count": 234,
      "metadata": {},
      "outputs": [
        {
          "data": {
            "text/plain": [
              "array([[ 0,  1,  2,  3,  4,  5,  6,  7,  8,  9, 10, 11],\n",
              "       [12, 13, 14, 15, 16, 17, 18, 19, 20, 21, 22, 23],\n",
              "       [24, 25, 26, 27, 28, 29, 30, 31, 32, 33, 34, 35],\n",
              "       [36, 37, 38, 39, 40, 41, 42, 43, 44, 45, 46, 47]])"
            ]
          },
          "execution_count": 234,
          "metadata": {},
          "output_type": "execute_result"
        }
      ],
      "source": [
        "b"
      ]
    },
    {
      "cell_type": "code",
      "execution_count": 235,
      "metadata": {
        "id": "if5odwImyrLx",
        "outputId": "b1aadb48-0423-4dc5-de0a-2f494f7fe570"
      },
      "outputs": [
        {
          "data": {
            "text/plain": [
              "array([[ 1,  4,  7, 10],\n",
              "       [25, 28, 31, 34]])"
            ]
          },
          "execution_count": 235,
          "metadata": {},
          "output_type": "execute_result"
        }
      ],
      "source": [
        "b[np.ix_((0,2),(1,4,7,10))]"
      ]
    },
    {
      "cell_type": "code",
      "execution_count": 236,
      "metadata": {
        "id": "yz71pbWRe18r",
        "outputId": "a53bbc0d-b0df-4584-c5bc-85e587a04b6b"
      },
      "outputs": [
        {
          "data": {
            "text/plain": [
              "array([[ 1,  4,  7, 10],\n",
              "       [25, 28, 31, 34]])"
            ]
          },
          "execution_count": 236,
          "metadata": {},
          "output_type": "execute_result"
        }
      ],
      "source": [
        "b[np.ix_(rows_on, cols_on)] # 불리안 인덱싱 넣어서"
      ]
    },
    {
      "cell_type": "code",
      "execution_count": 237,
      "metadata": {
        "id": "MwNA7dnwe18r",
        "outputId": "c875a197-5121-43b3-e44b-7966be5e2140"
      },
      "outputs": [
        {
          "data": {
            "text/plain": [
              "(array([[0],\n",
              "        [2]], dtype=int64),\n",
              " array([[ 1,  4,  7, 10]], dtype=int64))"
            ]
          },
          "execution_count": 237,
          "metadata": {},
          "output_type": "execute_result"
        }
      ],
      "source": [
        "np.ix_(rows_on, cols_on)"
      ]
    },
    {
      "attachments": {},
      "cell_type": "markdown",
      "metadata": {
        "id": "PSOIE22oe18s"
      },
      "source": [
        "`ndarray`와 같은 크기의 불리언 배열을 사용하면 해당 위치가 `True`인 모든 원소를 담은 1D 배열이 반환됩니다. 일반적으로 조건 연산자와 함께 사용합니다:"
      ]
    },
    {
      "cell_type": "code",
      "execution_count": 238,
      "metadata": {
        "id": "E6iiCI9AyrLx",
        "outputId": "6274325a-5b1e-47fb-ac3a-2c7fea0c477d"
      },
      "outputs": [
        {
          "data": {
            "text/plain": [
              "(4, 12)"
            ]
          },
          "execution_count": 238,
          "metadata": {},
          "output_type": "execute_result"
        }
      ],
      "source": [
        "b.shape"
      ]
    },
    {
      "cell_type": "code",
      "execution_count": 239,
      "metadata": {},
      "outputs": [
        {
          "data": {
            "text/plain": [
              "array([[False,  True, False, False,  True, False, False,  True, False,\n",
              "        False,  True, False],\n",
              "       [False,  True, False, False,  True, False, False,  True, False,\n",
              "        False,  True, False],\n",
              "       [False,  True, False, False,  True, False, False,  True, False,\n",
              "        False,  True, False],\n",
              "       [False,  True, False, False,  True, False, False,  True, False,\n",
              "        False,  True, False]])"
            ]
          },
          "execution_count": 239,
          "metadata": {},
          "output_type": "execute_result"
        }
      ],
      "source": [
        "b % 3 == 1"
      ]
    },
    {
      "cell_type": "code",
      "execution_count": 240,
      "metadata": {
        "id": "aZuxVpTme18s",
        "outputId": "4ced80b4-0be9-46f6-c328-428270f90cd8"
      },
      "outputs": [
        {
          "data": {
            "text/plain": [
              "array([ 1,  4,  7, 10, 13, 16, 19, 22, 25, 28, 31, 34, 37, 40, 43, 46])"
            ]
          },
          "execution_count": 240,
          "metadata": {},
          "output_type": "execute_result"
        }
      ],
      "source": [
        "b[b % 3 == 1] # 조건문 넣어서, 3으로 나눴을 때 나머지가 1인 것 들"
      ]
    },
    {
      "attachments": {},
      "cell_type": "markdown",
      "metadata": {
        "id": "H-xKX1mwe18s"
      },
      "source": [
        "# 반복\n",
        "\n",
        "`ndarray`를 반복하는 것은 일반적인 파이썬 배열을 반복한는 것과 매우 유사합니다. 다차원 배열을 반복하면 첫 번째 축에 대해서 수행됩니다."
      ]
    },
    {
      "cell_type": "code",
      "execution_count": 241,
      "metadata": {
        "id": "QjtG4sb8e18s",
        "outputId": "9ee9dd9c-3b24-4a01-9e29-d14e9604a0e9"
      },
      "outputs": [
        {
          "data": {
            "text/plain": [
              "array([[[ 0,  1,  2,  3],\n",
              "        [ 4,  5,  6,  7],\n",
              "        [ 8,  9, 10, 11]],\n",
              "\n",
              "       [[12, 13, 14, 15],\n",
              "        [16, 17, 18, 19],\n",
              "        [20, 21, 22, 23]]])"
            ]
          },
          "execution_count": 241,
          "metadata": {},
          "output_type": "execute_result"
        }
      ],
      "source": [
        "c = np.arange(24).reshape(2, 3, 4)  # 3D 배열(3차원) (두 개의 3x4 행렬로 구성됨)\n",
        "c"
      ]
    },
    {
      "cell_type": "code",
      "execution_count": 242,
      "metadata": {
        "id": "DnW3K-U7e18s",
        "outputId": "a63639b2-1b15-4f45-9783-5505fac015d4"
      },
      "outputs": [
        {
          "name": "stdout",
          "output_type": "stream",
          "text": [
            "아이템:\n",
            "[[ 0  1  2  3]\n",
            " [ 4  5  6  7]\n",
            " [ 8  9 10 11]]\n",
            "아이템:\n",
            "[[12 13 14 15]\n",
            " [16 17 18 19]\n",
            " [20 21 22 23]]\n"
          ]
        }
      ],
      "source": [
        "for m in c:\n",
        "    print(\"아이템:\")\n",
        "    print(m)\n",
        "# 이 코드가 더 간결함"
      ]
    },
    {
      "cell_type": "code",
      "execution_count": 245,
      "metadata": {
        "id": "o3M47xuhe18s",
        "outputId": "76901c19-1616-405d-aea6-fbcf758f05fd"
      },
      "outputs": [
        {
          "name": "stdout",
          "output_type": "stream",
          "text": [
            "아이템:\n",
            "[[ 0  1  2  3]\n",
            " [ 4  5  6  7]\n",
            " [ 8  9 10 11]]\n",
            "아이템:\n",
            "[[12 13 14 15]\n",
            " [16 17 18 19]\n",
            " [20 21 22 23]]\n"
          ]
        }
      ],
      "source": [
        "for i in range(len(c)):  # len(c) == c.shape[0]\n",
        "    print(\"아이템:\")\n",
        "    print(c[i]) # print(c[i,:,:])"
      ]
    },
    {
      "attachments": {},
      "cell_type": "markdown",
      "metadata": {
        "id": "pKJv5DKLe18s"
      },
      "source": [
        "`ndarray`에 있는 모든 원소를 반복하려면 `flat` 속성을 사용합니다:"
      ]
    },
    {
      "cell_type": "code",
      "execution_count": 247,
      "metadata": {},
      "outputs": [
        {
          "data": {
            "text/plain": [
              "<numpy.flatiter at 0x207fd97a480>"
            ]
          },
          "execution_count": 247,
          "metadata": {},
          "output_type": "execute_result"
        }
      ],
      "source": [
        "c.flat # 각각에 넣을 수 있음"
      ]
    },
    {
      "cell_type": "code",
      "execution_count": null,
      "metadata": {
        "id": "kHoBLoLMe18s",
        "outputId": "107d506c-4343-4d71-f2f0-063a127d89b3"
      },
      "outputs": [
        {
          "name": "stdout",
          "output_type": "stream",
          "text": [
            "아이템: 0\n",
            "아이템: 1\n",
            "아이템: 2\n",
            "아이템: 3\n",
            "아이템: 4\n",
            "아이템: 5\n",
            "아이템: 6\n",
            "아이템: 7\n",
            "아이템: 8\n",
            "아이템: 9\n",
            "아이템: 10\n",
            "아이템: 11\n",
            "아이템: 12\n",
            "아이템: 13\n",
            "아이템: 14\n",
            "아이템: 15\n",
            "아이템: 16\n",
            "아이템: 17\n",
            "아이템: 18\n",
            "아이템: 19\n",
            "아이템: 20\n",
            "아이템: 21\n",
            "아이템: 22\n",
            "아이템: 23\n"
          ]
        }
      ],
      "source": [
        "for i in c.flat:\n",
        "    print(\"아이템:\", i)"
      ]
    },
    {
      "attachments": {},
      "cell_type": "markdown",
      "metadata": {
        "id": "_9gt9F8se18s"
      },
      "source": [
        "# 배열 쌓기\n",
        "\n",
        "종종 다른 배열을 쌓아야 할 때가 있습니다. 넘파이는 이를 위해 몇 개의 함수를 제공합니다. 먼저 배열 몇 개를 만들어 보죠."
      ]
    },
    {
      "cell_type": "code",
      "execution_count": 255,
      "metadata": {
        "colab": {
          "base_uri": "https://localhost:8080/"
        },
        "id": "vspMVdeTTiLS",
        "outputId": "806bc88d-957b-4ba3-a25a-c0a64e9073b8"
      },
      "outputs": [
        {
          "data": {
            "text/plain": [
              "array([[1., 1., 1., 1.],\n",
              "       [1., 1., 1., 1.],\n",
              "       [1., 1., 1., 1.]])"
            ]
          },
          "execution_count": 255,
          "metadata": {},
          "output_type": "execute_result"
        }
      ],
      "source": [
        "q1 = np.full((3,4), 1.0) \n",
        "# 3(0번째 축, axis=0), 4(1번째 축, axis=1)\n",
        "q1"
      ]
    },
    {
      "cell_type": "code",
      "execution_count": 256,
      "metadata": {
        "colab": {
          "base_uri": "https://localhost:8080/"
        },
        "id": "LfwIPIN3e18t",
        "outputId": "ebf5d0fe-a19c-4e3b-da4d-3b6216d72c26"
      },
      "outputs": [
        {
          "data": {
            "text/plain": [
              "array([[2., 2., 2., 2.],\n",
              "       [2., 2., 2., 2.],\n",
              "       [2., 2., 2., 2.],\n",
              "       [2., 2., 2., 2.]])"
            ]
          },
          "execution_count": 256,
          "metadata": {},
          "output_type": "execute_result"
        }
      ],
      "source": [
        "q2 = np.full((4,4), 2.0)\n",
        "q2"
      ]
    },
    {
      "cell_type": "code",
      "execution_count": 257,
      "metadata": {
        "colab": {
          "base_uri": "https://localhost:8080/"
        },
        "id": "6R3OwBrie18t",
        "outputId": "4b0ca26e-9792-4dcc-94eb-6026932e3f95"
      },
      "outputs": [
        {
          "data": {
            "text/plain": [
              "array([[3., 3., 3., 3.],\n",
              "       [3., 3., 3., 3.],\n",
              "       [3., 3., 3., 3.]])"
            ]
          },
          "execution_count": 257,
          "metadata": {},
          "output_type": "execute_result"
        }
      ],
      "source": [
        "q3 = np.full((3,4), 3.0)\n",
        "q3"
      ]
    },
    {
      "attachments": {},
      "cell_type": "markdown",
      "metadata": {
        "id": "YbMso3gce18t"
      },
      "source": [
        "## `vstack`\n",
        "\n",
        "`vstack` 함수를 사용하여 수직으로 쌓아보죠:"
      ]
    },
    {
      "cell_type": "code",
      "execution_count": 259,
      "metadata": {
        "colab": {
          "base_uri": "https://localhost:8080/"
        },
        "id": "DnCmoigke18t",
        "outputId": "72de337b-1ccf-4f71-884c-b3e9c1e3990f"
      },
      "outputs": [
        {
          "data": {
            "text/plain": [
              "array([[1., 1., 1., 1.],\n",
              "       [1., 1., 1., 1.],\n",
              "       [1., 1., 1., 1.],\n",
              "       [2., 2., 2., 2.],\n",
              "       [2., 2., 2., 2.],\n",
              "       [2., 2., 2., 2.],\n",
              "       [2., 2., 2., 2.],\n",
              "       [3., 3., 3., 3.],\n",
              "       [3., 3., 3., 3.],\n",
              "       [3., 3., 3., 3.]])"
            ]
          },
          "execution_count": 259,
          "metadata": {},
          "output_type": "execute_result"
        }
      ],
      "source": [
        "q4 = np.vstack((q1, q2, q3))\n",
        "q4\n",
        "# vstack = 수직으로 붙이기"
      ]
    },
    {
      "cell_type": "code",
      "execution_count": 260,
      "metadata": {
        "colab": {
          "base_uri": "https://localhost:8080/"
        },
        "id": "OFRpKbEle18u",
        "outputId": "740b243a-6e43-4cf2-9d84-b4312afb54c7"
      },
      "outputs": [
        {
          "data": {
            "text/plain": [
              "(10, 4)"
            ]
          },
          "execution_count": 260,
          "metadata": {},
          "output_type": "execute_result"
        }
      ],
      "source": [
        "q4.shape"
      ]
    },
    {
      "attachments": {},
      "cell_type": "markdown",
      "metadata": {
        "id": "j85Z1XGAe18u"
      },
      "source": [
        "q1, q2, q3가 모두 같은 크기이므로 가능합니다(수직으로 쌓기 때문에 수직 축은 크기가 달라도 됩니다).\n",
        "\n",
        "## `hstack`\n",
        "\n",
        "`hstack`을 사용해 수평으로도 쌓을 수 있습니다:"
      ]
    },
    {
      "cell_type": "code",
      "execution_count": null,
      "metadata": {
        "colab": {
          "base_uri": "https://localhost:8080/"
        },
        "id": "JQa34LmHe18u",
        "outputId": "7efeb004-6157-4ac1-d9a0-999bfd1599a1"
      },
      "outputs": [
        {
          "data": {
            "text/plain": [
              "array([[1., 1., 1., 1., 3., 3., 3., 3.],\n",
              "       [1., 1., 1., 1., 3., 3., 3., 3.],\n",
              "       [1., 1., 1., 1., 3., 3., 3., 3.]])"
            ]
          },
          "execution_count": 55,
          "metadata": {},
          "output_type": "execute_result"
        }
      ],
      "source": [
        "q5 = np.hstack((q1, q3)) # q1, q3 행이 같아서 붙이기 가능\n",
        "q5\n",
        "# hstack = 가로로 붙이기"
      ]
    },
    {
      "cell_type": "code",
      "execution_count": 262,
      "metadata": {
        "colab": {
          "base_uri": "https://localhost:8080/"
        },
        "id": "5Uee9Znve18u",
        "outputId": "a2980b08-d843-4fd3-9372-37dabbfe129d"
      },
      "outputs": [
        {
          "data": {
            "text/plain": [
              "(3, 8)"
            ]
          },
          "execution_count": 262,
          "metadata": {},
          "output_type": "execute_result"
        }
      ],
      "source": [
        "q5.shape"
      ]
    },
    {
      "cell_type": "code",
      "execution_count": null,
      "metadata": {
        "colab": {
          "base_uri": "https://localhost:8080/"
        },
        "id": "qWq8dqjGUEwy",
        "outputId": "c8d2cf98-8ec9-4380-c872-97741a1048aa"
      },
      "outputs": [
        {
          "data": {
            "text/plain": [
              "array([[1., 1., 1., 1., 3., 3., 3., 3.],\n",
              "       [1., 1., 1., 1., 3., 3., 3., 3.],\n",
              "       [1., 1., 1., 1., 3., 3., 3., 3.]])"
            ]
          },
          "execution_count": 57,
          "metadata": {},
          "output_type": "execute_result"
        }
      ],
      "source": [
        "q5 = np.concatenate((q1, q3), axis=1)  # vstack과 동일\n",
        "q5"
      ]
    },
    {
      "attachments": {},
      "cell_type": "markdown",
      "metadata": {
        "id": "aZOEWaVTe18u"
      },
      "source": [
        "q1과 q3가 모두 3개의 행을 가지고 있기 때문에 가능합니다. q2는 4개의 행을 가지고 있기 때문에 q1, q3와 수평으로 쌓을 수 없습니다:"
      ]
    },
    {
      "cell_type": "code",
      "execution_count": 265,
      "metadata": {
        "colab": {
          "base_uri": "https://localhost:8080/"
        },
        "id": "oE8kyqILe18u",
        "outputId": "432178a7-c7bb-4100-db0f-43df7b9e7a56"
      },
      "outputs": [
        {
          "name": "stdout",
          "output_type": "stream",
          "text": [
            "all the input array dimensions for the concatenation axis must match exactly, but along dimension 0, the array at index 0 has size 3 and the array at index 1 has size 4\n"
          ]
        }
      ],
      "source": [
        "try:\n",
        "    q5 = np.hstack((q1, q2, q3))\n",
        "except ValueError as e:\n",
        "    print(e)\n",
        "# 축 개수 달라서 못 붙임"
      ]
    },
    {
      "attachments": {},
      "cell_type": "markdown",
      "metadata": {
        "id": "GrlZVno5e18v"
      },
      "source": [
        "## `concatenate`\n",
        "\n",
        "`concatenate` 함수는 지정한 축으로도 배열을 쌓습니다."
      ]
    },
    {
      "cell_type": "code",
      "execution_count": 266,
      "metadata": {},
      "outputs": [
        {
          "data": {
            "text/plain": [
              "((3, 4), (4, 4), (3, 4))"
            ]
          },
          "execution_count": 266,
          "metadata": {},
          "output_type": "execute_result"
        }
      ],
      "source": [
        "q1.shape, q2.shape, q3.shape"
      ]
    },
    {
      "cell_type": "code",
      "execution_count": 270,
      "metadata": {
        "colab": {
          "base_uri": "https://localhost:8080/"
        },
        "id": "Apns-G9Ue18v",
        "outputId": "16b1581b-9e09-4ac7-e8aa-cd897b202798"
      },
      "outputs": [
        {
          "data": {
            "text/plain": [
              "array([[1., 1., 1., 1.],\n",
              "       [1., 1., 1., 1.],\n",
              "       [1., 1., 1., 1.],\n",
              "       [2., 2., 2., 2.],\n",
              "       [2., 2., 2., 2.],\n",
              "       [2., 2., 2., 2.],\n",
              "       [2., 2., 2., 2.],\n",
              "       [3., 3., 3., 3.],\n",
              "       [3., 3., 3., 3.],\n",
              "       [3., 3., 3., 3.]])"
            ]
          },
          "execution_count": 270,
          "metadata": {},
          "output_type": "execute_result"
        }
      ],
      "source": [
        "q7 = np.concatenate((q1, q2, q3), axis=0)  # 축 지정 가능, vstack과 동일\n",
        "q7 # (10,4)"
      ]
    },
    {
      "cell_type": "code",
      "execution_count": 271,
      "metadata": {
        "colab": {
          "base_uri": "https://localhost:8080/"
        },
        "id": "4BfGXHtHe18v",
        "outputId": "2b73c8a3-d0d7-4d2d-9934-33bd8ee5589f"
      },
      "outputs": [
        {
          "data": {
            "text/plain": [
              "(10, 4)"
            ]
          },
          "execution_count": 271,
          "metadata": {},
          "output_type": "execute_result"
        }
      ],
      "source": [
        "q7.shape"
      ]
    },
    {
      "attachments": {},
      "cell_type": "markdown",
      "metadata": {
        "id": "2Me1pSQ6e18v"
      },
      "source": [
        "예상했겠지만 `hstack`은 `axis=1`으로 `concatenate`를 호출하는 것과 같습니다."
      ]
    },
    {
      "cell_type": "code",
      "execution_count": 272,
      "metadata": {},
      "outputs": [
        {
          "data": {
            "text/plain": [
              "array([[1., 1., 1., 1., 3., 3., 3., 3.],\n",
              "       [1., 1., 1., 1., 3., 3., 3., 3.],\n",
              "       [1., 1., 1., 1., 3., 3., 3., 3.]])"
            ]
          },
          "execution_count": 272,
          "metadata": {},
          "output_type": "execute_result"
        }
      ],
      "source": [
        "q5 = np.hstack((q1, q3))\n",
        "q5"
      ]
    },
    {
      "cell_type": "code",
      "execution_count": 273,
      "metadata": {},
      "outputs": [
        {
          "data": {
            "text/plain": [
              "array([[1., 1., 1., 1., 3., 3., 3., 3.],\n",
              "       [1., 1., 1., 1., 3., 3., 3., 3.],\n",
              "       [1., 1., 1., 1., 3., 3., 3., 3.]])"
            ]
          },
          "execution_count": 273,
          "metadata": {},
          "output_type": "execute_result"
        }
      ],
      "source": [
        "q5 = np.concatenate((q1, q3), axis=1)  # vstack과 동일\n",
        "q5"
      ]
    },
    {
      "attachments": {},
      "cell_type": "markdown",
      "metadata": {
        "id": "3DAW9LMoe18v"
      },
      "source": [
        "## `stack`\n",
        "\n",
        "`stack` 함수는 새로운 축을 따라 배열을 쌓습니다. 모든 배열은 같은 크기를 가져야 합니다."
      ]
    },
    {
      "cell_type": "code",
      "execution_count": 274,
      "metadata": {
        "id": "iybOOZkAyrL0",
        "outputId": "1a17e755-77b4-4d48-febf-5c3bc7644179"
      },
      "outputs": [
        {
          "data": {
            "text/plain": [
              "(3, 4)"
            ]
          },
          "execution_count": 274,
          "metadata": {},
          "output_type": "execute_result"
        }
      ],
      "source": [
        "q1.shape"
      ]
    },
    {
      "cell_type": "code",
      "execution_count": 275,
      "metadata": {
        "id": "R4QLpMy5yrL0",
        "outputId": "3f4479ad-037f-4e43-e28b-38e775249bcb"
      },
      "outputs": [
        {
          "data": {
            "text/plain": [
              "(3, 4)"
            ]
          },
          "execution_count": 275,
          "metadata": {},
          "output_type": "execute_result"
        }
      ],
      "source": [
        "q3.shape"
      ]
    },
    {
      "cell_type": "code",
      "execution_count": 276,
      "metadata": {
        "id": "FqRaLFR4e18v",
        "outputId": "3ffea131-aab1-4a15-a889-9a440b84db54"
      },
      "outputs": [
        {
          "data": {
            "text/plain": [
              "array([[[1., 1., 1., 1.],\n",
              "        [1., 1., 1., 1.],\n",
              "        [1., 1., 1., 1.]],\n",
              "\n",
              "       [[3., 3., 3., 3.],\n",
              "        [3., 3., 3., 3.],\n",
              "        [3., 3., 3., 3.]]])"
            ]
          },
          "execution_count": 276,
          "metadata": {},
          "output_type": "execute_result"
        }
      ],
      "source": [
        "q8 = np.stack((q1, q3)) # 형태를 유지한 상태에서 새로운 축을 만들 때\n",
        "q8"
      ]
    },
    {
      "cell_type": "code",
      "execution_count": 277,
      "metadata": {
        "id": "34-Kd1Zue18v",
        "outputId": "c3b55166-6569-4875-db18-96f05bf9fd26"
      },
      "outputs": [
        {
          "data": {
            "text/plain": [
              "(2, 3, 4)"
            ]
          },
          "execution_count": 277,
          "metadata": {},
          "output_type": "execute_result"
        }
      ],
      "source": [
        "q8.shape"
      ]
    },
    {
      "attachments": {},
      "cell_type": "markdown",
      "metadata": {
        "id": "hcQsm2oae18v"
      },
      "source": [
        "# 배열 분할 (생략)\n",
        "\n",
        "분할은 쌓기의 반대입니다. 예를 들어 `vsplit` 함수는 행렬을 수직으로 분할합니다.\n",
        "\n",
        "먼저 6x4 행렬을 만들어 보죠:"
      ]
    },
    {
      "cell_type": "code",
      "execution_count": 80,
      "metadata": {
        "id": "rXqp6ziYe18v",
        "outputId": "e01f6c9a-51f0-4a03-e822-236c2a79683b"
      },
      "outputs": [
        {
          "data": {
            "text/plain": [
              "array([[ 0,  1,  2,  3],\n",
              "       [ 4,  5,  6,  7],\n",
              "       [ 8,  9, 10, 11],\n",
              "       [12, 13, 14, 15],\n",
              "       [16, 17, 18, 19],\n",
              "       [20, 21, 22, 23]])"
            ]
          },
          "execution_count": 80,
          "metadata": {},
          "output_type": "execute_result"
        }
      ],
      "source": [
        "r = np.arange(24).reshape(6,4)\n",
        "r"
      ]
    },
    {
      "attachments": {},
      "cell_type": "markdown",
      "metadata": {
        "id": "DeGSFbhLe18w"
      },
      "source": [
        "수직으로 동일한 크기로 나누어 보겠습니다:"
      ]
    },
    {
      "cell_type": "code",
      "execution_count": 81,
      "metadata": {
        "id": "dzDdSqZye18w",
        "outputId": "32a80bb3-8baf-45ae-9f61-afd8def1f5d0"
      },
      "outputs": [
        {
          "data": {
            "text/plain": [
              "array([[0, 1, 2, 3],\n",
              "       [4, 5, 6, 7]])"
            ]
          },
          "execution_count": 81,
          "metadata": {},
          "output_type": "execute_result"
        }
      ],
      "source": [
        "r1, r2, r3 = np.vsplit(r, 3)\n",
        "r1"
      ]
    },
    {
      "cell_type": "code",
      "execution_count": 82,
      "metadata": {
        "id": "8w-w_Vepe18w",
        "outputId": "d1d2f8ca-d850-4fc8-a38a-aee35e74a30f"
      },
      "outputs": [
        {
          "data": {
            "text/plain": [
              "array([[ 8,  9, 10, 11],\n",
              "       [12, 13, 14, 15]])"
            ]
          },
          "execution_count": 82,
          "metadata": {},
          "output_type": "execute_result"
        }
      ],
      "source": [
        "r2"
      ]
    },
    {
      "cell_type": "code",
      "execution_count": 83,
      "metadata": {
        "id": "Q-sdKxXBe18x",
        "outputId": "571c8430-69ef-4bb6-fbf2-8450449314e8"
      },
      "outputs": [
        {
          "data": {
            "text/plain": [
              "array([[16, 17, 18, 19],\n",
              "       [20, 21, 22, 23]])"
            ]
          },
          "execution_count": 83,
          "metadata": {},
          "output_type": "execute_result"
        }
      ],
      "source": [
        "r3"
      ]
    },
    {
      "attachments": {},
      "cell_type": "markdown",
      "metadata": {
        "id": "k72ED90ze18x"
      },
      "source": [
        "`split` 함수는 주어진 축을 따라 배열을 분할합니다. `vsplit`는 `axis=0`으로 `split`를 호출하는 것과 같습니다. `hsplit` 함수는 `axis=1`로 `split`를 호출하는 것과 같습니다:"
      ]
    },
    {
      "cell_type": "code",
      "execution_count": 84,
      "metadata": {
        "id": "7TuO7b-He18x",
        "outputId": "848f8013-73a5-4a9a-c892-3e23ef368fb8"
      },
      "outputs": [
        {
          "data": {
            "text/plain": [
              "array([[ 0,  1],\n",
              "       [ 4,  5],\n",
              "       [ 8,  9],\n",
              "       [12, 13],\n",
              "       [16, 17],\n",
              "       [20, 21]])"
            ]
          },
          "execution_count": 84,
          "metadata": {},
          "output_type": "execute_result"
        }
      ],
      "source": [
        "r4, r5 = np.hsplit(r, 2)\n",
        "r4"
      ]
    },
    {
      "cell_type": "code",
      "execution_count": 85,
      "metadata": {
        "id": "UuZI-P3ce18x",
        "outputId": "4f7a3641-3541-4f4a-89a8-a3682ff3048c"
      },
      "outputs": [
        {
          "data": {
            "text/plain": [
              "array([[ 2,  3],\n",
              "       [ 6,  7],\n",
              "       [10, 11],\n",
              "       [14, 15],\n",
              "       [18, 19],\n",
              "       [22, 23]])"
            ]
          },
          "execution_count": 85,
          "metadata": {},
          "output_type": "execute_result"
        }
      ],
      "source": [
        "r5"
      ]
    },
    {
      "attachments": {},
      "cell_type": "markdown",
      "metadata": {
        "id": "v4cQffUce18x"
      },
      "source": [
        "# 배열 전치 (생략)\n",
        "\n",
        "`transpose` 메서드는 주어진 순서대로 축을 뒤바꾸어 `ndarray` 데이터에 대한 새로운 뷰를 만듭니다.\n",
        "\n",
        "예를 위해 3D 배열을 만들어 보죠:"
      ]
    },
    {
      "cell_type": "code",
      "execution_count": 86,
      "metadata": {
        "id": "uGnmx0nte18x",
        "outputId": "b0df506f-766b-4ff0-b13a-12d4e616db78"
      },
      "outputs": [
        {
          "data": {
            "text/plain": [
              "array([[[ 0,  1,  2],\n",
              "        [ 3,  4,  5]],\n",
              "\n",
              "       [[ 6,  7,  8],\n",
              "        [ 9, 10, 11]],\n",
              "\n",
              "       [[12, 13, 14],\n",
              "        [15, 16, 17]],\n",
              "\n",
              "       [[18, 19, 20],\n",
              "        [21, 22, 23]]])"
            ]
          },
          "execution_count": 86,
          "metadata": {},
          "output_type": "execute_result"
        }
      ],
      "source": [
        "t = np.arange(24).reshape(4,2,3)\n",
        "t"
      ]
    },
    {
      "attachments": {},
      "cell_type": "markdown",
      "metadata": {
        "id": "gaYsRN8We18x"
      },
      "source": [
        "`0, 1, 2`(깊이, 높이, 너비) 축을 `1, 2, 0` (깊이→너비, 높이→깊이, 너비→높이) 순서로 바꾼 `ndarray`를 만들어 보겠습니다:"
      ]
    },
    {
      "cell_type": "code",
      "execution_count": 87,
      "metadata": {
        "id": "h8IQrU9ge18x",
        "outputId": "2f2c404d-f84b-46ca-e9cc-8f2d6005970b"
      },
      "outputs": [
        {
          "data": {
            "text/plain": [
              "array([[[ 0,  6, 12, 18],\n",
              "        [ 1,  7, 13, 19],\n",
              "        [ 2,  8, 14, 20]],\n",
              "\n",
              "       [[ 3,  9, 15, 21],\n",
              "        [ 4, 10, 16, 22],\n",
              "        [ 5, 11, 17, 23]]])"
            ]
          },
          "execution_count": 87,
          "metadata": {},
          "output_type": "execute_result"
        }
      ],
      "source": [
        "t1 = t.transpose((1,2,0))\n",
        "t1"
      ]
    },
    {
      "cell_type": "code",
      "execution_count": 88,
      "metadata": {
        "id": "Uhk1ezmme18x",
        "outputId": "81ad764b-67b4-46ea-8dd7-85515824f672"
      },
      "outputs": [
        {
          "data": {
            "text/plain": [
              "(2, 3, 4)"
            ]
          },
          "execution_count": 88,
          "metadata": {},
          "output_type": "execute_result"
        }
      ],
      "source": [
        "t1.shape"
      ]
    },
    {
      "attachments": {},
      "cell_type": "markdown",
      "metadata": {
        "id": "qmTBt5Xve18y"
      },
      "source": [
        "`transpose` 기본값은 차원의 순서를 역전시킵니다:"
      ]
    },
    {
      "cell_type": "code",
      "execution_count": 89,
      "metadata": {
        "id": "xfqz8Pwre18y",
        "outputId": "2b53e787-346a-45fc-e517-a49a2abc518b"
      },
      "outputs": [
        {
          "data": {
            "text/plain": [
              "array([[[ 0,  6, 12, 18],\n",
              "        [ 3,  9, 15, 21]],\n",
              "\n",
              "       [[ 1,  7, 13, 19],\n",
              "        [ 4, 10, 16, 22]],\n",
              "\n",
              "       [[ 2,  8, 14, 20],\n",
              "        [ 5, 11, 17, 23]]])"
            ]
          },
          "execution_count": 89,
          "metadata": {},
          "output_type": "execute_result"
        }
      ],
      "source": [
        "t2 = t.transpose()  # t.transpose((2, 1, 0))와 동일\n",
        "t2"
      ]
    },
    {
      "cell_type": "code",
      "execution_count": 90,
      "metadata": {
        "id": "VJN_4ldye18y",
        "outputId": "8cced2a2-98eb-44ad-8545-3d867650de89"
      },
      "outputs": [
        {
          "data": {
            "text/plain": [
              "(3, 2, 4)"
            ]
          },
          "execution_count": 90,
          "metadata": {},
          "output_type": "execute_result"
        }
      ],
      "source": [
        "t2.shape"
      ]
    },
    {
      "cell_type": "code",
      "execution_count": 91,
      "metadata": {
        "id": "T-Uf5z3nyrL2",
        "outputId": "8613ae0e-3718-4beb-fec2-d62b0676c3d3"
      },
      "outputs": [
        {
          "data": {
            "text/plain": [
              "(4, 2, 3)"
            ]
          },
          "execution_count": 91,
          "metadata": {},
          "output_type": "execute_result"
        }
      ],
      "source": [
        "t.shape"
      ]
    },
    {
      "attachments": {},
      "cell_type": "markdown",
      "metadata": {
        "id": "C0tO-R44e18y"
      },
      "source": [
        "넘파이는 두 축을 바꾸는 `swapaxes` 함수를 제공합니다. 예를 들어 깊이와 높이를 뒤바꾸어 `t`의 새로운 뷰를 만들어 보죠:"
      ]
    },
    {
      "cell_type": "code",
      "execution_count": 93,
      "metadata": {
        "id": "4KXFTH1Ue18y",
        "outputId": "e7052bb4-1691-4bdd-a871-2757a677f6e7"
      },
      "outputs": [
        {
          "data": {
            "text/plain": [
              "array([[[ 0,  1,  2],\n",
              "        [ 6,  7,  8],\n",
              "        [12, 13, 14],\n",
              "        [18, 19, 20]],\n",
              "\n",
              "       [[ 3,  4,  5],\n",
              "        [ 9, 10, 11],\n",
              "        [15, 16, 17],\n",
              "        [21, 22, 23]]])"
            ]
          },
          "execution_count": 93,
          "metadata": {},
          "output_type": "execute_result"
        }
      ],
      "source": [
        "t3 = t.swapaxes(0,1)  # t.transpose((1, 0, 2))와 동일, 축 바꾸기\n",
        "t3"
      ]
    },
    {
      "cell_type": "code",
      "execution_count": 94,
      "metadata": {
        "id": "a27daqefe18y",
        "outputId": "8f8948d3-6644-4ad3-90a8-d16c11335817"
      },
      "outputs": [
        {
          "data": {
            "text/plain": [
              "array([[[ 0,  1,  2],\n",
              "        [ 3,  4,  5]],\n",
              "\n",
              "       [[ 6,  7,  8],\n",
              "        [ 9, 10, 11]],\n",
              "\n",
              "       [[12, 13, 14],\n",
              "        [15, 16, 17]],\n",
              "\n",
              "       [[18, 19, 20],\n",
              "        [21, 22, 23]]])"
            ]
          },
          "execution_count": 94,
          "metadata": {},
          "output_type": "execute_result"
        }
      ],
      "source": [
        "t"
      ]
    },
    {
      "cell_type": "code",
      "execution_count": 95,
      "metadata": {
        "id": "rLMVfjORyrL2",
        "outputId": "1c40eae0-5274-41e8-e224-6ccbafc3948e"
      },
      "outputs": [
        {
          "data": {
            "text/plain": [
              "(4, 2, 3)"
            ]
          },
          "execution_count": 95,
          "metadata": {},
          "output_type": "execute_result"
        }
      ],
      "source": [
        "t.shape"
      ]
    },
    {
      "attachments": {},
      "cell_type": "markdown",
      "metadata": {
        "id": "yFPU2UrHe18y"
      },
      "source": [
        "# 선형 대수학 (생략)\n",
        "\n",
        "넘파이 2D 배열을 사용하면 파이썬에서 행렬을 효율적으로 표현할 수 있습니다. 주요 행렬 연산을 간단히 둘러 보겠습니다. 선형 대수학, 벡터와 행렬에 관한 자세한 내용은 [Linear Algebra tutorial](math_linear_algebra.ipynb)를 참고하세요.\n",
        "\n",
        "## 행렬 전치\n",
        "\n",
        "`T` 속성은 랭크가 2보다 크거나 같을 때 `transpose()`를 호출하는 것과 같습니다:"
      ]
    },
    {
      "cell_type": "code",
      "execution_count": 96,
      "metadata": {
        "id": "Mfm70xD_e18y",
        "outputId": "a8f842ed-85ac-43c9-fdcf-769b9e7098d0"
      },
      "outputs": [
        {
          "data": {
            "text/plain": [
              "array([[0, 1, 2, 3, 4],\n",
              "       [5, 6, 7, 8, 9]])"
            ]
          },
          "execution_count": 96,
          "metadata": {},
          "output_type": "execute_result"
        }
      ],
      "source": [
        "m1 = np.arange(10).reshape(2,5)\n",
        "m1"
      ]
    },
    {
      "cell_type": "code",
      "execution_count": 97,
      "metadata": {
        "id": "n4-oaJHVe18z",
        "outputId": "f66a552e-3b73-40cc-a77c-1e5a6b297a6a"
      },
      "outputs": [
        {
          "data": {
            "text/plain": [
              "array([[0, 5],\n",
              "       [1, 6],\n",
              "       [2, 7],\n",
              "       [3, 8],\n",
              "       [4, 9]])"
            ]
          },
          "execution_count": 97,
          "metadata": {},
          "output_type": "execute_result"
        }
      ],
      "source": [
        "m1.T"
      ]
    },
    {
      "attachments": {},
      "cell_type": "markdown",
      "metadata": {
        "id": "Agm8-__ne18z"
      },
      "source": [
        "`T` 속성은 랭크가 0이거나 1인 배열에는 아무런 영향을 미치지 않습니다:"
      ]
    },
    {
      "cell_type": "code",
      "execution_count": 98,
      "metadata": {
        "id": "3bogGCzxe18z",
        "outputId": "64eec463-9bf3-4778-ee7d-5b98f802a50d",
        "scrolled": true
      },
      "outputs": [
        {
          "data": {
            "text/plain": [
              "array([0, 1, 2, 3, 4])"
            ]
          },
          "execution_count": 98,
          "metadata": {},
          "output_type": "execute_result"
        }
      ],
      "source": [
        "m2 = np.arange(5)\n",
        "m2"
      ]
    },
    {
      "cell_type": "code",
      "execution_count": 99,
      "metadata": {
        "id": "OrANJqIpe18z",
        "outputId": "f81ab50e-583c-42a7-e907-e68fd05159c4",
        "scrolled": true
      },
      "outputs": [
        {
          "data": {
            "text/plain": [
              "array([0, 1, 2, 3, 4])"
            ]
          },
          "execution_count": 99,
          "metadata": {},
          "output_type": "execute_result"
        }
      ],
      "source": [
        "m2.T"
      ]
    },
    {
      "attachments": {},
      "cell_type": "markdown",
      "metadata": {
        "id": "J1QJqhSUe18z"
      },
      "source": [
        "먼저 1D 배열을 하나의 행이 있는 행렬(2D)로 바꾼다음 전치를 수행할 수 있습니다:"
      ]
    },
    {
      "cell_type": "code",
      "execution_count": 100,
      "metadata": {
        "id": "gqhmd0kve18z",
        "outputId": "4f6cb619-2366-49b2-84e2-371c69007731"
      },
      "outputs": [
        {
          "data": {
            "text/plain": [
              "array([[0, 1, 2, 3, 4]])"
            ]
          },
          "execution_count": 100,
          "metadata": {},
          "output_type": "execute_result"
        }
      ],
      "source": [
        "m2r = m2.reshape(1,5)\n",
        "m2r"
      ]
    },
    {
      "cell_type": "code",
      "execution_count": 101,
      "metadata": {
        "id": "swfXpv62e18z",
        "outputId": "02dc93f2-e082-4223-d0a8-a5bb75011600"
      },
      "outputs": [
        {
          "data": {
            "text/plain": [
              "array([[0],\n",
              "       [1],\n",
              "       [2],\n",
              "       [3],\n",
              "       [4]])"
            ]
          },
          "execution_count": 101,
          "metadata": {},
          "output_type": "execute_result"
        }
      ],
      "source": [
        "m2r.T"
      ]
    },
    {
      "attachments": {},
      "cell_type": "markdown",
      "metadata": {
        "id": "2-22jYule18z"
      },
      "source": [
        "## 행렬 곱셈 (생략)\n",
        "\n",
        "두 개의 행렬을 만들어 `dot` 메서드로 행렬 [곱셈](https://ko.wikipedia.org/wiki/%ED%96%89%EB%A0%AC_%EA%B3%B1%EC%85%88)을 실행해 보죠."
      ]
    },
    {
      "cell_type": "code",
      "execution_count": 102,
      "metadata": {
        "id": "f04nuoY6e180",
        "outputId": "dc0e7eba-b97c-482d-cc9c-39c75340f7ac"
      },
      "outputs": [
        {
          "data": {
            "text/plain": [
              "array([[0, 1, 2, 3, 4],\n",
              "       [5, 6, 7, 8, 9]])"
            ]
          },
          "execution_count": 102,
          "metadata": {},
          "output_type": "execute_result"
        }
      ],
      "source": [
        "n1 = np.arange(10).reshape(2, 5)\n",
        "n1"
      ]
    },
    {
      "cell_type": "code",
      "execution_count": 103,
      "metadata": {
        "id": "itq-hJkze180",
        "outputId": "a7797da8-a3a2-4182-a046-4f3fdac26002"
      },
      "outputs": [
        {
          "data": {
            "text/plain": [
              "array([[ 0,  1,  2],\n",
              "       [ 3,  4,  5],\n",
              "       [ 6,  7,  8],\n",
              "       [ 9, 10, 11],\n",
              "       [12, 13, 14]])"
            ]
          },
          "execution_count": 103,
          "metadata": {},
          "output_type": "execute_result"
        }
      ],
      "source": [
        "n2 = np.arange(15).reshape(5,3)\n",
        "n2"
      ]
    },
    {
      "cell_type": "code",
      "execution_count": 104,
      "metadata": {
        "id": "zU2DxAlJe180",
        "outputId": "46d63a06-6b14-4a33-e077-f614bc3113fe"
      },
      "outputs": [
        {
          "data": {
            "text/plain": [
              "array([[ 90, 100, 110],\n",
              "       [240, 275, 310]])"
            ]
          },
          "execution_count": 104,
          "metadata": {},
          "output_type": "execute_result"
        }
      ],
      "source": [
        "n1.dot(n2)"
      ]
    },
    {
      "attachments": {},
      "cell_type": "markdown",
      "metadata": {
        "id": "ZYShi4GNe180"
      },
      "source": [
        "**주의**: 앞서 언급한 것처럼 `n1*n2`는 행렬 곱셈이 아니라 원소별 곱셈(또는 [아다마르 곱](https://ko.wikipedia.org/wiki/%EC%95%84%EB%8B%A4%EB%A7%88%EB%A5%B4_%EA%B3%B1)이라 부릅니다)입니다."
      ]
    },
    {
      "attachments": {},
      "cell_type": "markdown",
      "metadata": {
        "id": "m8YX1nuVe180"
      },
      "source": [
        "## 역행렬과 유사 역행렬 (생략)\n",
        "\n",
        "`numpy.linalg` 모듈 안에 많은 선형 대수 함수들이 있습니다. 특히 `inv` 함수는 정방 행렬의 역행렬을 계산합니다:"
      ]
    },
    {
      "cell_type": "code",
      "execution_count": 105,
      "metadata": {
        "id": "cw6aeVP2e180",
        "outputId": "17ed696f-2d67-4de0-cd9d-679bcbf86e80"
      },
      "outputs": [
        {
          "data": {
            "text/plain": [
              "array([[ 1,  2,  3],\n",
              "       [ 5,  7, 11],\n",
              "       [21, 29, 31]])"
            ]
          },
          "execution_count": 105,
          "metadata": {},
          "output_type": "execute_result"
        }
      ],
      "source": [
        "import numpy.linalg as linalg\n",
        "\n",
        "m3 = np.array([[1,2,3],[5,7,11],[21,29,31]])\n",
        "m3"
      ]
    },
    {
      "cell_type": "code",
      "execution_count": 106,
      "metadata": {
        "id": "gozSHiL6e181",
        "outputId": "3cc8de7e-cd99-4254-ca36-899660222f3e"
      },
      "outputs": [
        {
          "data": {
            "text/plain": [
              "array([[-2.31818182,  0.56818182,  0.02272727],\n",
              "       [ 1.72727273, -0.72727273,  0.09090909],\n",
              "       [-0.04545455,  0.29545455, -0.06818182]])"
            ]
          },
          "execution_count": 106,
          "metadata": {},
          "output_type": "execute_result"
        }
      ],
      "source": [
        "linalg.inv(m3)"
      ]
    },
    {
      "attachments": {},
      "cell_type": "markdown",
      "metadata": {
        "id": "DtMzlPJqe181"
      },
      "source": [
        "`pinv` 함수를 사용하여 [유사 역행렬](https://en.wikipedia.org/wiki/Moore%E2%80%93Penrose_pseudoinverse)을 계산할 수도 있습니다:"
      ]
    },
    {
      "cell_type": "code",
      "execution_count": 107,
      "metadata": {
        "id": "hGwTj0cke181",
        "outputId": "b5e88378-f3c3-4317-9909-022be1c5d0dd"
      },
      "outputs": [
        {
          "data": {
            "text/plain": [
              "array([[-2.31818182,  0.56818182,  0.02272727],\n",
              "       [ 1.72727273, -0.72727273,  0.09090909],\n",
              "       [-0.04545455,  0.29545455, -0.06818182]])"
            ]
          },
          "execution_count": 107,
          "metadata": {},
          "output_type": "execute_result"
        }
      ],
      "source": [
        "linalg.pinv(m3)"
      ]
    },
    {
      "attachments": {},
      "cell_type": "markdown",
      "metadata": {
        "id": "WxsbsLXCe181"
      },
      "source": [
        "## 단위 행렬 (생략)\n",
        "\n",
        "행렬과 그 행렬의 역행렬을 곱하면 단위 행렬이 됩니다(작은 소숫점 오차가 있습니다):"
      ]
    },
    {
      "cell_type": "code",
      "execution_count": 108,
      "metadata": {
        "id": "8q6q3OB0e181",
        "outputId": "d6488784-2b7d-462f-9d6f-c68cddb3e94c"
      },
      "outputs": [
        {
          "data": {
            "text/plain": [
              "array([[ 1.00000000e+00, -5.55111512e-17,  0.00000000e+00],\n",
              "       [-2.98372438e-16,  1.00000000e+00, -5.55111512e-17],\n",
              "       [ 5.78009862e-15,  1.27675648e-15,  1.00000000e+00]])"
            ]
          },
          "execution_count": 108,
          "metadata": {},
          "output_type": "execute_result"
        }
      ],
      "source": [
        "m3.dot(linalg.inv(m3))"
      ]
    },
    {
      "attachments": {},
      "cell_type": "markdown",
      "metadata": {
        "id": "FOaxxlTZe181"
      },
      "source": [
        "`eye` 함수는 NxN 크기의 단위 행렬을 만듭니다:"
      ]
    },
    {
      "cell_type": "code",
      "execution_count": 109,
      "metadata": {
        "id": "SktwewJ9e181",
        "outputId": "5c85c6b1-9bea-4bb3-c0cc-5eab89b496dd"
      },
      "outputs": [
        {
          "data": {
            "text/plain": [
              "array([[1., 0., 0.],\n",
              "       [0., 1., 0.],\n",
              "       [0., 0., 1.]])"
            ]
          },
          "execution_count": 109,
          "metadata": {},
          "output_type": "execute_result"
        }
      ],
      "source": [
        "np.eye(3)"
      ]
    },
    {
      "attachments": {},
      "cell_type": "markdown",
      "metadata": {
        "id": "999Fqh2ee181"
      },
      "source": [
        "## QR 분해 (생략)\n",
        "\n",
        "`qr` 함수는 행렬을 [QR 분해](https://en.wikipedia.org/wiki/QR_decomposition)합니다:"
      ]
    },
    {
      "cell_type": "code",
      "execution_count": 110,
      "metadata": {
        "id": "u9B-umaze181",
        "outputId": "bde2973e-8be9-4a15-f353-71dd0309d53e"
      },
      "outputs": [
        {
          "data": {
            "text/plain": [
              "array([[-0.04627448,  0.98786672,  0.14824986],\n",
              "       [-0.23137241,  0.13377362, -0.96362411],\n",
              "       [-0.97176411, -0.07889213,  0.22237479]])"
            ]
          },
          "execution_count": 110,
          "metadata": {},
          "output_type": "execute_result"
        }
      ],
      "source": [
        "q, r = linalg.qr(m3)\n",
        "q"
      ]
    },
    {
      "cell_type": "code",
      "execution_count": 111,
      "metadata": {
        "id": "CyuFQfOMe182",
        "outputId": "54547e10-7a7f-4720-e9af-d4e020ac0881"
      },
      "outputs": [
        {
          "data": {
            "text/plain": [
              "array([[-21.61018278, -29.89331494, -32.80860727],\n",
              "       [  0.        ,   0.62427688,   1.9894538 ],\n",
              "       [  0.        ,   0.        ,  -3.26149699]])"
            ]
          },
          "execution_count": 111,
          "metadata": {},
          "output_type": "execute_result"
        }
      ],
      "source": [
        "r"
      ]
    },
    {
      "cell_type": "code",
      "execution_count": 112,
      "metadata": {
        "id": "WR02Ldn1e182",
        "outputId": "ae1f5927-5f79-4094-f71e-03d81b46bb9b"
      },
      "outputs": [
        {
          "data": {
            "text/plain": [
              "array([[ 1.,  2.,  3.],\n",
              "       [ 5.,  7., 11.],\n",
              "       [21., 29., 31.]])"
            ]
          },
          "execution_count": 112,
          "metadata": {},
          "output_type": "execute_result"
        }
      ],
      "source": [
        "q.dot(r)  # q.r는 m3와 같습니다"
      ]
    },
    {
      "attachments": {},
      "cell_type": "markdown",
      "metadata": {
        "id": "HWQjHhtce182"
      },
      "source": [
        "## 행렬식 (생략)\n",
        "\n",
        "`det` 함수는 [행렬식](https://en.wikipedia.org/wiki/Determinant)을 계산합니다:"
      ]
    },
    {
      "cell_type": "code",
      "execution_count": 113,
      "metadata": {
        "id": "xeFYRyTJe182",
        "outputId": "4fe5038b-cfa9-4fd1-be2e-246900b9b004"
      },
      "outputs": [
        {
          "data": {
            "text/plain": [
              "43.99999999999999"
            ]
          },
          "execution_count": 113,
          "metadata": {},
          "output_type": "execute_result"
        }
      ],
      "source": [
        "linalg.det(m3)  # 행렬식 계산"
      ]
    },
    {
      "attachments": {},
      "cell_type": "markdown",
      "metadata": {
        "id": "Qow8U8rNe182"
      },
      "source": [
        "## 고윳값과 고유벡터 (생략)\n",
        "\n",
        "`eig` 함수는 정방 행렬의 [고윳값과 고유벡터](https://en.wikipedia.org/wiki/Eigenvalues_and_eigenvectors)를 계산합니다:"
      ]
    },
    {
      "cell_type": "code",
      "execution_count": 114,
      "metadata": {
        "id": "pe7tS7sVe182",
        "outputId": "4595af27-d671-48ac-c501-45cd12b86916"
      },
      "outputs": [
        {
          "data": {
            "text/plain": [
              "array([42.26600592, -0.35798416, -2.90802176])"
            ]
          },
          "execution_count": 114,
          "metadata": {},
          "output_type": "execute_result"
        }
      ],
      "source": [
        "eigenvalues, eigenvectors = linalg.eig(m3)\n",
        "eigenvalues # λ"
      ]
    },
    {
      "cell_type": "code",
      "execution_count": 115,
      "metadata": {
        "id": "kCnbXmZme182",
        "outputId": "35ad562b-8b6a-48a0-9c07-eb028852d9d4"
      },
      "outputs": [
        {
          "data": {
            "text/plain": [
              "array([[-0.08381182, -0.76283526, -0.18913107],\n",
              "       [-0.3075286 ,  0.64133975, -0.6853186 ],\n",
              "       [-0.94784057, -0.08225377,  0.70325518]])"
            ]
          },
          "execution_count": 115,
          "metadata": {},
          "output_type": "execute_result"
        }
      ],
      "source": [
        "eigenvectors # v"
      ]
    },
    {
      "cell_type": "code",
      "execution_count": 116,
      "metadata": {
        "id": "HtUftah9e182",
        "outputId": "94b626d4-c88d-4f4f-d81f-b573104f7f27"
      },
      "outputs": [
        {
          "data": {
            "text/plain": [
              "array([[6.66133815e-15, 1.11022302e-16, 4.44089210e-16],\n",
              "       [7.10542736e-15, 2.88657986e-15, 3.10862447e-15],\n",
              "       [3.55271368e-14, 6.81746326e-15, 4.88498131e-15]])"
            ]
          },
          "execution_count": 116,
          "metadata": {},
          "output_type": "execute_result"
        }
      ],
      "source": [
        "m3.dot(eigenvectors) - eigenvalues * eigenvectors  # m3.v - λ*v = 0"
      ]
    },
    {
      "attachments": {},
      "cell_type": "markdown",
      "metadata": {
        "id": "tgc2QJiye182"
      },
      "source": [
        "## 특잇값 분해 (생략)\n",
        "\n",
        "`svd` 함수는 행렬을 입력으로 받아 그 행렬의 [특잇값 분해](https://en.wikipedia.org/wiki/Singular_value_decomposition)를 반환합니다:"
      ]
    },
    {
      "cell_type": "code",
      "execution_count": 117,
      "metadata": {
        "id": "WlOalB-3e182",
        "outputId": "7b8a941a-7ac5-4357-eabc-7318517b9ee8"
      },
      "outputs": [
        {
          "data": {
            "text/plain": [
              "array([[1, 0, 0, 0, 2],\n",
              "       [0, 0, 3, 0, 0],\n",
              "       [0, 0, 0, 0, 0],\n",
              "       [0, 2, 0, 0, 0]])"
            ]
          },
          "execution_count": 117,
          "metadata": {},
          "output_type": "execute_result"
        }
      ],
      "source": [
        "m4 = np.array([[1,0,0,0,2], [0,0,3,0,0], [0,0,0,0,0], [0,2,0,0,0]])\n",
        "m4"
      ]
    },
    {
      "cell_type": "code",
      "execution_count": 118,
      "metadata": {
        "id": "n6NUhkP6e183",
        "outputId": "4f30eef0-f987-44e6-8499-329997206fc9"
      },
      "outputs": [
        {
          "data": {
            "text/plain": [
              "array([[ 0.,  1.,  0.,  0.],\n",
              "       [ 1.,  0.,  0.,  0.],\n",
              "       [ 0.,  0.,  0., -1.],\n",
              "       [ 0.,  0.,  1.,  0.]])"
            ]
          },
          "execution_count": 118,
          "metadata": {},
          "output_type": "execute_result"
        }
      ],
      "source": [
        "U, S_diag, V = linalg.svd(m4)\n",
        "U"
      ]
    },
    {
      "cell_type": "code",
      "execution_count": 119,
      "metadata": {
        "id": "PikS0qP3e183",
        "outputId": "3ea8c6c5-224e-4179-ca8d-4ec516984cf0"
      },
      "outputs": [
        {
          "data": {
            "text/plain": [
              "array([3.        , 2.23606798, 2.        , 0.        ])"
            ]
          },
          "execution_count": 119,
          "metadata": {},
          "output_type": "execute_result"
        }
      ],
      "source": [
        "S_diag"
      ]
    },
    {
      "attachments": {},
      "cell_type": "markdown",
      "metadata": {
        "id": "3V4rnjaJe183"
      },
      "source": [
        "`svd` 함수는 Σ의 대각 원소 값만 반환합니다. 전체 Σ 행렬은 다음과 같이 만듭니다:"
      ]
    },
    {
      "cell_type": "code",
      "execution_count": 120,
      "metadata": {
        "id": "K5FGxeWSe183",
        "outputId": "2ca18a39-67ab-45b4-aca6-88bdc42e9860"
      },
      "outputs": [
        {
          "data": {
            "text/plain": [
              "array([[3.        , 0.        , 0.        , 0.        , 0.        ],\n",
              "       [0.        , 2.23606798, 0.        , 0.        , 0.        ],\n",
              "       [0.        , 0.        , 2.        , 0.        , 0.        ],\n",
              "       [0.        , 0.        , 0.        , 0.        , 0.        ]])"
            ]
          },
          "execution_count": 120,
          "metadata": {},
          "output_type": "execute_result"
        }
      ],
      "source": [
        "S = np.zeros((4, 5))\n",
        "S[np.diag_indices(4)] = S_diag\n",
        "S  # Σ"
      ]
    },
    {
      "cell_type": "code",
      "execution_count": 121,
      "metadata": {
        "id": "j6tHlysse183",
        "outputId": "724119cd-20ba-48c9-9495-a4647212b688"
      },
      "outputs": [
        {
          "data": {
            "text/plain": [
              "array([[-0.        ,  0.        ,  1.        ,  0.        ,  0.        ],\n",
              "       [ 0.4472136 ,  0.        ,  0.        ,  0.        ,  0.89442719],\n",
              "       [-0.        ,  1.        ,  0.        ,  0.        ,  0.        ],\n",
              "       [ 0.        ,  0.        ,  0.        ,  1.        ,  0.        ],\n",
              "       [-0.89442719,  0.        ,  0.        ,  0.        ,  0.4472136 ]])"
            ]
          },
          "execution_count": 121,
          "metadata": {},
          "output_type": "execute_result"
        }
      ],
      "source": [
        "V"
      ]
    },
    {
      "cell_type": "code",
      "execution_count": 122,
      "metadata": {
        "id": "eK_qUUaHe183",
        "outputId": "0ea1751e-05c5-410c-dd8f-702b53e8da15"
      },
      "outputs": [
        {
          "data": {
            "text/plain": [
              "array([[1., 0., 0., 0., 2.],\n",
              "       [0., 0., 3., 0., 0.],\n",
              "       [0., 0., 0., 0., 0.],\n",
              "       [0., 2., 0., 0., 0.]])"
            ]
          },
          "execution_count": 122,
          "metadata": {},
          "output_type": "execute_result"
        }
      ],
      "source": [
        "U.dot(S).dot(V) # U.Σ.V == m4"
      ]
    },
    {
      "attachments": {},
      "cell_type": "markdown",
      "metadata": {
        "id": "DaYdGDcYe184"
      },
      "source": [
        "## 대각원소와 대각합 (생략)"
      ]
    },
    {
      "cell_type": "code",
      "execution_count": 123,
      "metadata": {
        "id": "LTKq5Gnqe184",
        "outputId": "44b5e88c-d3c6-4af2-9a63-289057d9af70"
      },
      "outputs": [
        {
          "data": {
            "text/plain": [
              "array([ 1,  7, 31])"
            ]
          },
          "execution_count": 123,
          "metadata": {},
          "output_type": "execute_result"
        }
      ],
      "source": [
        "np.diag(m3)  # m3의 대각 원소입니다(왼쪽 위에서 오른쪽 아래)"
      ]
    },
    {
      "cell_type": "code",
      "execution_count": 124,
      "metadata": {
        "id": "tieRNOfne184",
        "outputId": "5fec009c-503c-4ddc-8d08-a75dc8392323"
      },
      "outputs": [
        {
          "data": {
            "text/plain": [
              "39"
            ]
          },
          "execution_count": 124,
          "metadata": {},
          "output_type": "execute_result"
        }
      ],
      "source": [
        "np.trace(m3)  # np.diag(m3).sum()와 같습니다"
      ]
    },
    {
      "attachments": {},
      "cell_type": "markdown",
      "metadata": {
        "id": "DbDtaqiOe184"
      },
      "source": [
        "## 선형  방정식 풀기 (생략)"
      ]
    },
    {
      "attachments": {},
      "cell_type": "markdown",
      "metadata": {
        "id": "zXycDUd2e184"
      },
      "source": [
        "`solve` 함수는 다음과 같은 선형 방정식을 풉니다:\n",
        "\n",
        "* $2x + 6y = 6$\n",
        "* $5x + 3y = -9$"
      ]
    },
    {
      "cell_type": "code",
      "execution_count": 125,
      "metadata": {
        "id": "ZLT6-qxGe184",
        "outputId": "25c0b5f9-709e-4d73-eecf-5c450ccc6ed3"
      },
      "outputs": [
        {
          "data": {
            "text/plain": [
              "array([-3.,  2.])"
            ]
          },
          "execution_count": 125,
          "metadata": {},
          "output_type": "execute_result"
        }
      ],
      "source": [
        "coeffs  = np.array([[2, 6], [5, 3]])\n",
        "depvars = np.array([6, -9])\n",
        "solution = linalg.solve(coeffs, depvars)\n",
        "solution"
      ]
    },
    {
      "attachments": {},
      "cell_type": "markdown",
      "metadata": {
        "id": "VDY6tt_1e184"
      },
      "source": [
        "solution을 확인해 보죠:"
      ]
    },
    {
      "cell_type": "code",
      "execution_count": 126,
      "metadata": {
        "id": "lZ0MyYele184",
        "outputId": "8536d5b6-8147-4329-aa5b-8b938ca2c656"
      },
      "outputs": [
        {
          "data": {
            "text/plain": [
              "(array([ 6., -9.]), array([ 6, -9]))"
            ]
          },
          "execution_count": 126,
          "metadata": {},
          "output_type": "execute_result"
        }
      ],
      "source": [
        "coeffs.dot(solution), depvars  # 네 같네요"
      ]
    },
    {
      "attachments": {},
      "cell_type": "markdown",
      "metadata": {
        "id": "57LNnFCIe184"
      },
      "source": [
        "좋습니다! 다른 방식으로도 solution을 확인해 보죠:"
      ]
    },
    {
      "cell_type": "code",
      "execution_count": 127,
      "metadata": {
        "id": "Q90KVIO1e185",
        "outputId": "0ce8ee47-80bb-47f5-dafb-90c11ef483d8",
        "scrolled": true
      },
      "outputs": [
        {
          "data": {
            "text/plain": [
              "True"
            ]
          },
          "execution_count": 127,
          "metadata": {},
          "output_type": "execute_result"
        }
      ],
      "source": [
        "np.allclose(coeffs.dot(solution), depvars)"
      ]
    },
    {
      "attachments": {},
      "cell_type": "markdown",
      "metadata": {
        "id": "98NehFb9e185"
      },
      "source": [
        "# 벡터화 (생략)\n",
        "\n",
        "한 번에 하나씩 개별 배열 원소에 대해 연산을 실행하는 대신 배열 연산을 사용하면 훨씬 효율적인 코드를 만들 수 있습니다. 이를 벡터화라고 합니다. 이를 사용하여 넘파이의 최적화된 성능을 활용할 수 있습니다.\n",
        "\n",
        "예를 들어, $sin(xy/40.5)$ 식을 기반으로 768x1024 크기 배열을 생성하려고 합니다. 중첩 반복문 안에 파이썬의 math 함수를 사용하는 것은 **나쁜** 방법입니다:"
      ]
    },
    {
      "cell_type": "code",
      "execution_count": 128,
      "metadata": {
        "id": "Y87wd2Foe185"
      },
      "outputs": [],
      "source": [
        "import math\n",
        "data = np.empty((768, 1024))\n",
        "for y in range(768):\n",
        "    for x in range(1024):\n",
        "        data[y, x] = math.sin(x*y/40.5)  # 매우 비효율적입니다!"
      ]
    },
    {
      "cell_type": "code",
      "execution_count": 129,
      "metadata": {
        "id": "BXVmFAxzyrL5",
        "outputId": "f59bcbdb-6771-4d43-af57-c422af686a05"
      },
      "outputs": [
        {
          "data": {
            "text/plain": [
              "(768, 1024)"
            ]
          },
          "execution_count": 129,
          "metadata": {},
          "output_type": "execute_result"
        }
      ],
      "source": [
        "data.shape"
      ]
    },
    {
      "attachments": {},
      "cell_type": "markdown",
      "metadata": {
        "id": "Shmp3lcce185"
      },
      "source": [
        "작동은 하지만 순수한 파이썬 코드로 반복문이 진행되기 때문에 아주 비효율적입니다. 이 알고리즘을 벡터화해 보죠. 먼저 넘파이 `meshgrid` 함수로 좌표 벡터를 사용해 행렬을 만듭니다."
      ]
    },
    {
      "cell_type": "code",
      "execution_count": 130,
      "metadata": {
        "id": "4sx7m6q8e185",
        "outputId": "4f29411c-0f4f-414b-8a20-6c8aabebf188"
      },
      "outputs": [
        {
          "data": {
            "text/plain": [
              "array([[   0,    1,    2, ..., 1021, 1022, 1023],\n",
              "       [   0,    1,    2, ..., 1021, 1022, 1023],\n",
              "       [   0,    1,    2, ..., 1021, 1022, 1023],\n",
              "       ...,\n",
              "       [   0,    1,    2, ..., 1021, 1022, 1023],\n",
              "       [   0,    1,    2, ..., 1021, 1022, 1023],\n",
              "       [   0,    1,    2, ..., 1021, 1022, 1023]])"
            ]
          },
          "execution_count": 130,
          "metadata": {},
          "output_type": "execute_result"
        }
      ],
      "source": [
        "x_coords = np.arange(0, 1024)  # [0, 1, 2, ..., 1023]\n",
        "y_coords = np.arange(0, 768)   # [0, 1, 2, ..., 767]\n",
        "X, Y = np.meshgrid(x_coords, y_coords)\n",
        "X"
      ]
    },
    {
      "cell_type": "code",
      "execution_count": 131,
      "metadata": {
        "id": "DT263XJ7e185",
        "outputId": "14470c46-b941-4aba-f823-18f67cd43d04"
      },
      "outputs": [
        {
          "data": {
            "text/plain": [
              "array([[  0,   0,   0, ...,   0,   0,   0],\n",
              "       [  1,   1,   1, ...,   1,   1,   1],\n",
              "       [  2,   2,   2, ...,   2,   2,   2],\n",
              "       ...,\n",
              "       [765, 765, 765, ..., 765, 765, 765],\n",
              "       [766, 766, 766, ..., 766, 766, 766],\n",
              "       [767, 767, 767, ..., 767, 767, 767]])"
            ]
          },
          "execution_count": 131,
          "metadata": {},
          "output_type": "execute_result"
        }
      ],
      "source": [
        "Y"
      ]
    },
    {
      "cell_type": "code",
      "execution_count": 132,
      "metadata": {
        "id": "XZMarqHqyrL6",
        "outputId": "ba755ad0-ac8d-44af-9b80-6bab1441fdfa"
      },
      "outputs": [
        {
          "data": {
            "text/plain": [
              "(768, 1024)"
            ]
          },
          "execution_count": 132,
          "metadata": {},
          "output_type": "execute_result"
        }
      ],
      "source": [
        "X.shape"
      ]
    },
    {
      "attachments": {},
      "cell_type": "markdown",
      "metadata": {
        "id": "66oJw5gCe185"
      },
      "source": [
        "여기서 볼 수 있듯이 `X`와 `Y` 모두 768x1024 배열입니다. `X`에 있는 모든 값은 수평 좌표에 해당합니다. `Y`에 있는 모든 값은 수직 좌표에 해당합니다.\n",
        "\n",
        "이제 간단히 배열 연산을 사용해 계산할 수 있습니다:"
      ]
    },
    {
      "cell_type": "code",
      "execution_count": 133,
      "metadata": {
        "id": "3Ul0Rm1we185"
      },
      "outputs": [],
      "source": [
        "data = np.sin(X*Y/40.5)"
      ]
    },
    {
      "cell_type": "code",
      "execution_count": 134,
      "metadata": {
        "id": "sN7mEdCUyrL6",
        "outputId": "28bd41cc-35be-4433-9a7b-8ae7ae20eb49"
      },
      "outputs": [
        {
          "data": {
            "text/plain": [
              "(768, 1024)"
            ]
          },
          "execution_count": 134,
          "metadata": {},
          "output_type": "execute_result"
        }
      ],
      "source": [
        "data.shape"
      ]
    },
    {
      "attachments": {},
      "cell_type": "markdown",
      "metadata": {
        "id": "hktPLWYXe185"
      },
      "source": [
        "맷플롯립의 `imshow` 함수를 사용해 이 데이터를 그려보죠([matplotlib tutorial](tools_matplotlib.ipynb)을 참조하세요)."
      ]
    },
    {
      "cell_type": "code",
      "execution_count": 135,
      "metadata": {
        "id": "V_6f0Ok3e185",
        "outputId": "49ebca9f-e97f-4cc0-82c1-5ea0f5419257"
      },
      "outputs": [
        {
          "data": {
            "image/png": "[encoded data removed]",
            "text/plain": [
              "<Figure size 700x600 with 1 Axes>"
            ]
          },
          "metadata": {},
          "output_type": "display_data"
        }
      ],
      "source": [
        "import matplotlib.pyplot as plt\n",
        "import matplotlib.cm as cm\n",
        "fig = plt.figure(1, figsize=(7, 6))\n",
        "plt.imshow(data, cmap=cm.hot)\n",
        "plt.show()"
      ]
    },
    {
      "attachments": {},
      "cell_type": "markdown",
      "metadata": {
        "id": "eqo8cB5Be186"
      },
      "source": [
        "# 저장과 로딩\n",
        "\n",
        "넘파이는 `ndarray`를 바이너리 또는 텍스트 포맷으로 손쉽게 저장하고 로드할 수 있습니다.\n",
        "\n",
        "## 바이너리 `.npy` 포맷\n",
        "\n",
        "랜덤 배열을 만들고 저장해 보죠."
      ]
    },
    {
      "cell_type": "code",
      "execution_count": 281,
      "metadata": {
        "colab": {
          "base_uri": "https://localhost:8080/"
        },
        "id": "Is97P60le186",
        "outputId": "b7fb02cc-9b2a-4ed4-c9d5-093eb3f8d500",
        "scrolled": true
      },
      "outputs": [
        {
          "data": {
            "text/plain": [
              "array([[0.80820008, 0.74834162, 0.40826544],\n",
              "       [0.08578099, 0.69788258, 0.63442993]])"
            ]
          },
          "execution_count": 281,
          "metadata": {},
          "output_type": "execute_result"
        }
      ],
      "source": [
        "a = np.random.rand(2,3)\n",
        "a"
      ]
    },
    {
      "cell_type": "code",
      "execution_count": 282,
      "metadata": {
        "id": "opu3vhLce186"
      },
      "outputs": [],
      "source": [
        "np.save(\"my_array\", a)"
      ]
    },
    {
      "attachments": {},
      "cell_type": "markdown",
      "metadata": {
        "id": "5HutN5dhe186"
      },
      "source": [
        "끝입니다! 파일 이름의 확장자를 지정하지 않았기 때문에 넘파이는 자동으로 `.npy`를 붙입니다. 파일 내용을 확인해 보겠습니다:"
      ]
    },
    {
      "cell_type": "code",
      "execution_count": 283,
      "metadata": {
        "colab": {
          "base_uri": "https://localhost:8080/"
        },
        "id": "0C9U-FXAe186",
        "outputId": "68827585-91ff-4e19-fc60-3d06372a979c"
      },
      "outputs": [
        {
          "data": {
            "text/plain": [
              "b'\\x93NUMPY\\x01\\x00v\\x00{\\'descr\\': \\'<f8\\', \\'fortran_order\\': False, \\'shape\\': (2, 3), }                                                          \\n[\\x8b\\xe3g\\xc6\\xdc\\xe9?.iJ\\x1ej\\xf2\\xe7?l\\x92\\xcd\\\\\\x05!\\xda?\\xb8\\xf3\"+\\xbe\\xf5\\xb5?\\x8a*g\\xd8\\rU\\xe6?\\x06\\xd2\\xff\\x00@M\\xe4?'"
            ]
          },
          "execution_count": 283,
          "metadata": {},
          "output_type": "execute_result"
        }
      ],
      "source": [
        "with open(\"my_array.npy\", \"rb\") as f:\n",
        "    content = f.read()\n",
        "\n",
        "content"
      ]
    },
    {
      "attachments": {},
      "cell_type": "markdown",
      "metadata": {
        "id": "6z0USMaPe186"
      },
      "source": [
        "이 파일을 넘파이 배열로 로드하려면 `load` 함수를 사용합니다:"
      ]
    },
    {
      "cell_type": "code",
      "execution_count": 285,
      "metadata": {
        "colab": {
          "base_uri": "https://localhost:8080/"
        },
        "id": "fsrz9PSbe186",
        "outputId": "6691496d-e059-44f1-fc78-144a6e9b1985"
      },
      "outputs": [
        {
          "data": {
            "text/plain": [
              "array([[0.80820008, 0.74834162, 0.40826544],\n",
              "       [0.08578099, 0.69788258, 0.63442993]])"
            ]
          },
          "execution_count": 285,
          "metadata": {},
          "output_type": "execute_result"
        }
      ],
      "source": [
        "a_loaded = np.load(\"my_array.npy\") # 열고 싶을 때\n",
        "a_loaded"
      ]
    },
    {
      "attachments": {},
      "cell_type": "markdown",
      "metadata": {
        "id": "S5LF3FoDe186"
      },
      "source": [
        "## 텍스트 포맷\n",
        "\n",
        "배열을 텍스트 포맷으로 저장해 보죠:"
      ]
    },
    {
      "cell_type": "code",
      "execution_count": 286,
      "metadata": {
        "id": "smuuC8MCe186"
      },
      "outputs": [],
      "source": [
        "np.savetxt(\"my_array.csv\", a)"
      ]
    },
    {
      "attachments": {},
      "cell_type": "markdown",
      "metadata": {
        "id": "-nCCfjGme187"
      },
      "source": [
        "파일 내용을 확인해 보겠습니다:"
      ]
    },
    {
      "cell_type": "code",
      "execution_count": 287,
      "metadata": {
        "id": "YOIiv-0We187",
        "outputId": "ffd121d9-4887-4548-feb0-f52adc4a01ff"
      },
      "outputs": [
        {
          "name": "stdout",
          "output_type": "stream",
          "text": [
            "8.082000760153776886e-01 7.483416167845342581e-01 4.082654386786888079e-01\n",
            "8.578098824632618413e-02 6.978825785275415416e-01 6.344299335019634167e-01\n",
            "\n"
          ]
        }
      ],
      "source": [
        "with open(\"my_array.csv\", \"rt\") as f:\n",
        "    print(f.read())"
      ]
    },
    {
      "attachments": {},
      "cell_type": "markdown",
      "metadata": {
        "id": "dKKyh2C9e189"
      },
      "source": [
        "이 파일은 탭으로 구분된 CSV 파일입니다. 다른 구분자를 지정할 수도 있습니다:"
      ]
    },
    {
      "cell_type": "code",
      "execution_count": 288,
      "metadata": {
        "id": "juoMnvj6e189"
      },
      "outputs": [],
      "source": [
        "np.savetxt(\"my_array.csv\", a, delimiter=\",\")"
      ]
    },
    {
      "attachments": {},
      "cell_type": "markdown",
      "metadata": {
        "id": "ay6LGthDe189"
      },
      "source": [
        "이 파일을 로드하려면 `loadtxt` 함수를 사용합니다:"
      ]
    },
    {
      "cell_type": "code",
      "execution_count": 289,
      "metadata": {
        "id": "qvOpC5pce189",
        "outputId": "621021f4-c475-4e0b-a4b7-23fbe53b45ce"
      },
      "outputs": [
        {
          "data": {
            "text/plain": [
              "array([[0.80820008, 0.74834162, 0.40826544],\n",
              "       [0.08578099, 0.69788258, 0.63442993]])"
            ]
          },
          "execution_count": 289,
          "metadata": {},
          "output_type": "execute_result"
        }
      ],
      "source": [
        "a_loaded = np.loadtxt(\"my_array.csv\", delimiter=\",\")\n",
        "a_loaded"
      ]
    },
    {
      "attachments": {},
      "cell_type": "markdown",
      "metadata": {
        "id": "i_w7PfvEe189"
      },
      "source": [
        "## 압축된 `.npz` 포맷\n",
        "\n",
        "여러 개의 배열을 압축된 한 파일로 저장하는 것도 가능합니다:"
      ]
    },
    {
      "cell_type": "code",
      "execution_count": 292,
      "metadata": {
        "colab": {
          "base_uri": "https://localhost:8080/"
        },
        "id": "AQ-R_KRle189",
        "outputId": "e59ac0b7-2381-4317-da21-b30de020d62d"
      },
      "outputs": [
        {
          "data": {
            "text/plain": [
              "array([[[ 0,  1,  2,  3],\n",
              "        [ 4,  5,  6,  7],\n",
              "        [ 8,  9, 10, 11]],\n",
              "\n",
              "       [[12, 13, 14, 15],\n",
              "        [16, 17, 18, 19],\n",
              "        [20, 21, 22, 23]]], dtype=uint8)"
            ]
          },
          "execution_count": 292,
          "metadata": {},
          "output_type": "execute_result"
        }
      ],
      "source": [
        "b = np.arange(24, dtype=np.uint8).reshape(2, 3, 4)\n",
        "b"
      ]
    },
    {
      "cell_type": "code",
      "execution_count": 293,
      "metadata": {
        "id": "04bYxTrse189"
      },
      "outputs": [],
      "source": [
        "np.savez(\"my_arrays\", my_a=a, my_b=b) # key값: my_a,my_b"
      ]
    },
    {
      "attachments": {},
      "cell_type": "markdown",
      "metadata": {
        "id": "GpSfxRzTe18-"
      },
      "source": [
        "파일 내용을 확인해 보죠. `.npz` 파일 확장자가 자동으로 추가되었습니다."
      ]
    },
    {
      "cell_type": "code",
      "execution_count": 294,
      "metadata": {
        "colab": {
          "base_uri": "https://localhost:8080/",
          "height": 72
        },
        "id": "TeH7X0vqe18-",
        "outputId": "3553d943-5ed7-4b10-9689-07f7695aa768"
      },
      "outputs": [
        {
          "data": {
            "text/plain": [
              "\"b'PK\\\\x03\\\\x04\\\\x14\\\\x00\\\\x00\\\\x00\\\\x00\\\\x00\\\\x00\\\\x00!\\\\x00E\\\\x0f\\\\x9aZ\\\\xb0\\\\x00\\\\x00\\\\x00\\\\xb0\\\\x00\\\\x00\\\\x00\\\\x08\\\\x00\\\\x14\\\\x00my_a.npy\\\\x01\\\\x00\\\\x10\\\\x00\\\\xb0\\\\x00\\\\x00\\\\x00\\\\x00\\\\x00\\\\x00\\\\x00\\\\xb0\\\\x00\\\\x00\\\\x00\\\\[...]\""
            ]
          },
          "execution_count": 294,
          "metadata": {},
          "output_type": "execute_result"
        }
      ],
      "source": [
        "with open(\"my_arrays.npz\", \"rb\") as f:\n",
        "    content = f.read()\n",
        "\n",
        "repr(content)[:180] + \"[...]\""
      ]
    },
    {
      "attachments": {},
      "cell_type": "markdown",
      "metadata": {
        "id": "8K3mOEd4e18-"
      },
      "source": [
        "다음과 같이 이 파일을 로드할 수 있습니다:"
      ]
    },
    {
      "cell_type": "code",
      "execution_count": 295,
      "metadata": {
        "id": "skFzRE2Ye18-",
        "outputId": "6d9d4538-923d-4db8-e260-1996b6e0eb99"
      },
      "outputs": [
        {
          "data": {
            "text/plain": [
              "<numpy.lib.npyio.NpzFile at 0x20783e29610>"
            ]
          },
          "execution_count": 295,
          "metadata": {},
          "output_type": "execute_result"
        }
      ],
      "source": [
        "my_arrays = np.load(\"my_arrays.npz\")\n",
        "my_arrays"
      ]
    },
    {
      "attachments": {},
      "cell_type": "markdown",
      "metadata": {
        "id": "nxxkXXA-e18-"
      },
      "source": [
        "게으른 로딩을 수행하는 딕셔너리와 유사한 객체입니다:"
      ]
    },
    {
      "cell_type": "code",
      "execution_count": 296,
      "metadata": {
        "id": "tS3-o9Sge18-",
        "outputId": "8ef04620-9fb0-46fa-a93e-0a34fa5ea955"
      },
      "outputs": [
        {
          "data": {
            "text/plain": [
              "['my_a', 'my_b']"
            ]
          },
          "execution_count": 296,
          "metadata": {},
          "output_type": "execute_result"
        }
      ],
      "source": [
        "list(my_arrays.keys())"
      ]
    },
    {
      "cell_type": "code",
      "execution_count": 297,
      "metadata": {
        "id": "BGhMtxg6e18-",
        "outputId": "33fc035e-6c4d-43e4-e6d2-f71d948d062c"
      },
      "outputs": [
        {
          "data": {
            "text/plain": [
              "array([[0.80820008, 0.74834162, 0.40826544],\n",
              "       [0.08578099, 0.69788258, 0.63442993]])"
            ]
          },
          "execution_count": 297,
          "metadata": {},
          "output_type": "execute_result"
        }
      ],
      "source": [
        "my_arrays[\"my_a\"]"
      ]
    },
    {
      "attachments": {},
      "cell_type": "markdown",
      "metadata": {
        "id": "nm8nVLATe18-"
      },
      "source": [
        "# 그 다음은?\n",
        "\n",
        "넘파이 기본 요소를 모두 배웠지만 훨씬 더 많은 기능이 있습니다. 이를 배우는 가장 좋은 방법은 넘파이를 직접 실습해 보고 훌륭한 [넘파이 문서](http://docs.scipy.org/doc/numpy/reference/index.html)에서 필요한 함수와 기능을 찾아 보세요."
      ]
    }
  ],
  "metadata": {
    "colab": {
      "collapsed_sections": [
        "VNILctSme18c",
        "PHJTX0h2e18c",
        "LYE1YHZQe18d",
        "CLNopDire18d",
        "y8N0o_53e18e",
        "9XoR2crwe18f",
        "uMMXIC2pe18f",
        "2y0Wg_ZGe18f",
        "hY8Mk8Vye18g",
        "CefC9OGoe18g",
        "05djVE0Je18g",
        "vRH8YKCde18h",
        "RazGg4iFe18h",
        "P6WLVBN7e18k",
        "_9gt9F8se18s",
        "YbMso3gce18t",
        "j85Z1XGAe18u",
        "GrlZVno5e18v",
        "3DAW9LMoe18v",
        "hcQsm2oae18v",
        "v4cQffUce18x",
        "yFPU2UrHe18y",
        "2-22jYule18z",
        "m8YX1nuVe180",
        "WxsbsLXCe181",
        "999Fqh2ee181",
        "HWQjHhtce182",
        "Qow8U8rNe182",
        "tgc2QJiye182",
        "DaYdGDcYe184",
        "DbDtaqiOe184",
        "98NehFb9e185",
        "S5LF3FoDe186",
        "i_w7PfvEe189",
        "nm8nVLATe18-"
      ],
      "provenance": []
    },
    "kernelspec": {
      "display_name": "Python 3 (ipykernel)",
      "language": "python",
      "name": "python3"
    },
    "language_info": {
      "codemirror_mode": {
        "name": "ipython",
        "version": 3
      },
      "file_extension": ".py",
      "mimetype": "text/x-python",
      "name": "python",
      "nbconvert_exporter": "python",
      "pygments_lexer": "ipython3",
      "version": "3.9.13"
    },
    "toc": {
      "toc_cell": false,
      "toc_number_sections": true,
      "toc_section_display": "block",
      "toc_threshold": 6,
      "toc_window_display": false
    },
    "toc_position": {
      "height": "677px",
      "left": "1195.02px",
      "right": "20px",
      "top": "78px",
      "width": "238px"
    }
  },
  "nbformat": 4,
  "nbformat_minor": 0
}
