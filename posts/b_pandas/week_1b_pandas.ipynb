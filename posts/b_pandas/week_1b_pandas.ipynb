{
  "cells": [
    {
      "attachments": {},
      "cell_type": "markdown",
      "metadata": {},
      "source": [
        "---\n",
        "title: \"Pandas\"\n",
        "author: \"Gabin Lee\"\n",
        "date: \"2023-04-11\"\n",
        "categories: [new, code, analysis]\n",
        "image: \"image.png\"\n",
        "---"
      ]
    },
    {
      "attachments": {},
      "cell_type": "markdown",
      "metadata": {
        "id": "wx3jieo3mu5e"
      },
      "source": [
        "# \"Pandas 기본\"\n",
        "> \"pandas 기본 코드 실습(한글)\"\n",
        "\n",
        "- toc:true\n",
        "- branch: master\n",
        "- badges: true\n",
        "- comments: true\n",
        "- author: Jiho Yeo\n",
        "- categories: [jupyter, python]"
      ]
    },
    {
      "cell_type": "markdown",
      "metadata": {
        "id": "gEFhOrz-e3E0"
      },
      "source": [
        "**도구 - 판다스(pandas)**\n",
        "\n",
        "*`pandas` 라이브러리는 사용하기 쉬운 고성능 데이터 구조와 데이터 분석 도구를 제공합니다. 주 데이터 구조는 `DataFrame`입니다. 이를 인-메모리(in-memory) 2D 테이블로 생각할 수 있습니다(열 이름과 행 레이블이 있는 스프레드시트와 비슷합니다). 엑셀에 있는 많은 기능을 프로그램에서 사용할 수 있습니다. 여기에는 피봇 테이블이나 다른 열을 기반으로 열을 계산하고 그래프 출력하는 기능 등이 포함됩니다. 열 값으로 행을 그룹핑할 수도 있습니다. 또한 SQL과 비슷하게 테이블을 조인할 수 있습니다. 판다스는 시계열 데이터를 다루는데도 뛰어납니다.*\n",
        "\n",
        "필요 라이브러리:\n",
        "\n",
        "* 넘파이(NumPy) – 넘파이에 익숙하지 않다면 지금 [넘파이 튜토리얼](tools_numpy.ipynb)을 둘러 보세요."
      ]
    },
    {
      "cell_type": "markdown",
      "metadata": {
        "id": "LLh73FdPe3E2"
      },
      "source": [
        "<table align=\"left\">\n",
        "  <td>\n",
        "    <a target=\"_blank\" href=\"https://colab.research.google.com/github/rickiepark/handson-ml2/blob/master/tools_pandas.ipynb\"><img src=\"https://www.tensorflow.org/images/colab_logo_32px.png\" />구글 코랩에서 실행하기</a>\n",
        "  </td>\n",
        "</table>"
      ]
    },
    {
      "cell_type": "markdown",
      "metadata": {
        "id": "C4Th8NuWe3E2"
      },
      "source": [
        "# 설정"
      ]
    },
    {
      "cell_type": "markdown",
      "metadata": {
        "id": "amyIyB0-e3E2"
      },
      "source": [
        "먼저 `pandas`를 임포트합니다. 보통 `pd`로 임포트합니다:"
      ]
    },
    {
      "cell_type": "code",
      "execution_count": 2,
      "metadata": {
        "id": "e9bvoB5te3E2"
      },
      "outputs": [],
      "source": [
        "import pandas as pd"
      ]
    },
    {
      "cell_type": "code",
      "execution_count": 3,
      "metadata": {},
      "outputs": [
        {
          "data": {
            "text/plain": [
              "'1.4.4'"
            ]
          },
          "execution_count": 3,
          "metadata": {},
          "output_type": "execute_result"
        }
      ],
      "source": [
        "pd.__version__"
      ]
    },
    {
      "cell_type": "markdown",
      "metadata": {
        "id": "Co0F5dRde3E3"
      },
      "source": [
        "# `Series` 객체\n",
        "\n",
        "`pandas` 라이브러리는 다음과 같은 유용한 데이터 구조를 포함하고 있습니다:\n",
        "\n",
        "* `Series` 객체를 곧 이어서 설명하겠습니다. `Series` 객체는 1D 배열입니다. (열 이름과 행 레이블을 가진) 스프레드시트의 열과 비슷합니다.\n",
        "* `DataFrame` 객체는 2D 테이블입니다. (열 이름과 행 레이블을 가진) 스프레드시트와 비슷합니다."
      ]
    },
    {
      "cell_type": "markdown",
      "metadata": {
        "id": "1UCqkMkde3E3"
      },
      "source": [
        "## `Series` 만들기\n",
        "\n",
        "첫 번째 `Series` 객체를 만들어 보죠!"
      ]
    },
    {
      "cell_type": "code",
      "execution_count": 5,
      "metadata": {
        "colab": {
          "base_uri": "https://localhost:8080/"
        },
        "id": "MdsP9GSYmu5k",
        "outputId": "31642088-76eb-474f-bb4c-228688cec760"
      },
      "outputs": [
        {
          "data": {
            "text/plain": [
              "array([ 2, -1,  3,  5])"
            ]
          },
          "execution_count": 5,
          "metadata": {},
          "output_type": "execute_result"
        }
      ],
      "source": [
        "import numpy as np\n",
        "np.array([2,-1,3,5])"
      ]
    },
    {
      "cell_type": "code",
      "execution_count": 6,
      "metadata": {
        "colab": {
          "base_uri": "https://localhost:8080/"
        },
        "id": "MCGRvKcye3E3",
        "outputId": "d64baa6b-1fea-4be7-99d4-ba93586cabfe"
      },
      "outputs": [
        {
          "data": {
            "text/plain": [
              "0    2\n",
              "1   -1\n",
              "2    3\n",
              "3    5\n",
              "dtype: int64"
            ]
          },
          "execution_count": 6,
          "metadata": {},
          "output_type": "execute_result"
        }
      ],
      "source": [
        "s = pd.Series([2,-1,3,5]) # 위랑 출력되는 형태 다름, 속성은 비슷\n",
        "s # 0,1,2,3 = 인덱스"
      ]
    },
    {
      "cell_type": "markdown",
      "metadata": {
        "id": "PX8QjoCVe3E3"
      },
      "source": [
        "## 1D `ndarray`와 비슷합니다\n",
        "\n",
        "`Series` 객체는 넘파이 `ndarray`와 비슷하게 동작합니다. 넘파이 함수에 매개변수로 종종 전달할 수 있습니다:"
      ]
    },
    {
      "cell_type": "code",
      "execution_count": 8,
      "metadata": {},
      "outputs": [
        {
          "data": {
            "text/plain": [
              "0      7.389056\n",
              "1      0.367879\n",
              "2     20.085537\n",
              "3    148.413159\n",
              "dtype: float64"
            ]
          },
          "execution_count": 8,
          "metadata": {},
          "output_type": "execute_result"
        }
      ],
      "source": [
        "import numpy as np\n",
        "np.exp(s)"
      ]
    },
    {
      "cell_type": "markdown",
      "metadata": {
        "id": "nNyUmvn2e3E3"
      },
      "source": [
        "`Series` 객체에 대한 산술 연산도 가능합니다. `ndarray`와 비슷하게 *원소별*로 적용됩니다:"
      ]
    },
    {
      "cell_type": "code",
      "execution_count": 9,
      "metadata": {
        "colab": {
          "base_uri": "https://localhost:8080/"
        },
        "id": "UIZNqihre3E4",
        "outputId": "e2cc9075-0c3b-47cd-ae6a-4aa6eb6f4913"
      },
      "outputs": [
        {
          "data": {
            "text/plain": [
              "0    1002\n",
              "1    1999\n",
              "2    3003\n",
              "3    4005\n",
              "dtype: int64"
            ]
          },
          "execution_count": 9,
          "metadata": {},
          "output_type": "execute_result"
        }
      ],
      "source": [
        "s + [1000,2000,3000,4000]"
      ]
    },
    {
      "cell_type": "markdown",
      "metadata": {
        "id": "_doXpvBte3E4"
      },
      "source": [
        "넘파이와 비슷하게 `Series`에 하나의 숫자를 더하면 `Series`에 있는 모든 원소에 더해집니다. 이를 *브로드캐스팅*(broadcasting)이라고 합니다:"
      ]
    },
    {
      "cell_type": "code",
      "execution_count": 10,
      "metadata": {
        "colab": {
          "base_uri": "https://localhost:8080/"
        },
        "id": "9WhUF1Qvmu5m",
        "outputId": "a4cf460d-ffa2-4183-9ea7-a0bee79ec8ff"
      },
      "outputs": [
        {
          "data": {
            "text/plain": [
              "0    2\n",
              "1   -1\n",
              "2    3\n",
              "3    5\n",
              "dtype: int64"
            ]
          },
          "execution_count": 10,
          "metadata": {},
          "output_type": "execute_result"
        }
      ],
      "source": [
        "s"
      ]
    },
    {
      "cell_type": "code",
      "execution_count": 11,
      "metadata": {
        "colab": {
          "base_uri": "https://localhost:8080/"
        },
        "id": "s2t-s2gSe3E4",
        "outputId": "f32d858f-4924-42f5-e72d-aab199707e71"
      },
      "outputs": [
        {
          "data": {
            "text/plain": [
              "0    1002\n",
              "1     999\n",
              "2    1003\n",
              "3    1005\n",
              "dtype: int64"
            ]
          },
          "execution_count": 11,
          "metadata": {},
          "output_type": "execute_result"
        }
      ],
      "source": [
        "s + 1000"
      ]
    },
    {
      "cell_type": "markdown",
      "metadata": {
        "id": "92g7dElAe3E4"
      },
      "source": [
        "`*`나 `/` 같은 모든 이항 연산과 심지어 조건 연산에서도 마찬가지입니다:"
      ]
    },
    {
      "cell_type": "code",
      "execution_count": 12,
      "metadata": {
        "colab": {
          "base_uri": "https://localhost:8080/"
        },
        "id": "llop4hjVe3E4",
        "outputId": "3dc77102-32ef-43c8-92ea-904ce5fb4556"
      },
      "outputs": [
        {
          "data": {
            "text/plain": [
              "0    False\n",
              "1     True\n",
              "2    False\n",
              "3    False\n",
              "dtype: bool"
            ]
          },
          "execution_count": 12,
          "metadata": {},
          "output_type": "execute_result"
        }
      ],
      "source": [
        "s < 0"
      ]
    },
    {
      "cell_type": "markdown",
      "metadata": {
        "id": "HczXGMNTe3E4"
      },
      "source": [
        "## 인덱스 레이블\n",
        "\n",
        "`Series` 객체에 있는 각 원소는 *인덱스 레이블*(index label)이라 불리는 고유한 식별자를 가지고 있습니다. 기본적으로 `Series`에 있는 원소의 순서입니다(`0`에서 시작합니다). 하지만 수동으로 인덱스 레이블을 지정할 수도 있습니다:"
      ]
    },
    {
      "cell_type": "code",
      "execution_count": 15,
      "metadata": {
        "colab": {
          "base_uri": "https://localhost:8080/"
        },
        "id": "1JhI39Nfe3E4",
        "outputId": "34b09cd1-eb06-44be-af1b-5376927ac1c3"
      },
      "outputs": [
        {
          "data": {
            "text/plain": [
              "alice       68\n",
              "bob         83\n",
              "charles    112\n",
              "darwin      68\n",
              "dtype: int64"
            ]
          },
          "execution_count": 15,
          "metadata": {},
          "output_type": "execute_result"
        }
      ],
      "source": [
        "s2 = pd.Series([68, 83, 112, 68], index=[\"alice\", \"bob\", \"charles\", \"darwin\"]) # 인덱스를 임의로 지정해서\n",
        "s2"
      ]
    },
    {
      "cell_type": "markdown",
      "metadata": {
        "id": "x0a8OJRoe3E4"
      },
      "source": [
        "그다음 `dict`처럼 `Series`를 사용할 수 있습니다:"
      ]
    },
    {
      "cell_type": "code",
      "execution_count": 16,
      "metadata": {
        "colab": {
          "base_uri": "https://localhost:8080/"
        },
        "id": "Rjxzn8-oe3E4",
        "outputId": "8d168c95-18ee-4735-af1c-e99bf6497732"
      },
      "outputs": [
        {
          "data": {
            "text/plain": [
              "83"
            ]
          },
          "execution_count": 16,
          "metadata": {},
          "output_type": "execute_result"
        }
      ],
      "source": [
        "s2[\"bob\"] # 인덱스 사용해서 값 호출, 인덱스 레이블 통해서"
      ]
    },
    {
      "cell_type": "markdown",
      "metadata": {
        "id": "nINYS0Wte3E5"
      },
      "source": [
        "일반 배열처럼 정수 인덱스를 사용하여 계속 원소에 접근할 수 있습니다:"
      ]
    },
    {
      "cell_type": "code",
      "execution_count": 17,
      "metadata": {
        "colab": {
          "base_uri": "https://localhost:8080/"
        },
        "id": "2dKH-kADe3E5",
        "outputId": "828bf595-b600-41b3-926d-90ccc46f328c"
      },
      "outputs": [
        {
          "data": {
            "text/plain": [
              "83"
            ]
          },
          "execution_count": 17,
          "metadata": {},
          "output_type": "execute_result"
        }
      ],
      "source": [
        "s2[1] # 정수 사용해서, 첫번째(bob)"
      ]
    },
    {
      "cell_type": "markdown",
      "metadata": {
        "id": "IQMAuedVe3E5"
      },
      "source": [
        "레이블이나 정수를 사용해 접근할 때 명확하게 하기 위해 레이블은 `loc` 속성을 사용하고 정수는 `iloc` 속성을 사용하는 것이 좋습니다:"
      ]
    },
    {
      "cell_type": "code",
      "execution_count": 20,
      "metadata": {
        "colab": {
          "base_uri": "https://localhost:8080/"
        },
        "id": "x4U4FIi_e3E5",
        "outputId": "c4cf32ad-e451-4245-81df-d91b431cb503"
      },
      "outputs": [
        {
          "data": {
            "text/plain": [
              "83"
            ]
          },
          "execution_count": 20,
          "metadata": {},
          "output_type": "execute_result"
        }
      ],
      "source": [
        "s2.loc[\"bob\"] # s2[\"bob\"], loc -> 인덱스 레이블 넣어서"
      ]
    },
    {
      "cell_type": "code",
      "execution_count": 21,
      "metadata": {
        "colab": {
          "base_uri": "https://localhost:8080/"
        },
        "id": "Ok5mQblJe3E5",
        "outputId": "6e143b32-68ed-4689-b3ff-3eb17841e8aa"
      },
      "outputs": [
        {
          "data": {
            "text/plain": [
              "83"
            ]
          },
          "execution_count": 21,
          "metadata": {},
          "output_type": "execute_result"
        }
      ],
      "source": [
        "s2.iloc[1] # iloc -> 숫자 넣어서"
      ]
    },
    {
      "cell_type": "markdown",
      "metadata": {
        "id": "xPZjTwGje3E5"
      },
      "source": [
        "`Series`는 인덱스 레이블을 슬라이싱할 수도 있습니다:"
      ]
    },
    {
      "cell_type": "code",
      "execution_count": 22,
      "metadata": {
        "colab": {
          "base_uri": "https://localhost:8080/"
        },
        "id": "sYYmCiuae3E5",
        "outputId": "e5bb0e38-a4d0-43f1-9794-b64bda506555"
      },
      "outputs": [
        {
          "data": {
            "text/plain": [
              "bob         83\n",
              "charles    112\n",
              "dtype: int64"
            ]
          },
          "execution_count": 22,
          "metadata": {},
          "output_type": "execute_result"
        }
      ],
      "source": [
        "s2.iloc[1:3]"
      ]
    },
    {
      "cell_type": "markdown",
      "metadata": {
        "id": "EGwgfH3Fe3E5"
      },
      "source": [
        "기본 정수 레이블을 사용할 때 예상 외의 결과를 만들 수 있기 때문에 주의해야 합니다:"
      ]
    },
    {
      "cell_type": "code",
      "execution_count": 24,
      "metadata": {
        "colab": {
          "base_uri": "https://localhost:8080/"
        },
        "id": "Vu0lbZyce3E5",
        "outputId": "e5b9e3fd-0d63-41b1-97f2-5ca15ef6aa4b"
      },
      "outputs": [
        {
          "data": {
            "text/plain": [
              "0    1000\n",
              "1    1001\n",
              "2    1002\n",
              "3    1003\n",
              "dtype: int64"
            ]
          },
          "execution_count": 24,
          "metadata": {},
          "output_type": "execute_result"
        }
      ],
      "source": [
        "surprise = pd.Series([1000, 1001, 1002, 1003])\n",
        "surprise"
      ]
    },
    {
      "cell_type": "code",
      "execution_count": 25,
      "metadata": {
        "colab": {
          "base_uri": "https://localhost:8080/"
        },
        "id": "lGHiavyWe3E5",
        "outputId": "4b7581fa-785e-4220-9e32-3152a4bb1805"
      },
      "outputs": [
        {
          "data": {
            "text/plain": [
              "2    1002\n",
              "3    1003\n",
              "dtype: int64"
            ]
          },
          "execution_count": 25,
          "metadata": {},
          "output_type": "execute_result"
        }
      ],
      "source": [
        "surprise_slice = surprise[2:]\n",
        "surprise_slice"
      ]
    },
    {
      "cell_type": "markdown",
      "metadata": {
        "id": "R8RjAbqEe3E6"
      },
      "source": [
        "보세요. 첫 번째 원소의 인덱스 레이블이 `2`입니다. 따라서 슬라이싱 결과에서 인덱스 레이블 `0`인 원소는 없습니다:"
      ]
    },
    {
      "cell_type": "code",
      "execution_count": 28,
      "metadata": {
        "execution": {
          "iopub.execute_input": "2020-10-16T07:31:24.756602Z",
          "iopub.status.busy": "2020-10-16T07:31:24.755419Z",
          "iopub.status.idle": "2020-10-16T07:31:24.759801Z",
          "shell.execute_reply": "2020-10-16T07:31:24.760708Z"
        },
        "id": "2UZ_HR-Xe3E6",
        "outputId": "28586016-fad6-4327-cf42-5e3fe1dd645a"
      },
      "outputs": [
        {
          "name": "stdout",
          "output_type": "stream",
          "text": [
            "키 에러: 0\n"
          ]
        }
      ],
      "source": [
        "try:\n",
        "    surprise_slice[0]\n",
        "except KeyError as e:\n",
        "    print(\"키 에러:\", e)"
      ]
    },
    {
      "cell_type": "markdown",
      "metadata": {
        "id": "r4TmNSKKe3E6"
      },
      "source": [
        "하지만 `iloc` 속성을 사용해 정수 인덱스로 원소에 접근할 수 있습니다. `Series` 객체를 사용할 때 `loc`와 `iloc`를 사용하는 것이 좋은 이유입니다:"
      ]
    },
    {
      "cell_type": "code",
      "execution_count": 29,
      "metadata": {
        "colab": {
          "base_uri": "https://localhost:8080/"
        },
        "id": "cCeVK05Le3E6",
        "outputId": "b7709abd-3644-4e7a-d6d4-89b018193987"
      },
      "outputs": [
        {
          "data": {
            "text/plain": [
              "1002"
            ]
          },
          "execution_count": 29,
          "metadata": {},
          "output_type": "execute_result"
        }
      ],
      "source": [
        "surprise_slice.iloc[0] # 정수 인덱스"
      ]
    },
    {
      "cell_type": "code",
      "execution_count": 30,
      "metadata": {
        "colab": {
          "base_uri": "https://localhost:8080/"
        },
        "id": "TvjsDdHEGxQ2",
        "outputId": "f4a4c975-cd5c-4426-c209-997643fefd62"
      },
      "outputs": [
        {
          "data": {
            "text/plain": [
              "1002"
            ]
          },
          "execution_count": 30,
          "metadata": {},
          "output_type": "execute_result"
        }
      ],
      "source": [
        "surprise_slice.loc[2]"
      ]
    },
    {
      "cell_type": "markdown",
      "metadata": {
        "id": "4Uk4w7MDe3E6"
      },
      "source": [
        "## `dict`에서 초기화\n",
        "\n",
        "`dict`에서 `Series` 객체를 만들 수 있습니다. 키는 인덱스 레이블로 사용됩니다:"
      ]
    },
    {
      "cell_type": "code",
      "execution_count": 32,
      "metadata": {
        "id": "gqxc1JNae3E6",
        "outputId": "3bd2c179-8cbe-42fe-a7dc-f864107bfb50"
      },
      "outputs": [
        {
          "data": {
            "text/plain": [
              "alice     68\n",
              "bob       83\n",
              "colin     86\n",
              "darwin    68\n",
              "dtype: int64"
            ]
          },
          "execution_count": 32,
          "metadata": {},
          "output_type": "execute_result"
        }
      ],
      "source": [
        "weights = {\"alice\": 68, \"bob\": 83, \"colin\": 86, \"darwin\": 68}\n",
        "s3 = pd.Series(weights)\n",
        "s3"
      ]
    },
    {
      "cell_type": "markdown",
      "metadata": {
        "id": "QlMzxqB6e3E6"
      },
      "source": [
        "`Series`에 포함할 원소를 제어하고 `index`를 지정하여 명시적으로 순서를 결정할 수 있습니다:"
      ]
    },
    {
      "cell_type": "code",
      "execution_count": null,
      "metadata": {
        "id": "dIz4RwDYe3E6",
        "outputId": "4c1212d9-ec8c-482e-f31e-c2d3b1352be5"
      },
      "outputs": [
        {
          "data": {
            "text/plain": [
              "colin    86\n",
              "alice    68\n",
              "dtype: int64"
            ]
          },
          "execution_count": 38,
          "metadata": {},
          "output_type": "execute_result"
        }
      ],
      "source": [
        "s4 = pd.Series(weights, index = [\"colin\", \"alice\"]) # 순서도 임의로 바꿔서\n",
        "s4"
      ]
    },
    {
      "attachments": {},
      "cell_type": "markdown",
      "metadata": {
        "id": "P8r9gVtpe3E6"
      },
      "source": [
        "## 자동 정렬 (생략)\n",
        "\n",
        "여러 개의 `Series` 객체를 다룰 때 `pandas`는 자동으로 인덱스 레이블에 따라 원소를 정렬합니다."
      ]
    },
    {
      "cell_type": "code",
      "execution_count": null,
      "metadata": {
        "id": "LnZGDH1ymu5s",
        "outputId": "55e72e4f-5e4b-4d9f-fc14-f1aee3d8853d"
      },
      "outputs": [
        {
          "data": {
            "text/plain": [
              "alice       68\n",
              "bob         83\n",
              "charles    112\n",
              "darwin      68\n",
              "dtype: int64"
            ]
          },
          "execution_count": 39,
          "metadata": {},
          "output_type": "execute_result"
        }
      ],
      "source": [
        "s2"
      ]
    },
    {
      "cell_type": "code",
      "execution_count": null,
      "metadata": {
        "id": "qEqR1Qkkmu5t",
        "outputId": "9cbc1a67-8e59-4fd5-f4aa-7ee16e01417b"
      },
      "outputs": [
        {
          "data": {
            "text/plain": [
              "alice     68\n",
              "bob       83\n",
              "colin     86\n",
              "darwin    68\n",
              "dtype: int64"
            ]
          },
          "execution_count": 40,
          "metadata": {},
          "output_type": "execute_result"
        }
      ],
      "source": [
        "s3"
      ]
    },
    {
      "cell_type": "code",
      "execution_count": null,
      "metadata": {
        "id": "JoxcJ6Gae3E6",
        "outputId": "d0de8073-8601-443b-f050-31db7f502e96"
      },
      "outputs": [
        {
          "name": "stdout",
          "output_type": "stream",
          "text": [
            "Index(['alice', 'bob', 'charles', 'darwin'], dtype='object')\n",
            "Index(['alice', 'bob', 'colin', 'darwin'], dtype='object')\n"
          ]
        },
        {
          "data": {
            "text/plain": [
              "alice      136.0\n",
              "bob        166.0\n",
              "charles      NaN\n",
              "colin        NaN\n",
              "darwin     136.0\n",
              "dtype: float64"
            ]
          },
          "execution_count": 41,
          "metadata": {},
          "output_type": "execute_result"
        }
      ],
      "source": [
        "print(s2.keys())\n",
        "print(s3.keys())\n",
        "\n",
        "s2 + s3"
      ]
    },
    {
      "cell_type": "markdown",
      "metadata": {
        "id": "zupoSFBme3E7"
      },
      "source": [
        "만들어진 `Series`는 `s2`와 `s3`의 인덱스 레이블의 합집합을 담고 있습니다. `s2`에 `\"colin\"`이 없고 `s3`에 `\"charles\"`가 없기 때문에 이 원소는 `NaN` 값을 가집니다(Not-a-Number는 *누락*이란 의미입니다).\n",
        "\n",
        "자동 정렬은 구조가 다르고 누락된 값이 있는 여러 데이터를 다룰 때 매우 편리합니다. 하지만 올바른 인덱스 레이블을 지정하는 것을 잊는다면 원치않는 결과를 얻을 수 있습니다:"
      ]
    },
    {
      "cell_type": "code",
      "execution_count": null,
      "metadata": {
        "colab": {
          "base_uri": "https://localhost:8080/"
        },
        "id": "7w4mQcbge3E7",
        "outputId": "ceb19887-848f-44a0-b8e0-91e3eeeb137c"
      },
      "outputs": [
        {
          "name": "stdout",
          "output_type": "stream",
          "text": [
            "s2 = [ 68  83 112  68]\n",
            "s5 = [1000 1000 1000 1000]\n"
          ]
        },
        {
          "data": {
            "text/plain": [
              "alice     NaN\n",
              "bob       NaN\n",
              "charles   NaN\n",
              "darwin    NaN\n",
              "0         NaN\n",
              "1         NaN\n",
              "2         NaN\n",
              "3         NaN\n",
              "dtype: float64"
            ]
          },
          "execution_count": 14,
          "metadata": {},
          "output_type": "execute_result"
        }
      ],
      "source": [
        "s5 = pd.Series([1000,1000,1000,1000])\n",
        "print(\"s2 =\", s2.values)\n",
        "print(\"s5 =\", s5.values)\n",
        "\n",
        "s2 + s5"
      ]
    },
    {
      "cell_type": "markdown",
      "metadata": {
        "id": "Jy-1sIrFe3E7"
      },
      "source": [
        "레이블이 하나도 맞지 않기 때문에 판다스가 이 `Series`를 정렬할 수 없습니다. 따라서 모두 `NaN`이 되었습니다."
      ]
    },
    {
      "cell_type": "markdown",
      "metadata": {
        "id": "QZohhECLe3E7"
      },
      "source": [
        "## 스칼라로 초기화\n",
        "\n",
        "스칼라와 인덱스 레이블의 리스트로 `Series` 객체를 초기화할 수도 있습니다: 모든 원소가 이 스칼라 값으로 설정됩니다."
      ]
    },
    {
      "cell_type": "code",
      "execution_count": 38,
      "metadata": {
        "id": "2PJZGWjke3E7",
        "outputId": "eff13a1a-4b5c-4c8d-b74b-e66586730038"
      },
      "outputs": [
        {
          "data": {
            "text/plain": [
              "life          42\n",
              "universe      42\n",
              "everything    42\n",
              "dtype: int64"
            ]
          },
          "execution_count": 38,
          "metadata": {},
          "output_type": "execute_result"
        }
      ],
      "source": [
        "meaning = pd.Series(42, [\"life\", \"universe\", \"everything\"])\n",
        "meaning"
      ]
    },
    {
      "cell_type": "markdown",
      "metadata": {
        "id": "QP46luFZe3E7"
      },
      "source": [
        "## `Series` 이름\n",
        "\n",
        "`Series`는 `name`을 가질 수 있습니다:"
      ]
    },
    {
      "cell_type": "code",
      "execution_count": 40,
      "metadata": {
        "id": "22-6xCyue3E7",
        "outputId": "78e14994-f393-4942-b97a-35843719687c"
      },
      "outputs": [
        {
          "data": {
            "text/plain": [
              "bob      83\n",
              "alice    68\n",
              "Name: weights, dtype: int64"
            ]
          },
          "execution_count": 40,
          "metadata": {},
          "output_type": "execute_result"
        }
      ],
      "source": [
        "s6 = pd.Series([83, 68], index=[\"bob\", \"alice\"], name=\"weights\")\n",
        "s6 # 이름도 지정할 수 있음"
      ]
    },
    {
      "cell_type": "code",
      "execution_count": 41,
      "metadata": {
        "id": "PU1nzB0fmu5u",
        "outputId": "23eb9b52-8117-41af-fe53-e8633189549d"
      },
      "outputs": [
        {
          "data": {
            "text/plain": [
              "'weights'"
            ]
          },
          "execution_count": 41,
          "metadata": {},
          "output_type": "execute_result"
        }
      ],
      "source": [
        "s6.name"
      ]
    },
    {
      "cell_type": "markdown",
      "metadata": {
        "id": "ocP_6R-pe3E7"
      },
      "source": [
        "## `Series` 그래프 출력\n",
        "\n",
        "맷플롯립을 사용해 `Series` 데이터를 쉽게 그래프로 출력할 수 있습니다(맷플롯립에 대한 자세한 설명은 [맷플롯립 튜토리얼](tools_matplotlib.ipynb)을 참고하세요). 맷플롯립을 임포트하고 `plot()` 메서드를 호출하면 끝입니다:"
      ]
    },
    {
      "cell_type": "code",
      "execution_count": 45,
      "metadata": {
        "colab": {
          "base_uri": "https://localhost:8080/",
          "height": 265
        },
        "id": "9YFn4TXAe3E7",
        "outputId": "daf4e5d8-0340-4125-b3bb-d2ef568d5eee",
        "scrolled": true
      },
      "outputs": [
        {
          "data": {
            "image/png": "[encoded data removed]",
            "text/plain": [
              "<Figure size 640x480 with 1 Axes>"
            ]
          },
          "metadata": {},
          "output_type": "display_data"
        }
      ],
      "source": [
        "%matplotlib inline\n",
        "import matplotlib.pyplot as plt\n",
        "temperatures = [4.4,5.1,6.1,6.2,6.1,6.1,5.7,5.2,4.7,4.1,3.9,3.5] # 온도\n",
        "s7 = pd.Series(temperatures, name=\"Temperature\") \n",
        "s7.plot()\n",
        "plt.show()"
      ]
    },
    {
      "cell_type": "code",
      "execution_count": 46,
      "metadata": {},
      "outputs": [
        {
          "data": {
            "image/png": "[encoded data removed]",
            "text/plain": [
              "<Figure size 640x480 with 1 Axes>"
            ]
          },
          "metadata": {},
          "output_type": "display_data"
        }
      ],
      "source": [
        "import matplotlib.pyplot as plt\n",
        "temperatures = [4.4,5.1,6.1,6.2,6.1,6.1,5.7,5.2,4.7,4.1,3.9,3.5]\n",
        "s7 = pd.Series(temperatures, name=\"Temperature\")\n",
        "plt.plot(s7.index,s7.values)\n",
        "plt.xlabel('Index')\n",
        "plt.ylabel('Temperature')\n",
        "plt.title('Temperature Plot')\n",
        "plt.show()"
      ]
    },
    {
      "cell_type": "markdown",
      "metadata": {
        "id": "isDAGT_fe3E8"
      },
      "source": [
        "데이터를 그래프로 출력하는데 많은 *옵션*이 있습니다. 여기에서 모두 나열할 필요는 없습니다. 특정 종류의 그래프(히스토그램, 파이 차트 등)가 필요하면 판다스 문서의 [시각화](http://pandas.pydata.org/pandas-docs/stable/visualization.html) 섹션에서 예제 코드를 참고하세요."
      ]
    },
    {
      "cell_type": "markdown",
      "metadata": {
        "id": "p0mk0EQXe3E8"
      },
      "source": [
        "# 시간 다루기\n",
        "\n",
        "많은 데이터셋에 타임스탬프가 포함되어 있습니다. 판다스는 이런 데이터를 다루는데 뛰어납니다:\n",
        "* (2016Q3 같은) 기간과 (\"monthly\" 같은) 빈도를 표현할 수 있습니다.\n",
        "* 기간을 실제 타임스탬프로 변환하거나 그 반대로 변환할 수 있습니다.\n",
        "* 데이터를 리샘플링하고 원하는 방식으로 값을 모을 수 있습니다.\n",
        "* 시간대를 다룰 수 있습니다.\n",
        "\n",
        "## 시간 범위\n",
        "\n",
        "먼저 `pd.date_range()`를 사용해 시계열을 만들어 보죠. 이 함수는 2016년 10월 29일 5:30pm에서 시작하여 12시간마다 하나의 datetime을 담고 있는 `DatetimeIndex`를 반환합니다."
      ]
    },
    {
      "cell_type": "code",
      "execution_count": 370,
      "metadata": {
        "colab": {
          "base_uri": "https://localhost:8080/"
        },
        "id": "uafLwfvfe3E8",
        "outputId": "9889e1cf-2fec-49c3-f86d-2d2f6996401d"
      },
      "outputs": [
        {
          "data": {
            "text/plain": [
              "DatetimeIndex(['2016-10-29 17:30:00', '2016-10-29 18:30:00',\n",
              "               '2016-10-29 19:30:00', '2016-10-29 20:30:00',\n",
              "               '2016-10-29 21:30:00', '2016-10-29 22:30:00',\n",
              "               '2016-10-29 23:30:00', '2016-10-30 00:30:00',\n",
              "               '2016-10-30 01:30:00', '2016-10-30 02:30:00',\n",
              "               '2016-10-30 03:30:00', '2016-10-30 04:30:00'],\n",
              "              dtype='datetime64[ns]', freq='H')"
            ]
          },
          "execution_count": 370,
          "metadata": {},
          "output_type": "execute_result"
        }
      ],
      "source": [
        "dates = pd.date_range('2016/10/29 5:30pm', periods=12, freq='H')\n",
        "dates\n",
        "# 1시간 간격으로 12개, 2H(2시간), DatetimeIndex로 저장"
      ]
    },
    {
      "cell_type": "code",
      "execution_count": 371,
      "metadata": {
        "colab": {
          "base_uri": "https://localhost:8080/"
        },
        "id": "EtTEnYbtmu5v",
        "outputId": "d39de592-e043-4a1e-d0f8-9d51224cbd6e"
      },
      "outputs": [
        {
          "data": {
            "text/plain": [
              "DatetimeIndex(['2020-10-07', '2020-10-10', '2020-10-13', '2020-10-16',\n",
              "               '2020-10-19'],\n",
              "              dtype='datetime64[ns]', freq='3D')"
            ]
          },
          "execution_count": 371,
          "metadata": {},
          "output_type": "execute_result"
        }
      ],
      "source": [
        "pd.date_range('2020-10-07', '2020-10-20', freq='3D')\n",
        "# 3일 간격으로"
      ]
    },
    {
      "cell_type": "markdown",
      "metadata": {
        "id": "adyUtA6oe3E8"
      },
      "source": [
        "이 `DatetimeIndex`를 `Series`의 인덱스로 사용할수 있습니다:"
      ]
    },
    {
      "cell_type": "code",
      "execution_count": 372,
      "metadata": {},
      "outputs": [
        {
          "data": {
            "text/plain": [
              "[4.4, 5.1, 6.1, 6.2, 6.1, 6.1, 5.7, 5.2, 4.7, 4.1, 3.9, 3.5]"
            ]
          },
          "execution_count": 372,
          "metadata": {},
          "output_type": "execute_result"
        }
      ],
      "source": [
        "temperatures"
      ]
    },
    {
      "cell_type": "code",
      "execution_count": 72,
      "metadata": {},
      "outputs": [
        {
          "data": {
            "text/plain": [
              "2016-10-29 17:30:00    4.4\n",
              "2016-10-29 18:30:00    5.1\n",
              "2016-10-29 19:30:00    6.1\n",
              "2016-10-29 20:30:00    6.2\n",
              "2016-10-29 21:30:00    6.1\n",
              "2016-10-29 22:30:00    6.1\n",
              "2016-10-29 23:30:00    5.7\n",
              "2016-10-30 00:30:00    5.2\n",
              "2016-10-30 01:30:00    4.7\n",
              "2016-10-30 02:30:00    4.1\n",
              "2016-10-30 03:30:00    3.9\n",
              "2016-10-30 04:30:00    3.5\n",
              "Freq: H, dtype: float64"
            ]
          },
          "execution_count": 72,
          "metadata": {},
          "output_type": "execute_result"
        }
      ],
      "source": [
        "temp_series = pd.Series(temperatures, index = dates) #data = temperatures, index = dates\n",
        "temp_series\n",
        "# 텍스트X"
      ]
    },
    {
      "cell_type": "markdown",
      "metadata": {
        "id": "Z5es2tPYe3E8"
      },
      "source": [
        "이 시리즈를 그래프로 출력해 보죠:"
      ]
    },
    {
      "cell_type": "code",
      "execution_count": 13,
      "metadata": {
        "id": "4VUlivvWe3E8",
        "outputId": "cc39a8e4-f5c5-44a7-cd66-6dc7b2a36f3e"
      },
      "outputs": [
        {
          "data": {
            "image/png": "[encoded data removed]",
            "text/plain": [
              "<Figure size 640x480 with 1 Axes>"
            ]
          },
          "metadata": {},
          "output_type": "display_data"
        }
      ],
      "source": [
        "temp_series.plot(kind=\"bar\")\n",
        "\n",
        "plt.grid(True)\n",
        "plt.show()\n",
        "# x축 이름이 자동으로 시간에 따라서 온도"
      ]
    },
    {
      "cell_type": "markdown",
      "metadata": {
        "id": "3CMam89ce3E8"
      },
      "source": [
        "## 리샘플링\n",
        "\n",
        "판다스는 매우 간단하게 시계열을 리샘플링할 수 있습니다. `resample()` 메서드를 호출하고 새로운 주기를 지정하면 됩니다:"
      ]
    },
    {
      "cell_type": "code",
      "execution_count": 74,
      "metadata": {},
      "outputs": [
        {
          "data": {
            "text/plain": [
              "2016-10-29 17:30:00    4.4\n",
              "2016-10-29 18:30:00    5.1\n",
              "2016-10-29 19:30:00    6.1\n",
              "2016-10-29 20:30:00    6.2\n",
              "2016-10-29 21:30:00    6.1\n",
              "2016-10-29 22:30:00    6.1\n",
              "2016-10-29 23:30:00    5.7\n",
              "2016-10-30 00:30:00    5.2\n",
              "2016-10-30 01:30:00    4.7\n",
              "2016-10-30 02:30:00    4.1\n",
              "2016-10-30 03:30:00    3.9\n",
              "2016-10-30 04:30:00    3.5\n",
              "Freq: H, dtype: float64"
            ]
          },
          "execution_count": 74,
          "metadata": {},
          "output_type": "execute_result"
        }
      ],
      "source": [
        "temp_series # 1시간 간격"
      ]
    },
    {
      "cell_type": "code",
      "execution_count": 76,
      "metadata": {
        "id": "jbBCUzU7e3E8",
        "outputId": "ef2c0190-f7b9-4791-9005-a3b39c851e1d"
      },
      "outputs": [
        {
          "data": {
            "text/plain": [
              "<pandas.core.resample.DatetimeIndexResampler object at 0x000002D128BB2580>"
            ]
          },
          "execution_count": 76,
          "metadata": {},
          "output_type": "execute_result"
        }
      ],
      "source": [
        "temp_series_freq_2H = temp_series.resample(\"2H\") # 리샘플 매서드 사용해서\n",
        "temp_series_freq_2H # 2시간 간격 "
      ]
    },
    {
      "cell_type": "markdown",
      "metadata": {
        "id": "O07uC5oee3E9"
      },
      "source": [
        "리샘플링 연산은 사실 지연된 연산입니다. (https://ko.wikipedia.org/wiki/%EB%8A%90%EA%B8%8B%ED%95%9C_%EA%B3%84%EC%82%B0%EB%B2%95) 그래서 `Series` 객체 대신 `DatetimeIndexResampler` 객체가 반환됩니다. 실제 리샘플링 연산을 수행하려면 `mean()` 같은 메서드를 호출할 수 있습니다. 이 메서드는 연속적인 시간 쌍에 대해 평균을 계산합니다:"
      ]
    },
    {
      "cell_type": "code",
      "execution_count": 77,
      "metadata": {
        "id": "1wo7vYkPe3E9"
      },
      "outputs": [],
      "source": [
        "temp_series_freq_2H = temp_series_freq_2H.mean() # 두 값 평균해서"
      ]
    },
    {
      "cell_type": "code",
      "execution_count": 78,
      "metadata": {
        "id": "qGLCyU__mu5w",
        "outputId": "606c1f0a-d2e4-47ae-df77-1e29a3607ac4"
      },
      "outputs": [
        {
          "data": {
            "text/plain": [
              "2016-10-29 16:00:00    4.40\n",
              "2016-10-29 18:00:00    5.60\n",
              "2016-10-29 20:00:00    6.15\n",
              "2016-10-29 22:00:00    5.90\n",
              "2016-10-30 00:00:00    4.95\n",
              "2016-10-30 02:00:00    4.00\n",
              "2016-10-30 04:00:00    3.50\n",
              "Freq: 2H, dtype: float64"
            ]
          },
          "execution_count": 78,
          "metadata": {},
          "output_type": "execute_result"
        }
      ],
      "source": [
        "temp_series_freq_2H\n",
        "# 2시간 간격으로 바꿨어"
      ]
    },
    {
      "cell_type": "markdown",
      "metadata": {
        "id": "jH8Q822ue3E9"
      },
      "source": [
        "결과를 그래프로 출력해 보죠:"
      ]
    },
    {
      "cell_type": "code",
      "execution_count": 79,
      "metadata": {
        "id": "h4F10afCe3E9",
        "outputId": "baa42a28-9fcc-45b6-e251-acb4376e19c0"
      },
      "outputs": [
        {
          "data": {
            "image/png": "[encoded data removed]",
            "text/plain": [
              "<Figure size 640x480 with 1 Axes>"
            ]
          },
          "metadata": {},
          "output_type": "display_data"
        }
      ],
      "source": [
        "temp_series_freq_2H.plot(kind=\"bar\")\n",
        "plt.show()"
      ]
    },
    {
      "cell_type": "markdown",
      "metadata": {
        "id": "No4KPkR2e3E9"
      },
      "source": [
        "2시간 간격으로 어떻게 값이 수집되었는지 확인해 보세요. 예를 들어 6-8pm 간격을 보면 6:30pm에서 `5.1`이고 7:30pm에서 `6.1`입니다. 리샘플링 후에 `5.1`과 `6.1`의 평균인 `5.6` 하나를 얻었습니다. 평균말고 어떤 집계 함수(aggregation function)도 사용할 수 있습니다. 예를 들어 각 기간에서 최솟값을 찾을 수 있습니다:"
      ]
    },
    {
      "cell_type": "code",
      "execution_count": 85,
      "metadata": {
        "id": "0iK3yytce3E9",
        "outputId": "d45186f4-2a18-41e7-fa7b-454d279cdfb5"
      },
      "outputs": [
        {
          "data": {
            "text/plain": [
              "2016-10-29 16:00:00    4.40\n",
              "2016-10-29 18:00:00    5.60\n",
              "2016-10-29 20:00:00    6.15\n",
              "2016-10-29 22:00:00    5.90\n",
              "2016-10-30 00:00:00    4.95\n",
              "2016-10-30 02:00:00    4.00\n",
              "2016-10-30 04:00:00    3.50\n",
              "Freq: 2H, dtype: float64"
            ]
          },
          "execution_count": 85,
          "metadata": {},
          "output_type": "execute_result"
        }
      ],
      "source": [
        "temp_series_freq_2H = temp_series.resample(\"2H\").mean()\n",
        "temp_series_freq_2H"
      ]
    },
    {
      "cell_type": "markdown",
      "metadata": {
        "id": "EBcxfbkpe3E9"
      },
      "source": [
        "또는 동일한 효과를 내는 `apply()` 메서드를 사용할 수 있습니다:"
      ]
    },
    {
      "cell_type": "code",
      "execution_count": 86,
      "metadata": {
        "id": "POQD80_CMrQK"
      },
      "outputs": [],
      "source": [
        "import numpy as np"
      ]
    },
    {
      "cell_type": "code",
      "execution_count": 87,
      "metadata": {
        "id": "uWcOpzlYe3E9",
        "outputId": "5cb4ca42-a29d-42bf-cefe-d872c91c1bee"
      },
      "outputs": [
        {
          "data": {
            "text/plain": [
              "2016-10-29 16:00:00    4.4\n",
              "2016-10-29 18:00:00    5.1\n",
              "2016-10-29 20:00:00    6.1\n",
              "2016-10-29 22:00:00    5.7\n",
              "2016-10-30 00:00:00    4.7\n",
              "2016-10-30 02:00:00    3.9\n",
              "2016-10-30 04:00:00    3.5\n",
              "Freq: 2H, dtype: float64"
            ]
          },
          "execution_count": 87,
          "metadata": {},
          "output_type": "execute_result"
        }
      ],
      "source": [
        "temp_series_freq_2H = temp_series.resample(\"2H\").apply(np.min)\n",
        "temp_series_freq_2H"
      ]
    },
    {
      "cell_type": "markdown",
      "metadata": {
        "id": "3JvQGK_ie3E9"
      },
      "source": [
        "## 업샘플링과 보간\n",
        "\n",
        "다운샘플링의 예를 보았습니다. 하지만 업샘플링(즉, 빈도를 높입니다)도 할 수 있습니다. 하지만 데이터에 구멍을 만듭니다:"
      ]
    },
    {
      "cell_type": "code",
      "execution_count": 93,
      "metadata": {
        "id": "bAnTQvYqe3E9",
        "outputId": "dde2cd33-017e-46ed-a5c0-662db9f77d7d"
      },
      "outputs": [
        {
          "data": {
            "text/plain": [
              "2016-10-29 17:30:00    4.4\n",
              "2016-10-29 17:45:00    NaN\n",
              "2016-10-29 18:00:00    NaN\n",
              "2016-10-29 18:15:00    NaN\n",
              "2016-10-29 18:30:00    5.1\n",
              "2016-10-29 18:45:00    NaN\n",
              "2016-10-29 19:00:00    NaN\n",
              "2016-10-29 19:15:00    NaN\n",
              "2016-10-29 19:30:00    6.1\n",
              "2016-10-29 19:45:00    NaN\n",
              "Freq: 15T, dtype: float64"
            ]
          },
          "execution_count": 93,
          "metadata": {},
          "output_type": "execute_result"
        }
      ],
      "source": [
        "temp_series_freq_15min = temp_series.resample(\"15Min\").mean() # 15분 간격으로 리샘플 그래서 값이 비어\n",
        "temp_series_freq_15min.head(n=10) # `head`는 상위 n 개의 값만 출력합니다"
      ]
    },
    {
      "cell_type": "markdown",
      "metadata": {
        "id": "N-ES763ce3E-"
      },
      "source": [
        "한가지 방법은 보간으로 사이를 채우는 것입니다. 이렇게 하려면 `interpolate()` 메서드를 호출합니다. 기본값은 선형 보간이지만 3차 보간(cubic interpolation) 같은 다른 방법을 선택할 수 있습니다: https://bskyvision.com/789"
      ]
    },
    {
      "cell_type": "code",
      "execution_count": 224,
      "metadata": {
        "id": "ZQVDPEEke3E-",
        "outputId": "ac452dd2-0984-47ac-c6fb-eda05e052667",
        "scrolled": true
      },
      "outputs": [
        {
          "data": {
            "text/plain": [
              "2016-10-29 17:30:00    4.400000\n",
              "2016-10-29 17:45:00    4.452911\n",
              "2016-10-29 18:00:00    4.605113\n",
              "2016-10-29 18:15:00    4.829758\n",
              "2016-10-29 18:30:00    5.100000\n",
              "2016-10-29 18:45:00    5.388992\n",
              "2016-10-29 19:00:00    5.669887\n",
              "2016-10-29 19:15:00    5.915839\n",
              "2016-10-29 19:30:00    6.100000\n",
              "2016-10-29 19:45:00    6.203621\n",
              "Freq: 15T, dtype: float64"
            ]
          },
          "execution_count": 224,
          "metadata": {},
          "output_type": "execute_result"
        }
      ],
      "source": [
        "temp_series_freq_15min = temp_series.resample(\"15Min\").interpolate(method=\"cubic\") # 4.4와 5.1사이 값으로 채워\n",
        "temp_series_freq_15min.head(n=10)\n",
        "# 결측치를 보정"
      ]
    },
    {
      "cell_type": "code",
      "execution_count": 95,
      "metadata": {
        "id": "NoVl7akTe3E-",
        "outputId": "4321e6f3-45a0-433c-e462-3db7ba25848e"
      },
      "outputs": [
        {
          "data": {
            "image/png": "[encoded data removed]",
            "text/plain": [
              "<Figure size 640x480 with 1 Axes>"
            ]
          },
          "metadata": {},
          "output_type": "display_data"
        }
      ],
      "source": [
        "temp_series.plot(label=\"Period: 1 hour\")\n",
        "temp_series_freq_15min.plot(label=\"Period: 15 minutes\")\n",
        "plt.legend()\n",
        "plt.show()\n",
        "# 업셈플링, 주황색이 더 스무스함"
      ]
    },
    {
      "attachments": {},
      "cell_type": "markdown",
      "metadata": {
        "id": "pT_A97YWe3E-"
      },
      "source": [
        "## 시간대 (생략)\n",
        "\n",
        "기본적으로 datetime은 *단순*합니다. 시간대(timezone)을 고려하지 않죠. 따라서 2016-10-30 02:30는 파리나 뉴욕이나 2016년 10월 30일 2:30pm입니다. `tz_localize()` 메서드로 시간대를 고려한 datetime을 만들 수 있습니다:  https://www.timeanddate.com/time/map/"
      ]
    },
    {
      "cell_type": "code",
      "execution_count": 24,
      "metadata": {
        "id": "Jll5vcPimu5y",
        "outputId": "c3a8d50b-6b2c-4718-fc05-7e59fa01e7c1"
      },
      "outputs": [
        {
          "data": {
            "text/plain": [
              "2016-10-29 17:30:00    4.4\n",
              "2016-10-29 18:30:00    5.1\n",
              "2016-10-29 19:30:00    6.1\n",
              "2016-10-29 20:30:00    6.2\n",
              "2016-10-29 21:30:00    6.1\n",
              "2016-10-29 22:30:00    6.1\n",
              "2016-10-29 23:30:00    5.7\n",
              "2016-10-30 00:30:00    5.2\n",
              "2016-10-30 01:30:00    4.7\n",
              "2016-10-30 02:30:00    4.1\n",
              "2016-10-30 03:30:00    3.9\n",
              "2016-10-30 04:30:00    3.5\n",
              "Freq: H, dtype: float64"
            ]
          },
          "execution_count": 24,
          "metadata": {},
          "output_type": "execute_result"
        }
      ],
      "source": [
        "temp_series"
      ]
    },
    {
      "cell_type": "code",
      "execution_count": 25,
      "metadata": {
        "id": "9mn9pxkAe3E-",
        "outputId": "d3ad76e4-6d7e-48d3-c2b9-3ae1342fde84"
      },
      "outputs": [
        {
          "data": {
            "text/plain": [
              "2016-10-29 17:30:00-04:00    4.4\n",
              "2016-10-29 18:30:00-04:00    5.1\n",
              "2016-10-29 19:30:00-04:00    6.1\n",
              "2016-10-29 20:30:00-04:00    6.2\n",
              "2016-10-29 21:30:00-04:00    6.1\n",
              "2016-10-29 22:30:00-04:00    6.1\n",
              "2016-10-29 23:30:00-04:00    5.7\n",
              "2016-10-30 00:30:00-04:00    5.2\n",
              "2016-10-30 01:30:00-04:00    4.7\n",
              "2016-10-30 02:30:00-04:00    4.1\n",
              "2016-10-30 03:30:00-04:00    3.9\n",
              "2016-10-30 04:30:00-04:00    3.5\n",
              "dtype: float64"
            ]
          },
          "execution_count": 25,
          "metadata": {},
          "output_type": "execute_result"
        }
      ],
      "source": [
        "temp_series_ny = temp_series.tz_localize(\"America/New_York\")\n",
        "temp_series_ny"
      ]
    },
    {
      "cell_type": "markdown",
      "metadata": {
        "id": "pXeRFa4Pe3E-"
      },
      "source": [
        "모든 datetime에 `-04:00`이 추가됩니다. 즉 모든 시간은 [UTC](https://en.wikipedia.org/wiki/Coordinated_Universal_Time) - 4시간을 의미합니다.\n",
        "\n",
        "다음처럼 파리 시간대로 바꿀 수 있습니다:"
      ]
    },
    {
      "cell_type": "code",
      "execution_count": 26,
      "metadata": {
        "id": "IFrep1lTe3E_",
        "outputId": "ee4f91ea-1e81-4191-ba29-9e614d307b46"
      },
      "outputs": [
        {
          "data": {
            "text/plain": [
              "2016-10-29 23:30:00+02:00    4.4\n",
              "2016-10-30 00:30:00+02:00    5.1\n",
              "2016-10-30 01:30:00+02:00    6.1\n",
              "2016-10-30 02:30:00+02:00    6.2\n",
              "2016-10-30 02:30:00+01:00    6.1\n",
              "2016-10-30 03:30:00+01:00    6.1\n",
              "2016-10-30 04:30:00+01:00    5.7\n",
              "2016-10-30 05:30:00+01:00    5.2\n",
              "2016-10-30 06:30:00+01:00    4.7\n",
              "2016-10-30 07:30:00+01:00    4.1\n",
              "2016-10-30 08:30:00+01:00    3.9\n",
              "2016-10-30 09:30:00+01:00    3.5\n",
              "dtype: float64"
            ]
          },
          "execution_count": 26,
          "metadata": {},
          "output_type": "execute_result"
        }
      ],
      "source": [
        "temp_series_paris = temp_series_ny.tz_convert(\"Europe/Paris\")\n",
        "temp_series_paris"
      ]
    },
    {
      "cell_type": "markdown",
      "metadata": {
        "id": "AOHmVXtue3E_"
      },
      "source": [
        "UTC와의 차이가 `+02:00`에서 `+01:00`으로 바뀐 것을 알 수 있습니다. 이는 프랑스가 10월 30일 3am에 겨울 시간으로 바꾸기 때문입니다(2am으로 바뀝니다). 따라서 2:30am이 두 번 등장합니다! 시간대가 없는 표현으로 돌아가 보죠(시간대가 없이 지역 시간으로 매시간 로그를 기록하는 경우 이와 비슷할 것입니다):"
      ]
    },
    {
      "cell_type": "code",
      "execution_count": 27,
      "metadata": {
        "id": "KOmCQ7Fee3E_",
        "outputId": "04d7c0bb-8832-40b9-951d-3ef019c22943"
      },
      "outputs": [
        {
          "data": {
            "text/plain": [
              "2016-10-29 23:30:00    4.4\n",
              "2016-10-30 00:30:00    5.1\n",
              "2016-10-30 01:30:00    6.1\n",
              "2016-10-30 02:30:00    6.2\n",
              "2016-10-30 02:30:00    6.1\n",
              "2016-10-30 03:30:00    6.1\n",
              "2016-10-30 04:30:00    5.7\n",
              "2016-10-30 05:30:00    5.2\n",
              "2016-10-30 06:30:00    4.7\n",
              "2016-10-30 07:30:00    4.1\n",
              "2016-10-30 08:30:00    3.9\n",
              "2016-10-30 09:30:00    3.5\n",
              "dtype: float64"
            ]
          },
          "execution_count": 27,
          "metadata": {},
          "output_type": "execute_result"
        }
      ],
      "source": [
        "temp_series_paris_naive = temp_series_paris.tz_localize(None)\n",
        "temp_series_paris_naive"
      ]
    },
    {
      "cell_type": "markdown",
      "metadata": {
        "id": "G25fqubYe3E_"
      },
      "source": [
        "이렇게 되면 `02:30`이 정말 애매합니다. 시간대가 없는 datetime을 파리 시간대로 바꿀 때 에러가 발생합니다:"
      ]
    },
    {
      "cell_type": "code",
      "execution_count": 28,
      "metadata": {
        "execution": {
          "iopub.execute_input": "2020-10-16T07:31:26.006045Z",
          "iopub.status.busy": "2020-10-16T07:31:26.004859Z",
          "iopub.status.idle": "2020-10-16T07:31:26.009183Z",
          "shell.execute_reply": "2020-10-16T07:31:26.010136Z"
        },
        "id": "AwVUPebre3E_",
        "outputId": "2f74615f-a07c-4cb4-d132-71db9bf6f893"
      },
      "outputs": [
        {
          "name": "stdout",
          "output_type": "stream",
          "text": [
            "<class 'pytz.exceptions.AmbiguousTimeError'>\n",
            "Cannot infer dst time from 2016-10-30 02:30:00, try using the 'ambiguous' argument\n"
          ]
        }
      ],
      "source": [
        "try:\n",
        "    temp_series_paris_naive.tz_localize(\"Europe/Paris\")\n",
        "except Exception as e:\n",
        "    print(type(e))\n",
        "    print(e)"
      ]
    },
    {
      "cell_type": "markdown",
      "metadata": {
        "id": "Sr73iiz0e3E_"
      },
      "source": [
        "다행히 `ambiguous` 매개변수를 사용하면 판다스가 타임스탬프의 순서를 기반으로 적절한 DST(일광 절약 시간제)를 추측합니다:\n",
        "\n",
        "https://m.blog.naver.com/PostView.naver?isHttpsRedirect=true&blogId=tori-tours&logNo=221221361831"
      ]
    },
    {
      "cell_type": "code",
      "execution_count": 29,
      "metadata": {
        "id": "HknBRhXye3E_",
        "outputId": "8899179f-b91c-4c27-dc9a-10726064c1f9"
      },
      "outputs": [
        {
          "data": {
            "text/plain": [
              "2016-10-29 23:30:00+02:00    4.4\n",
              "2016-10-30 00:30:00+02:00    5.1\n",
              "2016-10-30 01:30:00+02:00    6.1\n",
              "2016-10-30 02:30:00+02:00    6.2\n",
              "2016-10-30 02:30:00+01:00    6.1\n",
              "2016-10-30 03:30:00+01:00    6.1\n",
              "2016-10-30 04:30:00+01:00    5.7\n",
              "2016-10-30 05:30:00+01:00    5.2\n",
              "2016-10-30 06:30:00+01:00    4.7\n",
              "2016-10-30 07:30:00+01:00    4.1\n",
              "2016-10-30 08:30:00+01:00    3.9\n",
              "2016-10-30 09:30:00+01:00    3.5\n",
              "dtype: float64"
            ]
          },
          "execution_count": 29,
          "metadata": {},
          "output_type": "execute_result"
        }
      ],
      "source": [
        "temp_series_paris_naive.tz_localize(\"Europe/Paris\", ambiguous=\"infer\")"
      ]
    },
    {
      "cell_type": "markdown",
      "metadata": {
        "id": "IAxXcLcve3E_"
      },
      "source": [
        "## 기간\n",
        "\n",
        "`pd.period_range()` 함수는 `DatetimeIndex`가 아니라 `PeriodIndex`를 반환합니다. 예를 들어 2016과 2017년의 전체 분기를 가져와 보죠:"
      ]
    },
    {
      "cell_type": "code",
      "execution_count": 100,
      "metadata": {
        "id": "WG1b_LFve3E_",
        "outputId": "1682a187-3ab3-4c17-90b8-4c14b14948c1"
      },
      "outputs": [
        {
          "data": {
            "text/plain": [
              "PeriodIndex(['2016Q1', '2016Q2', '2016Q3', '2016Q4', '2017Q1', '2017Q2',\n",
              "             '2017Q3', '2017Q4'],\n",
              "            dtype='period[Q-DEC]')"
            ]
          },
          "execution_count": 100,
          "metadata": {},
          "output_type": "execute_result"
        }
      ],
      "source": [
        "quarters = pd.period_range('2016Q1', periods=8, freq='Q') # 시간 인덱스\n",
        "quarters"
      ]
    },
    {
      "cell_type": "markdown",
      "metadata": {
        "id": "ig5eZUPSe3FA"
      },
      "source": [
        "`PeriodIndex`에 숫자 `N`을 추가하면 `PeriodIndex` 빈도의 `N` 배만큼 이동시킵니다:"
      ]
    },
    {
      "cell_type": "code",
      "execution_count": 31,
      "metadata": {
        "id": "E5P5Es0ve3FA",
        "outputId": "029e5532-486e-44de-d088-f3c263374661"
      },
      "outputs": [
        {
          "data": {
            "text/plain": [
              "PeriodIndex(['2016Q4', '2017Q1', '2017Q2', '2017Q3', '2017Q4', '2018Q1',\n",
              "             '2018Q2', '2018Q3'],\n",
              "            dtype='period[Q-DEC]')"
            ]
          },
          "execution_count": 31,
          "metadata": {},
          "output_type": "execute_result"
        }
      ],
      "source": [
        "quarters + 3"
      ]
    },
    {
      "cell_type": "markdown",
      "metadata": {
        "id": "23rdExvKe3FA"
      },
      "source": [
        "`asfreq()` 메서드를 사용하면 `PeriodIndex`의 빈도를 바꿀 수 있습니다. 모든 기간이 늘어나거나 줄어듭니다. 예를 들어 분기 기간을 모두 월별 기간으로 바꾸어 보죠:"
      ]
    },
    {
      "cell_type": "code",
      "execution_count": 32,
      "metadata": {
        "id": "2Jkq2zHOe3FA",
        "outputId": "c7b13282-0b64-4f1b-f442-059589219b10"
      },
      "outputs": [
        {
          "data": {
            "text/plain": [
              "PeriodIndex(['2016-03', '2016-06', '2016-09', '2016-12', '2017-03', '2017-06',\n",
              "             '2017-09', '2017-12'],\n",
              "            dtype='period[M]')"
            ]
          },
          "execution_count": 32,
          "metadata": {},
          "output_type": "execute_result"
        }
      ],
      "source": [
        "quarters.asfreq(\"M\")"
      ]
    },
    {
      "cell_type": "code",
      "execution_count": 103,
      "metadata": {
        "id": "83QL0jlkmu50",
        "outputId": "71646400-b1b1-443e-bff9-57d66fd939c4"
      },
      "outputs": [
        {
          "data": {
            "text/plain": [
              "PeriodIndex(['2016Q1', '2016Q2', '2016Q3', '2016Q4', '2017Q1', '2017Q2',\n",
              "             '2017Q3', '2017Q4'],\n",
              "            dtype='period[Q-DEC]')"
            ]
          },
          "execution_count": 103,
          "metadata": {},
          "output_type": "execute_result"
        }
      ],
      "source": [
        "quarters"
      ]
    },
    {
      "cell_type": "markdown",
      "metadata": {
        "id": "y82nVrX-e3FA"
      },
      "source": [
        "기본적으로 `asfreq`는 각 기간의 끝에 맞춥니다. 기간의 시작에 맞추도록 변경할 수 있습니다:"
      ]
    },
    {
      "cell_type": "code",
      "execution_count": 34,
      "metadata": {
        "id": "3JI4Wvooe3FA",
        "outputId": "ff6eeaf5-2d0b-4aac-941f-ce74dc226876"
      },
      "outputs": [
        {
          "data": {
            "text/plain": [
              "PeriodIndex(['2016-01', '2016-04', '2016-07', '2016-10', '2017-01', '2017-04',\n",
              "             '2017-07', '2017-10'],\n",
              "            dtype='period[M]')"
            ]
          },
          "execution_count": 34,
          "metadata": {},
          "output_type": "execute_result"
        }
      ],
      "source": [
        "quarters.asfreq(\"M\", how=\"start\")"
      ]
    },
    {
      "cell_type": "markdown",
      "metadata": {
        "id": "nf0t2i6oe3FA"
      },
      "source": [
        "간격을 늘릴 수도 있습니다:\n",
        "pandas 공식 메뉴얼 참조: https://pandas.pydata.org/pandas-docs/stable/user_guide/timeseries.html"
      ]
    },
    {
      "cell_type": "code",
      "execution_count": 35,
      "metadata": {
        "id": "FqYMPe_Se3FA",
        "outputId": "24bb65f6-3def-4894-8534-1efdc3e7a818"
      },
      "outputs": [
        {
          "data": {
            "text/plain": [
              "PeriodIndex(['2016', '2016', '2016', '2016', '2017', '2017', '2017', '2017'], dtype='period[A-DEC]')"
            ]
          },
          "execution_count": 35,
          "metadata": {},
          "output_type": "execute_result"
        }
      ],
      "source": [
        "quarters.asfreq(\"A\")"
      ]
    },
    {
      "cell_type": "markdown",
      "metadata": {
        "id": "eyKdQcoYe3FA"
      },
      "source": [
        "물론 `PeriodIndex`로 `Series`를 만들 수 있습니다:"
      ]
    },
    {
      "cell_type": "code",
      "execution_count": 113,
      "metadata": {
        "id": "l-xSJlobe3FA",
        "outputId": "0c268361-1bc7-4d9b-b7c8-24d5b91fe408"
      },
      "outputs": [
        {
          "data": {
            "text/plain": [
              "2016Q1    300\n",
              "2016Q2    320\n",
              "2016Q3    290\n",
              "2016Q4    390\n",
              "2017Q1    320\n",
              "2017Q2    360\n",
              "2017Q3    310\n",
              "2017Q4    410\n",
              "Freq: Q-DEC, dtype: int64"
            ]
          },
          "execution_count": 113,
          "metadata": {},
          "output_type": "execute_result"
        }
      ],
      "source": [
        "quarterly_revenue = pd.Series([300, 320, 290, 390, 320, 360, 310, 410], index = quarters)\n",
        "quarterly_revenue"
      ]
    },
    {
      "cell_type": "code",
      "execution_count": 114,
      "metadata": {
        "id": "4oFmDrTve3FB",
        "outputId": "fe515423-ef03-4ab3-e729-d37321984a0d"
      },
      "outputs": [
        {
          "data": {
            "image/png": "[encoded data removed]",
            "text/plain": [
              "<Figure size 640x480 with 1 Axes>"
            ]
          },
          "metadata": {},
          "output_type": "display_data"
        }
      ],
      "source": [
        "quarterly_revenue.plot(kind=\"line\")\n",
        "plt.show()"
      ]
    },
    {
      "cell_type": "markdown",
      "metadata": {
        "id": "f-b8deiee3FB"
      },
      "source": [
        "`to_timestamp`를 호출해서 기간을 타임스탬프로 변경할 수 있습니다. 기본적으로 기간의 첫 번째 날을 반환합니다. 하지만 `how`와 `freq`를 지정해서 기간의 마지막 시간을 얻을 수 있습니다:"
      ]
    },
    {
      "cell_type": "code",
      "execution_count": 115,
      "metadata": {
        "id": "usCJWuSYmu51",
        "outputId": "a1c8aae5-ec35-4d0e-85b8-27109189d8a8"
      },
      "outputs": [
        {
          "data": {
            "text/plain": [
              "2016Q1    300\n",
              "2016Q2    320\n",
              "2016Q3    290\n",
              "2016Q4    390\n",
              "2017Q1    320\n",
              "2017Q2    360\n",
              "2017Q3    310\n",
              "2017Q4    410\n",
              "Freq: Q-DEC, dtype: int64"
            ]
          },
          "execution_count": 115,
          "metadata": {},
          "output_type": "execute_result"
        }
      ],
      "source": [
        "quarterly_revenue"
      ]
    },
    {
      "cell_type": "code",
      "execution_count": 118,
      "metadata": {
        "id": "BXu-4hfXe3FB",
        "outputId": "8e546abd-19a9-4ce1-b066-0da071d7d792"
      },
      "outputs": [
        {
          "data": {
            "text/plain": [
              "2016-03-31 23:59:59.999999999    300\n",
              "2016-06-30 23:59:59.999999999    320\n",
              "2016-09-30 23:59:59.999999999    290\n",
              "2016-12-31 23:59:59.999999999    390\n",
              "2017-03-31 23:59:59.999999999    320\n",
              "2017-06-30 23:59:59.999999999    360\n",
              "2017-09-30 23:59:59.999999999    310\n",
              "2017-12-31 23:59:59.999999999    410\n",
              "dtype: int64"
            ]
          },
          "execution_count": 118,
          "metadata": {},
          "output_type": "execute_result"
        }
      ],
      "source": [
        "last_hours = quarterly_revenue.to_timestamp(how=\"end\", freq=\"H\") # 마지막 시간\n",
        "last_hours"
      ]
    },
    {
      "cell_type": "code",
      "execution_count": 119,
      "metadata": {},
      "outputs": [
        {
          "data": {
            "text/plain": [
              "2016-01-01    300\n",
              "2016-04-01    320\n",
              "2016-07-01    290\n",
              "2016-10-01    390\n",
              "2017-01-01    320\n",
              "2017-04-01    360\n",
              "2017-07-01    310\n",
              "2017-10-01    410\n",
              "Freq: QS-OCT, dtype: int64"
            ]
          },
          "execution_count": 119,
          "metadata": {},
          "output_type": "execute_result"
        }
      ],
      "source": [
        "last_hours = quarterly_revenue.to_timestamp(how=\"start\", freq=\"H\")\n",
        "last_hours"
      ]
    },
    {
      "attachments": {},
      "cell_type": "markdown",
      "metadata": {
        "id": "vXMKO-Rfe3FB"
      },
      "source": [
        "`to_period`를 호출하면 다시 기간으로 돌아갑니다:"
      ]
    },
    {
      "cell_type": "code",
      "execution_count": 40,
      "metadata": {
        "id": "SzQaHhQfe3FB",
        "outputId": "617b7a33-1a2a-416a-93b0-dcaef0120e26"
      },
      "outputs": [
        {
          "data": {
            "text/plain": [
              "2016Q1    300\n",
              "2016Q2    320\n",
              "2016Q3    290\n",
              "2016Q4    390\n",
              "2017Q1    320\n",
              "2017Q2    360\n",
              "2017Q3    310\n",
              "2017Q4    410\n",
              "Freq: Q-DEC, dtype: int64"
            ]
          },
          "execution_count": 40,
          "metadata": {},
          "output_type": "execute_result"
        }
      ],
      "source": [
        "last_hours.to_period()"
      ]
    },
    {
      "cell_type": "markdown",
      "metadata": {
        "id": "_yEEXFiKe3FB"
      },
      "source": [
        "판다스는 여러 가지 시간 관련 함수를 많이 제공합니다. [온라인 문서](http://pandas.pydata.org/pandas-docs/stable/timeseries.html)를 확인해 보세요. 예를 하나 들면 2016년 매월 마지막 업무일의 9시를 얻는 방법은 다음과 같습니다:"
      ]
    },
    {
      "cell_type": "code",
      "execution_count": 41,
      "metadata": {
        "id": "sDxILXD_e3FB",
        "outputId": "a3596b2f-1ed4-4eef-e57b-448dcfdd694d"
      },
      "outputs": [
        {
          "data": {
            "text/plain": [
              "PeriodIndex(['2022-01-31 09:00', '2022-02-28 09:00', '2022-03-31 09:00',\n",
              "             '2022-04-29 09:00', '2022-05-31 09:00', '2022-06-30 09:00',\n",
              "             '2022-07-29 09:00', '2022-08-31 09:00', '2022-09-30 09:00',\n",
              "             '2022-10-31 09:00', '2022-11-30 09:00', '2022-12-30 09:00'],\n",
              "            dtype='period[H]')"
            ]
          },
          "execution_count": 41,
          "metadata": {},
          "output_type": "execute_result"
        }
      ],
      "source": [
        "months_2022 = pd.period_range(\"2022\", periods=12, freq=\"M\") # 2022년 한에서 월 단위로 12개의 시간을 뽑아서\n",
        "one_day_after_last_days = months_2022.asfreq(\"D\") + 1 # month -> day + 1 (각각의 월에 제일 마지막날에서 1씩 더해짐)\n",
        "last_bdays = one_day_after_last_days.to_timestamp() - pd.tseries.offsets.BDay(n=1) # timestamp로 바꾸고 하루를 뺌, BDay(근무하는 날)\n",
        "last_bdays.to_period(\"H\") + 9 # 시간 간격으로 바꿔서 9를 더함"
      ]
    },
    {
      "cell_type": "markdown",
      "metadata": {
        "id": "W_wPsPuwe3FB"
      },
      "source": [
        "# `DataFrame` 객체\n",
        "\n",
        "데이터프레임 객체는 스프레드시트를 표현합니다. 셀 값, 열 이름, 행 인덱스 레이블을 가집니다. 다른 열을 바탕으로 열을 계산하는 식을 쓸 수 있고 피봇 테이블을 만들고, 행을 그룹핑하고, 그래프를 그릴 수 있습니다. `DataFrame`을 `Series`의 딕셔너리로 볼 수 있습니다.\n",
        "\n",
        "## `DataFrame` 만들기\n",
        "\n",
        "`Series` 객체의 딕셔너리를 전달하여 데이터프레임을 만들 수 있습니다:"
      ]
    },
    {
      "cell_type": "code",
      "execution_count": 232,
      "metadata": {
        "id": "4YEVvRw0e3FB",
        "outputId": "c27ef3f5-c64d-4fc0-9a79-42494627bf81",
        "scrolled": true
      },
      "outputs": [
        {
          "data": {
            "text/html": [
              "<div>\n",
              "<style scoped>\n",
              "    .dataframe tbody tr th:only-of-type {\n",
              "        vertical-align: middle;\n",
              "    }\n",
              "\n",
              "    .dataframe tbody tr th {\n",
              "        vertical-align: top;\n",
              "    }\n",
              "\n",
              "    .dataframe thead th {\n",
              "        text-align: right;\n",
              "    }\n",
              "</style>\n",
              "<table border=\"1\" class=\"dataframe\">\n",
              "  <thead>\n",
              "    <tr style=\"text-align: right;\">\n",
              "      <th></th>\n",
              "      <th>weight</th>\n",
              "      <th>birthyear</th>\n",
              "      <th>children</th>\n",
              "      <th>hobby</th>\n",
              "    </tr>\n",
              "  </thead>\n",
              "  <tbody>\n",
              "    <tr>\n",
              "      <th>alice</th>\n",
              "      <td>68</td>\n",
              "      <td>1985</td>\n",
              "      <td>NaN</td>\n",
              "      <td>Biking</td>\n",
              "    </tr>\n",
              "    <tr>\n",
              "      <th>bob</th>\n",
              "      <td>83</td>\n",
              "      <td>1984</td>\n",
              "      <td>3.0</td>\n",
              "      <td>Dancing</td>\n",
              "    </tr>\n",
              "    <tr>\n",
              "      <th>charles</th>\n",
              "      <td>112</td>\n",
              "      <td>1992</td>\n",
              "      <td>0.0</td>\n",
              "      <td>NaN</td>\n",
              "    </tr>\n",
              "  </tbody>\n",
              "</table>\n",
              "</div>"
            ],
            "text/plain": [
              "         weight  birthyear  children    hobby\n",
              "alice        68       1985       NaN   Biking\n",
              "bob          83       1984       3.0  Dancing\n",
              "charles     112       1992       0.0      NaN"
            ]
          },
          "execution_count": 232,
          "metadata": {},
          "output_type": "execute_result"
        }
      ],
      "source": [
        "# 데이터프레임에서 행 -> 인덱스, 열 -> 컬럼\n",
        "people_dict = {\n",
        "    \"weight\": pd.Series([68, 83, 112], index=[\"alice\", \"bob\", \"charles\"]),\n",
        "    \"birthyear\": pd.Series([1984, 1985, 1992], index=[\"bob\", \"alice\", \"charles\"], name=\"year\"),\n",
        "    \"children\": pd.Series([0, 3], index=[\"charles\", \"bob\"]),\n",
        "    \"hobby\": pd.Series([\"Biking\", \"Dancing\"], index=[\"alice\", \"bob\"]),\n",
        "}\n",
        "people = pd.DataFrame(people_dict)\n",
        "people\n",
        "# 누락된 값, 결측치 = NaN(R에서는 NA)"
      ]
    },
    {
      "cell_type": "markdown",
      "metadata": {
        "id": "h7GfHM45e3FC"
      },
      "source": [
        "몇가지 알아 두어야 할 것은 다음과 같습니다:\n",
        "\n",
        "* `Series`는 인덱스를 기반으로 자동으로 정렬됩니다.\n",
        "* 누란된 값은 `NaN`으로 표현됩니다.\n",
        "* `Series` 이름은 무시됩니다(`\"year\"`란 이름은 삭제됩니다).\n",
        "* `DataFrame`은 주피터 노트북에서 멋지게 출력됩니다!"
      ]
    },
    {
      "cell_type": "markdown",
      "metadata": {
        "id": "e1bYfWzMe3FC"
      },
      "source": [
        "예상하는 방식으로 열을 참조할 수 있고 `Series` 객체가 반환됩니다:"
      ]
    },
    {
      "cell_type": "code",
      "execution_count": 126,
      "metadata": {
        "id": "BD6vbXKve3FC",
        "outputId": "6b5a22ab-c156-4a05-8e55-acd39ccf341c"
      },
      "outputs": [
        {
          "data": {
            "text/plain": [
              "alice      1985\n",
              "bob        1984\n",
              "charles    1992\n",
              "Name: birthyear, dtype: int64"
            ]
          },
          "execution_count": 126,
          "metadata": {},
          "output_type": "execute_result"
        }
      ],
      "source": [
        "people[\"birthyear\"]"
      ]
    },
    {
      "cell_type": "markdown",
      "metadata": {
        "id": "2aEF3JVFe3FC"
      },
      "source": [
        "동시에 여러 개의 열을 선택할 수 있습니다:"
      ]
    },
    {
      "cell_type": "code",
      "execution_count": 127,
      "metadata": {
        "id": "jb7RmX6qe3FC",
        "outputId": "e1dea779-6957-4a01-8546-79ba9dfc4759"
      },
      "outputs": [
        {
          "data": {
            "text/html": [
              "<div>\n",
              "<style scoped>\n",
              "    .dataframe tbody tr th:only-of-type {\n",
              "        vertical-align: middle;\n",
              "    }\n",
              "\n",
              "    .dataframe tbody tr th {\n",
              "        vertical-align: top;\n",
              "    }\n",
              "\n",
              "    .dataframe thead th {\n",
              "        text-align: right;\n",
              "    }\n",
              "</style>\n",
              "<table border=\"1\" class=\"dataframe\">\n",
              "  <thead>\n",
              "    <tr style=\"text-align: right;\">\n",
              "      <th></th>\n",
              "      <th>birthyear</th>\n",
              "      <th>hobby</th>\n",
              "    </tr>\n",
              "  </thead>\n",
              "  <tbody>\n",
              "    <tr>\n",
              "      <th>alice</th>\n",
              "      <td>1985</td>\n",
              "      <td>Biking</td>\n",
              "    </tr>\n",
              "    <tr>\n",
              "      <th>bob</th>\n",
              "      <td>1984</td>\n",
              "      <td>Dancing</td>\n",
              "    </tr>\n",
              "    <tr>\n",
              "      <th>charles</th>\n",
              "      <td>1992</td>\n",
              "      <td>NaN</td>\n",
              "    </tr>\n",
              "  </tbody>\n",
              "</table>\n",
              "</div>"
            ],
            "text/plain": [
              "         birthyear    hobby\n",
              "alice         1985   Biking\n",
              "bob           1984  Dancing\n",
              "charles       1992      NaN"
            ]
          },
          "execution_count": 127,
          "metadata": {},
          "output_type": "execute_result"
        }
      ],
      "source": [
        "people[[\"birthyear\", \"hobby\"]]"
      ]
    },
    {
      "cell_type": "markdown",
      "metadata": {
        "id": "5EO1JsF1e3FC"
      },
      "source": [
        "열 리스트나 행 인덱스 레이블을 `DataFrame` 생성자에 전달하면 해당 열과 행으로 채워진 데이터프레임이 반환됩니다. 예를 들면:"
      ]
    },
    {
      "cell_type": "code",
      "execution_count": 128,
      "metadata": {
        "id": "o-nsZ--nmu52",
        "outputId": "e087b972-db00-4c60-8446-011a7dd7f4b4"
      },
      "outputs": [
        {
          "data": {
            "text/plain": [
              "{'weight': alice       68\n",
              " bob         83\n",
              " charles    112\n",
              " dtype: int64,\n",
              " 'birthyear': bob        1984\n",
              " alice      1985\n",
              " charles    1992\n",
              " Name: year, dtype: int64,\n",
              " 'children': charles    0\n",
              " bob        3\n",
              " dtype: int64,\n",
              " 'hobby': alice     Biking\n",
              " bob      Dancing\n",
              " dtype: object}"
            ]
          },
          "execution_count": 128,
          "metadata": {},
          "output_type": "execute_result"
        }
      ],
      "source": [
        "people_dict"
      ]
    },
    {
      "cell_type": "code",
      "execution_count": 129,
      "metadata": {
        "id": "FspkQExxe3FC"
      },
      "outputs": [],
      "source": [
        "d2 = pd.DataFrame(\n",
        "        people_dict,\n",
        "        columns=[\"birthyear\", \"weight\", \"height\"],\n",
        "        index=[\"bob\", \"alice\", \"eugene\"]\n",
        "     )"
      ]
    },
    {
      "cell_type": "code",
      "execution_count": 131,
      "metadata": {
        "id": "zUfCScqLmu52",
        "outputId": "000a4c46-223d-4133-aa31-63441641883f"
      },
      "outputs": [
        {
          "data": {
            "text/html": [
              "<div>\n",
              "<style scoped>\n",
              "    .dataframe tbody tr th:only-of-type {\n",
              "        vertical-align: middle;\n",
              "    }\n",
              "\n",
              "    .dataframe tbody tr th {\n",
              "        vertical-align: top;\n",
              "    }\n",
              "\n",
              "    .dataframe thead th {\n",
              "        text-align: right;\n",
              "    }\n",
              "</style>\n",
              "<table border=\"1\" class=\"dataframe\">\n",
              "  <thead>\n",
              "    <tr style=\"text-align: right;\">\n",
              "      <th></th>\n",
              "      <th>birthyear</th>\n",
              "      <th>weight</th>\n",
              "      <th>height</th>\n",
              "    </tr>\n",
              "  </thead>\n",
              "  <tbody>\n",
              "    <tr>\n",
              "      <th>bob</th>\n",
              "      <td>1984.0</td>\n",
              "      <td>83.0</td>\n",
              "      <td>NaN</td>\n",
              "    </tr>\n",
              "    <tr>\n",
              "      <th>alice</th>\n",
              "      <td>1985.0</td>\n",
              "      <td>68.0</td>\n",
              "      <td>NaN</td>\n",
              "    </tr>\n",
              "    <tr>\n",
              "      <th>eugene</th>\n",
              "      <td>NaN</td>\n",
              "      <td>NaN</td>\n",
              "      <td>NaN</td>\n",
              "    </tr>\n",
              "  </tbody>\n",
              "</table>\n",
              "</div>"
            ],
            "text/plain": [
              "        birthyear  weight height\n",
              "bob        1984.0    83.0    NaN\n",
              "alice      1985.0    68.0    NaN\n",
              "eugene        NaN     NaN    NaN"
            ]
          },
          "execution_count": 131,
          "metadata": {},
          "output_type": "execute_result"
        }
      ],
      "source": [
        "d2"
      ]
    },
    {
      "cell_type": "markdown",
      "metadata": {
        "id": "IqRjIvFze3FD"
      },
      "source": [
        "`DataFrame`을 만드는 또 다른 편리한 방법은 `ndarray`나 리스트의 리스트로 모든 값을 생성자에게 전달하고 열 이름과 행 인덱스 레이블을 각기 지정하는 것입니다:"
      ]
    },
    {
      "cell_type": "code",
      "execution_count": 132,
      "metadata": {
        "id": "37j6Njlwe3FD",
        "outputId": "8235abc3-f7bd-42b1-af15-87fc50bdaa16"
      },
      "outputs": [
        {
          "data": {
            "text/html": [
              "<div>\n",
              "<style scoped>\n",
              "    .dataframe tbody tr th:only-of-type {\n",
              "        vertical-align: middle;\n",
              "    }\n",
              "\n",
              "    .dataframe tbody tr th {\n",
              "        vertical-align: top;\n",
              "    }\n",
              "\n",
              "    .dataframe thead th {\n",
              "        text-align: right;\n",
              "    }\n",
              "</style>\n",
              "<table border=\"1\" class=\"dataframe\">\n",
              "  <thead>\n",
              "    <tr style=\"text-align: right;\">\n",
              "      <th></th>\n",
              "      <th>birthyear</th>\n",
              "      <th>children</th>\n",
              "      <th>hobby</th>\n",
              "      <th>weight</th>\n",
              "    </tr>\n",
              "  </thead>\n",
              "  <tbody>\n",
              "    <tr>\n",
              "      <th>alice</th>\n",
              "      <td>1985</td>\n",
              "      <td>NaN</td>\n",
              "      <td>Biking</td>\n",
              "      <td>68</td>\n",
              "    </tr>\n",
              "    <tr>\n",
              "      <th>bob</th>\n",
              "      <td>1984</td>\n",
              "      <td>3.0</td>\n",
              "      <td>Dancing</td>\n",
              "      <td>83</td>\n",
              "    </tr>\n",
              "    <tr>\n",
              "      <th>charles</th>\n",
              "      <td>1992</td>\n",
              "      <td>0.0</td>\n",
              "      <td>NaN</td>\n",
              "      <td>112</td>\n",
              "    </tr>\n",
              "  </tbody>\n",
              "</table>\n",
              "</div>"
            ],
            "text/plain": [
              "         birthyear  children    hobby  weight\n",
              "alice         1985       NaN   Biking      68\n",
              "bob           1984       3.0  Dancing      83\n",
              "charles       1992       0.0      NaN     112"
            ]
          },
          "execution_count": 132,
          "metadata": {},
          "output_type": "execute_result"
        }
      ],
      "source": [
        "values = [\n",
        "            [1985, np.nan, \"Biking\",   68],\n",
        "            [1984, 3,      \"Dancing\",  83],\n",
        "            [1992, 0,      np.nan,    112]\n",
        "         ]\n",
        "d3 = pd.DataFrame(\n",
        "        values,\n",
        "        columns=[\"birthyear\", \"children\", \"hobby\", \"weight\"],\n",
        "        index=[\"alice\", \"bob\", \"charles\"]\n",
        "     )\n",
        "d3"
      ]
    },
    {
      "cell_type": "markdown",
      "metadata": {
        "id": "NoC7Zaroe3FD"
      },
      "source": [
        "누락된 값을 지정하려면 `np.nan`이나 넘파이 마스크 배열을 사용합니다:  \n",
        "`dtype = object`는 문자열 데이터를 의미"
      ]
    },
    {
      "cell_type": "code",
      "execution_count": 134,
      "metadata": {
        "id": "DQdaqBt8mu55",
        "outputId": "4232f85a-653d-4fda-d440-fb99c91c1940"
      },
      "outputs": [
        {
          "data": {
            "text/plain": [
              "masked_array(\n",
              "  data=[[1985, nan, 'Biking', 68],\n",
              "        [1984, 3, 'Dancing', 83],\n",
              "        [1992, 0, nan, 112]],\n",
              "  mask=False,\n",
              "  fill_value='?',\n",
              "  dtype=object)"
            ]
          },
          "execution_count": 134,
          "metadata": {},
          "output_type": "execute_result"
        }
      ],
      "source": [
        "masked_array = np.ma.asarray(values, dtype=object)\n",
        "masked_array"
      ]
    },
    {
      "cell_type": "code",
      "execution_count": 135,
      "metadata": {
        "id": "KRNR4CIue3FD",
        "outputId": "fd371783-6b3f-4258-b4a8-15301776dcea"
      },
      "outputs": [
        {
          "data": {
            "text/html": [
              "<div>\n",
              "<style scoped>\n",
              "    .dataframe tbody tr th:only-of-type {\n",
              "        vertical-align: middle;\n",
              "    }\n",
              "\n",
              "    .dataframe tbody tr th {\n",
              "        vertical-align: top;\n",
              "    }\n",
              "\n",
              "    .dataframe thead th {\n",
              "        text-align: right;\n",
              "    }\n",
              "</style>\n",
              "<table border=\"1\" class=\"dataframe\">\n",
              "  <thead>\n",
              "    <tr style=\"text-align: right;\">\n",
              "      <th></th>\n",
              "      <th>birthyear</th>\n",
              "      <th>children</th>\n",
              "      <th>hobby</th>\n",
              "      <th>weight</th>\n",
              "    </tr>\n",
              "  </thead>\n",
              "  <tbody>\n",
              "    <tr>\n",
              "      <th>alice</th>\n",
              "      <td>1985</td>\n",
              "      <td>NaN</td>\n",
              "      <td>Biking</td>\n",
              "      <td>68</td>\n",
              "    </tr>\n",
              "    <tr>\n",
              "      <th>bob</th>\n",
              "      <td>1984</td>\n",
              "      <td>3</td>\n",
              "      <td>Dancing</td>\n",
              "      <td>83</td>\n",
              "    </tr>\n",
              "    <tr>\n",
              "      <th>charles</th>\n",
              "      <td>1992</td>\n",
              "      <td>0</td>\n",
              "      <td>NaN</td>\n",
              "      <td>112</td>\n",
              "    </tr>\n",
              "  </tbody>\n",
              "</table>\n",
              "</div>"
            ],
            "text/plain": [
              "        birthyear children    hobby weight\n",
              "alice        1985      NaN   Biking     68\n",
              "bob          1984        3  Dancing     83\n",
              "charles      1992        0      NaN    112"
            ]
          },
          "execution_count": 135,
          "metadata": {},
          "output_type": "execute_result"
        }
      ],
      "source": [
        "masked_array = np.ma.asarray(values, dtype=object)\n",
        "masked_array[(0, 2), (1, 2)] = np.ma.masked\n",
        "d3 = pd.DataFrame(\n",
        "        masked_array,\n",
        "        columns=[\"birthyear\", \"children\", \"hobby\", \"weight\"],\n",
        "        index=[\"alice\", \"bob\", \"charles\"]\n",
        "     )\n",
        "d3"
      ]
    },
    {
      "cell_type": "markdown",
      "metadata": {
        "id": "pHEwD4lEe3FD"
      },
      "source": [
        "`ndarray` 대신에 `DataFrame` 객체를 전달할 수도 있습니다:"
      ]
    },
    {
      "cell_type": "code",
      "execution_count": 136,
      "metadata": {
        "id": "xF3jyDfFmu55",
        "outputId": "fee9551d-68cd-4957-faa5-da2d7b137f21"
      },
      "outputs": [
        {
          "data": {
            "text/html": [
              "<div>\n",
              "<style scoped>\n",
              "    .dataframe tbody tr th:only-of-type {\n",
              "        vertical-align: middle;\n",
              "    }\n",
              "\n",
              "    .dataframe tbody tr th {\n",
              "        vertical-align: top;\n",
              "    }\n",
              "\n",
              "    .dataframe thead th {\n",
              "        text-align: right;\n",
              "    }\n",
              "</style>\n",
              "<table border=\"1\" class=\"dataframe\">\n",
              "  <thead>\n",
              "    <tr style=\"text-align: right;\">\n",
              "      <th></th>\n",
              "      <th>birthyear</th>\n",
              "      <th>children</th>\n",
              "      <th>hobby</th>\n",
              "      <th>weight</th>\n",
              "    </tr>\n",
              "  </thead>\n",
              "  <tbody>\n",
              "    <tr>\n",
              "      <th>alice</th>\n",
              "      <td>1985</td>\n",
              "      <td>NaN</td>\n",
              "      <td>Biking</td>\n",
              "      <td>68</td>\n",
              "    </tr>\n",
              "    <tr>\n",
              "      <th>bob</th>\n",
              "      <td>1984</td>\n",
              "      <td>3</td>\n",
              "      <td>Dancing</td>\n",
              "      <td>83</td>\n",
              "    </tr>\n",
              "    <tr>\n",
              "      <th>charles</th>\n",
              "      <td>1992</td>\n",
              "      <td>0</td>\n",
              "      <td>NaN</td>\n",
              "      <td>112</td>\n",
              "    </tr>\n",
              "  </tbody>\n",
              "</table>\n",
              "</div>"
            ],
            "text/plain": [
              "        birthyear children    hobby weight\n",
              "alice        1985      NaN   Biking     68\n",
              "bob          1984        3  Dancing     83\n",
              "charles      1992        0      NaN    112"
            ]
          },
          "execution_count": 136,
          "metadata": {},
          "output_type": "execute_result"
        }
      ],
      "source": [
        "d3"
      ]
    },
    {
      "cell_type": "code",
      "execution_count": 137,
      "metadata": {
        "id": "9t8jgcrfe3FD",
        "outputId": "038a1259-6736-4075-d923-80c8caaacdc5"
      },
      "outputs": [
        {
          "data": {
            "text/html": [
              "<div>\n",
              "<style scoped>\n",
              "    .dataframe tbody tr th:only-of-type {\n",
              "        vertical-align: middle;\n",
              "    }\n",
              "\n",
              "    .dataframe tbody tr th {\n",
              "        vertical-align: top;\n",
              "    }\n",
              "\n",
              "    .dataframe thead th {\n",
              "        text-align: right;\n",
              "    }\n",
              "</style>\n",
              "<table border=\"1\" class=\"dataframe\">\n",
              "  <thead>\n",
              "    <tr style=\"text-align: right;\">\n",
              "      <th></th>\n",
              "      <th>hobby</th>\n",
              "      <th>children</th>\n",
              "    </tr>\n",
              "  </thead>\n",
              "  <tbody>\n",
              "    <tr>\n",
              "      <th>alice</th>\n",
              "      <td>Biking</td>\n",
              "      <td>NaN</td>\n",
              "    </tr>\n",
              "    <tr>\n",
              "      <th>bob</th>\n",
              "      <td>Dancing</td>\n",
              "      <td>3</td>\n",
              "    </tr>\n",
              "  </tbody>\n",
              "</table>\n",
              "</div>"
            ],
            "text/plain": [
              "         hobby children\n",
              "alice   Biking      NaN\n",
              "bob    Dancing        3"
            ]
          },
          "execution_count": 137,
          "metadata": {},
          "output_type": "execute_result"
        }
      ],
      "source": [
        "d4 = pd.DataFrame(\n",
        "         d3,\n",
        "         columns=[\"hobby\", \"children\"],\n",
        "         index=[\"alice\", \"bob\"]\n",
        "     )\n",
        "d4"
      ]
    },
    {
      "cell_type": "markdown",
      "metadata": {
        "id": "5yYIkl_Me3FD"
      },
      "source": [
        "딕셔너리의 딕셔너리(또는 리스트의 리스트)로 `DataFrame`을 만들 수 있습니다:"
      ]
    },
    {
      "cell_type": "code",
      "execution_count": 138,
      "metadata": {
        "id": "7OnL15PDe3FD",
        "outputId": "fccd5b19-9fd4-4da4-f048-7d960687c3a6"
      },
      "outputs": [
        {
          "data": {
            "text/html": [
              "<div>\n",
              "<style scoped>\n",
              "    .dataframe tbody tr th:only-of-type {\n",
              "        vertical-align: middle;\n",
              "    }\n",
              "\n",
              "    .dataframe tbody tr th {\n",
              "        vertical-align: top;\n",
              "    }\n",
              "\n",
              "    .dataframe thead th {\n",
              "        text-align: right;\n",
              "    }\n",
              "</style>\n",
              "<table border=\"1\" class=\"dataframe\">\n",
              "  <thead>\n",
              "    <tr style=\"text-align: right;\">\n",
              "      <th></th>\n",
              "      <th>birthyear</th>\n",
              "      <th>hobby</th>\n",
              "      <th>weight</th>\n",
              "      <th>children</th>\n",
              "    </tr>\n",
              "  </thead>\n",
              "  <tbody>\n",
              "    <tr>\n",
              "      <th>alice</th>\n",
              "      <td>1985</td>\n",
              "      <td>Biking</td>\n",
              "      <td>68</td>\n",
              "      <td>NaN</td>\n",
              "    </tr>\n",
              "    <tr>\n",
              "      <th>bob</th>\n",
              "      <td>1984</td>\n",
              "      <td>Dancing</td>\n",
              "      <td>83</td>\n",
              "      <td>3.0</td>\n",
              "    </tr>\n",
              "    <tr>\n",
              "      <th>charles</th>\n",
              "      <td>1992</td>\n",
              "      <td>NaN</td>\n",
              "      <td>112</td>\n",
              "      <td>0.0</td>\n",
              "    </tr>\n",
              "  </tbody>\n",
              "</table>\n",
              "</div>"
            ],
            "text/plain": [
              "         birthyear    hobby  weight  children\n",
              "alice         1985   Biking      68       NaN\n",
              "bob           1984  Dancing      83       3.0\n",
              "charles       1992      NaN     112       0.0"
            ]
          },
          "execution_count": 138,
          "metadata": {},
          "output_type": "execute_result"
        }
      ],
      "source": [
        "people = pd.DataFrame({\n",
        "    \"birthyear\": {\"alice\":1985, \"bob\": 1984, \"charles\": 1992},\n",
        "    \"hobby\": {\"alice\":\"Biking\", \"bob\": \"Dancing\"},\n",
        "    \"weight\": {\"alice\":68, \"bob\": 83, \"charles\": 112},\n",
        "    \"children\": {\"bob\": 3, \"charles\": 0}\n",
        "})\n",
        "\n",
        "people"
      ]
    },
    {
      "cell_type": "markdown",
      "metadata": {
        "id": "O6-nSX3He3FE"
      },
      "source": [
        "## 멀티 인덱싱\n",
        "\n",
        "모든 열이 같은 크기의 튜플이면 멀티 인덱스로 인식합니다. 열 인덱스 레이블에도 같은 방식이 적용됩니다. 예를 들면:"
      ]
    },
    {
      "cell_type": "code",
      "execution_count": 181,
      "metadata": {
        "id": "NzdDsZCfe3FE",
        "outputId": "ac587543-9ee6-4b06-f8c7-1b7b93b12ff2"
      },
      "outputs": [
        {
          "data": {
            "text/html": [
              "<div>\n",
              "<style scoped>\n",
              "    .dataframe tbody tr th:only-of-type {\n",
              "        vertical-align: middle;\n",
              "    }\n",
              "\n",
              "    .dataframe tbody tr th {\n",
              "        vertical-align: top;\n",
              "    }\n",
              "\n",
              "    .dataframe thead tr th {\n",
              "        text-align: left;\n",
              "    }\n",
              "</style>\n",
              "<table border=\"1\" class=\"dataframe\">\n",
              "  <thead>\n",
              "    <tr>\n",
              "      <th></th>\n",
              "      <th></th>\n",
              "      <th colspan=\"2\" halign=\"left\">public</th>\n",
              "      <th colspan=\"2\" halign=\"left\">private</th>\n",
              "    </tr>\n",
              "    <tr>\n",
              "      <th></th>\n",
              "      <th></th>\n",
              "      <th>birthyear</th>\n",
              "      <th>hobby</th>\n",
              "      <th>weight</th>\n",
              "      <th>children</th>\n",
              "    </tr>\n",
              "  </thead>\n",
              "  <tbody>\n",
              "    <tr>\n",
              "      <th rowspan=\"2\" valign=\"top\">Paris</th>\n",
              "      <th>alice</th>\n",
              "      <td>1985</td>\n",
              "      <td>Biking</td>\n",
              "      <td>68</td>\n",
              "      <td>NaN</td>\n",
              "    </tr>\n",
              "    <tr>\n",
              "      <th>bob</th>\n",
              "      <td>1984</td>\n",
              "      <td>Dancing</td>\n",
              "      <td>83</td>\n",
              "      <td>3.0</td>\n",
              "    </tr>\n",
              "    <tr>\n",
              "      <th>London</th>\n",
              "      <th>charles</th>\n",
              "      <td>1992</td>\n",
              "      <td>NaN</td>\n",
              "      <td>112</td>\n",
              "      <td>0.0</td>\n",
              "    </tr>\n",
              "  </tbody>\n",
              "</table>\n",
              "</div>"
            ],
            "text/plain": [
              "                  public          private         \n",
              "               birthyear    hobby  weight children\n",
              "Paris  alice        1985   Biking      68      NaN\n",
              "       bob          1984  Dancing      83      3.0\n",
              "London charles      1992      NaN     112      0.0"
            ]
          },
          "execution_count": 181,
          "metadata": {},
          "output_type": "execute_result"
        }
      ],
      "source": [
        "d5 = pd.DataFrame(\n",
        "  {\n",
        "    (\"public\", \"birthyear\"):\n",
        "        {(\"Paris\",\"alice\"):1985, (\"Paris\",\"bob\"): 1984, (\"London\",\"charles\"): 1992},\n",
        "    (\"public\", \"hobby\"):\n",
        "        {(\"Paris\",\"alice\"):\"Biking\", (\"Paris\",\"bob\"): \"Dancing\"},\n",
        "    (\"private\", \"weight\"):\n",
        "        {(\"Paris\",\"alice\"):68, (\"Paris\",\"bob\"): 83, (\"London\",\"charles\"): 112},\n",
        "    (\"private\", \"children\"):\n",
        "        {(\"Paris\", \"alice\"):np.nan, (\"Paris\",\"bob\"): 3, (\"London\",\"charles\"): 0}\n",
        "  }\n",
        ")\n",
        "d5\n",
        "# 인덱스 여러개 있으면 멀티 인덱싱"
      ]
    },
    {
      "cell_type": "markdown",
      "metadata": {
        "id": "mmvUlWPhe3FE"
      },
      "source": [
        "이제 `\"public\"` 열을 모두 담은 `DataFrame`을 손쉽게 만들 수 있습니다:"
      ]
    },
    {
      "cell_type": "code",
      "execution_count": 151,
      "metadata": {
        "id": "NdOfeH4oe3FE",
        "outputId": "295119dd-0af3-4c3c-b259-434e0ce61394"
      },
      "outputs": [
        {
          "data": {
            "text/html": [
              "<div>\n",
              "<style scoped>\n",
              "    .dataframe tbody tr th:only-of-type {\n",
              "        vertical-align: middle;\n",
              "    }\n",
              "\n",
              "    .dataframe tbody tr th {\n",
              "        vertical-align: top;\n",
              "    }\n",
              "\n",
              "    .dataframe thead th {\n",
              "        text-align: right;\n",
              "    }\n",
              "</style>\n",
              "<table border=\"1\" class=\"dataframe\">\n",
              "  <thead>\n",
              "    <tr style=\"text-align: right;\">\n",
              "      <th></th>\n",
              "      <th></th>\n",
              "      <th>birthyear</th>\n",
              "      <th>hobby</th>\n",
              "    </tr>\n",
              "  </thead>\n",
              "  <tbody>\n",
              "    <tr>\n",
              "      <th rowspan=\"2\" valign=\"top\">Paris</th>\n",
              "      <th>alice</th>\n",
              "      <td>1985</td>\n",
              "      <td>Biking</td>\n",
              "    </tr>\n",
              "    <tr>\n",
              "      <th>bob</th>\n",
              "      <td>1984</td>\n",
              "      <td>Dancing</td>\n",
              "    </tr>\n",
              "    <tr>\n",
              "      <th>London</th>\n",
              "      <th>charles</th>\n",
              "      <td>1992</td>\n",
              "      <td>NaN</td>\n",
              "    </tr>\n",
              "  </tbody>\n",
              "</table>\n",
              "</div>"
            ],
            "text/plain": [
              "                birthyear    hobby\n",
              "Paris  alice         1985   Biking\n",
              "       bob           1984  Dancing\n",
              "London charles       1992      NaN"
            ]
          },
          "execution_count": 151,
          "metadata": {},
          "output_type": "execute_result"
        }
      ],
      "source": [
        "d5[\"public\"]"
      ]
    },
    {
      "cell_type": "code",
      "execution_count": 141,
      "metadata": {
        "id": "2vLKTDXWe3FE",
        "outputId": "92f7dc53-03f6-4767-e6d8-d59bb6a8df46"
      },
      "outputs": [
        {
          "data": {
            "text/plain": [
              "Paris   alice       Biking\n",
              "        bob        Dancing\n",
              "London  charles        NaN\n",
              "Name: (public, hobby), dtype: object"
            ]
          },
          "execution_count": 141,
          "metadata": {},
          "output_type": "execute_result"
        }
      ],
      "source": [
        "d5[\"public\", \"hobby\"]  # d5[\"public\"][\"hobby\"]와 같습니다."
      ]
    },
    {
      "cell_type": "code",
      "execution_count": 162,
      "metadata": {
        "id": "OZhKZE51mu56",
        "outputId": "6bd2acb1-568f-4c75-e88c-66df7e00c6b8"
      },
      "outputs": [
        {
          "data": {
            "text/plain": [
              "Paris   alice       Biking\n",
              "        bob        Dancing\n",
              "London  charles        NaN\n",
              "Name: hobby, dtype: object"
            ]
          },
          "execution_count": 162,
          "metadata": {},
          "output_type": "execute_result"
        }
      ],
      "source": [
        "d5[\"public\"]['hobby']"
      ]
    },
    {
      "cell_type": "markdown",
      "metadata": {
        "id": "WHzVjYn1e3FE"
      },
      "source": [
        "## 레벨 낮추기\n",
        "\n",
        "`d5`를 다시 확인해 보죠:"
      ]
    },
    {
      "cell_type": "code",
      "execution_count": 182,
      "metadata": {
        "id": "ZzccxXh1e3FE",
        "outputId": "775b2934-ec50-4c6b-de4c-fc9ac4ebe3d8"
      },
      "outputs": [
        {
          "data": {
            "text/html": [
              "<div>\n",
              "<style scoped>\n",
              "    .dataframe tbody tr th:only-of-type {\n",
              "        vertical-align: middle;\n",
              "    }\n",
              "\n",
              "    .dataframe tbody tr th {\n",
              "        vertical-align: top;\n",
              "    }\n",
              "\n",
              "    .dataframe thead tr th {\n",
              "        text-align: left;\n",
              "    }\n",
              "</style>\n",
              "<table border=\"1\" class=\"dataframe\">\n",
              "  <thead>\n",
              "    <tr>\n",
              "      <th></th>\n",
              "      <th></th>\n",
              "      <th colspan=\"2\" halign=\"left\">public</th>\n",
              "      <th colspan=\"2\" halign=\"left\">private</th>\n",
              "    </tr>\n",
              "    <tr>\n",
              "      <th></th>\n",
              "      <th></th>\n",
              "      <th>birthyear</th>\n",
              "      <th>hobby</th>\n",
              "      <th>weight</th>\n",
              "      <th>children</th>\n",
              "    </tr>\n",
              "  </thead>\n",
              "  <tbody>\n",
              "    <tr>\n",
              "      <th rowspan=\"2\" valign=\"top\">Paris</th>\n",
              "      <th>alice</th>\n",
              "      <td>1985</td>\n",
              "      <td>Biking</td>\n",
              "      <td>68</td>\n",
              "      <td>NaN</td>\n",
              "    </tr>\n",
              "    <tr>\n",
              "      <th>bob</th>\n",
              "      <td>1984</td>\n",
              "      <td>Dancing</td>\n",
              "      <td>83</td>\n",
              "      <td>3.0</td>\n",
              "    </tr>\n",
              "    <tr>\n",
              "      <th>London</th>\n",
              "      <th>charles</th>\n",
              "      <td>1992</td>\n",
              "      <td>NaN</td>\n",
              "      <td>112</td>\n",
              "      <td>0.0</td>\n",
              "    </tr>\n",
              "  </tbody>\n",
              "</table>\n",
              "</div>"
            ],
            "text/plain": [
              "                  public          private         \n",
              "               birthyear    hobby  weight children\n",
              "Paris  alice        1985   Biking      68      NaN\n",
              "       bob          1984  Dancing      83      3.0\n",
              "London charles      1992      NaN     112      0.0"
            ]
          },
          "execution_count": 182,
          "metadata": {},
          "output_type": "execute_result"
        }
      ],
      "source": [
        "d5"
      ]
    },
    {
      "cell_type": "markdown",
      "metadata": {
        "id": "rv7bJfMye3FE"
      },
      "source": [
        "열의 레벨(level)이 2개이고 인덱스 레벨이 2개입니다. `droplevel()`을 사용해 열 레벨을 낮출 수 있습니다(인덱스도 마찬가지입니다):"
      ]
    },
    {
      "cell_type": "code",
      "execution_count": 183,
      "metadata": {
        "id": "7wwOJVcme3FF",
        "outputId": "2fe61211-9957-4e85-96d1-aafe5057b304"
      },
      "outputs": [
        {
          "data": {
            "text/html": [
              "<div>\n",
              "<style scoped>\n",
              "    .dataframe tbody tr th:only-of-type {\n",
              "        vertical-align: middle;\n",
              "    }\n",
              "\n",
              "    .dataframe tbody tr th {\n",
              "        vertical-align: top;\n",
              "    }\n",
              "\n",
              "    .dataframe thead th {\n",
              "        text-align: right;\n",
              "    }\n",
              "</style>\n",
              "<table border=\"1\" class=\"dataframe\">\n",
              "  <thead>\n",
              "    <tr style=\"text-align: right;\">\n",
              "      <th></th>\n",
              "      <th></th>\n",
              "      <th>birthyear</th>\n",
              "      <th>hobby</th>\n",
              "      <th>weight</th>\n",
              "      <th>children</th>\n",
              "    </tr>\n",
              "  </thead>\n",
              "  <tbody>\n",
              "    <tr>\n",
              "      <th rowspan=\"2\" valign=\"top\">Paris</th>\n",
              "      <th>alice</th>\n",
              "      <td>1985</td>\n",
              "      <td>Biking</td>\n",
              "      <td>68</td>\n",
              "      <td>NaN</td>\n",
              "    </tr>\n",
              "    <tr>\n",
              "      <th>bob</th>\n",
              "      <td>1984</td>\n",
              "      <td>Dancing</td>\n",
              "      <td>83</td>\n",
              "      <td>3.0</td>\n",
              "    </tr>\n",
              "    <tr>\n",
              "      <th>London</th>\n",
              "      <th>charles</th>\n",
              "      <td>1992</td>\n",
              "      <td>NaN</td>\n",
              "      <td>112</td>\n",
              "      <td>0.0</td>\n",
              "    </tr>\n",
              "  </tbody>\n",
              "</table>\n",
              "</div>"
            ],
            "text/plain": [
              "                birthyear    hobby  weight  children\n",
              "Paris  alice         1985   Biking      68       NaN\n",
              "       bob           1984  Dancing      83       3.0\n",
              "London charles       1992      NaN     112       0.0"
            ]
          },
          "execution_count": 183,
          "metadata": {},
          "output_type": "execute_result"
        }
      ],
      "source": [
        "d5.columns = d5.columns.droplevel(level = 0) # level = 0(밖), level = 1(안)\n",
        "d5"
      ]
    },
    {
      "cell_type": "code",
      "execution_count": 184,
      "metadata": {
        "id": "_JQe3agrmu56",
        "outputId": "f4f32414-a515-4b54-eaf9-ef45fd912745"
      },
      "outputs": [
        {
          "data": {
            "text/html": [
              "<div>\n",
              "<style scoped>\n",
              "    .dataframe tbody tr th:only-of-type {\n",
              "        vertical-align: middle;\n",
              "    }\n",
              "\n",
              "    .dataframe tbody tr th {\n",
              "        vertical-align: top;\n",
              "    }\n",
              "\n",
              "    .dataframe thead th {\n",
              "        text-align: right;\n",
              "    }\n",
              "</style>\n",
              "<table border=\"1\" class=\"dataframe\">\n",
              "  <thead>\n",
              "    <tr style=\"text-align: right;\">\n",
              "      <th></th>\n",
              "      <th>birthyear</th>\n",
              "      <th>hobby</th>\n",
              "      <th>weight</th>\n",
              "      <th>children</th>\n",
              "    </tr>\n",
              "  </thead>\n",
              "  <tbody>\n",
              "    <tr>\n",
              "      <th>alice</th>\n",
              "      <td>1985</td>\n",
              "      <td>Biking</td>\n",
              "      <td>68</td>\n",
              "      <td>NaN</td>\n",
              "    </tr>\n",
              "    <tr>\n",
              "      <th>bob</th>\n",
              "      <td>1984</td>\n",
              "      <td>Dancing</td>\n",
              "      <td>83</td>\n",
              "      <td>3.0</td>\n",
              "    </tr>\n",
              "    <tr>\n",
              "      <th>charles</th>\n",
              "      <td>1992</td>\n",
              "      <td>NaN</td>\n",
              "      <td>112</td>\n",
              "      <td>0.0</td>\n",
              "    </tr>\n",
              "  </tbody>\n",
              "</table>\n",
              "</div>"
            ],
            "text/plain": [
              "         birthyear    hobby  weight  children\n",
              "alice         1985   Biking      68       NaN\n",
              "bob           1984  Dancing      83       3.0\n",
              "charles       1992      NaN     112       0.0"
            ]
          },
          "execution_count": 184,
          "metadata": {},
          "output_type": "execute_result"
        }
      ],
      "source": [
        "d6 = d5.copy()\n",
        "d6.index = d6.index.droplevel(level = 0)\n",
        "d6"
      ]
    },
    {
      "cell_type": "markdown",
      "metadata": {
        "id": "DZufzuR9e3FF"
      },
      "source": [
        "## 전치\n",
        "\n",
        "`T` 속성을 사용해 열과 인덱스를 바꿀 수 있습니다:"
      ]
    },
    {
      "cell_type": "code",
      "execution_count": 185,
      "metadata": {
        "id": "A3yHi9ohmu56",
        "outputId": "cbccdcf1-cd82-4a3d-dc2a-159e1d709192"
      },
      "outputs": [
        {
          "data": {
            "text/html": [
              "<div>\n",
              "<style scoped>\n",
              "    .dataframe tbody tr th:only-of-type {\n",
              "        vertical-align: middle;\n",
              "    }\n",
              "\n",
              "    .dataframe tbody tr th {\n",
              "        vertical-align: top;\n",
              "    }\n",
              "\n",
              "    .dataframe thead th {\n",
              "        text-align: right;\n",
              "    }\n",
              "</style>\n",
              "<table border=\"1\" class=\"dataframe\">\n",
              "  <thead>\n",
              "    <tr style=\"text-align: right;\">\n",
              "      <th></th>\n",
              "      <th></th>\n",
              "      <th>birthyear</th>\n",
              "      <th>hobby</th>\n",
              "      <th>weight</th>\n",
              "      <th>children</th>\n",
              "    </tr>\n",
              "  </thead>\n",
              "  <tbody>\n",
              "    <tr>\n",
              "      <th rowspan=\"2\" valign=\"top\">Paris</th>\n",
              "      <th>alice</th>\n",
              "      <td>1985</td>\n",
              "      <td>Biking</td>\n",
              "      <td>68</td>\n",
              "      <td>NaN</td>\n",
              "    </tr>\n",
              "    <tr>\n",
              "      <th>bob</th>\n",
              "      <td>1984</td>\n",
              "      <td>Dancing</td>\n",
              "      <td>83</td>\n",
              "      <td>3.0</td>\n",
              "    </tr>\n",
              "    <tr>\n",
              "      <th>London</th>\n",
              "      <th>charles</th>\n",
              "      <td>1992</td>\n",
              "      <td>NaN</td>\n",
              "      <td>112</td>\n",
              "      <td>0.0</td>\n",
              "    </tr>\n",
              "  </tbody>\n",
              "</table>\n",
              "</div>"
            ],
            "text/plain": [
              "                birthyear    hobby  weight  children\n",
              "Paris  alice         1985   Biking      68       NaN\n",
              "       bob           1984  Dancing      83       3.0\n",
              "London charles       1992      NaN     112       0.0"
            ]
          },
          "execution_count": 185,
          "metadata": {},
          "output_type": "execute_result"
        }
      ],
      "source": [
        "d5"
      ]
    },
    {
      "cell_type": "code",
      "execution_count": 186,
      "metadata": {
        "id": "OEEGMyhHe3FF",
        "outputId": "24238804-71f4-4e43-b069-689d9595e18d"
      },
      "outputs": [
        {
          "data": {
            "text/html": [
              "<div>\n",
              "<style scoped>\n",
              "    .dataframe tbody tr th:only-of-type {\n",
              "        vertical-align: middle;\n",
              "    }\n",
              "\n",
              "    .dataframe tbody tr th {\n",
              "        vertical-align: top;\n",
              "    }\n",
              "\n",
              "    .dataframe thead tr th {\n",
              "        text-align: left;\n",
              "    }\n",
              "</style>\n",
              "<table border=\"1\" class=\"dataframe\">\n",
              "  <thead>\n",
              "    <tr>\n",
              "      <th></th>\n",
              "      <th colspan=\"2\" halign=\"left\">Paris</th>\n",
              "      <th>London</th>\n",
              "    </tr>\n",
              "    <tr>\n",
              "      <th></th>\n",
              "      <th>alice</th>\n",
              "      <th>bob</th>\n",
              "      <th>charles</th>\n",
              "    </tr>\n",
              "  </thead>\n",
              "  <tbody>\n",
              "    <tr>\n",
              "      <th>birthyear</th>\n",
              "      <td>1985</td>\n",
              "      <td>1984</td>\n",
              "      <td>1992</td>\n",
              "    </tr>\n",
              "    <tr>\n",
              "      <th>hobby</th>\n",
              "      <td>Biking</td>\n",
              "      <td>Dancing</td>\n",
              "      <td>NaN</td>\n",
              "    </tr>\n",
              "    <tr>\n",
              "      <th>weight</th>\n",
              "      <td>68</td>\n",
              "      <td>83</td>\n",
              "      <td>112</td>\n",
              "    </tr>\n",
              "    <tr>\n",
              "      <th>children</th>\n",
              "      <td>NaN</td>\n",
              "      <td>3.0</td>\n",
              "      <td>0.0</td>\n",
              "    </tr>\n",
              "  </tbody>\n",
              "</table>\n",
              "</div>"
            ],
            "text/plain": [
              "            Paris           London\n",
              "            alice      bob charles\n",
              "birthyear    1985     1984    1992\n",
              "hobby      Biking  Dancing     NaN\n",
              "weight         68       83     112\n",
              "children      NaN      3.0     0.0"
            ]
          },
          "execution_count": 186,
          "metadata": {},
          "output_type": "execute_result"
        }
      ],
      "source": [
        "d6 = d5.T # 행과 열이 바뀌면서 인덱스와 컬럼 위치 바뀜\n",
        "d6"
      ]
    },
    {
      "cell_type": "markdown",
      "metadata": {
        "id": "auwbbG3ee3FF"
      },
      "source": [
        "## 레벨 스택과 언스택\n",
        "\n",
        "`stack()` 메서드는 가장 낮은 열 레벨을 가장 낮은 인덱스 뒤에 추가합니다:"
      ]
    },
    {
      "cell_type": "code",
      "execution_count": 187,
      "metadata": {
        "id": "S06t8bXYmu56",
        "outputId": "9435aa3a-0e43-4347-fb6a-bbf872ecf961"
      },
      "outputs": [
        {
          "data": {
            "text/html": [
              "<div>\n",
              "<style scoped>\n",
              "    .dataframe tbody tr th:only-of-type {\n",
              "        vertical-align: middle;\n",
              "    }\n",
              "\n",
              "    .dataframe tbody tr th {\n",
              "        vertical-align: top;\n",
              "    }\n",
              "\n",
              "    .dataframe thead tr th {\n",
              "        text-align: left;\n",
              "    }\n",
              "</style>\n",
              "<table border=\"1\" class=\"dataframe\">\n",
              "  <thead>\n",
              "    <tr>\n",
              "      <th></th>\n",
              "      <th colspan=\"2\" halign=\"left\">Paris</th>\n",
              "      <th>London</th>\n",
              "    </tr>\n",
              "    <tr>\n",
              "      <th></th>\n",
              "      <th>alice</th>\n",
              "      <th>bob</th>\n",
              "      <th>charles</th>\n",
              "    </tr>\n",
              "  </thead>\n",
              "  <tbody>\n",
              "    <tr>\n",
              "      <th>birthyear</th>\n",
              "      <td>1985</td>\n",
              "      <td>1984</td>\n",
              "      <td>1992</td>\n",
              "    </tr>\n",
              "    <tr>\n",
              "      <th>hobby</th>\n",
              "      <td>Biking</td>\n",
              "      <td>Dancing</td>\n",
              "      <td>NaN</td>\n",
              "    </tr>\n",
              "    <tr>\n",
              "      <th>weight</th>\n",
              "      <td>68</td>\n",
              "      <td>83</td>\n",
              "      <td>112</td>\n",
              "    </tr>\n",
              "    <tr>\n",
              "      <th>children</th>\n",
              "      <td>NaN</td>\n",
              "      <td>3.0</td>\n",
              "      <td>0.0</td>\n",
              "    </tr>\n",
              "  </tbody>\n",
              "</table>\n",
              "</div>"
            ],
            "text/plain": [
              "            Paris           London\n",
              "            alice      bob charles\n",
              "birthyear    1985     1984    1992\n",
              "hobby      Biking  Dancing     NaN\n",
              "weight         68       83     112\n",
              "children      NaN      3.0     0.0"
            ]
          },
          "execution_count": 187,
          "metadata": {},
          "output_type": "execute_result"
        }
      ],
      "source": [
        "d6"
      ]
    },
    {
      "cell_type": "code",
      "execution_count": 188,
      "metadata": {
        "id": "o9Ym9qA0e3FF",
        "outputId": "91c77361-de17-4763-9a26-a8d816836f83"
      },
      "outputs": [
        {
          "data": {
            "text/html": [
              "<div>\n",
              "<style scoped>\n",
              "    .dataframe tbody tr th:only-of-type {\n",
              "        vertical-align: middle;\n",
              "    }\n",
              "\n",
              "    .dataframe tbody tr th {\n",
              "        vertical-align: top;\n",
              "    }\n",
              "\n",
              "    .dataframe thead th {\n",
              "        text-align: right;\n",
              "    }\n",
              "</style>\n",
              "<table border=\"1\" class=\"dataframe\">\n",
              "  <thead>\n",
              "    <tr style=\"text-align: right;\">\n",
              "      <th></th>\n",
              "      <th></th>\n",
              "      <th>London</th>\n",
              "      <th>Paris</th>\n",
              "    </tr>\n",
              "  </thead>\n",
              "  <tbody>\n",
              "    <tr>\n",
              "      <th rowspan=\"3\" valign=\"top\">birthyear</th>\n",
              "      <th>alice</th>\n",
              "      <td>NaN</td>\n",
              "      <td>1985</td>\n",
              "    </tr>\n",
              "    <tr>\n",
              "      <th>bob</th>\n",
              "      <td>NaN</td>\n",
              "      <td>1984</td>\n",
              "    </tr>\n",
              "    <tr>\n",
              "      <th>charles</th>\n",
              "      <td>1992</td>\n",
              "      <td>NaN</td>\n",
              "    </tr>\n",
              "    <tr>\n",
              "      <th rowspan=\"2\" valign=\"top\">hobby</th>\n",
              "      <th>alice</th>\n",
              "      <td>NaN</td>\n",
              "      <td>Biking</td>\n",
              "    </tr>\n",
              "    <tr>\n",
              "      <th>bob</th>\n",
              "      <td>NaN</td>\n",
              "      <td>Dancing</td>\n",
              "    </tr>\n",
              "    <tr>\n",
              "      <th rowspan=\"3\" valign=\"top\">weight</th>\n",
              "      <th>alice</th>\n",
              "      <td>NaN</td>\n",
              "      <td>68</td>\n",
              "    </tr>\n",
              "    <tr>\n",
              "      <th>bob</th>\n",
              "      <td>NaN</td>\n",
              "      <td>83</td>\n",
              "    </tr>\n",
              "    <tr>\n",
              "      <th>charles</th>\n",
              "      <td>112</td>\n",
              "      <td>NaN</td>\n",
              "    </tr>\n",
              "    <tr>\n",
              "      <th rowspan=\"2\" valign=\"top\">children</th>\n",
              "      <th>bob</th>\n",
              "      <td>NaN</td>\n",
              "      <td>3.0</td>\n",
              "    </tr>\n",
              "    <tr>\n",
              "      <th>charles</th>\n",
              "      <td>0.0</td>\n",
              "      <td>NaN</td>\n",
              "    </tr>\n",
              "  </tbody>\n",
              "</table>\n",
              "</div>"
            ],
            "text/plain": [
              "                  London    Paris\n",
              "birthyear alice      NaN     1985\n",
              "          bob        NaN     1984\n",
              "          charles   1992      NaN\n",
              "hobby     alice      NaN   Biking\n",
              "          bob        NaN  Dancing\n",
              "weight    alice      NaN       68\n",
              "          bob        NaN       83\n",
              "          charles    112      NaN\n",
              "children  bob        NaN      3.0\n",
              "          charles    0.0      NaN"
            ]
          },
          "execution_count": 188,
          "metadata": {},
          "output_type": "execute_result"
        }
      ],
      "source": [
        "d7 = d6.stack()\n",
        "d7"
      ]
    },
    {
      "cell_type": "markdown",
      "metadata": {
        "id": "ufOisXJ1e3FF"
      },
      "source": [
        "`NaN` 값이 생겼습니다. 이전에 없던 조합이 생겼기 때문입니다(예를 들어 `London`에 `bob`이 없었습니다).\n",
        "\n",
        "`unstack()`을 호출하면 반대가 됩니다. 여기에서도 많은 `NaN` 값이 생성됩니다."
      ]
    },
    {
      "cell_type": "code",
      "execution_count": 189,
      "metadata": {
        "id": "BwlyD9SNe3FF",
        "outputId": "665c3e87-9665-44a1-99e3-7a71dc76b765"
      },
      "outputs": [
        {
          "data": {
            "text/html": [
              "<div>\n",
              "<style scoped>\n",
              "    .dataframe tbody tr th:only-of-type {\n",
              "        vertical-align: middle;\n",
              "    }\n",
              "\n",
              "    .dataframe tbody tr th {\n",
              "        vertical-align: top;\n",
              "    }\n",
              "\n",
              "    .dataframe thead tr th {\n",
              "        text-align: left;\n",
              "    }\n",
              "</style>\n",
              "<table border=\"1\" class=\"dataframe\">\n",
              "  <thead>\n",
              "    <tr>\n",
              "      <th></th>\n",
              "      <th colspan=\"3\" halign=\"left\">London</th>\n",
              "      <th colspan=\"3\" halign=\"left\">Paris</th>\n",
              "    </tr>\n",
              "    <tr>\n",
              "      <th></th>\n",
              "      <th>alice</th>\n",
              "      <th>bob</th>\n",
              "      <th>charles</th>\n",
              "      <th>alice</th>\n",
              "      <th>bob</th>\n",
              "      <th>charles</th>\n",
              "    </tr>\n",
              "  </thead>\n",
              "  <tbody>\n",
              "    <tr>\n",
              "      <th>birthyear</th>\n",
              "      <td>NaN</td>\n",
              "      <td>NaN</td>\n",
              "      <td>1992</td>\n",
              "      <td>1985</td>\n",
              "      <td>1984</td>\n",
              "      <td>NaN</td>\n",
              "    </tr>\n",
              "    <tr>\n",
              "      <th>children</th>\n",
              "      <td>NaN</td>\n",
              "      <td>NaN</td>\n",
              "      <td>0.0</td>\n",
              "      <td>NaN</td>\n",
              "      <td>3.0</td>\n",
              "      <td>NaN</td>\n",
              "    </tr>\n",
              "    <tr>\n",
              "      <th>hobby</th>\n",
              "      <td>NaN</td>\n",
              "      <td>NaN</td>\n",
              "      <td>NaN</td>\n",
              "      <td>Biking</td>\n",
              "      <td>Dancing</td>\n",
              "      <td>NaN</td>\n",
              "    </tr>\n",
              "    <tr>\n",
              "      <th>weight</th>\n",
              "      <td>NaN</td>\n",
              "      <td>NaN</td>\n",
              "      <td>112</td>\n",
              "      <td>68</td>\n",
              "      <td>83</td>\n",
              "      <td>NaN</td>\n",
              "    </tr>\n",
              "  </tbody>\n",
              "</table>\n",
              "</div>"
            ],
            "text/plain": [
              "          London                Paris                 \n",
              "           alice  bob charles   alice      bob charles\n",
              "birthyear    NaN  NaN    1992    1985     1984     NaN\n",
              "children     NaN  NaN     0.0     NaN      3.0     NaN\n",
              "hobby        NaN  NaN     NaN  Biking  Dancing     NaN\n",
              "weight       NaN  NaN     112      68       83     NaN"
            ]
          },
          "execution_count": 189,
          "metadata": {},
          "output_type": "execute_result"
        }
      ],
      "source": [
        "d8 = d7.unstack()\n",
        "d8"
      ]
    },
    {
      "cell_type": "markdown",
      "metadata": {
        "id": "xjx7iiQVe3FF"
      },
      "source": [
        "`unstack`을 다시 호출하면 `Series` 객체가 만들어 집니다:"
      ]
    },
    {
      "cell_type": "code",
      "execution_count": 190,
      "metadata": {
        "id": "qvG7QRQ5e3FF",
        "outputId": "7596d5c8-7329-48ce-8069-76456eb3ebd2"
      },
      "outputs": [
        {
          "data": {
            "text/plain": [
              "London  alice    birthyear        NaN\n",
              "                 children         NaN\n",
              "                 hobby            NaN\n",
              "                 weight           NaN\n",
              "        bob      birthyear        NaN\n",
              "                 children         NaN\n",
              "                 hobby            NaN\n",
              "                 weight           NaN\n",
              "        charles  birthyear       1992\n",
              "                 children         0.0\n",
              "                 hobby            NaN\n",
              "                 weight           112\n",
              "Paris   alice    birthyear       1985\n",
              "                 children         NaN\n",
              "                 hobby         Biking\n",
              "                 weight            68\n",
              "        bob      birthyear       1984\n",
              "                 children         3.0\n",
              "                 hobby        Dancing\n",
              "                 weight            83\n",
              "        charles  birthyear        NaN\n",
              "                 children         NaN\n",
              "                 hobby            NaN\n",
              "                 weight           NaN\n",
              "dtype: object"
            ]
          },
          "execution_count": 190,
          "metadata": {},
          "output_type": "execute_result"
        }
      ],
      "source": [
        "d9 = d8.unstack()\n",
        "d9"
      ]
    },
    {
      "cell_type": "markdown",
      "metadata": {
        "id": "vb5EAm9ne3FG"
      },
      "source": [
        "`stack()`과 `unstack()` 메서드를 사용할 때 스택/언스택할 `level`을 선택할 수 있습니다. 심지어 한 번에 여러 개의 레벨을 스택/언스택할 수도 있습니다:"
      ]
    },
    {
      "cell_type": "code",
      "execution_count": 191,
      "metadata": {
        "id": "fKG6weQfe3FG",
        "outputId": "efa166d1-5cfa-4089-f560-789a719cee83",
        "scrolled": true
      },
      "outputs": [
        {
          "data": {
            "text/html": [
              "<div>\n",
              "<style scoped>\n",
              "    .dataframe tbody tr th:only-of-type {\n",
              "        vertical-align: middle;\n",
              "    }\n",
              "\n",
              "    .dataframe tbody tr th {\n",
              "        vertical-align: top;\n",
              "    }\n",
              "\n",
              "    .dataframe thead tr th {\n",
              "        text-align: left;\n",
              "    }\n",
              "</style>\n",
              "<table border=\"1\" class=\"dataframe\">\n",
              "  <thead>\n",
              "    <tr>\n",
              "      <th></th>\n",
              "      <th colspan=\"3\" halign=\"left\">London</th>\n",
              "      <th colspan=\"3\" halign=\"left\">Paris</th>\n",
              "    </tr>\n",
              "    <tr>\n",
              "      <th></th>\n",
              "      <th>alice</th>\n",
              "      <th>bob</th>\n",
              "      <th>charles</th>\n",
              "      <th>alice</th>\n",
              "      <th>bob</th>\n",
              "      <th>charles</th>\n",
              "    </tr>\n",
              "  </thead>\n",
              "  <tbody>\n",
              "    <tr>\n",
              "      <th>birthyear</th>\n",
              "      <td>NaN</td>\n",
              "      <td>NaN</td>\n",
              "      <td>1992</td>\n",
              "      <td>1985</td>\n",
              "      <td>1984</td>\n",
              "      <td>NaN</td>\n",
              "    </tr>\n",
              "    <tr>\n",
              "      <th>children</th>\n",
              "      <td>NaN</td>\n",
              "      <td>NaN</td>\n",
              "      <td>0.0</td>\n",
              "      <td>NaN</td>\n",
              "      <td>3.0</td>\n",
              "      <td>NaN</td>\n",
              "    </tr>\n",
              "    <tr>\n",
              "      <th>hobby</th>\n",
              "      <td>NaN</td>\n",
              "      <td>NaN</td>\n",
              "      <td>NaN</td>\n",
              "      <td>Biking</td>\n",
              "      <td>Dancing</td>\n",
              "      <td>NaN</td>\n",
              "    </tr>\n",
              "    <tr>\n",
              "      <th>weight</th>\n",
              "      <td>NaN</td>\n",
              "      <td>NaN</td>\n",
              "      <td>112</td>\n",
              "      <td>68</td>\n",
              "      <td>83</td>\n",
              "      <td>NaN</td>\n",
              "    </tr>\n",
              "  </tbody>\n",
              "</table>\n",
              "</div>"
            ],
            "text/plain": [
              "          London                Paris                 \n",
              "           alice  bob charles   alice      bob charles\n",
              "birthyear    NaN  NaN    1992    1985     1984     NaN\n",
              "children     NaN  NaN     0.0     NaN      3.0     NaN\n",
              "hobby        NaN  NaN     NaN  Biking  Dancing     NaN\n",
              "weight       NaN  NaN     112      68       83     NaN"
            ]
          },
          "execution_count": 191,
          "metadata": {},
          "output_type": "execute_result"
        }
      ],
      "source": [
        "d10 = d9.unstack(level = (0,1))\n",
        "d10"
      ]
    },
    {
      "cell_type": "markdown",
      "metadata": {
        "id": "CBhFXoOwe3FG"
      },
      "source": [
        "## 대부분의 메서드는 수정된 복사본을 반환합니다\n",
        "\n",
        "눈치챘겠지만 `stack()`과 `unstack()` 메서드는 객체를 수정하지 않습니다. 대신 복사본을 만들어 반환합니다. 판다스에 있는 대부분의 메서드들이 이렇게 동작합니다.\n",
        "\n",
        "Stack & Unstack + Pivot에 대한 설명 참고 https://pandas.pydata.org/docs/user_guide/reshaping.html  \n",
        "Data Reshaping! "
      ]
    },
    {
      "cell_type": "markdown",
      "metadata": {
        "id": "WytdpB3Hmu57"
      },
      "source": [
        "### Pivot"
      ]
    },
    {
      "cell_type": "code",
      "execution_count": 193,
      "metadata": {
        "id": "VcmSWySKmu57"
      },
      "outputs": [],
      "source": [
        "import pandas._testing as tm\n",
        "\n",
        "def unpivot(frame):\n",
        "    N, K = frame.shape\n",
        "    data = {\n",
        "        \"value\": frame.to_numpy().ravel(\"F\"),\n",
        "        \"variable\": np.asarray(frame.columns).repeat(N),\n",
        "        \"date\": np.tile(np.asarray(frame.index), K),\n",
        "    }\n",
        "    return pd.DataFrame(data, columns=[\"date\", \"variable\", \"value\"])\n",
        "\n",
        "df = unpivot(tm.makeTimeDataFrame(3))"
      ]
    },
    {
      "cell_type": "code",
      "execution_count": 194,
      "metadata": {
        "id": "-7UHDQkZmu57",
        "outputId": "244c228e-ebc8-4335-9992-62ad72e6a38d"
      },
      "outputs": [
        {
          "data": {
            "text/html": [
              "<div>\n",
              "<style scoped>\n",
              "    .dataframe tbody tr th:only-of-type {\n",
              "        vertical-align: middle;\n",
              "    }\n",
              "\n",
              "    .dataframe tbody tr th {\n",
              "        vertical-align: top;\n",
              "    }\n",
              "\n",
              "    .dataframe thead th {\n",
              "        text-align: right;\n",
              "    }\n",
              "</style>\n",
              "<table border=\"1\" class=\"dataframe\">\n",
              "  <thead>\n",
              "    <tr style=\"text-align: right;\">\n",
              "      <th></th>\n",
              "      <th>date</th>\n",
              "      <th>variable</th>\n",
              "      <th>value</th>\n",
              "    </tr>\n",
              "  </thead>\n",
              "  <tbody>\n",
              "    <tr>\n",
              "      <th>0</th>\n",
              "      <td>2000-01-03</td>\n",
              "      <td>A</td>\n",
              "      <td>-0.108510</td>\n",
              "    </tr>\n",
              "    <tr>\n",
              "      <th>1</th>\n",
              "      <td>2000-01-04</td>\n",
              "      <td>A</td>\n",
              "      <td>0.215466</td>\n",
              "    </tr>\n",
              "    <tr>\n",
              "      <th>2</th>\n",
              "      <td>2000-01-05</td>\n",
              "      <td>A</td>\n",
              "      <td>0.007444</td>\n",
              "    </tr>\n",
              "    <tr>\n",
              "      <th>3</th>\n",
              "      <td>2000-01-03</td>\n",
              "      <td>B</td>\n",
              "      <td>0.212752</td>\n",
              "    </tr>\n",
              "    <tr>\n",
              "      <th>4</th>\n",
              "      <td>2000-01-04</td>\n",
              "      <td>B</td>\n",
              "      <td>-0.265006</td>\n",
              "    </tr>\n",
              "    <tr>\n",
              "      <th>5</th>\n",
              "      <td>2000-01-05</td>\n",
              "      <td>B</td>\n",
              "      <td>-1.216988</td>\n",
              "    </tr>\n",
              "    <tr>\n",
              "      <th>6</th>\n",
              "      <td>2000-01-03</td>\n",
              "      <td>C</td>\n",
              "      <td>-0.382717</td>\n",
              "    </tr>\n",
              "    <tr>\n",
              "      <th>7</th>\n",
              "      <td>2000-01-04</td>\n",
              "      <td>C</td>\n",
              "      <td>-0.662205</td>\n",
              "    </tr>\n",
              "    <tr>\n",
              "      <th>8</th>\n",
              "      <td>2000-01-05</td>\n",
              "      <td>C</td>\n",
              "      <td>-0.628030</td>\n",
              "    </tr>\n",
              "    <tr>\n",
              "      <th>9</th>\n",
              "      <td>2000-01-03</td>\n",
              "      <td>D</td>\n",
              "      <td>0.017341</td>\n",
              "    </tr>\n",
              "    <tr>\n",
              "      <th>10</th>\n",
              "      <td>2000-01-04</td>\n",
              "      <td>D</td>\n",
              "      <td>0.609268</td>\n",
              "    </tr>\n",
              "    <tr>\n",
              "      <th>11</th>\n",
              "      <td>2000-01-05</td>\n",
              "      <td>D</td>\n",
              "      <td>-0.285330</td>\n",
              "    </tr>\n",
              "  </tbody>\n",
              "</table>\n",
              "</div>"
            ],
            "text/plain": [
              "         date variable     value\n",
              "0  2000-01-03        A -0.108510\n",
              "1  2000-01-04        A  0.215466\n",
              "2  2000-01-05        A  0.007444\n",
              "3  2000-01-03        B  0.212752\n",
              "4  2000-01-04        B -0.265006\n",
              "5  2000-01-05        B -1.216988\n",
              "6  2000-01-03        C -0.382717\n",
              "7  2000-01-04        C -0.662205\n",
              "8  2000-01-05        C -0.628030\n",
              "9  2000-01-03        D  0.017341\n",
              "10 2000-01-04        D  0.609268\n",
              "11 2000-01-05        D -0.285330"
            ]
          },
          "execution_count": 194,
          "metadata": {},
          "output_type": "execute_result"
        }
      ],
      "source": [
        "df"
      ]
    },
    {
      "cell_type": "markdown",
      "metadata": {
        "id": "qQrrJSEGmu57"
      },
      "source": [
        "To select out everything for variable A we could do:"
      ]
    },
    {
      "cell_type": "code",
      "execution_count": 70,
      "metadata": {
        "id": "-4anGL0Mmu57",
        "outputId": "7caadb69-faa3-44b3-f577-5e65fa043859"
      },
      "outputs": [
        {
          "data": {
            "text/html": [
              "<div>\n",
              "<style scoped>\n",
              "    .dataframe tbody tr th:only-of-type {\n",
              "        vertical-align: middle;\n",
              "    }\n",
              "\n",
              "    .dataframe tbody tr th {\n",
              "        vertical-align: top;\n",
              "    }\n",
              "\n",
              "    .dataframe thead th {\n",
              "        text-align: right;\n",
              "    }\n",
              "</style>\n",
              "<table border=\"1\" class=\"dataframe\">\n",
              "  <thead>\n",
              "    <tr style=\"text-align: right;\">\n",
              "      <th></th>\n",
              "      <th>date</th>\n",
              "      <th>variable</th>\n",
              "      <th>value</th>\n",
              "    </tr>\n",
              "  </thead>\n",
              "  <tbody>\n",
              "    <tr>\n",
              "      <th>0</th>\n",
              "      <td>2000-01-03</td>\n",
              "      <td>A</td>\n",
              "      <td>-0.807463</td>\n",
              "    </tr>\n",
              "    <tr>\n",
              "      <th>1</th>\n",
              "      <td>2000-01-04</td>\n",
              "      <td>A</td>\n",
              "      <td>2.014064</td>\n",
              "    </tr>\n",
              "    <tr>\n",
              "      <th>2</th>\n",
              "      <td>2000-01-05</td>\n",
              "      <td>A</td>\n",
              "      <td>-1.345071</td>\n",
              "    </tr>\n",
              "  </tbody>\n",
              "</table>\n",
              "</div>"
            ],
            "text/plain": [
              "        date variable     value\n",
              "0 2000-01-03        A -0.807463\n",
              "1 2000-01-04        A  2.014064\n",
              "2 2000-01-05        A -1.345071"
            ]
          },
          "execution_count": 70,
          "metadata": {},
          "output_type": "execute_result"
        }
      ],
      "source": [
        "filtered = df[df[\"variable\"] == \"A\"] # \"variable\"의 \"A\"만 뽑고싶을 때\n",
        "filtered"
      ]
    },
    {
      "cell_type": "markdown",
      "metadata": {
        "id": "7C14lQ8Umu57"
      },
      "source": [
        "But suppose we wish to do time series operations with the variables. A better representation would be where the columns are the unique variables and an index of dates identifies individual observations. To reshape the data into this form, we use the DataFrame.pivot() method (also implemented as a top level function pivot()):"
      ]
    },
    {
      "cell_type": "code",
      "execution_count": 197,
      "metadata": {
        "id": "m_GnznmVmu57",
        "outputId": "9ee18994-e639-40e9-ef1e-c496815c7868"
      },
      "outputs": [
        {
          "data": {
            "text/html": [
              "<div>\n",
              "<style scoped>\n",
              "    .dataframe tbody tr th:only-of-type {\n",
              "        vertical-align: middle;\n",
              "    }\n",
              "\n",
              "    .dataframe tbody tr th {\n",
              "        vertical-align: top;\n",
              "    }\n",
              "\n",
              "    .dataframe thead th {\n",
              "        text-align: right;\n",
              "    }\n",
              "</style>\n",
              "<table border=\"1\" class=\"dataframe\">\n",
              "  <thead>\n",
              "    <tr style=\"text-align: right;\">\n",
              "      <th>variable</th>\n",
              "      <th>A</th>\n",
              "      <th>B</th>\n",
              "      <th>C</th>\n",
              "      <th>D</th>\n",
              "    </tr>\n",
              "    <tr>\n",
              "      <th>date</th>\n",
              "      <th></th>\n",
              "      <th></th>\n",
              "      <th></th>\n",
              "      <th></th>\n",
              "    </tr>\n",
              "  </thead>\n",
              "  <tbody>\n",
              "    <tr>\n",
              "      <th>2000-01-03</th>\n",
              "      <td>-0.108510</td>\n",
              "      <td>0.212752</td>\n",
              "      <td>-0.382717</td>\n",
              "      <td>0.017341</td>\n",
              "    </tr>\n",
              "    <tr>\n",
              "      <th>2000-01-04</th>\n",
              "      <td>0.215466</td>\n",
              "      <td>-0.265006</td>\n",
              "      <td>-0.662205</td>\n",
              "      <td>0.609268</td>\n",
              "    </tr>\n",
              "    <tr>\n",
              "      <th>2000-01-05</th>\n",
              "      <td>0.007444</td>\n",
              "      <td>-1.216988</td>\n",
              "      <td>-0.628030</td>\n",
              "      <td>-0.285330</td>\n",
              "    </tr>\n",
              "  </tbody>\n",
              "</table>\n",
              "</div>"
            ],
            "text/plain": [
              "variable           A         B         C         D\n",
              "date                                              \n",
              "2000-01-03 -0.108510  0.212752 -0.382717  0.017341\n",
              "2000-01-04  0.215466 -0.265006 -0.662205  0.609268\n",
              "2000-01-05  0.007444 -1.216988 -0.628030 -0.285330"
            ]
          },
          "execution_count": 197,
          "metadata": {},
          "output_type": "execute_result"
        }
      ],
      "source": [
        "pivoted = df.pivot(index=\"date\", columns=\"variable\", values=\"value\")\n",
        "\n",
        "pivoted"
      ]
    },
    {
      "cell_type": "code",
      "execution_count": 198,
      "metadata": {
        "id": "JNJElf6Cmu57",
        "outputId": "d161af5f-1fe3-4f28-8930-a21233d2ba3e"
      },
      "outputs": [
        {
          "data": {
            "text/plain": [
              "Index(['A', 'B', 'C', 'D'], dtype='object', name='variable')"
            ]
          },
          "execution_count": 198,
          "metadata": {},
          "output_type": "execute_result"
        }
      ],
      "source": [
        "pivoted.columns"
      ]
    },
    {
      "cell_type": "code",
      "execution_count": 199,
      "metadata": {
        "id": "3alr95Ytmu57",
        "outputId": "cc70341e-f4ab-4729-ab17-e3b1eead2872"
      },
      "outputs": [
        {
          "data": {
            "text/plain": [
              "DatetimeIndex(['2000-01-03', '2000-01-04', '2000-01-05'], dtype='datetime64[ns]', name='date', freq=None)"
            ]
          },
          "execution_count": 199,
          "metadata": {},
          "output_type": "execute_result"
        }
      ],
      "source": [
        "pivoted.index"
      ]
    },
    {
      "cell_type": "markdown",
      "metadata": {
        "id": "uGDHQvZcmu57"
      },
      "source": [
        "If the values argument is omitted, and the input DataFrame has more than one column of values which are not used as column or index inputs to pivot(), then the resulting “pivoted” DataFrame will have hierarchical columns whose topmost level indicates the respective value column:"
      ]
    },
    {
      "cell_type": "code",
      "execution_count": 200,
      "metadata": {
        "id": "hDR-hHeimu57"
      },
      "outputs": [],
      "source": [
        "df[\"value2\"] = df[\"value\"] * 2"
      ]
    },
    {
      "cell_type": "code",
      "execution_count": 201,
      "metadata": {
        "id": "fIyIKTrbmu58",
        "outputId": "e305677d-1aa1-41d9-c0dd-10c82e97e159"
      },
      "outputs": [
        {
          "data": {
            "text/html": [
              "<div>\n",
              "<style scoped>\n",
              "    .dataframe tbody tr th:only-of-type {\n",
              "        vertical-align: middle;\n",
              "    }\n",
              "\n",
              "    .dataframe tbody tr th {\n",
              "        vertical-align: top;\n",
              "    }\n",
              "\n",
              "    .dataframe thead th {\n",
              "        text-align: right;\n",
              "    }\n",
              "</style>\n",
              "<table border=\"1\" class=\"dataframe\">\n",
              "  <thead>\n",
              "    <tr style=\"text-align: right;\">\n",
              "      <th></th>\n",
              "      <th>date</th>\n",
              "      <th>variable</th>\n",
              "      <th>value</th>\n",
              "      <th>value2</th>\n",
              "    </tr>\n",
              "  </thead>\n",
              "  <tbody>\n",
              "    <tr>\n",
              "      <th>0</th>\n",
              "      <td>2000-01-03</td>\n",
              "      <td>A</td>\n",
              "      <td>-0.108510</td>\n",
              "      <td>-0.217021</td>\n",
              "    </tr>\n",
              "    <tr>\n",
              "      <th>1</th>\n",
              "      <td>2000-01-04</td>\n",
              "      <td>A</td>\n",
              "      <td>0.215466</td>\n",
              "      <td>0.430932</td>\n",
              "    </tr>\n",
              "    <tr>\n",
              "      <th>2</th>\n",
              "      <td>2000-01-05</td>\n",
              "      <td>A</td>\n",
              "      <td>0.007444</td>\n",
              "      <td>0.014887</td>\n",
              "    </tr>\n",
              "    <tr>\n",
              "      <th>3</th>\n",
              "      <td>2000-01-03</td>\n",
              "      <td>B</td>\n",
              "      <td>0.212752</td>\n",
              "      <td>0.425503</td>\n",
              "    </tr>\n",
              "    <tr>\n",
              "      <th>4</th>\n",
              "      <td>2000-01-04</td>\n",
              "      <td>B</td>\n",
              "      <td>-0.265006</td>\n",
              "      <td>-0.530012</td>\n",
              "    </tr>\n",
              "    <tr>\n",
              "      <th>5</th>\n",
              "      <td>2000-01-05</td>\n",
              "      <td>B</td>\n",
              "      <td>-1.216988</td>\n",
              "      <td>-2.433976</td>\n",
              "    </tr>\n",
              "    <tr>\n",
              "      <th>6</th>\n",
              "      <td>2000-01-03</td>\n",
              "      <td>C</td>\n",
              "      <td>-0.382717</td>\n",
              "      <td>-0.765434</td>\n",
              "    </tr>\n",
              "    <tr>\n",
              "      <th>7</th>\n",
              "      <td>2000-01-04</td>\n",
              "      <td>C</td>\n",
              "      <td>-0.662205</td>\n",
              "      <td>-1.324409</td>\n",
              "    </tr>\n",
              "    <tr>\n",
              "      <th>8</th>\n",
              "      <td>2000-01-05</td>\n",
              "      <td>C</td>\n",
              "      <td>-0.628030</td>\n",
              "      <td>-1.256060</td>\n",
              "    </tr>\n",
              "    <tr>\n",
              "      <th>9</th>\n",
              "      <td>2000-01-03</td>\n",
              "      <td>D</td>\n",
              "      <td>0.017341</td>\n",
              "      <td>0.034683</td>\n",
              "    </tr>\n",
              "    <tr>\n",
              "      <th>10</th>\n",
              "      <td>2000-01-04</td>\n",
              "      <td>D</td>\n",
              "      <td>0.609268</td>\n",
              "      <td>1.218535</td>\n",
              "    </tr>\n",
              "    <tr>\n",
              "      <th>11</th>\n",
              "      <td>2000-01-05</td>\n",
              "      <td>D</td>\n",
              "      <td>-0.285330</td>\n",
              "      <td>-0.570659</td>\n",
              "    </tr>\n",
              "  </tbody>\n",
              "</table>\n",
              "</div>"
            ],
            "text/plain": [
              "         date variable     value    value2\n",
              "0  2000-01-03        A -0.108510 -0.217021\n",
              "1  2000-01-04        A  0.215466  0.430932\n",
              "2  2000-01-05        A  0.007444  0.014887\n",
              "3  2000-01-03        B  0.212752  0.425503\n",
              "4  2000-01-04        B -0.265006 -0.530012\n",
              "5  2000-01-05        B -1.216988 -2.433976\n",
              "6  2000-01-03        C -0.382717 -0.765434\n",
              "7  2000-01-04        C -0.662205 -1.324409\n",
              "8  2000-01-05        C -0.628030 -1.256060\n",
              "9  2000-01-03        D  0.017341  0.034683\n",
              "10 2000-01-04        D  0.609268  1.218535\n",
              "11 2000-01-05        D -0.285330 -0.570659"
            ]
          },
          "execution_count": 201,
          "metadata": {},
          "output_type": "execute_result"
        }
      ],
      "source": [
        "df"
      ]
    },
    {
      "cell_type": "code",
      "execution_count": 202,
      "metadata": {
        "id": "-T0iro6wmu58",
        "outputId": "2bbb1a06-0c11-4499-d10c-09c6e29fbde9"
      },
      "outputs": [
        {
          "data": {
            "text/html": [
              "<div>\n",
              "<style scoped>\n",
              "    .dataframe tbody tr th:only-of-type {\n",
              "        vertical-align: middle;\n",
              "    }\n",
              "\n",
              "    .dataframe tbody tr th {\n",
              "        vertical-align: top;\n",
              "    }\n",
              "\n",
              "    .dataframe thead tr th {\n",
              "        text-align: left;\n",
              "    }\n",
              "\n",
              "    .dataframe thead tr:last-of-type th {\n",
              "        text-align: right;\n",
              "    }\n",
              "</style>\n",
              "<table border=\"1\" class=\"dataframe\">\n",
              "  <thead>\n",
              "    <tr>\n",
              "      <th></th>\n",
              "      <th colspan=\"4\" halign=\"left\">value</th>\n",
              "      <th colspan=\"4\" halign=\"left\">value2</th>\n",
              "    </tr>\n",
              "    <tr>\n",
              "      <th>variable</th>\n",
              "      <th>A</th>\n",
              "      <th>B</th>\n",
              "      <th>C</th>\n",
              "      <th>D</th>\n",
              "      <th>A</th>\n",
              "      <th>B</th>\n",
              "      <th>C</th>\n",
              "      <th>D</th>\n",
              "    </tr>\n",
              "    <tr>\n",
              "      <th>date</th>\n",
              "      <th></th>\n",
              "      <th></th>\n",
              "      <th></th>\n",
              "      <th></th>\n",
              "      <th></th>\n",
              "      <th></th>\n",
              "      <th></th>\n",
              "      <th></th>\n",
              "    </tr>\n",
              "  </thead>\n",
              "  <tbody>\n",
              "    <tr>\n",
              "      <th>2000-01-03</th>\n",
              "      <td>-0.108510</td>\n",
              "      <td>0.212752</td>\n",
              "      <td>-0.382717</td>\n",
              "      <td>0.017341</td>\n",
              "      <td>-0.217021</td>\n",
              "      <td>0.425503</td>\n",
              "      <td>-0.765434</td>\n",
              "      <td>0.034683</td>\n",
              "    </tr>\n",
              "    <tr>\n",
              "      <th>2000-01-04</th>\n",
              "      <td>0.215466</td>\n",
              "      <td>-0.265006</td>\n",
              "      <td>-0.662205</td>\n",
              "      <td>0.609268</td>\n",
              "      <td>0.430932</td>\n",
              "      <td>-0.530012</td>\n",
              "      <td>-1.324409</td>\n",
              "      <td>1.218535</td>\n",
              "    </tr>\n",
              "    <tr>\n",
              "      <th>2000-01-05</th>\n",
              "      <td>0.007444</td>\n",
              "      <td>-1.216988</td>\n",
              "      <td>-0.628030</td>\n",
              "      <td>-0.285330</td>\n",
              "      <td>0.014887</td>\n",
              "      <td>-2.433976</td>\n",
              "      <td>-1.256060</td>\n",
              "      <td>-0.570659</td>\n",
              "    </tr>\n",
              "  </tbody>\n",
              "</table>\n",
              "</div>"
            ],
            "text/plain": [
              "               value                                  value2            \\\n",
              "variable           A         B         C         D         A         B   \n",
              "date                                                                     \n",
              "2000-01-03 -0.108510  0.212752 -0.382717  0.017341 -0.217021  0.425503   \n",
              "2000-01-04  0.215466 -0.265006 -0.662205  0.609268  0.430932 -0.530012   \n",
              "2000-01-05  0.007444 -1.216988 -0.628030 -0.285330  0.014887 -2.433976   \n",
              "\n",
              "                                \n",
              "variable           C         D  \n",
              "date                            \n",
              "2000-01-03 -0.765434  0.034683  \n",
              "2000-01-04 -1.324409  1.218535  \n",
              "2000-01-05 -1.256060 -0.570659  "
            ]
          },
          "execution_count": 202,
          "metadata": {},
          "output_type": "execute_result"
        }
      ],
      "source": [
        "pivoted = df.pivot(index=\"date\", columns=\"variable\")\n",
        "\n",
        "pivoted"
      ]
    },
    {
      "cell_type": "code",
      "execution_count": 203,
      "metadata": {
        "id": "dS__YHMcmu58",
        "outputId": "3c756ea3-078c-41d8-beb9-811242e08eb8"
      },
      "outputs": [
        {
          "data": {
            "text/html": [
              "<div>\n",
              "<style scoped>\n",
              "    .dataframe tbody tr th:only-of-type {\n",
              "        vertical-align: middle;\n",
              "    }\n",
              "\n",
              "    .dataframe tbody tr th {\n",
              "        vertical-align: top;\n",
              "    }\n",
              "\n",
              "    .dataframe thead th {\n",
              "        text-align: right;\n",
              "    }\n",
              "</style>\n",
              "<table border=\"1\" class=\"dataframe\">\n",
              "  <thead>\n",
              "    <tr style=\"text-align: right;\">\n",
              "      <th>variable</th>\n",
              "      <th>A</th>\n",
              "      <th>B</th>\n",
              "      <th>C</th>\n",
              "      <th>D</th>\n",
              "    </tr>\n",
              "    <tr>\n",
              "      <th>date</th>\n",
              "      <th></th>\n",
              "      <th></th>\n",
              "      <th></th>\n",
              "      <th></th>\n",
              "    </tr>\n",
              "  </thead>\n",
              "  <tbody>\n",
              "    <tr>\n",
              "      <th>2000-01-03</th>\n",
              "      <td>-0.108510</td>\n",
              "      <td>0.212752</td>\n",
              "      <td>-0.382717</td>\n",
              "      <td>0.017341</td>\n",
              "    </tr>\n",
              "    <tr>\n",
              "      <th>2000-01-04</th>\n",
              "      <td>0.215466</td>\n",
              "      <td>-0.265006</td>\n",
              "      <td>-0.662205</td>\n",
              "      <td>0.609268</td>\n",
              "    </tr>\n",
              "    <tr>\n",
              "      <th>2000-01-05</th>\n",
              "      <td>0.007444</td>\n",
              "      <td>-1.216988</td>\n",
              "      <td>-0.628030</td>\n",
              "      <td>-0.285330</td>\n",
              "    </tr>\n",
              "  </tbody>\n",
              "</table>\n",
              "</div>"
            ],
            "text/plain": [
              "variable           A         B         C         D\n",
              "date                                              \n",
              "2000-01-03 -0.108510  0.212752 -0.382717  0.017341\n",
              "2000-01-04  0.215466 -0.265006 -0.662205  0.609268\n",
              "2000-01-05  0.007444 -1.216988 -0.628030 -0.285330"
            ]
          },
          "execution_count": 203,
          "metadata": {},
          "output_type": "execute_result"
        }
      ],
      "source": [
        "pivoted['value']"
      ]
    },
    {
      "cell_type": "markdown",
      "metadata": {
        "id": "vHtcXOEle3FG"
      },
      "source": [
        "## 행 참조하기\n",
        "\n",
        "`people` `DataFrame`으로 돌아가 보죠:"
      ]
    },
    {
      "cell_type": "code",
      "execution_count": 204,
      "metadata": {
        "id": "8tEG-zJ6e3FG",
        "outputId": "4203067d-7b54-4f36-ddee-4e3d0666e284"
      },
      "outputs": [
        {
          "data": {
            "text/html": [
              "<div>\n",
              "<style scoped>\n",
              "    .dataframe tbody tr th:only-of-type {\n",
              "        vertical-align: middle;\n",
              "    }\n",
              "\n",
              "    .dataframe tbody tr th {\n",
              "        vertical-align: top;\n",
              "    }\n",
              "\n",
              "    .dataframe thead th {\n",
              "        text-align: right;\n",
              "    }\n",
              "</style>\n",
              "<table border=\"1\" class=\"dataframe\">\n",
              "  <thead>\n",
              "    <tr style=\"text-align: right;\">\n",
              "      <th></th>\n",
              "      <th>birthyear</th>\n",
              "      <th>hobby</th>\n",
              "      <th>weight</th>\n",
              "      <th>children</th>\n",
              "    </tr>\n",
              "  </thead>\n",
              "  <tbody>\n",
              "    <tr>\n",
              "      <th>alice</th>\n",
              "      <td>1985</td>\n",
              "      <td>Biking</td>\n",
              "      <td>68</td>\n",
              "      <td>NaN</td>\n",
              "    </tr>\n",
              "    <tr>\n",
              "      <th>bob</th>\n",
              "      <td>1984</td>\n",
              "      <td>Dancing</td>\n",
              "      <td>83</td>\n",
              "      <td>3.0</td>\n",
              "    </tr>\n",
              "    <tr>\n",
              "      <th>charles</th>\n",
              "      <td>1992</td>\n",
              "      <td>NaN</td>\n",
              "      <td>112</td>\n",
              "      <td>0.0</td>\n",
              "    </tr>\n",
              "  </tbody>\n",
              "</table>\n",
              "</div>"
            ],
            "text/plain": [
              "         birthyear    hobby  weight  children\n",
              "alice         1985   Biking      68       NaN\n",
              "bob           1984  Dancing      83       3.0\n",
              "charles       1992      NaN     112       0.0"
            ]
          },
          "execution_count": 204,
          "metadata": {},
          "output_type": "execute_result"
        }
      ],
      "source": [
        "people"
      ]
    },
    {
      "cell_type": "markdown",
      "metadata": {
        "id": "a6ZyxV6qe3FG"
      },
      "source": [
        "`loc` 속성으로 열 대신 행을 참조할 수 있습니다. `DataFrame`의 열 이름이 행 인덱스 레이블로 매핑된 `Series` 객체가 반환됩니다:"
      ]
    },
    {
      "cell_type": "code",
      "execution_count": 206,
      "metadata": {
        "id": "AApQH52xmu58",
        "outputId": "b563bec1-84cf-42fc-8f29-faae80fa363b"
      },
      "outputs": [
        {
          "data": {
            "text/plain": [
              "alice      1985\n",
              "bob        1984\n",
              "charles    1992\n",
              "Name: birthyear, dtype: int64"
            ]
          },
          "execution_count": 206,
          "metadata": {},
          "output_type": "execute_result"
        }
      ],
      "source": [
        "people['birthyear']"
      ]
    },
    {
      "cell_type": "code",
      "execution_count": 207,
      "metadata": {
        "id": "uRQCFimpe3FG",
        "outputId": "a9781413-06f6-4856-f380-fd96cc055830"
      },
      "outputs": [
        {
          "data": {
            "text/plain": [
              "birthyear    1992\n",
              "hobby         NaN\n",
              "weight        112\n",
              "children      0.0\n",
              "Name: charles, dtype: object"
            ]
          },
          "execution_count": 207,
          "metadata": {},
          "output_type": "execute_result"
        }
      ],
      "source": [
        "people.loc[\"charles\"]"
      ]
    },
    {
      "cell_type": "markdown",
      "metadata": {
        "id": "PrwOuLhCe3FG"
      },
      "source": [
        "`iloc` 속성을 사용해 정수 인덱스로 행을 참조할 수 있습니다:"
      ]
    },
    {
      "cell_type": "code",
      "execution_count": 208,
      "metadata": {
        "id": "BQx65mdIe3FG",
        "outputId": "585e3718-766e-4279-b1b7-a15435fd5e58"
      },
      "outputs": [
        {
          "data": {
            "text/plain": [
              "birthyear    1992\n",
              "hobby         NaN\n",
              "weight        112\n",
              "children      0.0\n",
              "Name: charles, dtype: object"
            ]
          },
          "execution_count": 208,
          "metadata": {},
          "output_type": "execute_result"
        }
      ],
      "source": [
        "people.iloc[2]"
      ]
    },
    {
      "cell_type": "markdown",
      "metadata": {
        "id": "1espHmRGe3FG"
      },
      "source": [
        "행을 슬라이싱할 수 있으며 `DataFrame` 객체가 반환됩니다:"
      ]
    },
    {
      "cell_type": "code",
      "execution_count": 233,
      "metadata": {
        "id": "GuoD2gnxmu58",
        "outputId": "791b2ea7-9101-4cde-b2a2-347f057e3f19"
      },
      "outputs": [
        {
          "data": {
            "text/html": [
              "<div>\n",
              "<style scoped>\n",
              "    .dataframe tbody tr th:only-of-type {\n",
              "        vertical-align: middle;\n",
              "    }\n",
              "\n",
              "    .dataframe tbody tr th {\n",
              "        vertical-align: top;\n",
              "    }\n",
              "\n",
              "    .dataframe thead th {\n",
              "        text-align: right;\n",
              "    }\n",
              "</style>\n",
              "<table border=\"1\" class=\"dataframe\">\n",
              "  <thead>\n",
              "    <tr style=\"text-align: right;\">\n",
              "      <th></th>\n",
              "      <th>weight</th>\n",
              "      <th>birthyear</th>\n",
              "      <th>children</th>\n",
              "      <th>hobby</th>\n",
              "    </tr>\n",
              "  </thead>\n",
              "  <tbody>\n",
              "    <tr>\n",
              "      <th>alice</th>\n",
              "      <td>68</td>\n",
              "      <td>1985</td>\n",
              "      <td>NaN</td>\n",
              "      <td>Biking</td>\n",
              "    </tr>\n",
              "    <tr>\n",
              "      <th>bob</th>\n",
              "      <td>83</td>\n",
              "      <td>1984</td>\n",
              "      <td>3.0</td>\n",
              "      <td>Dancing</td>\n",
              "    </tr>\n",
              "    <tr>\n",
              "      <th>charles</th>\n",
              "      <td>112</td>\n",
              "      <td>1992</td>\n",
              "      <td>0.0</td>\n",
              "      <td>NaN</td>\n",
              "    </tr>\n",
              "  </tbody>\n",
              "</table>\n",
              "</div>"
            ],
            "text/plain": [
              "         weight  birthyear  children    hobby\n",
              "alice        68       1985       NaN   Biking\n",
              "bob          83       1984       3.0  Dancing\n",
              "charles     112       1992       0.0      NaN"
            ]
          },
          "execution_count": 233,
          "metadata": {},
          "output_type": "execute_result"
        }
      ],
      "source": [
        "people"
      ]
    },
    {
      "cell_type": "code",
      "execution_count": 234,
      "metadata": {
        "id": "pMSlJAV5e3FH",
        "outputId": "a12b014f-265e-4f21-c525-7dd409fd94ee"
      },
      "outputs": [
        {
          "data": {
            "text/html": [
              "<div>\n",
              "<style scoped>\n",
              "    .dataframe tbody tr th:only-of-type {\n",
              "        vertical-align: middle;\n",
              "    }\n",
              "\n",
              "    .dataframe tbody tr th {\n",
              "        vertical-align: top;\n",
              "    }\n",
              "\n",
              "    .dataframe thead th {\n",
              "        text-align: right;\n",
              "    }\n",
              "</style>\n",
              "<table border=\"1\" class=\"dataframe\">\n",
              "  <thead>\n",
              "    <tr style=\"text-align: right;\">\n",
              "      <th></th>\n",
              "      <th>weight</th>\n",
              "      <th>birthyear</th>\n",
              "      <th>children</th>\n",
              "      <th>hobby</th>\n",
              "    </tr>\n",
              "  </thead>\n",
              "  <tbody>\n",
              "    <tr>\n",
              "      <th>bob</th>\n",
              "      <td>83</td>\n",
              "      <td>1984</td>\n",
              "      <td>3.0</td>\n",
              "      <td>Dancing</td>\n",
              "    </tr>\n",
              "    <tr>\n",
              "      <th>charles</th>\n",
              "      <td>112</td>\n",
              "      <td>1992</td>\n",
              "      <td>0.0</td>\n",
              "      <td>NaN</td>\n",
              "    </tr>\n",
              "  </tbody>\n",
              "</table>\n",
              "</div>"
            ],
            "text/plain": [
              "         weight  birthyear  children    hobby\n",
              "bob          83       1984       3.0  Dancing\n",
              "charles     112       1992       0.0      NaN"
            ]
          },
          "execution_count": 234,
          "metadata": {},
          "output_type": "execute_result"
        }
      ],
      "source": [
        "people.iloc[1:3]"
      ]
    },
    {
      "cell_type": "markdown",
      "metadata": {
        "id": "pzEC-QaOe3FH"
      },
      "source": [
        "마자믹으로 불리언 배열을 전달하여 해당하는 행을 가져올 수 있습니다:"
      ]
    },
    {
      "cell_type": "code",
      "execution_count": 235,
      "metadata": {
        "id": "PGRiW_85e3FH",
        "outputId": "11fea7e7-4073-47bf-9c01-e228a6712f81"
      },
      "outputs": [
        {
          "data": {
            "text/html": [
              "<div>\n",
              "<style scoped>\n",
              "    .dataframe tbody tr th:only-of-type {\n",
              "        vertical-align: middle;\n",
              "    }\n",
              "\n",
              "    .dataframe tbody tr th {\n",
              "        vertical-align: top;\n",
              "    }\n",
              "\n",
              "    .dataframe thead th {\n",
              "        text-align: right;\n",
              "    }\n",
              "</style>\n",
              "<table border=\"1\" class=\"dataframe\">\n",
              "  <thead>\n",
              "    <tr style=\"text-align: right;\">\n",
              "      <th></th>\n",
              "      <th>weight</th>\n",
              "      <th>birthyear</th>\n",
              "      <th>children</th>\n",
              "      <th>hobby</th>\n",
              "    </tr>\n",
              "  </thead>\n",
              "  <tbody>\n",
              "    <tr>\n",
              "      <th>alice</th>\n",
              "      <td>68</td>\n",
              "      <td>1985</td>\n",
              "      <td>NaN</td>\n",
              "      <td>Biking</td>\n",
              "    </tr>\n",
              "    <tr>\n",
              "      <th>charles</th>\n",
              "      <td>112</td>\n",
              "      <td>1992</td>\n",
              "      <td>0.0</td>\n",
              "      <td>NaN</td>\n",
              "    </tr>\n",
              "  </tbody>\n",
              "</table>\n",
              "</div>"
            ],
            "text/plain": [
              "         weight  birthyear  children   hobby\n",
              "alice        68       1985       NaN  Biking\n",
              "charles     112       1992       0.0     NaN"
            ]
          },
          "execution_count": 235,
          "metadata": {},
          "output_type": "execute_result"
        }
      ],
      "source": [
        "people[np.array([True, False, True])]"
      ]
    },
    {
      "cell_type": "markdown",
      "metadata": {
        "id": "kU7LvI5ee3FH"
      },
      "source": [
        "불리언 표현식을 사용할 때 아주 유용합니다:"
      ]
    },
    {
      "cell_type": "code",
      "execution_count": 236,
      "metadata": {
        "id": "AaprG3qFmu58",
        "outputId": "3cc0ca5e-6285-4557-c570-bcdc6274a086"
      },
      "outputs": [
        {
          "data": {
            "text/plain": [
              "alice       True\n",
              "bob         True\n",
              "charles    False\n",
              "Name: birthyear, dtype: bool"
            ]
          },
          "execution_count": 236,
          "metadata": {},
          "output_type": "execute_result"
        }
      ],
      "source": [
        "people[\"birthyear\"] < 1990"
      ]
    },
    {
      "cell_type": "code",
      "execution_count": 237,
      "metadata": {
        "id": "KQHXieC1e3FH",
        "outputId": "4c6618d3-f66f-43e6-e423-60791136531f"
      },
      "outputs": [
        {
          "data": {
            "text/html": [
              "<div>\n",
              "<style scoped>\n",
              "    .dataframe tbody tr th:only-of-type {\n",
              "        vertical-align: middle;\n",
              "    }\n",
              "\n",
              "    .dataframe tbody tr th {\n",
              "        vertical-align: top;\n",
              "    }\n",
              "\n",
              "    .dataframe thead th {\n",
              "        text-align: right;\n",
              "    }\n",
              "</style>\n",
              "<table border=\"1\" class=\"dataframe\">\n",
              "  <thead>\n",
              "    <tr style=\"text-align: right;\">\n",
              "      <th></th>\n",
              "      <th>weight</th>\n",
              "      <th>birthyear</th>\n",
              "      <th>children</th>\n",
              "      <th>hobby</th>\n",
              "    </tr>\n",
              "  </thead>\n",
              "  <tbody>\n",
              "    <tr>\n",
              "      <th>alice</th>\n",
              "      <td>68</td>\n",
              "      <td>1985</td>\n",
              "      <td>NaN</td>\n",
              "      <td>Biking</td>\n",
              "    </tr>\n",
              "    <tr>\n",
              "      <th>bob</th>\n",
              "      <td>83</td>\n",
              "      <td>1984</td>\n",
              "      <td>3.0</td>\n",
              "      <td>Dancing</td>\n",
              "    </tr>\n",
              "  </tbody>\n",
              "</table>\n",
              "</div>"
            ],
            "text/plain": [
              "       weight  birthyear  children    hobby\n",
              "alice      68       1985       NaN   Biking\n",
              "bob        83       1984       3.0  Dancing"
            ]
          },
          "execution_count": 237,
          "metadata": {},
          "output_type": "execute_result"
        }
      ],
      "source": [
        "people[people[\"birthyear\"] < 1990]"
      ]
    },
    {
      "cell_type": "markdown",
      "metadata": {
        "id": "I7zhz_V9e3FH"
      },
      "source": [
        "## 열 추가, 삭제\n",
        "\n",
        "`DataFrame`을 `Series`의 딕셔너리처럼 다룰 수 있습니다. 따라서 다음 같이 쓸 수 있습니다:"
      ]
    },
    {
      "cell_type": "code",
      "execution_count": 238,
      "metadata": {
        "id": "yr5TDkgJe3FH",
        "outputId": "cbd4660d-0416-4594-c8b5-6ebae7c4b474"
      },
      "outputs": [
        {
          "data": {
            "text/html": [
              "<div>\n",
              "<style scoped>\n",
              "    .dataframe tbody tr th:only-of-type {\n",
              "        vertical-align: middle;\n",
              "    }\n",
              "\n",
              "    .dataframe tbody tr th {\n",
              "        vertical-align: top;\n",
              "    }\n",
              "\n",
              "    .dataframe thead th {\n",
              "        text-align: right;\n",
              "    }\n",
              "</style>\n",
              "<table border=\"1\" class=\"dataframe\">\n",
              "  <thead>\n",
              "    <tr style=\"text-align: right;\">\n",
              "      <th></th>\n",
              "      <th>weight</th>\n",
              "      <th>birthyear</th>\n",
              "      <th>children</th>\n",
              "      <th>hobby</th>\n",
              "    </tr>\n",
              "  </thead>\n",
              "  <tbody>\n",
              "    <tr>\n",
              "      <th>alice</th>\n",
              "      <td>68</td>\n",
              "      <td>1985</td>\n",
              "      <td>NaN</td>\n",
              "      <td>Biking</td>\n",
              "    </tr>\n",
              "    <tr>\n",
              "      <th>bob</th>\n",
              "      <td>83</td>\n",
              "      <td>1984</td>\n",
              "      <td>3.0</td>\n",
              "      <td>Dancing</td>\n",
              "    </tr>\n",
              "    <tr>\n",
              "      <th>charles</th>\n",
              "      <td>112</td>\n",
              "      <td>1992</td>\n",
              "      <td>0.0</td>\n",
              "      <td>NaN</td>\n",
              "    </tr>\n",
              "  </tbody>\n",
              "</table>\n",
              "</div>"
            ],
            "text/plain": [
              "         weight  birthyear  children    hobby\n",
              "alice        68       1985       NaN   Biking\n",
              "bob          83       1984       3.0  Dancing\n",
              "charles     112       1992       0.0      NaN"
            ]
          },
          "execution_count": 238,
          "metadata": {},
          "output_type": "execute_result"
        }
      ],
      "source": [
        "people"
      ]
    },
    {
      "cell_type": "code",
      "execution_count": 239,
      "metadata": {
        "id": "Hapq_8wue3FH",
        "outputId": "eeb9d318-c561-4cbf-dfcf-3a60d264d595"
      },
      "outputs": [
        {
          "data": {
            "text/html": [
              "<div>\n",
              "<style scoped>\n",
              "    .dataframe tbody tr th:only-of-type {\n",
              "        vertical-align: middle;\n",
              "    }\n",
              "\n",
              "    .dataframe tbody tr th {\n",
              "        vertical-align: top;\n",
              "    }\n",
              "\n",
              "    .dataframe thead th {\n",
              "        text-align: right;\n",
              "    }\n",
              "</style>\n",
              "<table border=\"1\" class=\"dataframe\">\n",
              "  <thead>\n",
              "    <tr style=\"text-align: right;\">\n",
              "      <th></th>\n",
              "      <th>weight</th>\n",
              "      <th>birthyear</th>\n",
              "      <th>children</th>\n",
              "      <th>hobby</th>\n",
              "      <th>age</th>\n",
              "      <th>over 30</th>\n",
              "    </tr>\n",
              "  </thead>\n",
              "  <tbody>\n",
              "    <tr>\n",
              "      <th>alice</th>\n",
              "      <td>68</td>\n",
              "      <td>1985</td>\n",
              "      <td>NaN</td>\n",
              "      <td>Biking</td>\n",
              "      <td>37</td>\n",
              "      <td>True</td>\n",
              "    </tr>\n",
              "    <tr>\n",
              "      <th>bob</th>\n",
              "      <td>83</td>\n",
              "      <td>1984</td>\n",
              "      <td>3.0</td>\n",
              "      <td>Dancing</td>\n",
              "      <td>38</td>\n",
              "      <td>True</td>\n",
              "    </tr>\n",
              "    <tr>\n",
              "      <th>charles</th>\n",
              "      <td>112</td>\n",
              "      <td>1992</td>\n",
              "      <td>0.0</td>\n",
              "      <td>NaN</td>\n",
              "      <td>30</td>\n",
              "      <td>False</td>\n",
              "    </tr>\n",
              "  </tbody>\n",
              "</table>\n",
              "</div>"
            ],
            "text/plain": [
              "         weight  birthyear  children    hobby  age  over 30\n",
              "alice        68       1985       NaN   Biking   37     True\n",
              "bob          83       1984       3.0  Dancing   38     True\n",
              "charles     112       1992       0.0      NaN   30    False"
            ]
          },
          "execution_count": 239,
          "metadata": {},
          "output_type": "execute_result"
        }
      ],
      "source": [
        "people[\"age\"] = 2022 - people[\"birthyear\"]  # \"age\" 열을 추가합니다\n",
        "people[\"over 30\"] = people[\"age\"] > 30      # \"over 30\" 열을 추가합니다\n",
        "\n",
        "people"
      ]
    },
    {
      "cell_type": "code",
      "execution_count": 240,
      "metadata": {
        "id": "0aPFgiGnmu59"
      },
      "outputs": [],
      "source": [
        "birthyears = people.pop(\"birthyear\") # 지우고 싶을 때\n",
        "del people[\"children\"]"
      ]
    },
    {
      "cell_type": "code",
      "execution_count": 241,
      "metadata": {
        "id": "LJEMy9Hbe3FH",
        "outputId": "4043ec1c-e8e0-4f84-a8aa-d4a653814e2f"
      },
      "outputs": [
        {
          "data": {
            "text/plain": [
              "alice      1985\n",
              "bob        1984\n",
              "charles    1992\n",
              "Name: birthyear, dtype: int64"
            ]
          },
          "execution_count": 241,
          "metadata": {},
          "output_type": "execute_result"
        }
      ],
      "source": [
        "birthyears"
      ]
    },
    {
      "cell_type": "code",
      "execution_count": 242,
      "metadata": {
        "id": "OSz5MnNUmu59",
        "outputId": "82e95eff-88c3-4041-bd35-b697ff4af992"
      },
      "outputs": [
        {
          "data": {
            "text/html": [
              "<div>\n",
              "<style scoped>\n",
              "    .dataframe tbody tr th:only-of-type {\n",
              "        vertical-align: middle;\n",
              "    }\n",
              "\n",
              "    .dataframe tbody tr th {\n",
              "        vertical-align: top;\n",
              "    }\n",
              "\n",
              "    .dataframe thead th {\n",
              "        text-align: right;\n",
              "    }\n",
              "</style>\n",
              "<table border=\"1\" class=\"dataframe\">\n",
              "  <thead>\n",
              "    <tr style=\"text-align: right;\">\n",
              "      <th></th>\n",
              "      <th>weight</th>\n",
              "      <th>hobby</th>\n",
              "      <th>age</th>\n",
              "      <th>over 30</th>\n",
              "    </tr>\n",
              "  </thead>\n",
              "  <tbody>\n",
              "    <tr>\n",
              "      <th>alice</th>\n",
              "      <td>68</td>\n",
              "      <td>Biking</td>\n",
              "      <td>37</td>\n",
              "      <td>True</td>\n",
              "    </tr>\n",
              "    <tr>\n",
              "      <th>bob</th>\n",
              "      <td>83</td>\n",
              "      <td>Dancing</td>\n",
              "      <td>38</td>\n",
              "      <td>True</td>\n",
              "    </tr>\n",
              "    <tr>\n",
              "      <th>charles</th>\n",
              "      <td>112</td>\n",
              "      <td>NaN</td>\n",
              "      <td>30</td>\n",
              "      <td>False</td>\n",
              "    </tr>\n",
              "  </tbody>\n",
              "</table>\n",
              "</div>"
            ],
            "text/plain": [
              "         weight    hobby  age  over 30\n",
              "alice        68   Biking   37     True\n",
              "bob          83  Dancing   38     True\n",
              "charles     112      NaN   30    False"
            ]
          },
          "execution_count": 242,
          "metadata": {},
          "output_type": "execute_result"
        }
      ],
      "source": [
        "people"
      ]
    },
    {
      "cell_type": "code",
      "execution_count": 243,
      "metadata": {
        "id": "Q9wY4QXQmu59"
      },
      "outputs": [],
      "source": [
        "# 딕셔너리도 유사함\n",
        "weights = {\"alice\": 68, \"bob\": 83, \"colin\": 86, \"darwin\": 68}"
      ]
    },
    {
      "cell_type": "code",
      "execution_count": 244,
      "metadata": {
        "id": "clcvOmlnmu59",
        "outputId": "7b59d343-35a1-488b-b068-5406627b02ca"
      },
      "outputs": [
        {
          "data": {
            "text/plain": [
              "68"
            ]
          },
          "execution_count": 244,
          "metadata": {},
          "output_type": "execute_result"
        }
      ],
      "source": [
        "weights.pop(\"alice\") # alice 제거함"
      ]
    },
    {
      "cell_type": "code",
      "execution_count": 245,
      "metadata": {
        "id": "ODfvS010mu59",
        "outputId": "cd9018d5-9add-40df-99c3-c68c78814e57"
      },
      "outputs": [
        {
          "data": {
            "text/plain": [
              "{'bob': 83, 'colin': 86, 'darwin': 68}"
            ]
          },
          "execution_count": 245,
          "metadata": {},
          "output_type": "execute_result"
        }
      ],
      "source": [
        "weights"
      ]
    },
    {
      "cell_type": "code",
      "execution_count": 246,
      "metadata": {
        "id": "3NXQEnZUmu59"
      },
      "outputs": [],
      "source": [
        "del weights[\"bob\"]"
      ]
    },
    {
      "cell_type": "code",
      "execution_count": 247,
      "metadata": {
        "id": "serDUhR2mu59",
        "outputId": "776b89ac-b57a-4dbf-a177-09074c4e5999"
      },
      "outputs": [
        {
          "data": {
            "text/plain": [
              "{'colin': 86, 'darwin': 68}"
            ]
          },
          "execution_count": 247,
          "metadata": {},
          "output_type": "execute_result"
        }
      ],
      "source": [
        "weights # bob 제거함"
      ]
    },
    {
      "cell_type": "markdown",
      "metadata": {
        "id": "mTjHZwf0e3FI"
      },
      "source": [
        "새로운 열을 추가할 때 행의 개수는 같아야 합니다. 누락된 행은 `NaN`으로 채워지고 추가적인 행은 무시됩니다:"
      ]
    },
    {
      "cell_type": "code",
      "execution_count": 248,
      "metadata": {
        "id": "UQaKbsPDmu59",
        "outputId": "c6f5cd69-30ee-4485-a406-fcb108f5e6fe"
      },
      "outputs": [
        {
          "data": {
            "text/plain": [
              "Index(['alice', 'bob', 'charles'], dtype='object')"
            ]
          },
          "execution_count": 248,
          "metadata": {},
          "output_type": "execute_result"
        }
      ],
      "source": [
        "people.index"
      ]
    },
    {
      "cell_type": "code",
      "execution_count": 249,
      "metadata": {
        "id": "RFYK6v7Ee3FI",
        "outputId": "b080032d-52b4-4d51-9d08-fb3ecd06b1d3"
      },
      "outputs": [
        {
          "data": {
            "text/html": [
              "<div>\n",
              "<style scoped>\n",
              "    .dataframe tbody tr th:only-of-type {\n",
              "        vertical-align: middle;\n",
              "    }\n",
              "\n",
              "    .dataframe tbody tr th {\n",
              "        vertical-align: top;\n",
              "    }\n",
              "\n",
              "    .dataframe thead th {\n",
              "        text-align: right;\n",
              "    }\n",
              "</style>\n",
              "<table border=\"1\" class=\"dataframe\">\n",
              "  <thead>\n",
              "    <tr style=\"text-align: right;\">\n",
              "      <th></th>\n",
              "      <th>weight</th>\n",
              "      <th>hobby</th>\n",
              "      <th>age</th>\n",
              "      <th>over 30</th>\n",
              "      <th>pets</th>\n",
              "    </tr>\n",
              "  </thead>\n",
              "  <tbody>\n",
              "    <tr>\n",
              "      <th>alice</th>\n",
              "      <td>68</td>\n",
              "      <td>Biking</td>\n",
              "      <td>37</td>\n",
              "      <td>True</td>\n",
              "      <td>NaN</td>\n",
              "    </tr>\n",
              "    <tr>\n",
              "      <th>bob</th>\n",
              "      <td>83</td>\n",
              "      <td>Dancing</td>\n",
              "      <td>38</td>\n",
              "      <td>True</td>\n",
              "      <td>0.0</td>\n",
              "    </tr>\n",
              "    <tr>\n",
              "      <th>charles</th>\n",
              "      <td>112</td>\n",
              "      <td>NaN</td>\n",
              "      <td>30</td>\n",
              "      <td>False</td>\n",
              "      <td>5.0</td>\n",
              "    </tr>\n",
              "  </tbody>\n",
              "</table>\n",
              "</div>"
            ],
            "text/plain": [
              "         weight    hobby  age  over 30  pets\n",
              "alice        68   Biking   37     True   NaN\n",
              "bob          83  Dancing   38     True   0.0\n",
              "charles     112      NaN   30    False   5.0"
            ]
          },
          "execution_count": 249,
          "metadata": {},
          "output_type": "execute_result"
        }
      ],
      "source": [
        "people[\"pets\"] = pd.Series({\"bob\": 0, \"charles\": 5, \"eugene\":1})  # pets 추가, alice 누락됨, eugene은 무시됨\n",
        "people"
      ]
    },
    {
      "cell_type": "markdown",
      "metadata": {
        "id": "y5LQ2gdAe3FI"
      },
      "source": [
        "새로운 열을 추가할 때 기본적으로 (오른쪽) 끝에 추가됩니다. `insert()` 메서드를 사용해 다른 곳에 열을 추가할 수 있습니다:"
      ]
    },
    {
      "cell_type": "code",
      "execution_count": 250,
      "metadata": {
        "id": "dwEwn1ife3FI",
        "outputId": "d2bad066-b7c6-4466-849c-3b1f91f0718a"
      },
      "outputs": [
        {
          "data": {
            "text/html": [
              "<div>\n",
              "<style scoped>\n",
              "    .dataframe tbody tr th:only-of-type {\n",
              "        vertical-align: middle;\n",
              "    }\n",
              "\n",
              "    .dataframe tbody tr th {\n",
              "        vertical-align: top;\n",
              "    }\n",
              "\n",
              "    .dataframe thead th {\n",
              "        text-align: right;\n",
              "    }\n",
              "</style>\n",
              "<table border=\"1\" class=\"dataframe\">\n",
              "  <thead>\n",
              "    <tr style=\"text-align: right;\">\n",
              "      <th></th>\n",
              "      <th>weight</th>\n",
              "      <th>height</th>\n",
              "      <th>hobby</th>\n",
              "      <th>age</th>\n",
              "      <th>over 30</th>\n",
              "      <th>pets</th>\n",
              "    </tr>\n",
              "  </thead>\n",
              "  <tbody>\n",
              "    <tr>\n",
              "      <th>alice</th>\n",
              "      <td>68</td>\n",
              "      <td>172</td>\n",
              "      <td>Biking</td>\n",
              "      <td>37</td>\n",
              "      <td>True</td>\n",
              "      <td>NaN</td>\n",
              "    </tr>\n",
              "    <tr>\n",
              "      <th>bob</th>\n",
              "      <td>83</td>\n",
              "      <td>181</td>\n",
              "      <td>Dancing</td>\n",
              "      <td>38</td>\n",
              "      <td>True</td>\n",
              "      <td>0.0</td>\n",
              "    </tr>\n",
              "    <tr>\n",
              "      <th>charles</th>\n",
              "      <td>112</td>\n",
              "      <td>185</td>\n",
              "      <td>NaN</td>\n",
              "      <td>30</td>\n",
              "      <td>False</td>\n",
              "      <td>5.0</td>\n",
              "    </tr>\n",
              "  </tbody>\n",
              "</table>\n",
              "</div>"
            ],
            "text/plain": [
              "         weight  height    hobby  age  over 30  pets\n",
              "alice        68     172   Biking   37     True   NaN\n",
              "bob          83     181  Dancing   38     True   0.0\n",
              "charles     112     185      NaN   30    False   5.0"
            ]
          },
          "execution_count": 250,
          "metadata": {},
          "output_type": "execute_result"
        }
      ],
      "source": [
        "people.insert(1, \"height\", [172, 181, 185])\n",
        "people"
      ]
    },
    {
      "attachments": {},
      "cell_type": "markdown",
      "metadata": {
        "id": "iBl6K1Lbe3FI"
      },
      "source": [
        "## 새로운 열 할당하기 (생략)\n",
        "\n",
        "`assign()` 메서드를 호출하여 새로운 열을 만들 수도 있습니다. 이는 새로운 `DataFrame` 객체를 반환하며 원본 객체는 변경되지 않습니다:"
      ]
    },
    {
      "cell_type": "code",
      "execution_count": 100,
      "metadata": {
        "id": "wG6sagv0e3FI",
        "outputId": "0c774bbe-c4bc-4a86-f8a4-1fdabce026c6"
      },
      "outputs": [
        {
          "data": {
            "text/html": [
              "<div>\n",
              "<style scoped>\n",
              "    .dataframe tbody tr th:only-of-type {\n",
              "        vertical-align: middle;\n",
              "    }\n",
              "\n",
              "    .dataframe tbody tr th {\n",
              "        vertical-align: top;\n",
              "    }\n",
              "\n",
              "    .dataframe thead th {\n",
              "        text-align: right;\n",
              "    }\n",
              "</style>\n",
              "<table border=\"1\" class=\"dataframe\">\n",
              "  <thead>\n",
              "    <tr style=\"text-align: right;\">\n",
              "      <th></th>\n",
              "      <th>hobby</th>\n",
              "      <th>height</th>\n",
              "      <th>weight</th>\n",
              "      <th>age</th>\n",
              "      <th>over 30</th>\n",
              "      <th>pets</th>\n",
              "      <th>body_mass_index</th>\n",
              "      <th>has_pets</th>\n",
              "    </tr>\n",
              "  </thead>\n",
              "  <tbody>\n",
              "    <tr>\n",
              "      <th>alice</th>\n",
              "      <td>Biking</td>\n",
              "      <td>172</td>\n",
              "      <td>68</td>\n",
              "      <td>37</td>\n",
              "      <td>True</td>\n",
              "      <td>NaN</td>\n",
              "      <td>22.985398</td>\n",
              "      <td>False</td>\n",
              "    </tr>\n",
              "    <tr>\n",
              "      <th>bob</th>\n",
              "      <td>Dancing</td>\n",
              "      <td>181</td>\n",
              "      <td>83</td>\n",
              "      <td>38</td>\n",
              "      <td>True</td>\n",
              "      <td>0.0</td>\n",
              "      <td>25.335002</td>\n",
              "      <td>False</td>\n",
              "    </tr>\n",
              "    <tr>\n",
              "      <th>charles</th>\n",
              "      <td>NaN</td>\n",
              "      <td>185</td>\n",
              "      <td>112</td>\n",
              "      <td>30</td>\n",
              "      <td>False</td>\n",
              "      <td>5.0</td>\n",
              "      <td>32.724617</td>\n",
              "      <td>True</td>\n",
              "    </tr>\n",
              "  </tbody>\n",
              "</table>\n",
              "</div>"
            ],
            "text/plain": [
              "           hobby  height  weight  age  over 30  pets  body_mass_index  \\\n",
              "alice     Biking     172      68   37     True   NaN        22.985398   \n",
              "bob      Dancing     181      83   38     True   0.0        25.335002   \n",
              "charles      NaN     185     112   30    False   5.0        32.724617   \n",
              "\n",
              "         has_pets  \n",
              "alice       False  \n",
              "bob         False  \n",
              "charles      True  "
            ]
          },
          "execution_count": 100,
          "metadata": {},
          "output_type": "execute_result"
        }
      ],
      "source": [
        "people.assign(\n",
        "    body_mass_index = people[\"weight\"] / (people[\"height\"] / 100) ** 2,\n",
        "    has_pets = people[\"pets\"] > 0\n",
        ")"
      ]
    },
    {
      "cell_type": "code",
      "execution_count": 101,
      "metadata": {
        "id": "wPxpvaOPmu5-",
        "outputId": "f2a76dce-8c2d-4e40-ac62-a7e35cdd992d"
      },
      "outputs": [
        {
          "data": {
            "text/html": [
              "<div>\n",
              "<style scoped>\n",
              "    .dataframe tbody tr th:only-of-type {\n",
              "        vertical-align: middle;\n",
              "    }\n",
              "\n",
              "    .dataframe tbody tr th {\n",
              "        vertical-align: top;\n",
              "    }\n",
              "\n",
              "    .dataframe thead th {\n",
              "        text-align: right;\n",
              "    }\n",
              "</style>\n",
              "<table border=\"1\" class=\"dataframe\">\n",
              "  <thead>\n",
              "    <tr style=\"text-align: right;\">\n",
              "      <th></th>\n",
              "      <th>hobby</th>\n",
              "      <th>height</th>\n",
              "      <th>weight</th>\n",
              "      <th>age</th>\n",
              "      <th>over 30</th>\n",
              "      <th>pets</th>\n",
              "      <th>body_mass_index</th>\n",
              "    </tr>\n",
              "  </thead>\n",
              "  <tbody>\n",
              "    <tr>\n",
              "      <th>alice</th>\n",
              "      <td>Biking</td>\n",
              "      <td>172</td>\n",
              "      <td>68</td>\n",
              "      <td>37</td>\n",
              "      <td>True</td>\n",
              "      <td>NaN</td>\n",
              "      <td>22.985398</td>\n",
              "    </tr>\n",
              "    <tr>\n",
              "      <th>bob</th>\n",
              "      <td>Dancing</td>\n",
              "      <td>181</td>\n",
              "      <td>83</td>\n",
              "      <td>38</td>\n",
              "      <td>True</td>\n",
              "      <td>0.0</td>\n",
              "      <td>25.335002</td>\n",
              "    </tr>\n",
              "    <tr>\n",
              "      <th>charles</th>\n",
              "      <td>NaN</td>\n",
              "      <td>185</td>\n",
              "      <td>112</td>\n",
              "      <td>30</td>\n",
              "      <td>False</td>\n",
              "      <td>5.0</td>\n",
              "      <td>32.724617</td>\n",
              "    </tr>\n",
              "  </tbody>\n",
              "</table>\n",
              "</div>"
            ],
            "text/plain": [
              "           hobby  height  weight  age  over 30  pets  body_mass_index\n",
              "alice     Biking     172      68   37     True   NaN        22.985398\n",
              "bob      Dancing     181      83   38     True   0.0        25.335002\n",
              "charles      NaN     185     112   30    False   5.0        32.724617"
            ]
          },
          "execution_count": 101,
          "metadata": {},
          "output_type": "execute_result"
        }
      ],
      "source": [
        "people[\"body_mass_index\"] = people[\"weight\"] / (people[\"height\"] / 100) ** 2\n",
        "\n",
        "people"
      ]
    },
    {
      "cell_type": "code",
      "execution_count": 102,
      "metadata": {
        "id": "SxveWNatmu5-"
      },
      "outputs": [],
      "source": [
        "del people[\"body_mass_index\"]"
      ]
    },
    {
      "cell_type": "code",
      "execution_count": 103,
      "metadata": {
        "id": "MEiZ5JWBmu5-",
        "outputId": "831f7034-03f4-4e41-82fc-4fda427e3b88"
      },
      "outputs": [
        {
          "data": {
            "text/html": [
              "<div>\n",
              "<style scoped>\n",
              "    .dataframe tbody tr th:only-of-type {\n",
              "        vertical-align: middle;\n",
              "    }\n",
              "\n",
              "    .dataframe tbody tr th {\n",
              "        vertical-align: top;\n",
              "    }\n",
              "\n",
              "    .dataframe thead th {\n",
              "        text-align: right;\n",
              "    }\n",
              "</style>\n",
              "<table border=\"1\" class=\"dataframe\">\n",
              "  <thead>\n",
              "    <tr style=\"text-align: right;\">\n",
              "      <th></th>\n",
              "      <th>hobby</th>\n",
              "      <th>height</th>\n",
              "      <th>weight</th>\n",
              "      <th>age</th>\n",
              "      <th>over 30</th>\n",
              "      <th>pets</th>\n",
              "    </tr>\n",
              "  </thead>\n",
              "  <tbody>\n",
              "    <tr>\n",
              "      <th>alice</th>\n",
              "      <td>Biking</td>\n",
              "      <td>172</td>\n",
              "      <td>68</td>\n",
              "      <td>37</td>\n",
              "      <td>True</td>\n",
              "      <td>NaN</td>\n",
              "    </tr>\n",
              "    <tr>\n",
              "      <th>bob</th>\n",
              "      <td>Dancing</td>\n",
              "      <td>181</td>\n",
              "      <td>83</td>\n",
              "      <td>38</td>\n",
              "      <td>True</td>\n",
              "      <td>0.0</td>\n",
              "    </tr>\n",
              "    <tr>\n",
              "      <th>charles</th>\n",
              "      <td>NaN</td>\n",
              "      <td>185</td>\n",
              "      <td>112</td>\n",
              "      <td>30</td>\n",
              "      <td>False</td>\n",
              "      <td>5.0</td>\n",
              "    </tr>\n",
              "  </tbody>\n",
              "</table>\n",
              "</div>"
            ],
            "text/plain": [
              "           hobby  height  weight  age  over 30  pets\n",
              "alice     Biking     172      68   37     True   NaN\n",
              "bob      Dancing     181      83   38     True   0.0\n",
              "charles      NaN     185     112   30    False   5.0"
            ]
          },
          "execution_count": 103,
          "metadata": {},
          "output_type": "execute_result"
        }
      ],
      "source": [
        "people"
      ]
    },
    {
      "cell_type": "markdown",
      "metadata": {
        "id": "84cgM7TSe3FI"
      },
      "source": [
        "할당문 안에서 만든 열은 접근할 수 없습니다:"
      ]
    },
    {
      "cell_type": "code",
      "execution_count": 104,
      "metadata": {
        "id": "yeTa4QZ_e3FI",
        "outputId": "275380a6-6e43-4df1-f1e4-414757b1485a"
      },
      "outputs": [
        {
          "name": "stdout",
          "output_type": "stream",
          "text": [
            "키 에러: 'body_mass_index'\n"
          ]
        }
      ],
      "source": [
        "try:\n",
        "    people.assign(\n",
        "        body_mass_index = people[\"weight\"] / (people[\"height\"] / 100) ** 2,\n",
        "        overweight = people[\"body_mass_index\"] > 25\n",
        "    )\n",
        "except KeyError as e:\n",
        "    print(\"키 에러:\", e)"
      ]
    },
    {
      "cell_type": "markdown",
      "metadata": {
        "id": "S0Y-ROlve3FI"
      },
      "source": [
        "해결책은 두 개의 연속된 할당문으로 나누는 것입니다:"
      ]
    },
    {
      "cell_type": "code",
      "execution_count": 105,
      "metadata": {
        "id": "HF2c_UtEe3FI",
        "outputId": "931f74c4-975e-4d5c-f46a-e19e76a40255"
      },
      "outputs": [
        {
          "data": {
            "text/html": [
              "<div>\n",
              "<style scoped>\n",
              "    .dataframe tbody tr th:only-of-type {\n",
              "        vertical-align: middle;\n",
              "    }\n",
              "\n",
              "    .dataframe tbody tr th {\n",
              "        vertical-align: top;\n",
              "    }\n",
              "\n",
              "    .dataframe thead th {\n",
              "        text-align: right;\n",
              "    }\n",
              "</style>\n",
              "<table border=\"1\" class=\"dataframe\">\n",
              "  <thead>\n",
              "    <tr style=\"text-align: right;\">\n",
              "      <th></th>\n",
              "      <th>hobby</th>\n",
              "      <th>height</th>\n",
              "      <th>weight</th>\n",
              "      <th>age</th>\n",
              "      <th>over 30</th>\n",
              "      <th>pets</th>\n",
              "      <th>body_mass_index</th>\n",
              "      <th>overweight</th>\n",
              "    </tr>\n",
              "  </thead>\n",
              "  <tbody>\n",
              "    <tr>\n",
              "      <th>alice</th>\n",
              "      <td>Biking</td>\n",
              "      <td>172</td>\n",
              "      <td>68</td>\n",
              "      <td>37</td>\n",
              "      <td>True</td>\n",
              "      <td>NaN</td>\n",
              "      <td>22.985398</td>\n",
              "      <td>False</td>\n",
              "    </tr>\n",
              "    <tr>\n",
              "      <th>bob</th>\n",
              "      <td>Dancing</td>\n",
              "      <td>181</td>\n",
              "      <td>83</td>\n",
              "      <td>38</td>\n",
              "      <td>True</td>\n",
              "      <td>0.0</td>\n",
              "      <td>25.335002</td>\n",
              "      <td>True</td>\n",
              "    </tr>\n",
              "    <tr>\n",
              "      <th>charles</th>\n",
              "      <td>NaN</td>\n",
              "      <td>185</td>\n",
              "      <td>112</td>\n",
              "      <td>30</td>\n",
              "      <td>False</td>\n",
              "      <td>5.0</td>\n",
              "      <td>32.724617</td>\n",
              "      <td>True</td>\n",
              "    </tr>\n",
              "  </tbody>\n",
              "</table>\n",
              "</div>"
            ],
            "text/plain": [
              "           hobby  height  weight  age  over 30  pets  body_mass_index  \\\n",
              "alice     Biking     172      68   37     True   NaN        22.985398   \n",
              "bob      Dancing     181      83   38     True   0.0        25.335002   \n",
              "charles      NaN     185     112   30    False   5.0        32.724617   \n",
              "\n",
              "         overweight  \n",
              "alice         False  \n",
              "bob            True  \n",
              "charles        True  "
            ]
          },
          "execution_count": 105,
          "metadata": {},
          "output_type": "execute_result"
        }
      ],
      "source": [
        "d6 = people.assign(body_mass_index = people[\"weight\"] / (people[\"height\"] / 100) ** 2)\n",
        "d6.assign(overweight = d6[\"body_mass_index\"] > 25)"
      ]
    },
    {
      "cell_type": "markdown",
      "metadata": {
        "id": "hUtOqJ4le3FJ"
      },
      "source": [
        "임시 변수 `d6`를 만들면 불편합니다. `assign()` 메서드를 연결하고 싶겠지만 `people` 객체가 첫 번째 할당문에서 실제로 수정되지 않기 때문에 작동하지 않습니다:"
      ]
    },
    {
      "cell_type": "code",
      "execution_count": 106,
      "metadata": {
        "id": "iS2QkxZge3FJ",
        "outputId": "ae4eda92-9677-4437-cf04-1469f1380c23"
      },
      "outputs": [
        {
          "name": "stdout",
          "output_type": "stream",
          "text": [
            "키 에러: 'body_mass_index'\n"
          ]
        }
      ],
      "source": [
        "try:\n",
        "    (people\n",
        "         .assign(body_mass_index = people[\"weight\"] / (people[\"height\"] / 100) ** 2)\n",
        "         .assign(overweight = people[\"body_mass_index\"] > 25)\n",
        "    )\n",
        "except KeyError as e:\n",
        "    print(\"키 에러:\", e)"
      ]
    },
    {
      "cell_type": "markdown",
      "metadata": {
        "id": "DENCPGjAe3FJ"
      },
      "source": [
        "하지만 걱정하지 마세요. 간단한 방법이 있습니다. `assign()` 메서드에 함수(전형적으로 `lambda` 함수)를 전달하면 `DataFrame`을 매개변수로 이 함수를 호출할 것입니다:"
      ]
    },
    {
      "cell_type": "code",
      "execution_count": 107,
      "metadata": {
        "id": "eyOQdNlHe3FJ",
        "outputId": "baae1dc4-b388-412d-c912-e7333989accd"
      },
      "outputs": [
        {
          "data": {
            "text/html": [
              "<div>\n",
              "<style scoped>\n",
              "    .dataframe tbody tr th:only-of-type {\n",
              "        vertical-align: middle;\n",
              "    }\n",
              "\n",
              "    .dataframe tbody tr th {\n",
              "        vertical-align: top;\n",
              "    }\n",
              "\n",
              "    .dataframe thead th {\n",
              "        text-align: right;\n",
              "    }\n",
              "</style>\n",
              "<table border=\"1\" class=\"dataframe\">\n",
              "  <thead>\n",
              "    <tr style=\"text-align: right;\">\n",
              "      <th></th>\n",
              "      <th>hobby</th>\n",
              "      <th>height</th>\n",
              "      <th>weight</th>\n",
              "      <th>age</th>\n",
              "      <th>over 30</th>\n",
              "      <th>pets</th>\n",
              "      <th>body_mass_index</th>\n",
              "      <th>overweight</th>\n",
              "    </tr>\n",
              "  </thead>\n",
              "  <tbody>\n",
              "    <tr>\n",
              "      <th>alice</th>\n",
              "      <td>Biking</td>\n",
              "      <td>172</td>\n",
              "      <td>68</td>\n",
              "      <td>37</td>\n",
              "      <td>True</td>\n",
              "      <td>NaN</td>\n",
              "      <td>22.985398</td>\n",
              "      <td>False</td>\n",
              "    </tr>\n",
              "    <tr>\n",
              "      <th>bob</th>\n",
              "      <td>Dancing</td>\n",
              "      <td>181</td>\n",
              "      <td>83</td>\n",
              "      <td>38</td>\n",
              "      <td>True</td>\n",
              "      <td>0.0</td>\n",
              "      <td>25.335002</td>\n",
              "      <td>True</td>\n",
              "    </tr>\n",
              "    <tr>\n",
              "      <th>charles</th>\n",
              "      <td>NaN</td>\n",
              "      <td>185</td>\n",
              "      <td>112</td>\n",
              "      <td>30</td>\n",
              "      <td>False</td>\n",
              "      <td>5.0</td>\n",
              "      <td>32.724617</td>\n",
              "      <td>True</td>\n",
              "    </tr>\n",
              "  </tbody>\n",
              "</table>\n",
              "</div>"
            ],
            "text/plain": [
              "           hobby  height  weight  age  over 30  pets  body_mass_index  \\\n",
              "alice     Biking     172      68   37     True   NaN        22.985398   \n",
              "bob      Dancing     181      83   38     True   0.0        25.335002   \n",
              "charles      NaN     185     112   30    False   5.0        32.724617   \n",
              "\n",
              "         overweight  \n",
              "alice         False  \n",
              "bob            True  \n",
              "charles        True  "
            ]
          },
          "execution_count": 107,
          "metadata": {},
          "output_type": "execute_result"
        }
      ],
      "source": [
        "(people\n",
        "     .assign(body_mass_index = lambda df: df[\"weight\"] / (df[\"height\"] / 100) ** 2)\n",
        "     .assign(overweight = lambda df: df[\"body_mass_index\"] > 25)\n",
        ")"
      ]
    },
    {
      "cell_type": "markdown",
      "metadata": {
        "id": "Ah73dJOqe3FJ"
      },
      "source": [
        "문제가 해결되었군요!"
      ]
    },
    {
      "cell_type": "code",
      "execution_count": 108,
      "metadata": {
        "id": "fUuqn64gmu5-"
      },
      "outputs": [],
      "source": [
        "people[\"body_mass_index\"] = people[\"weight\"] / (people[\"height\"] / 100) ** 2\n",
        "people[\"overweight\"] = people[\"body_mass_index\"]>25"
      ]
    },
    {
      "cell_type": "code",
      "execution_count": 109,
      "metadata": {
        "id": "sH-O35oTmu5-",
        "outputId": "63d7a7d4-2ce2-4f0b-dd80-77d976cd8ea7"
      },
      "outputs": [
        {
          "data": {
            "text/html": [
              "<div>\n",
              "<style scoped>\n",
              "    .dataframe tbody tr th:only-of-type {\n",
              "        vertical-align: middle;\n",
              "    }\n",
              "\n",
              "    .dataframe tbody tr th {\n",
              "        vertical-align: top;\n",
              "    }\n",
              "\n",
              "    .dataframe thead th {\n",
              "        text-align: right;\n",
              "    }\n",
              "</style>\n",
              "<table border=\"1\" class=\"dataframe\">\n",
              "  <thead>\n",
              "    <tr style=\"text-align: right;\">\n",
              "      <th></th>\n",
              "      <th>hobby</th>\n",
              "      <th>height</th>\n",
              "      <th>weight</th>\n",
              "      <th>age</th>\n",
              "      <th>over 30</th>\n",
              "      <th>pets</th>\n",
              "      <th>body_mass_index</th>\n",
              "      <th>overweight</th>\n",
              "    </tr>\n",
              "  </thead>\n",
              "  <tbody>\n",
              "    <tr>\n",
              "      <th>alice</th>\n",
              "      <td>Biking</td>\n",
              "      <td>172</td>\n",
              "      <td>68</td>\n",
              "      <td>37</td>\n",
              "      <td>True</td>\n",
              "      <td>NaN</td>\n",
              "      <td>22.985398</td>\n",
              "      <td>False</td>\n",
              "    </tr>\n",
              "    <tr>\n",
              "      <th>bob</th>\n",
              "      <td>Dancing</td>\n",
              "      <td>181</td>\n",
              "      <td>83</td>\n",
              "      <td>38</td>\n",
              "      <td>True</td>\n",
              "      <td>0.0</td>\n",
              "      <td>25.335002</td>\n",
              "      <td>True</td>\n",
              "    </tr>\n",
              "    <tr>\n",
              "      <th>charles</th>\n",
              "      <td>NaN</td>\n",
              "      <td>185</td>\n",
              "      <td>112</td>\n",
              "      <td>30</td>\n",
              "      <td>False</td>\n",
              "      <td>5.0</td>\n",
              "      <td>32.724617</td>\n",
              "      <td>True</td>\n",
              "    </tr>\n",
              "  </tbody>\n",
              "</table>\n",
              "</div>"
            ],
            "text/plain": [
              "           hobby  height  weight  age  over 30  pets  body_mass_index  \\\n",
              "alice     Biking     172      68   37     True   NaN        22.985398   \n",
              "bob      Dancing     181      83   38     True   0.0        25.335002   \n",
              "charles      NaN     185     112   30    False   5.0        32.724617   \n",
              "\n",
              "         overweight  \n",
              "alice         False  \n",
              "bob            True  \n",
              "charles        True  "
            ]
          },
          "execution_count": 109,
          "metadata": {},
          "output_type": "execute_result"
        }
      ],
      "source": [
        "people"
      ]
    },
    {
      "cell_type": "markdown",
      "metadata": {
        "id": "zjgbZlkXe3FJ"
      },
      "source": [
        "## 표현식 평가\n",
        "\n",
        "판다스가 제공하는 뛰어난 기능 하나는 표현식 평가입니다. 이는 `numexpr` 라이브러리에 의존하기 때문에 설치가 되어 있어야 합니다."
      ]
    },
    {
      "cell_type": "code",
      "execution_count": 251,
      "metadata": {
        "id": "neVjxZTpmu5-",
        "outputId": "38f0c912-22b3-4438-e8cf-6d1598bc2125"
      },
      "outputs": [
        {
          "data": {
            "text/html": [
              "<div>\n",
              "<style scoped>\n",
              "    .dataframe tbody tr th:only-of-type {\n",
              "        vertical-align: middle;\n",
              "    }\n",
              "\n",
              "    .dataframe tbody tr th {\n",
              "        vertical-align: top;\n",
              "    }\n",
              "\n",
              "    .dataframe thead th {\n",
              "        text-align: right;\n",
              "    }\n",
              "</style>\n",
              "<table border=\"1\" class=\"dataframe\">\n",
              "  <thead>\n",
              "    <tr style=\"text-align: right;\">\n",
              "      <th></th>\n",
              "      <th>weight</th>\n",
              "      <th>height</th>\n",
              "      <th>hobby</th>\n",
              "      <th>age</th>\n",
              "      <th>over 30</th>\n",
              "      <th>pets</th>\n",
              "    </tr>\n",
              "  </thead>\n",
              "  <tbody>\n",
              "    <tr>\n",
              "      <th>alice</th>\n",
              "      <td>68</td>\n",
              "      <td>172</td>\n",
              "      <td>Biking</td>\n",
              "      <td>37</td>\n",
              "      <td>True</td>\n",
              "      <td>NaN</td>\n",
              "    </tr>\n",
              "    <tr>\n",
              "      <th>bob</th>\n",
              "      <td>83</td>\n",
              "      <td>181</td>\n",
              "      <td>Dancing</td>\n",
              "      <td>38</td>\n",
              "      <td>True</td>\n",
              "      <td>0.0</td>\n",
              "    </tr>\n",
              "    <tr>\n",
              "      <th>charles</th>\n",
              "      <td>112</td>\n",
              "      <td>185</td>\n",
              "      <td>NaN</td>\n",
              "      <td>30</td>\n",
              "      <td>False</td>\n",
              "      <td>5.0</td>\n",
              "    </tr>\n",
              "  </tbody>\n",
              "</table>\n",
              "</div>"
            ],
            "text/plain": [
              "         weight  height    hobby  age  over 30  pets\n",
              "alice        68     172   Biking   37     True   NaN\n",
              "bob          83     181  Dancing   38     True   0.0\n",
              "charles     112     185      NaN   30    False   5.0"
            ]
          },
          "execution_count": 251,
          "metadata": {},
          "output_type": "execute_result"
        }
      ],
      "source": [
        "people"
      ]
    },
    {
      "cell_type": "code",
      "execution_count": 252,
      "metadata": {
        "id": "cnZ7HsHMmu5_",
        "outputId": "9478cd05-04aa-404c-a230-be713d06fc06"
      },
      "outputs": [
        {
          "data": {
            "text/plain": [
              "'weight / (height/100) ** 2 > 25'"
            ]
          },
          "execution_count": 252,
          "metadata": {},
          "output_type": "execute_result"
        }
      ],
      "source": [
        "\"weight / (height/100) ** 2 > 25\""
      ]
    },
    {
      "cell_type": "code",
      "execution_count": 253,
      "metadata": {
        "id": "2IlkCV8Fe3FJ",
        "outputId": "04be148c-5166-4ae2-a780-59d8eb0c042f"
      },
      "outputs": [
        {
          "data": {
            "text/plain": [
              "alice      False\n",
              "bob         True\n",
              "charles     True\n",
              "dtype: bool"
            ]
          },
          "execution_count": 253,
          "metadata": {},
          "output_type": "execute_result"
        }
      ],
      "source": [
        "people.eval(\"weight / (height/100) ** 2 > 25\")"
      ]
    },
    {
      "cell_type": "markdown",
      "metadata": {
        "id": "1ePA_PMSe3FJ"
      },
      "source": [
        "할당 표현식도 지원됩니다. `inplace=True`로 지정하면 수정된 복사본을 만들지 않고 바로 `DataFrame`을 변경합니다:"
      ]
    },
    {
      "cell_type": "code",
      "execution_count": 257,
      "metadata": {
        "id": "AaDCoKoQe3FJ",
        "outputId": "ae0ebeb1-f809-4a05-c42e-e1b87e28a596"
      },
      "outputs": [
        {
          "data": {
            "text/html": [
              "<div>\n",
              "<style scoped>\n",
              "    .dataframe tbody tr th:only-of-type {\n",
              "        vertical-align: middle;\n",
              "    }\n",
              "\n",
              "    .dataframe tbody tr th {\n",
              "        vertical-align: top;\n",
              "    }\n",
              "\n",
              "    .dataframe thead th {\n",
              "        text-align: right;\n",
              "    }\n",
              "</style>\n",
              "<table border=\"1\" class=\"dataframe\">\n",
              "  <thead>\n",
              "    <tr style=\"text-align: right;\">\n",
              "      <th></th>\n",
              "      <th>weight</th>\n",
              "      <th>height</th>\n",
              "      <th>hobby</th>\n",
              "      <th>age</th>\n",
              "      <th>over 30</th>\n",
              "      <th>pets</th>\n",
              "      <th>body_mass_index</th>\n",
              "    </tr>\n",
              "  </thead>\n",
              "  <tbody>\n",
              "    <tr>\n",
              "      <th>alice</th>\n",
              "      <td>68</td>\n",
              "      <td>172</td>\n",
              "      <td>Biking</td>\n",
              "      <td>37</td>\n",
              "      <td>True</td>\n",
              "      <td>NaN</td>\n",
              "      <td>22.985398</td>\n",
              "    </tr>\n",
              "    <tr>\n",
              "      <th>bob</th>\n",
              "      <td>83</td>\n",
              "      <td>181</td>\n",
              "      <td>Dancing</td>\n",
              "      <td>38</td>\n",
              "      <td>True</td>\n",
              "      <td>0.0</td>\n",
              "      <td>25.335002</td>\n",
              "    </tr>\n",
              "    <tr>\n",
              "      <th>charles</th>\n",
              "      <td>112</td>\n",
              "      <td>185</td>\n",
              "      <td>NaN</td>\n",
              "      <td>30</td>\n",
              "      <td>False</td>\n",
              "      <td>5.0</td>\n",
              "      <td>32.724617</td>\n",
              "    </tr>\n",
              "  </tbody>\n",
              "</table>\n",
              "</div>"
            ],
            "text/plain": [
              "         weight  height    hobby  age  over 30  pets  body_mass_index\n",
              "alice        68     172   Biking   37     True   NaN        22.985398\n",
              "bob          83     181  Dancing   38     True   0.0        25.335002\n",
              "charles     112     185      NaN   30    False   5.0        32.724617"
            ]
          },
          "execution_count": 257,
          "metadata": {},
          "output_type": "execute_result"
        }
      ],
      "source": [
        "people.eval(\"body_mass_index = weight / (height/100) ** 2\", inplace=True) # inplace=True(조건에 맞는 것만)\n",
        "people"
      ]
    },
    {
      "cell_type": "markdown",
      "metadata": {
        "id": "NSm53ojze3FK"
      },
      "source": [
        "`'@'`를 접두어로 사용하여 지역 변수나 전역 변수를 참조할 수 있습니다:"
      ]
    },
    {
      "cell_type": "code",
      "execution_count": 258,
      "metadata": {
        "id": "qQbsNUf9mu5_",
        "outputId": "19e72af7-2586-457d-9b80-7a78b8966787"
      },
      "outputs": [
        {
          "data": {
            "text/html": [
              "<div>\n",
              "<style scoped>\n",
              "    .dataframe tbody tr th:only-of-type {\n",
              "        vertical-align: middle;\n",
              "    }\n",
              "\n",
              "    .dataframe tbody tr th {\n",
              "        vertical-align: top;\n",
              "    }\n",
              "\n",
              "    .dataframe thead th {\n",
              "        text-align: right;\n",
              "    }\n",
              "</style>\n",
              "<table border=\"1\" class=\"dataframe\">\n",
              "  <thead>\n",
              "    <tr style=\"text-align: right;\">\n",
              "      <th></th>\n",
              "      <th>weight</th>\n",
              "      <th>height</th>\n",
              "      <th>hobby</th>\n",
              "      <th>age</th>\n",
              "      <th>over 30</th>\n",
              "      <th>pets</th>\n",
              "      <th>body_mass_index</th>\n",
              "    </tr>\n",
              "  </thead>\n",
              "  <tbody>\n",
              "    <tr>\n",
              "      <th>alice</th>\n",
              "      <td>68</td>\n",
              "      <td>172</td>\n",
              "      <td>Biking</td>\n",
              "      <td>37</td>\n",
              "      <td>True</td>\n",
              "      <td>NaN</td>\n",
              "      <td>22.985398</td>\n",
              "    </tr>\n",
              "    <tr>\n",
              "      <th>bob</th>\n",
              "      <td>83</td>\n",
              "      <td>181</td>\n",
              "      <td>Dancing</td>\n",
              "      <td>38</td>\n",
              "      <td>True</td>\n",
              "      <td>0.0</td>\n",
              "      <td>25.335002</td>\n",
              "    </tr>\n",
              "    <tr>\n",
              "      <th>charles</th>\n",
              "      <td>112</td>\n",
              "      <td>185</td>\n",
              "      <td>NaN</td>\n",
              "      <td>30</td>\n",
              "      <td>False</td>\n",
              "      <td>5.0</td>\n",
              "      <td>32.724617</td>\n",
              "    </tr>\n",
              "  </tbody>\n",
              "</table>\n",
              "</div>"
            ],
            "text/plain": [
              "         weight  height    hobby  age  over 30  pets  body_mass_index\n",
              "alice        68     172   Biking   37     True   NaN        22.985398\n",
              "bob          83     181  Dancing   38     True   0.0        25.335002\n",
              "charles     112     185      NaN   30    False   5.0        32.724617"
            ]
          },
          "execution_count": 258,
          "metadata": {},
          "output_type": "execute_result"
        }
      ],
      "source": [
        "people"
      ]
    },
    {
      "cell_type": "code",
      "execution_count": 259,
      "metadata": {
        "id": "yib8VJTMe3FK",
        "outputId": "669e3d29-4d0c-485b-fa4f-9ff7635701c8"
      },
      "outputs": [
        {
          "data": {
            "text/html": [
              "<div>\n",
              "<style scoped>\n",
              "    .dataframe tbody tr th:only-of-type {\n",
              "        vertical-align: middle;\n",
              "    }\n",
              "\n",
              "    .dataframe tbody tr th {\n",
              "        vertical-align: top;\n",
              "    }\n",
              "\n",
              "    .dataframe thead th {\n",
              "        text-align: right;\n",
              "    }\n",
              "</style>\n",
              "<table border=\"1\" class=\"dataframe\">\n",
              "  <thead>\n",
              "    <tr style=\"text-align: right;\">\n",
              "      <th></th>\n",
              "      <th>weight</th>\n",
              "      <th>height</th>\n",
              "      <th>hobby</th>\n",
              "      <th>age</th>\n",
              "      <th>over 30</th>\n",
              "      <th>pets</th>\n",
              "      <th>body_mass_index</th>\n",
              "      <th>overweight</th>\n",
              "    </tr>\n",
              "  </thead>\n",
              "  <tbody>\n",
              "    <tr>\n",
              "      <th>alice</th>\n",
              "      <td>68</td>\n",
              "      <td>172</td>\n",
              "      <td>Biking</td>\n",
              "      <td>37</td>\n",
              "      <td>True</td>\n",
              "      <td>NaN</td>\n",
              "      <td>22.985398</td>\n",
              "      <td>False</td>\n",
              "    </tr>\n",
              "    <tr>\n",
              "      <th>bob</th>\n",
              "      <td>83</td>\n",
              "      <td>181</td>\n",
              "      <td>Dancing</td>\n",
              "      <td>38</td>\n",
              "      <td>True</td>\n",
              "      <td>0.0</td>\n",
              "      <td>25.335002</td>\n",
              "      <td>False</td>\n",
              "    </tr>\n",
              "    <tr>\n",
              "      <th>charles</th>\n",
              "      <td>112</td>\n",
              "      <td>185</td>\n",
              "      <td>NaN</td>\n",
              "      <td>30</td>\n",
              "      <td>False</td>\n",
              "      <td>5.0</td>\n",
              "      <td>32.724617</td>\n",
              "      <td>True</td>\n",
              "    </tr>\n",
              "  </tbody>\n",
              "</table>\n",
              "</div>"
            ],
            "text/plain": [
              "         weight  height    hobby  age  over 30  pets  body_mass_index  \\\n",
              "alice        68     172   Biking   37     True   NaN        22.985398   \n",
              "bob          83     181  Dancing   38     True   0.0        25.335002   \n",
              "charles     112     185      NaN   30    False   5.0        32.724617   \n",
              "\n",
              "         overweight  \n",
              "alice         False  \n",
              "bob           False  \n",
              "charles        True  "
            ]
          },
          "execution_count": 259,
          "metadata": {},
          "output_type": "execute_result"
        }
      ],
      "source": [
        "overweight_threshold = 30\n",
        "people.eval(\"overweight = body_mass_index > @overweight_threshold\", inplace=True)\n",
        "people"
      ]
    },
    {
      "cell_type": "markdown",
      "metadata": {
        "id": "Dlv_Eer5e3FK"
      },
      "source": [
        "## `DataFrame` 쿼리하기\n",
        "\n",
        "`query()` 메서드를 사용하면 쿼리 표현식에 기반하여 `DataFrame`을 필터링할 수 있습니다:"
      ]
    },
    {
      "cell_type": "code",
      "execution_count": 260,
      "metadata": {
        "id": "4d9UD_M0mu5_",
        "outputId": "773fd96d-3676-4a51-9063-9f878ef70ee8"
      },
      "outputs": [
        {
          "data": {
            "text/html": [
              "<div>\n",
              "<style scoped>\n",
              "    .dataframe tbody tr th:only-of-type {\n",
              "        vertical-align: middle;\n",
              "    }\n",
              "\n",
              "    .dataframe tbody tr th {\n",
              "        vertical-align: top;\n",
              "    }\n",
              "\n",
              "    .dataframe thead th {\n",
              "        text-align: right;\n",
              "    }\n",
              "</style>\n",
              "<table border=\"1\" class=\"dataframe\">\n",
              "  <thead>\n",
              "    <tr style=\"text-align: right;\">\n",
              "      <th></th>\n",
              "      <th>weight</th>\n",
              "      <th>height</th>\n",
              "      <th>hobby</th>\n",
              "      <th>age</th>\n",
              "      <th>over 30</th>\n",
              "      <th>pets</th>\n",
              "      <th>body_mass_index</th>\n",
              "      <th>overweight</th>\n",
              "    </tr>\n",
              "  </thead>\n",
              "  <tbody>\n",
              "    <tr>\n",
              "      <th>alice</th>\n",
              "      <td>68</td>\n",
              "      <td>172</td>\n",
              "      <td>Biking</td>\n",
              "      <td>37</td>\n",
              "      <td>True</td>\n",
              "      <td>NaN</td>\n",
              "      <td>22.985398</td>\n",
              "      <td>False</td>\n",
              "    </tr>\n",
              "    <tr>\n",
              "      <th>bob</th>\n",
              "      <td>83</td>\n",
              "      <td>181</td>\n",
              "      <td>Dancing</td>\n",
              "      <td>38</td>\n",
              "      <td>True</td>\n",
              "      <td>0.0</td>\n",
              "      <td>25.335002</td>\n",
              "      <td>False</td>\n",
              "    </tr>\n",
              "    <tr>\n",
              "      <th>charles</th>\n",
              "      <td>112</td>\n",
              "      <td>185</td>\n",
              "      <td>NaN</td>\n",
              "      <td>30</td>\n",
              "      <td>False</td>\n",
              "      <td>5.0</td>\n",
              "      <td>32.724617</td>\n",
              "      <td>True</td>\n",
              "    </tr>\n",
              "  </tbody>\n",
              "</table>\n",
              "</div>"
            ],
            "text/plain": [
              "         weight  height    hobby  age  over 30  pets  body_mass_index  \\\n",
              "alice        68     172   Biking   37     True   NaN        22.985398   \n",
              "bob          83     181  Dancing   38     True   0.0        25.335002   \n",
              "charles     112     185      NaN   30    False   5.0        32.724617   \n",
              "\n",
              "         overweight  \n",
              "alice         False  \n",
              "bob           False  \n",
              "charles        True  "
            ]
          },
          "execution_count": 260,
          "metadata": {},
          "output_type": "execute_result"
        }
      ],
      "source": [
        "people"
      ]
    },
    {
      "cell_type": "code",
      "execution_count": 261,
      "metadata": {
        "id": "-_B1c6o7e3FK",
        "outputId": "a5bc2bfc-cbb0-4521-a667-9904440128b9"
      },
      "outputs": [
        {
          "data": {
            "text/html": [
              "<div>\n",
              "<style scoped>\n",
              "    .dataframe tbody tr th:only-of-type {\n",
              "        vertical-align: middle;\n",
              "    }\n",
              "\n",
              "    .dataframe tbody tr th {\n",
              "        vertical-align: top;\n",
              "    }\n",
              "\n",
              "    .dataframe thead th {\n",
              "        text-align: right;\n",
              "    }\n",
              "</style>\n",
              "<table border=\"1\" class=\"dataframe\">\n",
              "  <thead>\n",
              "    <tr style=\"text-align: right;\">\n",
              "      <th></th>\n",
              "      <th>weight</th>\n",
              "      <th>height</th>\n",
              "      <th>hobby</th>\n",
              "      <th>age</th>\n",
              "      <th>over 30</th>\n",
              "      <th>pets</th>\n",
              "      <th>body_mass_index</th>\n",
              "      <th>overweight</th>\n",
              "    </tr>\n",
              "  </thead>\n",
              "  <tbody>\n",
              "    <tr>\n",
              "      <th>bob</th>\n",
              "      <td>83</td>\n",
              "      <td>181</td>\n",
              "      <td>Dancing</td>\n",
              "      <td>38</td>\n",
              "      <td>True</td>\n",
              "      <td>0.0</td>\n",
              "      <td>25.335002</td>\n",
              "      <td>False</td>\n",
              "    </tr>\n",
              "  </tbody>\n",
              "</table>\n",
              "</div>"
            ],
            "text/plain": [
              "     weight  height    hobby  age  over 30  pets  body_mass_index  overweight\n",
              "bob      83     181  Dancing   38     True   0.0        25.335002       False"
            ]
          },
          "execution_count": 261,
          "metadata": {},
          "output_type": "execute_result"
        }
      ],
      "source": [
        "people.query(\"age > 30 and pets == 0\") # 30살보다 많고, 펫을 키우지 않는 사람"
      ]
    },
    {
      "cell_type": "code",
      "execution_count": 262,
      "metadata": {
        "id": "WfXq_snImu5_",
        "outputId": "981b75df-e50e-4ece-a920-ab34e807cbd6"
      },
      "outputs": [
        {
          "data": {
            "text/html": [
              "<div>\n",
              "<style scoped>\n",
              "    .dataframe tbody tr th:only-of-type {\n",
              "        vertical-align: middle;\n",
              "    }\n",
              "\n",
              "    .dataframe tbody tr th {\n",
              "        vertical-align: top;\n",
              "    }\n",
              "\n",
              "    .dataframe thead th {\n",
              "        text-align: right;\n",
              "    }\n",
              "</style>\n",
              "<table border=\"1\" class=\"dataframe\">\n",
              "  <thead>\n",
              "    <tr style=\"text-align: right;\">\n",
              "      <th></th>\n",
              "      <th>weight</th>\n",
              "      <th>height</th>\n",
              "      <th>hobby</th>\n",
              "      <th>age</th>\n",
              "      <th>over 30</th>\n",
              "      <th>pets</th>\n",
              "      <th>body_mass_index</th>\n",
              "      <th>overweight</th>\n",
              "    </tr>\n",
              "  </thead>\n",
              "  <tbody>\n",
              "    <tr>\n",
              "      <th>bob</th>\n",
              "      <td>83</td>\n",
              "      <td>181</td>\n",
              "      <td>Dancing</td>\n",
              "      <td>38</td>\n",
              "      <td>True</td>\n",
              "      <td>0.0</td>\n",
              "      <td>25.335002</td>\n",
              "      <td>False</td>\n",
              "    </tr>\n",
              "  </tbody>\n",
              "</table>\n",
              "</div>"
            ],
            "text/plain": [
              "     weight  height    hobby  age  over 30  pets  body_mass_index  overweight\n",
              "bob      83     181  Dancing   38     True   0.0        25.335002       False"
            ]
          },
          "execution_count": 262,
          "metadata": {},
          "output_type": "execute_result"
        }
      ],
      "source": [
        "people[(people[\"age\"]>30) & (people[\"pets\"] == 0)] # 위 코드와 동일"
      ]
    },
    {
      "cell_type": "code",
      "execution_count": 263,
      "metadata": {
        "id": "yYUcEJFimu5_"
      },
      "outputs": [],
      "source": [
        "mask = (people[\"age\"]>30) & (people[\"pets\"] == 0) # 위 코드와 동일"
      ]
    },
    {
      "cell_type": "code",
      "execution_count": 373,
      "metadata": {
        "id": "2_LJiQ3Jmu5_",
        "outputId": "2260e58a-15a1-4c04-bc92-e100c3fb2ea2"
      },
      "outputs": [
        {
          "name": "stderr",
          "output_type": "stream",
          "text": [
            "C:\\Users\\leegabin\\AppData\\Local\\Temp\\ipykernel_1672\\1561238302.py:1: UserWarning: Boolean Series key will be reindexed to match DataFrame index.\n",
            "  people[mask]\n"
          ]
        },
        {
          "data": {
            "text/html": [
              "<div>\n",
              "<style scoped>\n",
              "    .dataframe tbody tr th:only-of-type {\n",
              "        vertical-align: middle;\n",
              "    }\n",
              "\n",
              "    .dataframe tbody tr th {\n",
              "        vertical-align: top;\n",
              "    }\n",
              "\n",
              "    .dataframe thead th {\n",
              "        text-align: right;\n",
              "    }\n",
              "</style>\n",
              "<table border=\"1\" class=\"dataframe\">\n",
              "  <thead>\n",
              "    <tr style=\"text-align: right;\">\n",
              "      <th></th>\n",
              "      <th>age</th>\n",
              "      <th>body_mass_index</th>\n",
              "      <th>height</th>\n",
              "      <th>hobby</th>\n",
              "      <th>over 30</th>\n",
              "      <th>overweight</th>\n",
              "      <th>pets</th>\n",
              "      <th>weight</th>\n",
              "    </tr>\n",
              "  </thead>\n",
              "  <tbody>\n",
              "    <tr>\n",
              "      <th>bob</th>\n",
              "      <td>38</td>\n",
              "      <td>25.335002</td>\n",
              "      <td>181</td>\n",
              "      <td>Dancing</td>\n",
              "      <td>True</td>\n",
              "      <td>False</td>\n",
              "      <td>0.0</td>\n",
              "      <td>83</td>\n",
              "    </tr>\n",
              "  </tbody>\n",
              "</table>\n",
              "</div>"
            ],
            "text/plain": [
              "     age  body_mass_index  height    hobby  over 30  overweight  pets  weight\n",
              "bob   38        25.335002     181  Dancing     True       False   0.0      83"
            ]
          },
          "execution_count": 373,
          "metadata": {},
          "output_type": "execute_result"
        }
      ],
      "source": [
        "people[mask]"
      ]
    },
    {
      "cell_type": "markdown",
      "metadata": {
        "id": "FkApcCTHe3FK"
      },
      "source": [
        "## `DataFrame` 정렬\n",
        "\n",
        "`sort_index` 메서드를 호출하여 `DataFrame`을 정렬할 수 있습니다. 기본적으로 인덱스 레이블을 기준으로 오름차순으로 행을 정렬합니다. 여기에서는 내림차순으로 정렬해 보죠:"
      ]
    },
    {
      "cell_type": "code",
      "execution_count": 376,
      "metadata": {
        "id": "NLfZR-HOe3FK",
        "outputId": "e4c98f6b-6a0f-4068-ec9e-6392d4590088"
      },
      "outputs": [
        {
          "data": {
            "text/html": [
              "<div>\n",
              "<style scoped>\n",
              "    .dataframe tbody tr th:only-of-type {\n",
              "        vertical-align: middle;\n",
              "    }\n",
              "\n",
              "    .dataframe tbody tr th {\n",
              "        vertical-align: top;\n",
              "    }\n",
              "\n",
              "    .dataframe thead th {\n",
              "        text-align: right;\n",
              "    }\n",
              "</style>\n",
              "<table border=\"1\" class=\"dataframe\">\n",
              "  <thead>\n",
              "    <tr style=\"text-align: right;\">\n",
              "      <th></th>\n",
              "      <th>age</th>\n",
              "      <th>body_mass_index</th>\n",
              "      <th>height</th>\n",
              "      <th>hobby</th>\n",
              "      <th>over 30</th>\n",
              "      <th>overweight</th>\n",
              "      <th>pets</th>\n",
              "      <th>weight</th>\n",
              "    </tr>\n",
              "  </thead>\n",
              "  <tbody>\n",
              "    <tr>\n",
              "      <th>charles</th>\n",
              "      <td>30</td>\n",
              "      <td>32.724617</td>\n",
              "      <td>185</td>\n",
              "      <td>NaN</td>\n",
              "      <td>False</td>\n",
              "      <td>True</td>\n",
              "      <td>5.0</td>\n",
              "      <td>112</td>\n",
              "    </tr>\n",
              "    <tr>\n",
              "      <th>bob</th>\n",
              "      <td>38</td>\n",
              "      <td>25.335002</td>\n",
              "      <td>181</td>\n",
              "      <td>Dancing</td>\n",
              "      <td>True</td>\n",
              "      <td>False</td>\n",
              "      <td>0.0</td>\n",
              "      <td>83</td>\n",
              "    </tr>\n",
              "    <tr>\n",
              "      <th>alice</th>\n",
              "      <td>37</td>\n",
              "      <td>22.985398</td>\n",
              "      <td>172</td>\n",
              "      <td>Biking</td>\n",
              "      <td>True</td>\n",
              "      <td>False</td>\n",
              "      <td>NaN</td>\n",
              "      <td>68</td>\n",
              "    </tr>\n",
              "  </tbody>\n",
              "</table>\n",
              "</div>"
            ],
            "text/plain": [
              "         age  body_mass_index  height    hobby  over 30  overweight  pets  \\\n",
              "charles   30        32.724617     185      NaN    False        True   5.0   \n",
              "bob       38        25.335002     181  Dancing     True       False   0.0   \n",
              "alice     37        22.985398     172   Biking     True       False   NaN   \n",
              "\n",
              "         weight  \n",
              "charles     112  \n",
              "bob          83  \n",
              "alice        68  "
            ]
          },
          "execution_count": 376,
          "metadata": {},
          "output_type": "execute_result"
        }
      ],
      "source": [
        "people.sort_index(ascending=False)"
      ]
    },
    {
      "cell_type": "markdown",
      "metadata": {
        "id": "SWacH-yce3FK"
      },
      "source": [
        "`sort_index`는 `DataFrame`의 정렬된 *복사본*을 반환합니다. `people`을 직접 수정하려면 `inplace` 매개변수를 `True`로 지정합니다. 또한 `axis=1`로 지정하여 열 대신 행을 정렬할 수 있습니다:"
      ]
    },
    {
      "cell_type": "code",
      "execution_count": 380,
      "metadata": {
        "id": "jkfYkrgXe3FK",
        "outputId": "200de2f8-63cb-42ad-fb22-9535fac428bd"
      },
      "outputs": [
        {
          "data": {
            "text/html": [
              "<div>\n",
              "<style scoped>\n",
              "    .dataframe tbody tr th:only-of-type {\n",
              "        vertical-align: middle;\n",
              "    }\n",
              "\n",
              "    .dataframe tbody tr th {\n",
              "        vertical-align: top;\n",
              "    }\n",
              "\n",
              "    .dataframe thead th {\n",
              "        text-align: right;\n",
              "    }\n",
              "</style>\n",
              "<table border=\"1\" class=\"dataframe\">\n",
              "  <thead>\n",
              "    <tr style=\"text-align: right;\">\n",
              "      <th></th>\n",
              "      <th>age</th>\n",
              "      <th>body_mass_index</th>\n",
              "      <th>height</th>\n",
              "      <th>hobby</th>\n",
              "      <th>over 30</th>\n",
              "      <th>overweight</th>\n",
              "      <th>pets</th>\n",
              "      <th>weight</th>\n",
              "    </tr>\n",
              "  </thead>\n",
              "  <tbody>\n",
              "    <tr>\n",
              "      <th>alice</th>\n",
              "      <td>37</td>\n",
              "      <td>22.985398</td>\n",
              "      <td>172</td>\n",
              "      <td>Biking</td>\n",
              "      <td>True</td>\n",
              "      <td>False</td>\n",
              "      <td>NaN</td>\n",
              "      <td>68</td>\n",
              "    </tr>\n",
              "    <tr>\n",
              "      <th>bob</th>\n",
              "      <td>38</td>\n",
              "      <td>25.335002</td>\n",
              "      <td>181</td>\n",
              "      <td>Dancing</td>\n",
              "      <td>True</td>\n",
              "      <td>False</td>\n",
              "      <td>0.0</td>\n",
              "      <td>83</td>\n",
              "    </tr>\n",
              "    <tr>\n",
              "      <th>charles</th>\n",
              "      <td>30</td>\n",
              "      <td>32.724617</td>\n",
              "      <td>185</td>\n",
              "      <td>NaN</td>\n",
              "      <td>False</td>\n",
              "      <td>True</td>\n",
              "      <td>5.0</td>\n",
              "      <td>112</td>\n",
              "    </tr>\n",
              "  </tbody>\n",
              "</table>\n",
              "</div>"
            ],
            "text/plain": [
              "         age  body_mass_index  height    hobby  over 30  overweight  pets  \\\n",
              "alice     37        22.985398     172   Biking     True       False   NaN   \n",
              "bob       38        25.335002     181  Dancing     True       False   0.0   \n",
              "charles   30        32.724617     185      NaN    False        True   5.0   \n",
              "\n",
              "         weight  \n",
              "alice        68  \n",
              "bob          83  \n",
              "charles     112  "
            ]
          },
          "execution_count": 380,
          "metadata": {},
          "output_type": "execute_result"
        }
      ],
      "source": [
        "people.sort_index(axis=1, inplace=True)\n",
        "people"
      ]
    },
    {
      "cell_type": "markdown",
      "metadata": {
        "id": "33hlB4cSe3FK"
      },
      "source": [
        "레이블이 아니라 값을 기준으로 `DataFrame`을 정렬하려면 `sort_values`에 정렬하려는 열을 지정합니다:"
      ]
    },
    {
      "cell_type": "code",
      "execution_count": 270,
      "metadata": {
        "id": "P6oa0Mqge3FK",
        "outputId": "a36667ef-3197-4f65-a43f-bddc2697e5e1"
      },
      "outputs": [
        {
          "data": {
            "text/html": [
              "<div>\n",
              "<style scoped>\n",
              "    .dataframe tbody tr th:only-of-type {\n",
              "        vertical-align: middle;\n",
              "    }\n",
              "\n",
              "    .dataframe tbody tr th {\n",
              "        vertical-align: top;\n",
              "    }\n",
              "\n",
              "    .dataframe thead th {\n",
              "        text-align: right;\n",
              "    }\n",
              "</style>\n",
              "<table border=\"1\" class=\"dataframe\">\n",
              "  <thead>\n",
              "    <tr style=\"text-align: right;\">\n",
              "      <th></th>\n",
              "      <th>age</th>\n",
              "      <th>body_mass_index</th>\n",
              "      <th>height</th>\n",
              "      <th>hobby</th>\n",
              "      <th>over 30</th>\n",
              "      <th>overweight</th>\n",
              "      <th>pets</th>\n",
              "      <th>weight</th>\n",
              "    </tr>\n",
              "  </thead>\n",
              "  <tbody>\n",
              "    <tr>\n",
              "      <th>charles</th>\n",
              "      <td>30</td>\n",
              "      <td>32.724617</td>\n",
              "      <td>185</td>\n",
              "      <td>NaN</td>\n",
              "      <td>False</td>\n",
              "      <td>True</td>\n",
              "      <td>5.0</td>\n",
              "      <td>112</td>\n",
              "    </tr>\n",
              "    <tr>\n",
              "      <th>alice</th>\n",
              "      <td>37</td>\n",
              "      <td>22.985398</td>\n",
              "      <td>172</td>\n",
              "      <td>Biking</td>\n",
              "      <td>True</td>\n",
              "      <td>False</td>\n",
              "      <td>NaN</td>\n",
              "      <td>68</td>\n",
              "    </tr>\n",
              "    <tr>\n",
              "      <th>bob</th>\n",
              "      <td>38</td>\n",
              "      <td>25.335002</td>\n",
              "      <td>181</td>\n",
              "      <td>Dancing</td>\n",
              "      <td>True</td>\n",
              "      <td>False</td>\n",
              "      <td>0.0</td>\n",
              "      <td>83</td>\n",
              "    </tr>\n",
              "  </tbody>\n",
              "</table>\n",
              "</div>"
            ],
            "text/plain": [
              "         age  body_mass_index  height    hobby  over 30  overweight  pets  \\\n",
              "charles   30        32.724617     185      NaN    False        True   5.0   \n",
              "alice     37        22.985398     172   Biking     True       False   NaN   \n",
              "bob       38        25.335002     181  Dancing     True       False   0.0   \n",
              "\n",
              "         weight  \n",
              "charles     112  \n",
              "alice        68  \n",
              "bob          83  "
            ]
          },
          "execution_count": 270,
          "metadata": {},
          "output_type": "execute_result"
        }
      ],
      "source": [
        "people.sort_values(by=\"age\", inplace=True) # age 기준으로\n",
        "people"
      ]
    },
    {
      "cell_type": "markdown",
      "metadata": {
        "id": "Sdm627Jte3FL"
      },
      "source": [
        "## `DataFrame` 그래프 그리기\n",
        "\n",
        "`Series`와 마찬가지로 판다스는 `DataFrame` 기반으로 멋진 그래프를 손쉽게 그릴 수 있습니다.\n",
        "\n",
        "예를 들어 `plot` 메서드를 호출하여 `DataFrame`의 데이터에서 선 그래프를 쉽게 그릴 수 있습니다:"
      ]
    },
    {
      "cell_type": "code",
      "execution_count": 271,
      "metadata": {
        "id": "ABFgmjNGe3FL",
        "outputId": "26fac5b9-3190-4d66-bf24-3a4250c2e48a"
      },
      "outputs": [
        {
          "data": {
            "image/png": "[encoded data removed]",
            "text/plain": [
              "<Figure size 640x480 with 1 Axes>"
            ]
          },
          "metadata": {},
          "output_type": "display_data"
        }
      ],
      "source": [
        "people.plot(kind = \"line\", x = \"body_mass_index\", y = [\"height\", \"weight\"])\n",
        "plt.show()"
      ]
    },
    {
      "cell_type": "markdown",
      "metadata": {
        "id": "a3CSA44he3FL"
      },
      "source": [
        "맷플롯립의 함수가 지원하는 다른 매개변수를 사용할 수 있습니다. 예를 들어, 산점도를 그릴 때 맷플롯립의 `scatter()` 함수의 `s` 매개변수를 사용해 크기를 지정할 수 있습니다:"
      ]
    },
    {
      "cell_type": "code",
      "execution_count": 272,
      "metadata": {
        "id": "ksysiDTNe3FL",
        "outputId": "8f247a81-f250-4011-ef60-1a7373961cef",
        "scrolled": true
      },
      "outputs": [
        {
          "data": {
            "image/png": "[encoded data removed]",
            "text/plain": [
              "<Figure size 640x480 with 1 Axes>"
            ]
          },
          "metadata": {},
          "output_type": "display_data"
        }
      ],
      "source": [
        "people.plot(kind = \"scatter\", x = \"height\", y = \"weight\", s=[40, 120, 200])\n",
        "plt.show()"
      ]
    },
    {
      "cell_type": "markdown",
      "metadata": {
        "id": "r2LwwH2Ue3FL"
      },
      "source": [
        "선택할 수 있는 옵션이 많습니다. 판다스 문서의 [시각화](http://pandas.pydata.org/pandas-docs/stable/visualization.html) 페이지에서 마음에 드는 그래프를 찾아 예제 코드를 살펴 보세요."
      ]
    },
    {
      "cell_type": "markdown",
      "metadata": {
        "id": "hNdFU3cimu6A"
      },
      "source": [
        "- Histogram"
      ]
    },
    {
      "cell_type": "code",
      "execution_count": 273,
      "metadata": {
        "id": "PHt8MtTxmu6A",
        "outputId": "b3bc3f16-5bda-4ef4-aa25-a4649980e5c0"
      },
      "outputs": [
        {
          "data": {
            "text/plain": [
              "<Figure size 640x480 with 0 Axes>"
            ]
          },
          "metadata": {},
          "output_type": "display_data"
        },
        {
          "data": {
            "image/png": "[encoded data removed]",
            "text/plain": [
              "<Figure size 640x480 with 1 Axes>"
            ]
          },
          "metadata": {},
          "output_type": "display_data"
        }
      ],
      "source": [
        "df4 = pd.DataFrame(\n",
        "    {\n",
        "        \"a\": np.random.randn(1000) + 1,\n",
        "        \"b\": np.random.randn(1000),\n",
        "        \"c\": np.random.randn(1000) - 1,\n",
        "    },\n",
        "    columns=[\"a\", \"b\", \"c\"],\n",
        ")\n",
        "\n",
        "plt.figure();\n",
        "\n",
        "df4.plot.hist(alpha=0.5);"
      ]
    },
    {
      "cell_type": "code",
      "execution_count": 274,
      "metadata": {
        "id": "dsadnLShmu6A",
        "outputId": "b3f0644e-c10f-4deb-e4e5-897074220820"
      },
      "outputs": [
        {
          "data": {
            "text/html": [
              "<div>\n",
              "<style scoped>\n",
              "    .dataframe tbody tr th:only-of-type {\n",
              "        vertical-align: middle;\n",
              "    }\n",
              "\n",
              "    .dataframe tbody tr th {\n",
              "        vertical-align: top;\n",
              "    }\n",
              "\n",
              "    .dataframe thead th {\n",
              "        text-align: right;\n",
              "    }\n",
              "</style>\n",
              "<table border=\"1\" class=\"dataframe\">\n",
              "  <thead>\n",
              "    <tr style=\"text-align: right;\">\n",
              "      <th></th>\n",
              "      <th>a</th>\n",
              "      <th>b</th>\n",
              "      <th>c</th>\n",
              "    </tr>\n",
              "  </thead>\n",
              "  <tbody>\n",
              "    <tr>\n",
              "      <th>0</th>\n",
              "      <td>1.086756</td>\n",
              "      <td>0.297855</td>\n",
              "      <td>-0.529727</td>\n",
              "    </tr>\n",
              "    <tr>\n",
              "      <th>1</th>\n",
              "      <td>0.924521</td>\n",
              "      <td>1.158539</td>\n",
              "      <td>-0.609949</td>\n",
              "    </tr>\n",
              "    <tr>\n",
              "      <th>2</th>\n",
              "      <td>3.071140</td>\n",
              "      <td>-1.491490</td>\n",
              "      <td>-1.169574</td>\n",
              "    </tr>\n",
              "    <tr>\n",
              "      <th>3</th>\n",
              "      <td>0.591874</td>\n",
              "      <td>-0.300810</td>\n",
              "      <td>0.009728</td>\n",
              "    </tr>\n",
              "    <tr>\n",
              "      <th>4</th>\n",
              "      <td>0.629105</td>\n",
              "      <td>0.315211</td>\n",
              "      <td>-1.609416</td>\n",
              "    </tr>\n",
              "    <tr>\n",
              "      <th>...</th>\n",
              "      <td>...</td>\n",
              "      <td>...</td>\n",
              "      <td>...</td>\n",
              "    </tr>\n",
              "    <tr>\n",
              "      <th>995</th>\n",
              "      <td>1.941358</td>\n",
              "      <td>-0.201238</td>\n",
              "      <td>-1.721416</td>\n",
              "    </tr>\n",
              "    <tr>\n",
              "      <th>996</th>\n",
              "      <td>0.320065</td>\n",
              "      <td>-1.333011</td>\n",
              "      <td>-0.557254</td>\n",
              "    </tr>\n",
              "    <tr>\n",
              "      <th>997</th>\n",
              "      <td>-1.197352</td>\n",
              "      <td>0.826974</td>\n",
              "      <td>-2.273723</td>\n",
              "    </tr>\n",
              "    <tr>\n",
              "      <th>998</th>\n",
              "      <td>1.218102</td>\n",
              "      <td>-1.470771</td>\n",
              "      <td>-0.410780</td>\n",
              "    </tr>\n",
              "    <tr>\n",
              "      <th>999</th>\n",
              "      <td>0.455759</td>\n",
              "      <td>-0.077729</td>\n",
              "      <td>-1.104384</td>\n",
              "    </tr>\n",
              "  </tbody>\n",
              "</table>\n",
              "<p>1000 rows × 3 columns</p>\n",
              "</div>"
            ],
            "text/plain": [
              "            a         b         c\n",
              "0    1.086756  0.297855 -0.529727\n",
              "1    0.924521  1.158539 -0.609949\n",
              "2    3.071140 -1.491490 -1.169574\n",
              "3    0.591874 -0.300810  0.009728\n",
              "4    0.629105  0.315211 -1.609416\n",
              "..        ...       ...       ...\n",
              "995  1.941358 -0.201238 -1.721416\n",
              "996  0.320065 -1.333011 -0.557254\n",
              "997 -1.197352  0.826974 -2.273723\n",
              "998  1.218102 -1.470771 -0.410780\n",
              "999  0.455759 -0.077729 -1.104384\n",
              "\n",
              "[1000 rows x 3 columns]"
            ]
          },
          "execution_count": 274,
          "metadata": {},
          "output_type": "execute_result"
        }
      ],
      "source": [
        "df4"
      ]
    },
    {
      "cell_type": "code",
      "execution_count": 281,
      "metadata": {
        "id": "jM9pTTABmu6A",
        "outputId": "1156384d-7503-4a9f-9d94-a788389a7832"
      },
      "outputs": [
        {
          "data": {
            "image/png": "[encoded data removed]",
            "text/plain": [
              "<Figure size 640x480 with 1 Axes>"
            ]
          },
          "metadata": {},
          "output_type": "display_data"
        }
      ],
      "source": [
        "df4.plot(kind=\"hist\",alpha=0.5, x=\"a\") # a 제거함\n",
        "plt.show()"
      ]
    },
    {
      "cell_type": "code",
      "execution_count": 282,
      "metadata": {
        "id": "G_oQZhsqmu6A",
        "outputId": "566c5c2c-4fe0-493e-f288-c1c6c729b731"
      },
      "outputs": [
        {
          "data": {
            "image/png": "[encoded data removed]",
            "text/plain": [
              "<Figure size 640x480 with 1 Axes>"
            ]
          },
          "metadata": {},
          "output_type": "display_data"
        }
      ],
      "source": [
        "df4['a'].plot.hist()\n",
        "plt.show()"
      ]
    },
    {
      "cell_type": "markdown",
      "metadata": {
        "id": "CEyn-3ONmu6A"
      },
      "source": [
        "- Boxplot"
      ]
    },
    {
      "cell_type": "code",
      "execution_count": 283,
      "metadata": {
        "id": "utODL57umu6A",
        "outputId": "7730dd0c-a1be-4dc9-8295-f0abe491e0e7"
      },
      "outputs": [
        {
          "data": {
            "text/html": [
              "<div>\n",
              "<style scoped>\n",
              "    .dataframe tbody tr th:only-of-type {\n",
              "        vertical-align: middle;\n",
              "    }\n",
              "\n",
              "    .dataframe tbody tr th {\n",
              "        vertical-align: top;\n",
              "    }\n",
              "\n",
              "    .dataframe thead th {\n",
              "        text-align: right;\n",
              "    }\n",
              "</style>\n",
              "<table border=\"1\" class=\"dataframe\">\n",
              "  <thead>\n",
              "    <tr style=\"text-align: right;\">\n",
              "      <th></th>\n",
              "      <th>date</th>\n",
              "      <th>variable</th>\n",
              "      <th>value</th>\n",
              "      <th>value2</th>\n",
              "    </tr>\n",
              "  </thead>\n",
              "  <tbody>\n",
              "    <tr>\n",
              "      <th>0</th>\n",
              "      <td>2000-01-03</td>\n",
              "      <td>A</td>\n",
              "      <td>-0.108510</td>\n",
              "      <td>-0.217021</td>\n",
              "    </tr>\n",
              "    <tr>\n",
              "      <th>1</th>\n",
              "      <td>2000-01-04</td>\n",
              "      <td>A</td>\n",
              "      <td>0.215466</td>\n",
              "      <td>0.430932</td>\n",
              "    </tr>\n",
              "    <tr>\n",
              "      <th>2</th>\n",
              "      <td>2000-01-05</td>\n",
              "      <td>A</td>\n",
              "      <td>0.007444</td>\n",
              "      <td>0.014887</td>\n",
              "    </tr>\n",
              "    <tr>\n",
              "      <th>3</th>\n",
              "      <td>2000-01-03</td>\n",
              "      <td>B</td>\n",
              "      <td>0.212752</td>\n",
              "      <td>0.425503</td>\n",
              "    </tr>\n",
              "    <tr>\n",
              "      <th>4</th>\n",
              "      <td>2000-01-04</td>\n",
              "      <td>B</td>\n",
              "      <td>-0.265006</td>\n",
              "      <td>-0.530012</td>\n",
              "    </tr>\n",
              "    <tr>\n",
              "      <th>5</th>\n",
              "      <td>2000-01-05</td>\n",
              "      <td>B</td>\n",
              "      <td>-1.216988</td>\n",
              "      <td>-2.433976</td>\n",
              "    </tr>\n",
              "    <tr>\n",
              "      <th>6</th>\n",
              "      <td>2000-01-03</td>\n",
              "      <td>C</td>\n",
              "      <td>-0.382717</td>\n",
              "      <td>-0.765434</td>\n",
              "    </tr>\n",
              "    <tr>\n",
              "      <th>7</th>\n",
              "      <td>2000-01-04</td>\n",
              "      <td>C</td>\n",
              "      <td>-0.662205</td>\n",
              "      <td>-1.324409</td>\n",
              "    </tr>\n",
              "    <tr>\n",
              "      <th>8</th>\n",
              "      <td>2000-01-05</td>\n",
              "      <td>C</td>\n",
              "      <td>-0.628030</td>\n",
              "      <td>-1.256060</td>\n",
              "    </tr>\n",
              "    <tr>\n",
              "      <th>9</th>\n",
              "      <td>2000-01-03</td>\n",
              "      <td>D</td>\n",
              "      <td>0.017341</td>\n",
              "      <td>0.034683</td>\n",
              "    </tr>\n",
              "    <tr>\n",
              "      <th>10</th>\n",
              "      <td>2000-01-04</td>\n",
              "      <td>D</td>\n",
              "      <td>0.609268</td>\n",
              "      <td>1.218535</td>\n",
              "    </tr>\n",
              "    <tr>\n",
              "      <th>11</th>\n",
              "      <td>2000-01-05</td>\n",
              "      <td>D</td>\n",
              "      <td>-0.285330</td>\n",
              "      <td>-0.570659</td>\n",
              "    </tr>\n",
              "  </tbody>\n",
              "</table>\n",
              "</div>"
            ],
            "text/plain": [
              "         date variable     value    value2\n",
              "0  2000-01-03        A -0.108510 -0.217021\n",
              "1  2000-01-04        A  0.215466  0.430932\n",
              "2  2000-01-05        A  0.007444  0.014887\n",
              "3  2000-01-03        B  0.212752  0.425503\n",
              "4  2000-01-04        B -0.265006 -0.530012\n",
              "5  2000-01-05        B -1.216988 -2.433976\n",
              "6  2000-01-03        C -0.382717 -0.765434\n",
              "7  2000-01-04        C -0.662205 -1.324409\n",
              "8  2000-01-05        C -0.628030 -1.256060\n",
              "9  2000-01-03        D  0.017341  0.034683\n",
              "10 2000-01-04        D  0.609268  1.218535\n",
              "11 2000-01-05        D -0.285330 -0.570659"
            ]
          },
          "execution_count": 283,
          "metadata": {},
          "output_type": "execute_result"
        }
      ],
      "source": [
        "df"
      ]
    },
    {
      "cell_type": "code",
      "execution_count": 285,
      "metadata": {
        "id": "f50FeNvUmu6A",
        "outputId": "702c1f12-9c0c-4984-c284-34a956ea756d"
      },
      "outputs": [
        {
          "data": {
            "image/png": "[encoded data removed]",
            "text/plain": [
              "<Figure size 640x480 with 1 Axes>"
            ]
          },
          "metadata": {},
          "output_type": "display_data"
        }
      ],
      "source": [
        "df = pd.DataFrame(np.random.rand(10, 5), columns=[\"A\", \"B\", \"C\", \"D\", \"E\"])\n",
        "\n",
        "df.plot.box();"
      ]
    },
    {
      "cell_type": "code",
      "execution_count": 286,
      "metadata": {
        "id": "rQsom033mu6B",
        "outputId": "9c3b0e68-995a-4d57-c8f4-913b4b8fd3b2"
      },
      "outputs": [
        {
          "data": {
            "text/html": [
              "<div>\n",
              "<style scoped>\n",
              "    .dataframe tbody tr th:only-of-type {\n",
              "        vertical-align: middle;\n",
              "    }\n",
              "\n",
              "    .dataframe tbody tr th {\n",
              "        vertical-align: top;\n",
              "    }\n",
              "\n",
              "    .dataframe thead th {\n",
              "        text-align: right;\n",
              "    }\n",
              "</style>\n",
              "<table border=\"1\" class=\"dataframe\">\n",
              "  <thead>\n",
              "    <tr style=\"text-align: right;\">\n",
              "      <th></th>\n",
              "      <th>Col1</th>\n",
              "      <th>Col2</th>\n",
              "      <th>X</th>\n",
              "    </tr>\n",
              "  </thead>\n",
              "  <tbody>\n",
              "    <tr>\n",
              "      <th>0</th>\n",
              "      <td>0.139652</td>\n",
              "      <td>0.244658</td>\n",
              "      <td>A</td>\n",
              "    </tr>\n",
              "    <tr>\n",
              "      <th>1</th>\n",
              "      <td>0.044850</td>\n",
              "      <td>0.943496</td>\n",
              "      <td>A</td>\n",
              "    </tr>\n",
              "    <tr>\n",
              "      <th>2</th>\n",
              "      <td>0.597783</td>\n",
              "      <td>0.293299</td>\n",
              "      <td>A</td>\n",
              "    </tr>\n",
              "    <tr>\n",
              "      <th>3</th>\n",
              "      <td>0.717284</td>\n",
              "      <td>0.208783</td>\n",
              "      <td>A</td>\n",
              "    </tr>\n",
              "    <tr>\n",
              "      <th>4</th>\n",
              "      <td>0.210959</td>\n",
              "      <td>0.596984</td>\n",
              "      <td>A</td>\n",
              "    </tr>\n",
              "    <tr>\n",
              "      <th>5</th>\n",
              "      <td>0.683409</td>\n",
              "      <td>0.612719</td>\n",
              "      <td>B</td>\n",
              "    </tr>\n",
              "    <tr>\n",
              "      <th>6</th>\n",
              "      <td>0.409726</td>\n",
              "      <td>0.004381</td>\n",
              "      <td>B</td>\n",
              "    </tr>\n",
              "    <tr>\n",
              "      <th>7</th>\n",
              "      <td>0.415450</td>\n",
              "      <td>0.405677</td>\n",
              "      <td>B</td>\n",
              "    </tr>\n",
              "    <tr>\n",
              "      <th>8</th>\n",
              "      <td>0.769549</td>\n",
              "      <td>0.790667</td>\n",
              "      <td>B</td>\n",
              "    </tr>\n",
              "    <tr>\n",
              "      <th>9</th>\n",
              "      <td>0.394526</td>\n",
              "      <td>0.936166</td>\n",
              "      <td>B</td>\n",
              "    </tr>\n",
              "  </tbody>\n",
              "</table>\n",
              "</div>"
            ],
            "text/plain": [
              "       Col1      Col2  X\n",
              "0  0.139652  0.244658  A\n",
              "1  0.044850  0.943496  A\n",
              "2  0.597783  0.293299  A\n",
              "3  0.717284  0.208783  A\n",
              "4  0.210959  0.596984  A\n",
              "5  0.683409  0.612719  B\n",
              "6  0.409726  0.004381  B\n",
              "7  0.415450  0.405677  B\n",
              "8  0.769549  0.790667  B\n",
              "9  0.394526  0.936166  B"
            ]
          },
          "execution_count": 286,
          "metadata": {},
          "output_type": "execute_result"
        }
      ],
      "source": [
        "df = pd.DataFrame(np.random.rand(10, 2), columns=[\"Col1\", \"Col2\"])\n",
        "\n",
        "df[\"X\"] = pd.Series([\"A\", \"A\", \"A\", \"A\", \"A\", \"B\", \"B\", \"B\", \"B\", \"B\"])\n",
        "\n",
        "df"
      ]
    },
    {
      "cell_type": "code",
      "execution_count": 287,
      "metadata": {
        "id": "h9kmnRgbmu6B",
        "outputId": "41206930-98cd-44a8-b324-38bc0c924bb9"
      },
      "outputs": [
        {
          "data": {
            "text/plain": [
              "<Figure size 640x480 with 0 Axes>"
            ]
          },
          "metadata": {},
          "output_type": "display_data"
        },
        {
          "data": {
            "image/png": "[encoded data removed]",
            "text/plain": [
              "<Figure size 640x480 with 2 Axes>"
            ]
          },
          "metadata": {},
          "output_type": "display_data"
        }
      ],
      "source": [
        "plt.figure();\n",
        "\n",
        "bp = df.boxplot(by=\"X\")"
      ]
    },
    {
      "cell_type": "markdown",
      "metadata": {
        "id": "ZJmiiLhIe3FL"
      },
      "source": [
        "## `DataFrame` 연산\n",
        "\n",
        "`DataFrame`이 넘파이 배열을 흉내내려는 것은 아니지만 몇 가지 비슷한 점이 있습니다. 예제 `DataFrame`을 만들어 보죠:"
      ]
    },
    {
      "cell_type": "code",
      "execution_count": 288,
      "metadata": {
        "id": "k8L7dnNve3FL",
        "outputId": "1856fa0b-d981-41be-9b1d-3d1864e6ef87"
      },
      "outputs": [
        {
          "data": {
            "text/html": [
              "<div>\n",
              "<style scoped>\n",
              "    .dataframe tbody tr th:only-of-type {\n",
              "        vertical-align: middle;\n",
              "    }\n",
              "\n",
              "    .dataframe tbody tr th {\n",
              "        vertical-align: top;\n",
              "    }\n",
              "\n",
              "    .dataframe thead th {\n",
              "        text-align: right;\n",
              "    }\n",
              "</style>\n",
              "<table border=\"1\" class=\"dataframe\">\n",
              "  <thead>\n",
              "    <tr style=\"text-align: right;\">\n",
              "      <th></th>\n",
              "      <th>sep</th>\n",
              "      <th>oct</th>\n",
              "      <th>nov</th>\n",
              "    </tr>\n",
              "  </thead>\n",
              "  <tbody>\n",
              "    <tr>\n",
              "      <th>alice</th>\n",
              "      <td>8</td>\n",
              "      <td>8</td>\n",
              "      <td>9</td>\n",
              "    </tr>\n",
              "    <tr>\n",
              "      <th>bob</th>\n",
              "      <td>10</td>\n",
              "      <td>9</td>\n",
              "      <td>9</td>\n",
              "    </tr>\n",
              "    <tr>\n",
              "      <th>charles</th>\n",
              "      <td>4</td>\n",
              "      <td>8</td>\n",
              "      <td>2</td>\n",
              "    </tr>\n",
              "    <tr>\n",
              "      <th>darwin</th>\n",
              "      <td>9</td>\n",
              "      <td>10</td>\n",
              "      <td>10</td>\n",
              "    </tr>\n",
              "  </tbody>\n",
              "</table>\n",
              "</div>"
            ],
            "text/plain": [
              "         sep  oct  nov\n",
              "alice      8    8    9\n",
              "bob       10    9    9\n",
              "charles    4    8    2\n",
              "darwin     9   10   10"
            ]
          },
          "execution_count": 288,
          "metadata": {},
          "output_type": "execute_result"
        }
      ],
      "source": [
        "grades_array = np.array([[8,8,9],[10,9,9],[4, 8, 2], [9, 10, 10]])\n",
        "grades = pd.DataFrame(grades_array, columns=[\"sep\", \"oct\", \"nov\"], index=[\"alice\",\"bob\",\"charles\",\"darwin\"])\n",
        "grades"
      ]
    },
    {
      "cell_type": "markdown",
      "metadata": {
        "id": "x_pyJvs8e3FL"
      },
      "source": [
        "`DataFrame`에 넘파이 수학 함수를 적용하면 모든 값에 이 함수가 적용됩니다:"
      ]
    },
    {
      "cell_type": "code",
      "execution_count": 289,
      "metadata": {
        "id": "pk-R2Atse3FL",
        "outputId": "27b56f71-206a-4d95-8644-ef33c7425957"
      },
      "outputs": [
        {
          "data": {
            "text/html": [
              "<div>\n",
              "<style scoped>\n",
              "    .dataframe tbody tr th:only-of-type {\n",
              "        vertical-align: middle;\n",
              "    }\n",
              "\n",
              "    .dataframe tbody tr th {\n",
              "        vertical-align: top;\n",
              "    }\n",
              "\n",
              "    .dataframe thead th {\n",
              "        text-align: right;\n",
              "    }\n",
              "</style>\n",
              "<table border=\"1\" class=\"dataframe\">\n",
              "  <thead>\n",
              "    <tr style=\"text-align: right;\">\n",
              "      <th></th>\n",
              "      <th>sep</th>\n",
              "      <th>oct</th>\n",
              "      <th>nov</th>\n",
              "    </tr>\n",
              "  </thead>\n",
              "  <tbody>\n",
              "    <tr>\n",
              "      <th>alice</th>\n",
              "      <td>2.828427</td>\n",
              "      <td>2.828427</td>\n",
              "      <td>3.000000</td>\n",
              "    </tr>\n",
              "    <tr>\n",
              "      <th>bob</th>\n",
              "      <td>3.162278</td>\n",
              "      <td>3.000000</td>\n",
              "      <td>3.000000</td>\n",
              "    </tr>\n",
              "    <tr>\n",
              "      <th>charles</th>\n",
              "      <td>2.000000</td>\n",
              "      <td>2.828427</td>\n",
              "      <td>1.414214</td>\n",
              "    </tr>\n",
              "    <tr>\n",
              "      <th>darwin</th>\n",
              "      <td>3.000000</td>\n",
              "      <td>3.162278</td>\n",
              "      <td>3.162278</td>\n",
              "    </tr>\n",
              "  </tbody>\n",
              "</table>\n",
              "</div>"
            ],
            "text/plain": [
              "              sep       oct       nov\n",
              "alice    2.828427  2.828427  3.000000\n",
              "bob      3.162278  3.000000  3.000000\n",
              "charles  2.000000  2.828427  1.414214\n",
              "darwin   3.000000  3.162278  3.162278"
            ]
          },
          "execution_count": 289,
          "metadata": {},
          "output_type": "execute_result"
        }
      ],
      "source": [
        "np.sqrt(grades)"
      ]
    },
    {
      "cell_type": "markdown",
      "metadata": {
        "id": "xllyiKa1e3FM"
      },
      "source": [
        "비슷하게 `DataFrame`에 하나의 값을 더하면 `DataFrame`의 모든 원소에 이 값이 더해집니다. 이를 *브로드캐스팅*이라고 합니다:"
      ]
    },
    {
      "cell_type": "code",
      "execution_count": 290,
      "metadata": {
        "id": "XeeD1G_5e3FM",
        "outputId": "a93656fe-8b46-48ec-9c6f-b1f00be86630"
      },
      "outputs": [
        {
          "data": {
            "text/html": [
              "<div>\n",
              "<style scoped>\n",
              "    .dataframe tbody tr th:only-of-type {\n",
              "        vertical-align: middle;\n",
              "    }\n",
              "\n",
              "    .dataframe tbody tr th {\n",
              "        vertical-align: top;\n",
              "    }\n",
              "\n",
              "    .dataframe thead th {\n",
              "        text-align: right;\n",
              "    }\n",
              "</style>\n",
              "<table border=\"1\" class=\"dataframe\">\n",
              "  <thead>\n",
              "    <tr style=\"text-align: right;\">\n",
              "      <th></th>\n",
              "      <th>sep</th>\n",
              "      <th>oct</th>\n",
              "      <th>nov</th>\n",
              "    </tr>\n",
              "  </thead>\n",
              "  <tbody>\n",
              "    <tr>\n",
              "      <th>alice</th>\n",
              "      <td>9</td>\n",
              "      <td>9</td>\n",
              "      <td>10</td>\n",
              "    </tr>\n",
              "    <tr>\n",
              "      <th>bob</th>\n",
              "      <td>11</td>\n",
              "      <td>10</td>\n",
              "      <td>10</td>\n",
              "    </tr>\n",
              "    <tr>\n",
              "      <th>charles</th>\n",
              "      <td>5</td>\n",
              "      <td>9</td>\n",
              "      <td>3</td>\n",
              "    </tr>\n",
              "    <tr>\n",
              "      <th>darwin</th>\n",
              "      <td>10</td>\n",
              "      <td>11</td>\n",
              "      <td>11</td>\n",
              "    </tr>\n",
              "  </tbody>\n",
              "</table>\n",
              "</div>"
            ],
            "text/plain": [
              "         sep  oct  nov\n",
              "alice      9    9   10\n",
              "bob       11   10   10\n",
              "charles    5    9    3\n",
              "darwin    10   11   11"
            ]
          },
          "execution_count": 290,
          "metadata": {},
          "output_type": "execute_result"
        }
      ],
      "source": [
        "grades + 1"
      ]
    },
    {
      "cell_type": "markdown",
      "metadata": {
        "id": "YX1rGyLne3FM"
      },
      "source": [
        "물론 산술 연산(`*`,`/`,`**`...)과 조건 연산(`>`, `==`...)을 포함해 모든 이항 연산에도 마찬가지 입니다:"
      ]
    },
    {
      "cell_type": "code",
      "execution_count": 291,
      "metadata": {
        "id": "LYk3p9QAe3FM",
        "outputId": "72fcf2b8-fc9b-4e89-de41-3e1ba2538a77"
      },
      "outputs": [
        {
          "data": {
            "text/html": [
              "<div>\n",
              "<style scoped>\n",
              "    .dataframe tbody tr th:only-of-type {\n",
              "        vertical-align: middle;\n",
              "    }\n",
              "\n",
              "    .dataframe tbody tr th {\n",
              "        vertical-align: top;\n",
              "    }\n",
              "\n",
              "    .dataframe thead th {\n",
              "        text-align: right;\n",
              "    }\n",
              "</style>\n",
              "<table border=\"1\" class=\"dataframe\">\n",
              "  <thead>\n",
              "    <tr style=\"text-align: right;\">\n",
              "      <th></th>\n",
              "      <th>sep</th>\n",
              "      <th>oct</th>\n",
              "      <th>nov</th>\n",
              "    </tr>\n",
              "  </thead>\n",
              "  <tbody>\n",
              "    <tr>\n",
              "      <th>alice</th>\n",
              "      <td>True</td>\n",
              "      <td>True</td>\n",
              "      <td>True</td>\n",
              "    </tr>\n",
              "    <tr>\n",
              "      <th>bob</th>\n",
              "      <td>True</td>\n",
              "      <td>True</td>\n",
              "      <td>True</td>\n",
              "    </tr>\n",
              "    <tr>\n",
              "      <th>charles</th>\n",
              "      <td>False</td>\n",
              "      <td>True</td>\n",
              "      <td>False</td>\n",
              "    </tr>\n",
              "    <tr>\n",
              "      <th>darwin</th>\n",
              "      <td>True</td>\n",
              "      <td>True</td>\n",
              "      <td>True</td>\n",
              "    </tr>\n",
              "  </tbody>\n",
              "</table>\n",
              "</div>"
            ],
            "text/plain": [
              "           sep   oct    nov\n",
              "alice     True  True   True\n",
              "bob       True  True   True\n",
              "charles  False  True  False\n",
              "darwin    True  True   True"
            ]
          },
          "execution_count": 291,
          "metadata": {},
          "output_type": "execute_result"
        }
      ],
      "source": [
        "grades >= 5"
      ]
    },
    {
      "cell_type": "markdown",
      "metadata": {
        "id": "B1s_LHjde3FM"
      },
      "source": [
        "`DataFrame`의 `max`, `sum`, `mean` 같은 집계 연산은 각 열에 적용되어 `Series` 객체가 반환됩니다:"
      ]
    },
    {
      "cell_type": "code",
      "execution_count": 292,
      "metadata": {
        "id": "8QD2FdP3e3FM",
        "outputId": "f53cac28-55d2-4972-d19f-ecca4c7b71f2"
      },
      "outputs": [
        {
          "data": {
            "text/plain": [
              "sep    7.75\n",
              "oct    8.75\n",
              "nov    7.50\n",
              "dtype: float64"
            ]
          },
          "execution_count": 292,
          "metadata": {},
          "output_type": "execute_result"
        }
      ],
      "source": [
        "grades.mean()"
      ]
    },
    {
      "cell_type": "markdown",
      "metadata": {
        "id": "gChsFWsKe3FM"
      },
      "source": [
        "`all` 메서드도 집계 연산입니다: 모든 값이 `True`인지 아닌지 확인합니다. 모든 학생의 점수가 `5` 이상인 월을 찾아 보죠:"
      ]
    },
    {
      "cell_type": "code",
      "execution_count": 293,
      "metadata": {
        "id": "obkWs2yYe3FM",
        "outputId": "44e12be2-df35-436e-b9d7-083e24ab54c1"
      },
      "outputs": [
        {
          "data": {
            "text/plain": [
              "sep    False\n",
              "oct     True\n",
              "nov    False\n",
              "dtype: bool"
            ]
          },
          "execution_count": 293,
          "metadata": {},
          "output_type": "execute_result"
        }
      ],
      "source": [
        "(grades > 5).all()"
      ]
    },
    {
      "cell_type": "markdown",
      "metadata": {
        "id": "etzt0_QNe3FN"
      },
      "source": [
        "Most of these functions take an optional `axis` parameter which lets you specify along which axis of the `DataFrame` you want the operation executed. The default is `axis=0`, meaning that the operation is executed vertically (on each column). You can set `axis=1` to execute the operation horizontally (on each row). For example, let's find out which students had all grades greater than `5`:"
      ]
    },
    {
      "cell_type": "code",
      "execution_count": 294,
      "metadata": {
        "id": "3sTaYuIZmu6B",
        "outputId": "9a695e79-e419-4d13-ece9-eeeaa4d0f2b8"
      },
      "outputs": [
        {
          "data": {
            "text/html": [
              "<div>\n",
              "<style scoped>\n",
              "    .dataframe tbody tr th:only-of-type {\n",
              "        vertical-align: middle;\n",
              "    }\n",
              "\n",
              "    .dataframe tbody tr th {\n",
              "        vertical-align: top;\n",
              "    }\n",
              "\n",
              "    .dataframe thead th {\n",
              "        text-align: right;\n",
              "    }\n",
              "</style>\n",
              "<table border=\"1\" class=\"dataframe\">\n",
              "  <thead>\n",
              "    <tr style=\"text-align: right;\">\n",
              "      <th></th>\n",
              "      <th>sep</th>\n",
              "      <th>oct</th>\n",
              "      <th>nov</th>\n",
              "    </tr>\n",
              "  </thead>\n",
              "  <tbody>\n",
              "    <tr>\n",
              "      <th>alice</th>\n",
              "      <td>8</td>\n",
              "      <td>8</td>\n",
              "      <td>9</td>\n",
              "    </tr>\n",
              "    <tr>\n",
              "      <th>bob</th>\n",
              "      <td>10</td>\n",
              "      <td>9</td>\n",
              "      <td>9</td>\n",
              "    </tr>\n",
              "    <tr>\n",
              "      <th>charles</th>\n",
              "      <td>4</td>\n",
              "      <td>8</td>\n",
              "      <td>2</td>\n",
              "    </tr>\n",
              "    <tr>\n",
              "      <th>darwin</th>\n",
              "      <td>9</td>\n",
              "      <td>10</td>\n",
              "      <td>10</td>\n",
              "    </tr>\n",
              "  </tbody>\n",
              "</table>\n",
              "</div>"
            ],
            "text/plain": [
              "         sep  oct  nov\n",
              "alice      8    8    9\n",
              "bob       10    9    9\n",
              "charles    4    8    2\n",
              "darwin     9   10   10"
            ]
          },
          "execution_count": 294,
          "metadata": {},
          "output_type": "execute_result"
        }
      ],
      "source": [
        "grades"
      ]
    },
    {
      "cell_type": "code",
      "execution_count": 295,
      "metadata": {
        "id": "qdAG642re3FN",
        "outputId": "8a68d84d-eea7-4014-9408-62d9deaf613c"
      },
      "outputs": [
        {
          "data": {
            "text/plain": [
              "alice       True\n",
              "bob         True\n",
              "charles    False\n",
              "darwin      True\n",
              "dtype: bool"
            ]
          },
          "execution_count": 295,
          "metadata": {},
          "output_type": "execute_result"
        }
      ],
      "source": [
        "(grades > 5).all(axis = 1)"
      ]
    },
    {
      "cell_type": "markdown",
      "metadata": {
        "id": "jBqYdJ5ae3FN"
      },
      "source": [
        "`any` 메서드는 하나라도 참이면 `True`를 반환합니다. 한 번이라도 10점을 받은 사람을 찾아 보죠:"
      ]
    },
    {
      "cell_type": "code",
      "execution_count": 296,
      "metadata": {
        "id": "wKR2-RMme3FN",
        "outputId": "fac85ecb-ec00-4f96-98c0-0128a73511f8"
      },
      "outputs": [
        {
          "data": {
            "text/plain": [
              "alice      False\n",
              "bob         True\n",
              "charles    False\n",
              "darwin      True\n",
              "dtype: bool"
            ]
          },
          "execution_count": 296,
          "metadata": {},
          "output_type": "execute_result"
        }
      ],
      "source": [
        "(grades == 10).any(axis = 1)"
      ]
    },
    {
      "cell_type": "markdown",
      "metadata": {
        "id": "ryjQJcGxe3FN"
      },
      "source": [
        "`DataFrame`에 `Series` 객체를 더하면 (또는 다른 이항 연산을 수행하면) 판다스는 `DataFrame`에 있는 모든 *행*에 이 연산을 브로드캐스팅합니다. 이는 `Series` 객체가 `DataFrame`의 행의 개수와 크기가 같을 때만 동작합니다. 예를 들어 `DataFrame`의 `mean`(`Series` 객체)을 빼보죠:"
      ]
    },
    {
      "cell_type": "code",
      "execution_count": 297,
      "metadata": {
        "id": "AhjnFsQ9mu6C",
        "outputId": "91540348-d4ab-434c-ae84-09b9dc993ba7"
      },
      "outputs": [
        {
          "data": {
            "text/html": [
              "<div>\n",
              "<style scoped>\n",
              "    .dataframe tbody tr th:only-of-type {\n",
              "        vertical-align: middle;\n",
              "    }\n",
              "\n",
              "    .dataframe tbody tr th {\n",
              "        vertical-align: top;\n",
              "    }\n",
              "\n",
              "    .dataframe thead th {\n",
              "        text-align: right;\n",
              "    }\n",
              "</style>\n",
              "<table border=\"1\" class=\"dataframe\">\n",
              "  <thead>\n",
              "    <tr style=\"text-align: right;\">\n",
              "      <th></th>\n",
              "      <th>sep</th>\n",
              "      <th>oct</th>\n",
              "      <th>nov</th>\n",
              "    </tr>\n",
              "  </thead>\n",
              "  <tbody>\n",
              "    <tr>\n",
              "      <th>alice</th>\n",
              "      <td>8</td>\n",
              "      <td>8</td>\n",
              "      <td>9</td>\n",
              "    </tr>\n",
              "    <tr>\n",
              "      <th>bob</th>\n",
              "      <td>10</td>\n",
              "      <td>9</td>\n",
              "      <td>9</td>\n",
              "    </tr>\n",
              "    <tr>\n",
              "      <th>charles</th>\n",
              "      <td>4</td>\n",
              "      <td>8</td>\n",
              "      <td>2</td>\n",
              "    </tr>\n",
              "    <tr>\n",
              "      <th>darwin</th>\n",
              "      <td>9</td>\n",
              "      <td>10</td>\n",
              "      <td>10</td>\n",
              "    </tr>\n",
              "  </tbody>\n",
              "</table>\n",
              "</div>"
            ],
            "text/plain": [
              "         sep  oct  nov\n",
              "alice      8    8    9\n",
              "bob       10    9    9\n",
              "charles    4    8    2\n",
              "darwin     9   10   10"
            ]
          },
          "execution_count": 297,
          "metadata": {},
          "output_type": "execute_result"
        }
      ],
      "source": [
        "grades"
      ]
    },
    {
      "cell_type": "code",
      "execution_count": 298,
      "metadata": {
        "id": "g1ClCUh2mu6C",
        "outputId": "b8ce7c57-c963-4037-9f46-7d894954c3f7"
      },
      "outputs": [
        {
          "data": {
            "text/plain": [
              "sep    7.75\n",
              "oct    8.75\n",
              "nov    7.50\n",
              "dtype: float64"
            ]
          },
          "execution_count": 298,
          "metadata": {},
          "output_type": "execute_result"
        }
      ],
      "source": [
        "grades.mean()"
      ]
    },
    {
      "cell_type": "code",
      "execution_count": 299,
      "metadata": {
        "id": "ImcUzJZ5e3FN",
        "outputId": "65b62173-3b99-4d41-93af-7bba91f0d1cf"
      },
      "outputs": [
        {
          "data": {
            "text/html": [
              "<div>\n",
              "<style scoped>\n",
              "    .dataframe tbody tr th:only-of-type {\n",
              "        vertical-align: middle;\n",
              "    }\n",
              "\n",
              "    .dataframe tbody tr th {\n",
              "        vertical-align: top;\n",
              "    }\n",
              "\n",
              "    .dataframe thead th {\n",
              "        text-align: right;\n",
              "    }\n",
              "</style>\n",
              "<table border=\"1\" class=\"dataframe\">\n",
              "  <thead>\n",
              "    <tr style=\"text-align: right;\">\n",
              "      <th></th>\n",
              "      <th>sep</th>\n",
              "      <th>oct</th>\n",
              "      <th>nov</th>\n",
              "    </tr>\n",
              "  </thead>\n",
              "  <tbody>\n",
              "    <tr>\n",
              "      <th>alice</th>\n",
              "      <td>0.25</td>\n",
              "      <td>-0.75</td>\n",
              "      <td>1.5</td>\n",
              "    </tr>\n",
              "    <tr>\n",
              "      <th>bob</th>\n",
              "      <td>2.25</td>\n",
              "      <td>0.25</td>\n",
              "      <td>1.5</td>\n",
              "    </tr>\n",
              "    <tr>\n",
              "      <th>charles</th>\n",
              "      <td>-3.75</td>\n",
              "      <td>-0.75</td>\n",
              "      <td>-5.5</td>\n",
              "    </tr>\n",
              "    <tr>\n",
              "      <th>darwin</th>\n",
              "      <td>1.25</td>\n",
              "      <td>1.25</td>\n",
              "      <td>2.5</td>\n",
              "    </tr>\n",
              "  </tbody>\n",
              "</table>\n",
              "</div>"
            ],
            "text/plain": [
              "          sep   oct  nov\n",
              "alice    0.25 -0.75  1.5\n",
              "bob      2.25  0.25  1.5\n",
              "charles -3.75 -0.75 -5.5\n",
              "darwin   1.25  1.25  2.5"
            ]
          },
          "execution_count": 299,
          "metadata": {},
          "output_type": "execute_result"
        }
      ],
      "source": [
        "grades - grades.mean()  # grades - [7.75, 8.75, 7.50] 와 동일"
      ]
    },
    {
      "cell_type": "markdown",
      "metadata": {
        "id": "vLjUCxD9e3FN"
      },
      "source": [
        "모든 9월 성적에서 `7.75`를 빼고, 10월 성적에서 `8.75`를 빼고, 11월 성적에서 `7.50`을 뺍니다. 이는 다음 `DataFrame`을 빼는 것과 같습니다:"
      ]
    },
    {
      "cell_type": "code",
      "execution_count": 300,
      "metadata": {
        "id": "_q-L3gzze3FN",
        "outputId": "fc033e84-63b2-4e66-e35d-72dae86100de"
      },
      "outputs": [
        {
          "data": {
            "text/html": [
              "<div>\n",
              "<style scoped>\n",
              "    .dataframe tbody tr th:only-of-type {\n",
              "        vertical-align: middle;\n",
              "    }\n",
              "\n",
              "    .dataframe tbody tr th {\n",
              "        vertical-align: top;\n",
              "    }\n",
              "\n",
              "    .dataframe thead th {\n",
              "        text-align: right;\n",
              "    }\n",
              "</style>\n",
              "<table border=\"1\" class=\"dataframe\">\n",
              "  <thead>\n",
              "    <tr style=\"text-align: right;\">\n",
              "      <th></th>\n",
              "      <th>sep</th>\n",
              "      <th>oct</th>\n",
              "      <th>nov</th>\n",
              "    </tr>\n",
              "  </thead>\n",
              "  <tbody>\n",
              "    <tr>\n",
              "      <th>alice</th>\n",
              "      <td>7.75</td>\n",
              "      <td>8.75</td>\n",
              "      <td>7.5</td>\n",
              "    </tr>\n",
              "    <tr>\n",
              "      <th>bob</th>\n",
              "      <td>7.75</td>\n",
              "      <td>8.75</td>\n",
              "      <td>7.5</td>\n",
              "    </tr>\n",
              "    <tr>\n",
              "      <th>charles</th>\n",
              "      <td>7.75</td>\n",
              "      <td>8.75</td>\n",
              "      <td>7.5</td>\n",
              "    </tr>\n",
              "    <tr>\n",
              "      <th>darwin</th>\n",
              "      <td>7.75</td>\n",
              "      <td>8.75</td>\n",
              "      <td>7.5</td>\n",
              "    </tr>\n",
              "  </tbody>\n",
              "</table>\n",
              "</div>"
            ],
            "text/plain": [
              "          sep   oct  nov\n",
              "alice    7.75  8.75  7.5\n",
              "bob      7.75  8.75  7.5\n",
              "charles  7.75  8.75  7.5\n",
              "darwin   7.75  8.75  7.5"
            ]
          },
          "execution_count": 300,
          "metadata": {},
          "output_type": "execute_result"
        }
      ],
      "source": [
        "pd.DataFrame([[7.75, 8.75, 7.50]]*4, index=grades.index, columns=grades.columns)"
      ]
    },
    {
      "cell_type": "markdown",
      "metadata": {
        "id": "NQccjmcWe3FO"
      },
      "source": [
        "모든 성적의 전체 평균을 빼고 싶다면 다음과 같은 방법을 사용합니다:"
      ]
    },
    {
      "cell_type": "code",
      "execution_count": 301,
      "metadata": {
        "id": "JTKTg2kHmu6C",
        "outputId": "edbefede-1e29-4f11-99ad-b86358d3abd6"
      },
      "outputs": [
        {
          "data": {
            "text/plain": [
              "8.0"
            ]
          },
          "execution_count": 301,
          "metadata": {},
          "output_type": "execute_result"
        }
      ],
      "source": [
        "grades.values.mean()"
      ]
    },
    {
      "cell_type": "code",
      "execution_count": 302,
      "metadata": {
        "id": "gQ26Y3I4e3FO",
        "outputId": "108f03d8-e257-4c01-bbf3-98d6db16e62f",
        "scrolled": true
      },
      "outputs": [
        {
          "data": {
            "text/html": [
              "<div>\n",
              "<style scoped>\n",
              "    .dataframe tbody tr th:only-of-type {\n",
              "        vertical-align: middle;\n",
              "    }\n",
              "\n",
              "    .dataframe tbody tr th {\n",
              "        vertical-align: top;\n",
              "    }\n",
              "\n",
              "    .dataframe thead th {\n",
              "        text-align: right;\n",
              "    }\n",
              "</style>\n",
              "<table border=\"1\" class=\"dataframe\">\n",
              "  <thead>\n",
              "    <tr style=\"text-align: right;\">\n",
              "      <th></th>\n",
              "      <th>sep</th>\n",
              "      <th>oct</th>\n",
              "      <th>nov</th>\n",
              "    </tr>\n",
              "  </thead>\n",
              "  <tbody>\n",
              "    <tr>\n",
              "      <th>alice</th>\n",
              "      <td>0.0</td>\n",
              "      <td>0.0</td>\n",
              "      <td>1.0</td>\n",
              "    </tr>\n",
              "    <tr>\n",
              "      <th>bob</th>\n",
              "      <td>2.0</td>\n",
              "      <td>1.0</td>\n",
              "      <td>1.0</td>\n",
              "    </tr>\n",
              "    <tr>\n",
              "      <th>charles</th>\n",
              "      <td>-4.0</td>\n",
              "      <td>0.0</td>\n",
              "      <td>-6.0</td>\n",
              "    </tr>\n",
              "    <tr>\n",
              "      <th>darwin</th>\n",
              "      <td>1.0</td>\n",
              "      <td>2.0</td>\n",
              "      <td>2.0</td>\n",
              "    </tr>\n",
              "  </tbody>\n",
              "</table>\n",
              "</div>"
            ],
            "text/plain": [
              "         sep  oct  nov\n",
              "alice    0.0  0.0  1.0\n",
              "bob      2.0  1.0  1.0\n",
              "charles -4.0  0.0 -6.0\n",
              "darwin   1.0  2.0  2.0"
            ]
          },
          "execution_count": 302,
          "metadata": {},
          "output_type": "execute_result"
        }
      ],
      "source": [
        "grades - grades.values.mean() # 모든 점수에서 전체 평균(8.00)을 뺍니다"
      ]
    },
    {
      "cell_type": "markdown",
      "metadata": {
        "id": "N2_D6ONhe3FO"
      },
      "source": [
        "## 자동 정렬\n",
        "\n",
        "`Series`와 비슷하게 여러 개의 `DataFrame`에 대한 연산을 수행하면 판다스는 자동으로 행 인덱스 레이블로 정렬하지만 열 이름으로도 정렬할 수 있습니다. 10월부터 12월까지 보너스 포인트를 담은 `DataFrame`을 만들어 보겠습니다:"
      ]
    },
    {
      "cell_type": "code",
      "execution_count": 303,
      "metadata": {
        "id": "e7ilauX8mu6C",
        "outputId": "16a8c04d-ceb9-4fa4-bc7d-94eb4c29924e"
      },
      "outputs": [
        {
          "data": {
            "text/html": [
              "<div>\n",
              "<style scoped>\n",
              "    .dataframe tbody tr th:only-of-type {\n",
              "        vertical-align: middle;\n",
              "    }\n",
              "\n",
              "    .dataframe tbody tr th {\n",
              "        vertical-align: top;\n",
              "    }\n",
              "\n",
              "    .dataframe thead th {\n",
              "        text-align: right;\n",
              "    }\n",
              "</style>\n",
              "<table border=\"1\" class=\"dataframe\">\n",
              "  <thead>\n",
              "    <tr style=\"text-align: right;\">\n",
              "      <th></th>\n",
              "      <th>sep</th>\n",
              "      <th>oct</th>\n",
              "      <th>nov</th>\n",
              "    </tr>\n",
              "  </thead>\n",
              "  <tbody>\n",
              "    <tr>\n",
              "      <th>alice</th>\n",
              "      <td>8</td>\n",
              "      <td>8</td>\n",
              "      <td>9</td>\n",
              "    </tr>\n",
              "    <tr>\n",
              "      <th>bob</th>\n",
              "      <td>10</td>\n",
              "      <td>9</td>\n",
              "      <td>9</td>\n",
              "    </tr>\n",
              "    <tr>\n",
              "      <th>charles</th>\n",
              "      <td>4</td>\n",
              "      <td>8</td>\n",
              "      <td>2</td>\n",
              "    </tr>\n",
              "    <tr>\n",
              "      <th>darwin</th>\n",
              "      <td>9</td>\n",
              "      <td>10</td>\n",
              "      <td>10</td>\n",
              "    </tr>\n",
              "  </tbody>\n",
              "</table>\n",
              "</div>"
            ],
            "text/plain": [
              "         sep  oct  nov\n",
              "alice      8    8    9\n",
              "bob       10    9    9\n",
              "charles    4    8    2\n",
              "darwin     9   10   10"
            ]
          },
          "execution_count": 303,
          "metadata": {},
          "output_type": "execute_result"
        }
      ],
      "source": [
        "grades_array = np.array([[8,8,9],[10,9,9],[4, 8, 2], [9, 10, 10]])\n",
        "grades = pd.DataFrame(grades_array, columns=[\"sep\", \"oct\", \"nov\"], index=[\"alice\",\"bob\",\"charles\",\"darwin\"])\n",
        "grades"
      ]
    },
    {
      "cell_type": "code",
      "execution_count": 304,
      "metadata": {
        "id": "ATKcpuXxe3FO",
        "outputId": "9239f13a-e1e7-4738-f9be-6576fe6bb67b"
      },
      "outputs": [
        {
          "data": {
            "text/html": [
              "<div>\n",
              "<style scoped>\n",
              "    .dataframe tbody tr th:only-of-type {\n",
              "        vertical-align: middle;\n",
              "    }\n",
              "\n",
              "    .dataframe tbody tr th {\n",
              "        vertical-align: top;\n",
              "    }\n",
              "\n",
              "    .dataframe thead th {\n",
              "        text-align: right;\n",
              "    }\n",
              "</style>\n",
              "<table border=\"1\" class=\"dataframe\">\n",
              "  <thead>\n",
              "    <tr style=\"text-align: right;\">\n",
              "      <th></th>\n",
              "      <th>oct</th>\n",
              "      <th>nov</th>\n",
              "      <th>dec</th>\n",
              "    </tr>\n",
              "  </thead>\n",
              "  <tbody>\n",
              "    <tr>\n",
              "      <th>bob</th>\n",
              "      <td>0.0</td>\n",
              "      <td>NaN</td>\n",
              "      <td>2.0</td>\n",
              "    </tr>\n",
              "    <tr>\n",
              "      <th>colin</th>\n",
              "      <td>NaN</td>\n",
              "      <td>1.0</td>\n",
              "      <td>0.0</td>\n",
              "    </tr>\n",
              "    <tr>\n",
              "      <th>darwin</th>\n",
              "      <td>0.0</td>\n",
              "      <td>1.0</td>\n",
              "      <td>0.0</td>\n",
              "    </tr>\n",
              "    <tr>\n",
              "      <th>charles</th>\n",
              "      <td>3.0</td>\n",
              "      <td>3.0</td>\n",
              "      <td>0.0</td>\n",
              "    </tr>\n",
              "  </tbody>\n",
              "</table>\n",
              "</div>"
            ],
            "text/plain": [
              "         oct  nov  dec\n",
              "bob      0.0  NaN  2.0\n",
              "colin    NaN  1.0  0.0\n",
              "darwin   0.0  1.0  0.0\n",
              "charles  3.0  3.0  0.0"
            ]
          },
          "execution_count": 304,
          "metadata": {},
          "output_type": "execute_result"
        }
      ],
      "source": [
        "bonus_array = np.array([[0,np.nan,2],[np.nan,1,0],[0, 1, 0], [3, 3, 0]])\n",
        "bonus_points = pd.DataFrame(bonus_array, columns=[\"oct\", \"nov\", \"dec\"], index=[\"bob\",\"colin\", \"darwin\", \"charles\"])\n",
        "bonus_points"
      ]
    },
    {
      "cell_type": "code",
      "execution_count": 305,
      "metadata": {
        "id": "BBnyALI-e3FP",
        "outputId": "e70f0040-8b0b-41e8-e42d-3dfb8b3b5e04",
        "scrolled": true
      },
      "outputs": [
        {
          "data": {
            "text/html": [
              "<div>\n",
              "<style scoped>\n",
              "    .dataframe tbody tr th:only-of-type {\n",
              "        vertical-align: middle;\n",
              "    }\n",
              "\n",
              "    .dataframe tbody tr th {\n",
              "        vertical-align: top;\n",
              "    }\n",
              "\n",
              "    .dataframe thead th {\n",
              "        text-align: right;\n",
              "    }\n",
              "</style>\n",
              "<table border=\"1\" class=\"dataframe\">\n",
              "  <thead>\n",
              "    <tr style=\"text-align: right;\">\n",
              "      <th></th>\n",
              "      <th>dec</th>\n",
              "      <th>nov</th>\n",
              "      <th>oct</th>\n",
              "      <th>sep</th>\n",
              "    </tr>\n",
              "  </thead>\n",
              "  <tbody>\n",
              "    <tr>\n",
              "      <th>alice</th>\n",
              "      <td>NaN</td>\n",
              "      <td>NaN</td>\n",
              "      <td>NaN</td>\n",
              "      <td>NaN</td>\n",
              "    </tr>\n",
              "    <tr>\n",
              "      <th>bob</th>\n",
              "      <td>NaN</td>\n",
              "      <td>NaN</td>\n",
              "      <td>9.0</td>\n",
              "      <td>NaN</td>\n",
              "    </tr>\n",
              "    <tr>\n",
              "      <th>charles</th>\n",
              "      <td>NaN</td>\n",
              "      <td>5.0</td>\n",
              "      <td>11.0</td>\n",
              "      <td>NaN</td>\n",
              "    </tr>\n",
              "    <tr>\n",
              "      <th>colin</th>\n",
              "      <td>NaN</td>\n",
              "      <td>NaN</td>\n",
              "      <td>NaN</td>\n",
              "      <td>NaN</td>\n",
              "    </tr>\n",
              "    <tr>\n",
              "      <th>darwin</th>\n",
              "      <td>NaN</td>\n",
              "      <td>11.0</td>\n",
              "      <td>10.0</td>\n",
              "      <td>NaN</td>\n",
              "    </tr>\n",
              "  </tbody>\n",
              "</table>\n",
              "</div>"
            ],
            "text/plain": [
              "         dec   nov   oct  sep\n",
              "alice    NaN   NaN   NaN  NaN\n",
              "bob      NaN   NaN   9.0  NaN\n",
              "charles  NaN   5.0  11.0  NaN\n",
              "colin    NaN   NaN   NaN  NaN\n",
              "darwin   NaN  11.0  10.0  NaN"
            ]
          },
          "execution_count": 305,
          "metadata": {},
          "output_type": "execute_result"
        }
      ],
      "source": [
        "grades + bonus_points"
      ]
    },
    {
      "cell_type": "markdown",
      "metadata": {
        "id": "GjBisl5Ie3FP"
      },
      "source": [
        "덧셈 연산이 수행되었지만 너무 많은 원소가 `NaN`이 되었습니다. `DataFrame`을 정렬할 때 일부 열과 행이 한 쪽에만 있기 때문입니다. 다른 쪽에는 누란되었다고 간주합니다(`NaN`). `NaN`에 어떤 수를 더하면 `NaN`이 됩니다.\n",
        "\n",
        "## 누락된 데이터 다루기\n",
        "\n",
        "실제 데이터에서 누락된 데이터를 다루는 경우는 자주 발생합니다. 판다스는 누락된 데이터를 다룰 수 있는 몇 가지 방법을 제공합니다.\n",
        "\n",
        "위 데이터에 있는 문제를 해결해 보죠. 예를 들어, 누락된 데이터는 `NaN`이 아니라 0이 되어야 한다고 결정할 수 있습니다. `fillna()` 메서드를 사용해 모든 `NaN` 값을 어떤 값으로 바꿀 수 있습니다:"
      ]
    },
    {
      "cell_type": "code",
      "execution_count": 306,
      "metadata": {
        "id": "FeKlJOnRe3FP",
        "outputId": "1c8cdefd-7c6b-49d1-bdd9-61cdb685abb7",
        "scrolled": true
      },
      "outputs": [
        {
          "data": {
            "text/html": [
              "<div>\n",
              "<style scoped>\n",
              "    .dataframe tbody tr th:only-of-type {\n",
              "        vertical-align: middle;\n",
              "    }\n",
              "\n",
              "    .dataframe tbody tr th {\n",
              "        vertical-align: top;\n",
              "    }\n",
              "\n",
              "    .dataframe thead th {\n",
              "        text-align: right;\n",
              "    }\n",
              "</style>\n",
              "<table border=\"1\" class=\"dataframe\">\n",
              "  <thead>\n",
              "    <tr style=\"text-align: right;\">\n",
              "      <th></th>\n",
              "      <th>dec</th>\n",
              "      <th>nov</th>\n",
              "      <th>oct</th>\n",
              "      <th>sep</th>\n",
              "    </tr>\n",
              "  </thead>\n",
              "  <tbody>\n",
              "    <tr>\n",
              "      <th>alice</th>\n",
              "      <td>0.0</td>\n",
              "      <td>0.0</td>\n",
              "      <td>0.0</td>\n",
              "      <td>0.0</td>\n",
              "    </tr>\n",
              "    <tr>\n",
              "      <th>bob</th>\n",
              "      <td>0.0</td>\n",
              "      <td>0.0</td>\n",
              "      <td>9.0</td>\n",
              "      <td>0.0</td>\n",
              "    </tr>\n",
              "    <tr>\n",
              "      <th>charles</th>\n",
              "      <td>0.0</td>\n",
              "      <td>5.0</td>\n",
              "      <td>11.0</td>\n",
              "      <td>0.0</td>\n",
              "    </tr>\n",
              "    <tr>\n",
              "      <th>colin</th>\n",
              "      <td>0.0</td>\n",
              "      <td>0.0</td>\n",
              "      <td>0.0</td>\n",
              "      <td>0.0</td>\n",
              "    </tr>\n",
              "    <tr>\n",
              "      <th>darwin</th>\n",
              "      <td>0.0</td>\n",
              "      <td>11.0</td>\n",
              "      <td>10.0</td>\n",
              "      <td>0.0</td>\n",
              "    </tr>\n",
              "  </tbody>\n",
              "</table>\n",
              "</div>"
            ],
            "text/plain": [
              "         dec   nov   oct  sep\n",
              "alice    0.0   0.0   0.0  0.0\n",
              "bob      0.0   0.0   9.0  0.0\n",
              "charles  0.0   5.0  11.0  0.0\n",
              "colin    0.0   0.0   0.0  0.0\n",
              "darwin   0.0  11.0  10.0  0.0"
            ]
          },
          "execution_count": 306,
          "metadata": {},
          "output_type": "execute_result"
        }
      ],
      "source": [
        "(grades + bonus_points).fillna(0)"
      ]
    },
    {
      "cell_type": "markdown",
      "metadata": {
        "id": "JbEyUEdVe3FP"
      },
      "source": [
        "9월의 점수를 0으로 만드는 것은 공정하지 않습니다. 누락된 점수는 그대로 두고, 누락된 보너스 포인트는 0으로 바꿀 수 있습니다:"
      ]
    },
    {
      "cell_type": "code",
      "execution_count": 307,
      "metadata": {
        "id": "mbiXqoRGmu6C",
        "outputId": "70c63278-f58b-482e-9214-29596d25d597"
      },
      "outputs": [
        {
          "data": {
            "text/html": [
              "<div>\n",
              "<style scoped>\n",
              "    .dataframe tbody tr th:only-of-type {\n",
              "        vertical-align: middle;\n",
              "    }\n",
              "\n",
              "    .dataframe tbody tr th {\n",
              "        vertical-align: top;\n",
              "    }\n",
              "\n",
              "    .dataframe thead th {\n",
              "        text-align: right;\n",
              "    }\n",
              "</style>\n",
              "<table border=\"1\" class=\"dataframe\">\n",
              "  <thead>\n",
              "    <tr style=\"text-align: right;\">\n",
              "      <th></th>\n",
              "      <th>oct</th>\n",
              "      <th>nov</th>\n",
              "      <th>dec</th>\n",
              "    </tr>\n",
              "  </thead>\n",
              "  <tbody>\n",
              "    <tr>\n",
              "      <th>bob</th>\n",
              "      <td>0.0</td>\n",
              "      <td>NaN</td>\n",
              "      <td>2.0</td>\n",
              "    </tr>\n",
              "    <tr>\n",
              "      <th>colin</th>\n",
              "      <td>NaN</td>\n",
              "      <td>1.0</td>\n",
              "      <td>0.0</td>\n",
              "    </tr>\n",
              "    <tr>\n",
              "      <th>darwin</th>\n",
              "      <td>0.0</td>\n",
              "      <td>1.0</td>\n",
              "      <td>0.0</td>\n",
              "    </tr>\n",
              "    <tr>\n",
              "      <th>charles</th>\n",
              "      <td>3.0</td>\n",
              "      <td>3.0</td>\n",
              "      <td>0.0</td>\n",
              "    </tr>\n",
              "  </tbody>\n",
              "</table>\n",
              "</div>"
            ],
            "text/plain": [
              "         oct  nov  dec\n",
              "bob      0.0  NaN  2.0\n",
              "colin    NaN  1.0  0.0\n",
              "darwin   0.0  1.0  0.0\n",
              "charles  3.0  3.0  0.0"
            ]
          },
          "execution_count": 307,
          "metadata": {},
          "output_type": "execute_result"
        }
      ],
      "source": [
        "bonus_points"
      ]
    },
    {
      "cell_type": "code",
      "execution_count": 308,
      "metadata": {
        "id": "-eIfpI04e3FP",
        "outputId": "9e823770-65c2-44a5-ef6e-cbd5601a71fb"
      },
      "outputs": [
        {
          "data": {
            "text/html": [
              "<div>\n",
              "<style scoped>\n",
              "    .dataframe tbody tr th:only-of-type {\n",
              "        vertical-align: middle;\n",
              "    }\n",
              "\n",
              "    .dataframe tbody tr th {\n",
              "        vertical-align: top;\n",
              "    }\n",
              "\n",
              "    .dataframe thead th {\n",
              "        text-align: right;\n",
              "    }\n",
              "</style>\n",
              "<table border=\"1\" class=\"dataframe\">\n",
              "  <thead>\n",
              "    <tr style=\"text-align: right;\">\n",
              "      <th></th>\n",
              "      <th>sep</th>\n",
              "      <th>oct</th>\n",
              "      <th>nov</th>\n",
              "      <th>dec</th>\n",
              "    </tr>\n",
              "  </thead>\n",
              "  <tbody>\n",
              "    <tr>\n",
              "      <th>bob</th>\n",
              "      <td>0</td>\n",
              "      <td>0.0</td>\n",
              "      <td>0.0</td>\n",
              "      <td>2.0</td>\n",
              "    </tr>\n",
              "    <tr>\n",
              "      <th>colin</th>\n",
              "      <td>0</td>\n",
              "      <td>0.0</td>\n",
              "      <td>1.0</td>\n",
              "      <td>0.0</td>\n",
              "    </tr>\n",
              "    <tr>\n",
              "      <th>darwin</th>\n",
              "      <td>0</td>\n",
              "      <td>0.0</td>\n",
              "      <td>1.0</td>\n",
              "      <td>0.0</td>\n",
              "    </tr>\n",
              "    <tr>\n",
              "      <th>charles</th>\n",
              "      <td>0</td>\n",
              "      <td>3.0</td>\n",
              "      <td>3.0</td>\n",
              "      <td>0.0</td>\n",
              "    </tr>\n",
              "    <tr>\n",
              "      <th>alice</th>\n",
              "      <td>0</td>\n",
              "      <td>0.0</td>\n",
              "      <td>0.0</td>\n",
              "      <td>0.0</td>\n",
              "    </tr>\n",
              "  </tbody>\n",
              "</table>\n",
              "</div>"
            ],
            "text/plain": [
              "         sep  oct  nov  dec\n",
              "bob        0  0.0  0.0  2.0\n",
              "colin      0  0.0  1.0  0.0\n",
              "darwin     0  0.0  1.0  0.0\n",
              "charles    0  3.0  3.0  0.0\n",
              "alice      0  0.0  0.0  0.0"
            ]
          },
          "execution_count": 308,
          "metadata": {},
          "output_type": "execute_result"
        }
      ],
      "source": [
        "fixed_bonus_points = bonus_points.fillna(0) # NA 값 0으로 바꾸기\n",
        "fixed_bonus_points.insert(loc=0, column=\"sep\", value=0) # 누락된 컬럼 만들기\n",
        "fixed_bonus_points.loc[\"alice\"] = 0 # 누락된 행 만들기\n",
        "fixed_bonus_points"
      ]
    },
    {
      "cell_type": "code",
      "execution_count": 309,
      "metadata": {
        "id": "9V7oOaIamu6D",
        "outputId": "ee2fcb85-6ad2-4ea4-c159-184b55b193dc"
      },
      "outputs": [
        {
          "data": {
            "text/html": [
              "<div>\n",
              "<style scoped>\n",
              "    .dataframe tbody tr th:only-of-type {\n",
              "        vertical-align: middle;\n",
              "    }\n",
              "\n",
              "    .dataframe tbody tr th {\n",
              "        vertical-align: top;\n",
              "    }\n",
              "\n",
              "    .dataframe thead th {\n",
              "        text-align: right;\n",
              "    }\n",
              "</style>\n",
              "<table border=\"1\" class=\"dataframe\">\n",
              "  <thead>\n",
              "    <tr style=\"text-align: right;\">\n",
              "      <th></th>\n",
              "      <th>dec</th>\n",
              "      <th>nov</th>\n",
              "      <th>oct</th>\n",
              "      <th>sep</th>\n",
              "    </tr>\n",
              "  </thead>\n",
              "  <tbody>\n",
              "    <tr>\n",
              "      <th>alice</th>\n",
              "      <td>NaN</td>\n",
              "      <td>9.0</td>\n",
              "      <td>8.0</td>\n",
              "      <td>8.0</td>\n",
              "    </tr>\n",
              "    <tr>\n",
              "      <th>bob</th>\n",
              "      <td>NaN</td>\n",
              "      <td>9.0</td>\n",
              "      <td>9.0</td>\n",
              "      <td>10.0</td>\n",
              "    </tr>\n",
              "    <tr>\n",
              "      <th>charles</th>\n",
              "      <td>NaN</td>\n",
              "      <td>5.0</td>\n",
              "      <td>11.0</td>\n",
              "      <td>4.0</td>\n",
              "    </tr>\n",
              "    <tr>\n",
              "      <th>colin</th>\n",
              "      <td>NaN</td>\n",
              "      <td>NaN</td>\n",
              "      <td>NaN</td>\n",
              "      <td>NaN</td>\n",
              "    </tr>\n",
              "    <tr>\n",
              "      <th>darwin</th>\n",
              "      <td>NaN</td>\n",
              "      <td>11.0</td>\n",
              "      <td>10.0</td>\n",
              "      <td>9.0</td>\n",
              "    </tr>\n",
              "  </tbody>\n",
              "</table>\n",
              "</div>"
            ],
            "text/plain": [
              "         dec   nov   oct   sep\n",
              "alice    NaN   9.0   8.0   8.0\n",
              "bob      NaN   9.0   9.0  10.0\n",
              "charles  NaN   5.0  11.0   4.0\n",
              "colin    NaN   NaN   NaN   NaN\n",
              "darwin   NaN  11.0  10.0   9.0"
            ]
          },
          "execution_count": 309,
          "metadata": {},
          "output_type": "execute_result"
        }
      ],
      "source": [
        "grades + fixed_bonus_points"
      ]
    },
    {
      "cell_type": "markdown",
      "metadata": {
        "id": "s3FBy173e3FP"
      },
      "source": [
        "훨씬 낫네요: 일부 데이터를 꾸며냈지만 덜 불공정합니다.\n",
        "\n",
        "누락된 값을 다루는 또 다른 방법은 보간입니다. `bonus_points` `DataFrame`을 다시 보죠:"
      ]
    },
    {
      "cell_type": "code",
      "execution_count": 310,
      "metadata": {
        "id": "TIQiNc8ye3FP",
        "outputId": "c2e06edc-1584-4d11-aa46-cafa085f35e0"
      },
      "outputs": [
        {
          "data": {
            "text/html": [
              "<div>\n",
              "<style scoped>\n",
              "    .dataframe tbody tr th:only-of-type {\n",
              "        vertical-align: middle;\n",
              "    }\n",
              "\n",
              "    .dataframe tbody tr th {\n",
              "        vertical-align: top;\n",
              "    }\n",
              "\n",
              "    .dataframe thead th {\n",
              "        text-align: right;\n",
              "    }\n",
              "</style>\n",
              "<table border=\"1\" class=\"dataframe\">\n",
              "  <thead>\n",
              "    <tr style=\"text-align: right;\">\n",
              "      <th></th>\n",
              "      <th>oct</th>\n",
              "      <th>nov</th>\n",
              "      <th>dec</th>\n",
              "    </tr>\n",
              "  </thead>\n",
              "  <tbody>\n",
              "    <tr>\n",
              "      <th>bob</th>\n",
              "      <td>0.0</td>\n",
              "      <td>NaN</td>\n",
              "      <td>2.0</td>\n",
              "    </tr>\n",
              "    <tr>\n",
              "      <th>colin</th>\n",
              "      <td>NaN</td>\n",
              "      <td>1.0</td>\n",
              "      <td>0.0</td>\n",
              "    </tr>\n",
              "    <tr>\n",
              "      <th>darwin</th>\n",
              "      <td>0.0</td>\n",
              "      <td>1.0</td>\n",
              "      <td>0.0</td>\n",
              "    </tr>\n",
              "    <tr>\n",
              "      <th>charles</th>\n",
              "      <td>3.0</td>\n",
              "      <td>3.0</td>\n",
              "      <td>0.0</td>\n",
              "    </tr>\n",
              "  </tbody>\n",
              "</table>\n",
              "</div>"
            ],
            "text/plain": [
              "         oct  nov  dec\n",
              "bob      0.0  NaN  2.0\n",
              "colin    NaN  1.0  0.0\n",
              "darwin   0.0  1.0  0.0\n",
              "charles  3.0  3.0  0.0"
            ]
          },
          "execution_count": 310,
          "metadata": {},
          "output_type": "execute_result"
        }
      ],
      "source": [
        "bonus_points"
      ]
    },
    {
      "cell_type": "markdown",
      "metadata": {
        "id": "YDv7GPmne3FP"
      },
      "source": [
        "`interpolate` 메서드를 사용해 보죠. 기본적으로 수직 방향(`axis=0`)으로 보간합니다. 따라서 수평으로(`axis=1`)으로 보간하도록 지정합니다."
      ]
    },
    {
      "cell_type": "code",
      "execution_count": 312,
      "metadata": {
        "id": "EzV_l-vHe3FP",
        "outputId": "4e1e6b78-5d23-489d-aadb-f333a66c57c9"
      },
      "outputs": [
        {
          "data": {
            "text/html": [
              "<div>\n",
              "<style scoped>\n",
              "    .dataframe tbody tr th:only-of-type {\n",
              "        vertical-align: middle;\n",
              "    }\n",
              "\n",
              "    .dataframe tbody tr th {\n",
              "        vertical-align: top;\n",
              "    }\n",
              "\n",
              "    .dataframe thead th {\n",
              "        text-align: right;\n",
              "    }\n",
              "</style>\n",
              "<table border=\"1\" class=\"dataframe\">\n",
              "  <thead>\n",
              "    <tr style=\"text-align: right;\">\n",
              "      <th></th>\n",
              "      <th>oct</th>\n",
              "      <th>nov</th>\n",
              "      <th>dec</th>\n",
              "    </tr>\n",
              "  </thead>\n",
              "  <tbody>\n",
              "    <tr>\n",
              "      <th>bob</th>\n",
              "      <td>0.0</td>\n",
              "      <td>1.0</td>\n",
              "      <td>2.0</td>\n",
              "    </tr>\n",
              "    <tr>\n",
              "      <th>colin</th>\n",
              "      <td>NaN</td>\n",
              "      <td>1.0</td>\n",
              "      <td>0.0</td>\n",
              "    </tr>\n",
              "    <tr>\n",
              "      <th>darwin</th>\n",
              "      <td>0.0</td>\n",
              "      <td>1.0</td>\n",
              "      <td>0.0</td>\n",
              "    </tr>\n",
              "    <tr>\n",
              "      <th>charles</th>\n",
              "      <td>3.0</td>\n",
              "      <td>3.0</td>\n",
              "      <td>0.0</td>\n",
              "    </tr>\n",
              "  </tbody>\n",
              "</table>\n",
              "</div>"
            ],
            "text/plain": [
              "         oct  nov  dec\n",
              "bob      0.0  1.0  2.0\n",
              "colin    NaN  1.0  0.0\n",
              "darwin   0.0  1.0  0.0\n",
              "charles  3.0  3.0  0.0"
            ]
          },
          "execution_count": 312,
          "metadata": {},
          "output_type": "execute_result"
        }
      ],
      "source": [
        "bonus_points.interpolate(axis=1)"
      ]
    },
    {
      "cell_type": "markdown",
      "metadata": {
        "id": "rnX74KQ8e3FQ"
      },
      "source": [
        "bob의 보너스 포인트는 10월에 0이고 12월에 2입니다. 11월을 보간하면 평균 보너스 포인트 1을 얻습니다. colin의 보너스 포인트는 11월에 1이지만 9월에 포인트는 얼마인지 모릅니다. 따라서 보간할 수 없고 10월의 포인트는 그대로 누락된 값으로 남아 있습니다. 이를 해결하려면 보간하기 전에 9월의 보너스 포인트를 0으로 설정해야 합니다."
      ]
    },
    {
      "cell_type": "code",
      "execution_count": 313,
      "metadata": {
        "id": "_V5KCDt9e3FQ",
        "outputId": "a28746c7-d701-4cd9-cf80-5ad2cc1a7bda"
      },
      "outputs": [
        {
          "data": {
            "text/html": [
              "<div>\n",
              "<style scoped>\n",
              "    .dataframe tbody tr th:only-of-type {\n",
              "        vertical-align: middle;\n",
              "    }\n",
              "\n",
              "    .dataframe tbody tr th {\n",
              "        vertical-align: top;\n",
              "    }\n",
              "\n",
              "    .dataframe thead th {\n",
              "        text-align: right;\n",
              "    }\n",
              "</style>\n",
              "<table border=\"1\" class=\"dataframe\">\n",
              "  <thead>\n",
              "    <tr style=\"text-align: right;\">\n",
              "      <th></th>\n",
              "      <th>sep</th>\n",
              "      <th>oct</th>\n",
              "      <th>nov</th>\n",
              "      <th>dec</th>\n",
              "    </tr>\n",
              "  </thead>\n",
              "  <tbody>\n",
              "    <tr>\n",
              "      <th>bob</th>\n",
              "      <td>0.0</td>\n",
              "      <td>0.0</td>\n",
              "      <td>1.0</td>\n",
              "      <td>2.0</td>\n",
              "    </tr>\n",
              "    <tr>\n",
              "      <th>colin</th>\n",
              "      <td>0.0</td>\n",
              "      <td>0.5</td>\n",
              "      <td>1.0</td>\n",
              "      <td>0.0</td>\n",
              "    </tr>\n",
              "    <tr>\n",
              "      <th>darwin</th>\n",
              "      <td>0.0</td>\n",
              "      <td>0.0</td>\n",
              "      <td>1.0</td>\n",
              "      <td>0.0</td>\n",
              "    </tr>\n",
              "    <tr>\n",
              "      <th>charles</th>\n",
              "      <td>0.0</td>\n",
              "      <td>3.0</td>\n",
              "      <td>3.0</td>\n",
              "      <td>0.0</td>\n",
              "    </tr>\n",
              "    <tr>\n",
              "      <th>alice</th>\n",
              "      <td>0.0</td>\n",
              "      <td>0.0</td>\n",
              "      <td>0.0</td>\n",
              "      <td>0.0</td>\n",
              "    </tr>\n",
              "  </tbody>\n",
              "</table>\n",
              "</div>"
            ],
            "text/plain": [
              "         sep  oct  nov  dec\n",
              "bob      0.0  0.0  1.0  2.0\n",
              "colin    0.0  0.5  1.0  0.0\n",
              "darwin   0.0  0.0  1.0  0.0\n",
              "charles  0.0  3.0  3.0  0.0\n",
              "alice    0.0  0.0  0.0  0.0"
            ]
          },
          "execution_count": 313,
          "metadata": {},
          "output_type": "execute_result"
        }
      ],
      "source": [
        "better_bonus_points = bonus_points.copy()\n",
        "better_bonus_points.insert(0, \"sep\", 0)\n",
        "better_bonus_points.loc[\"alice\"] = 0\n",
        "better_bonus_points = better_bonus_points.interpolate(axis=1)\n",
        "better_bonus_points"
      ]
    },
    {
      "cell_type": "markdown",
      "metadata": {
        "id": "YmcR87tle3FQ"
      },
      "source": [
        "좋습니다. 이제 모든 보너스 포인트가 합리적으로 보간되었습니다. 최종 점수를 확인해 보죠:"
      ]
    },
    {
      "cell_type": "code",
      "execution_count": 314,
      "metadata": {
        "id": "_Y7xlPwme3FQ",
        "outputId": "63195965-05e1-4004-b519-4f167d85380f"
      },
      "outputs": [
        {
          "data": {
            "text/html": [
              "<div>\n",
              "<style scoped>\n",
              "    .dataframe tbody tr th:only-of-type {\n",
              "        vertical-align: middle;\n",
              "    }\n",
              "\n",
              "    .dataframe tbody tr th {\n",
              "        vertical-align: top;\n",
              "    }\n",
              "\n",
              "    .dataframe thead th {\n",
              "        text-align: right;\n",
              "    }\n",
              "</style>\n",
              "<table border=\"1\" class=\"dataframe\">\n",
              "  <thead>\n",
              "    <tr style=\"text-align: right;\">\n",
              "      <th></th>\n",
              "      <th>dec</th>\n",
              "      <th>nov</th>\n",
              "      <th>oct</th>\n",
              "      <th>sep</th>\n",
              "    </tr>\n",
              "  </thead>\n",
              "  <tbody>\n",
              "    <tr>\n",
              "      <th>alice</th>\n",
              "      <td>NaN</td>\n",
              "      <td>9.0</td>\n",
              "      <td>8.0</td>\n",
              "      <td>8.0</td>\n",
              "    </tr>\n",
              "    <tr>\n",
              "      <th>bob</th>\n",
              "      <td>NaN</td>\n",
              "      <td>10.0</td>\n",
              "      <td>9.0</td>\n",
              "      <td>10.0</td>\n",
              "    </tr>\n",
              "    <tr>\n",
              "      <th>charles</th>\n",
              "      <td>NaN</td>\n",
              "      <td>5.0</td>\n",
              "      <td>11.0</td>\n",
              "      <td>4.0</td>\n",
              "    </tr>\n",
              "    <tr>\n",
              "      <th>colin</th>\n",
              "      <td>NaN</td>\n",
              "      <td>NaN</td>\n",
              "      <td>NaN</td>\n",
              "      <td>NaN</td>\n",
              "    </tr>\n",
              "    <tr>\n",
              "      <th>darwin</th>\n",
              "      <td>NaN</td>\n",
              "      <td>11.0</td>\n",
              "      <td>10.0</td>\n",
              "      <td>9.0</td>\n",
              "    </tr>\n",
              "  </tbody>\n",
              "</table>\n",
              "</div>"
            ],
            "text/plain": [
              "         dec   nov   oct   sep\n",
              "alice    NaN   9.0   8.0   8.0\n",
              "bob      NaN  10.0   9.0  10.0\n",
              "charles  NaN   5.0  11.0   4.0\n",
              "colin    NaN   NaN   NaN   NaN\n",
              "darwin   NaN  11.0  10.0   9.0"
            ]
          },
          "execution_count": 314,
          "metadata": {},
          "output_type": "execute_result"
        }
      ],
      "source": [
        "grades + better_bonus_points"
      ]
    },
    {
      "cell_type": "markdown",
      "metadata": {
        "id": "W423qNJTe3FQ"
      },
      "source": [
        "9월 열이 오른쪽에 추가되었는데 좀 이상합니다. 이는 더하려는 `DataFrame`이 정확히 같은 열을 가지고 있지 않기 때문입니다(`grade` `DataFrame`에는 `\"dec\"` 열이 없습니다). 따라서 판다스는 알파벳 순서로 최종 열을 정렬합니다. 이를 해결하려면 덧셈을 하기 전에 누락된 열을 추가하면 됩니다:"
      ]
    },
    {
      "cell_type": "code",
      "execution_count": 315,
      "metadata": {
        "id": "N-yhk3HUe3FQ",
        "outputId": "e20dedd7-d421-401b-a2fb-3ad697ee05a3",
        "scrolled": true
      },
      "outputs": [
        {
          "data": {
            "text/html": [
              "<div>\n",
              "<style scoped>\n",
              "    .dataframe tbody tr th:only-of-type {\n",
              "        vertical-align: middle;\n",
              "    }\n",
              "\n",
              "    .dataframe tbody tr th {\n",
              "        vertical-align: top;\n",
              "    }\n",
              "\n",
              "    .dataframe thead th {\n",
              "        text-align: right;\n",
              "    }\n",
              "</style>\n",
              "<table border=\"1\" class=\"dataframe\">\n",
              "  <thead>\n",
              "    <tr style=\"text-align: right;\">\n",
              "      <th></th>\n",
              "      <th>sep</th>\n",
              "      <th>oct</th>\n",
              "      <th>nov</th>\n",
              "      <th>dec</th>\n",
              "    </tr>\n",
              "  </thead>\n",
              "  <tbody>\n",
              "    <tr>\n",
              "      <th>alice</th>\n",
              "      <td>8.0</td>\n",
              "      <td>8.0</td>\n",
              "      <td>9.0</td>\n",
              "      <td>NaN</td>\n",
              "    </tr>\n",
              "    <tr>\n",
              "      <th>bob</th>\n",
              "      <td>10.0</td>\n",
              "      <td>9.0</td>\n",
              "      <td>10.0</td>\n",
              "      <td>NaN</td>\n",
              "    </tr>\n",
              "    <tr>\n",
              "      <th>charles</th>\n",
              "      <td>4.0</td>\n",
              "      <td>11.0</td>\n",
              "      <td>5.0</td>\n",
              "      <td>NaN</td>\n",
              "    </tr>\n",
              "    <tr>\n",
              "      <th>colin</th>\n",
              "      <td>NaN</td>\n",
              "      <td>NaN</td>\n",
              "      <td>NaN</td>\n",
              "      <td>NaN</td>\n",
              "    </tr>\n",
              "    <tr>\n",
              "      <th>darwin</th>\n",
              "      <td>9.0</td>\n",
              "      <td>10.0</td>\n",
              "      <td>11.0</td>\n",
              "      <td>NaN</td>\n",
              "    </tr>\n",
              "  </tbody>\n",
              "</table>\n",
              "</div>"
            ],
            "text/plain": [
              "          sep   oct   nov  dec\n",
              "alice     8.0   8.0   9.0  NaN\n",
              "bob      10.0   9.0  10.0  NaN\n",
              "charles   4.0  11.0   5.0  NaN\n",
              "colin     NaN   NaN   NaN  NaN\n",
              "darwin    9.0  10.0  11.0  NaN"
            ]
          },
          "execution_count": 315,
          "metadata": {},
          "output_type": "execute_result"
        }
      ],
      "source": [
        "grades[\"dec\"] = np.nan\n",
        "final_grades = grades + better_bonus_points\n",
        "final_grades"
      ]
    },
    {
      "cell_type": "markdown",
      "metadata": {
        "id": "uKjAqjoNe3FQ"
      },
      "source": [
        "12월과 colin에 대해 할 수 있는 것이 많지 않습니다. 보너스 포인트를 만드는 것이 나쁘지만 점수를 합리적으로 올릴 수는 없습니다(어떤 선생님들은 그럴 수 있지만). `dropna()` 메서드를 사용해 모두 `NaN`인 행을 삭제합니다:"
      ]
    },
    {
      "cell_type": "code",
      "execution_count": 316,
      "metadata": {
        "id": "fu8Vl-vMe3FR",
        "outputId": "b3b3a70e-1128-4093-f743-4f7a295f51f7"
      },
      "outputs": [
        {
          "data": {
            "text/html": [
              "<div>\n",
              "<style scoped>\n",
              "    .dataframe tbody tr th:only-of-type {\n",
              "        vertical-align: middle;\n",
              "    }\n",
              "\n",
              "    .dataframe tbody tr th {\n",
              "        vertical-align: top;\n",
              "    }\n",
              "\n",
              "    .dataframe thead th {\n",
              "        text-align: right;\n",
              "    }\n",
              "</style>\n",
              "<table border=\"1\" class=\"dataframe\">\n",
              "  <thead>\n",
              "    <tr style=\"text-align: right;\">\n",
              "      <th></th>\n",
              "      <th>sep</th>\n",
              "      <th>oct</th>\n",
              "      <th>nov</th>\n",
              "      <th>dec</th>\n",
              "    </tr>\n",
              "  </thead>\n",
              "  <tbody>\n",
              "    <tr>\n",
              "      <th>alice</th>\n",
              "      <td>8.0</td>\n",
              "      <td>8.0</td>\n",
              "      <td>9.0</td>\n",
              "      <td>NaN</td>\n",
              "    </tr>\n",
              "    <tr>\n",
              "      <th>bob</th>\n",
              "      <td>10.0</td>\n",
              "      <td>9.0</td>\n",
              "      <td>10.0</td>\n",
              "      <td>NaN</td>\n",
              "    </tr>\n",
              "    <tr>\n",
              "      <th>charles</th>\n",
              "      <td>4.0</td>\n",
              "      <td>11.0</td>\n",
              "      <td>5.0</td>\n",
              "      <td>NaN</td>\n",
              "    </tr>\n",
              "    <tr>\n",
              "      <th>darwin</th>\n",
              "      <td>9.0</td>\n",
              "      <td>10.0</td>\n",
              "      <td>11.0</td>\n",
              "      <td>NaN</td>\n",
              "    </tr>\n",
              "  </tbody>\n",
              "</table>\n",
              "</div>"
            ],
            "text/plain": [
              "          sep   oct   nov  dec\n",
              "alice     8.0   8.0   9.0  NaN\n",
              "bob      10.0   9.0  10.0  NaN\n",
              "charles   4.0  11.0   5.0  NaN\n",
              "darwin    9.0  10.0  11.0  NaN"
            ]
          },
          "execution_count": 316,
          "metadata": {},
          "output_type": "execute_result"
        }
      ],
      "source": [
        "final_grades_clean = final_grades.dropna(how=\"all\")\n",
        "final_grades_clean"
      ]
    },
    {
      "cell_type": "markdown",
      "metadata": {
        "id": "GrxbSQj9e3FR"
      },
      "source": [
        "그다음 `axis` 매개변수를 `1`로 지정하여 모두 `NaN`인 열을 삭제합니다:"
      ]
    },
    {
      "cell_type": "code",
      "execution_count": 317,
      "metadata": {
        "id": "5rjiS8hNe3FR",
        "outputId": "6bc50e86-c770-4677-f2db-86701c6d7d76"
      },
      "outputs": [
        {
          "data": {
            "text/html": [
              "<div>\n",
              "<style scoped>\n",
              "    .dataframe tbody tr th:only-of-type {\n",
              "        vertical-align: middle;\n",
              "    }\n",
              "\n",
              "    .dataframe tbody tr th {\n",
              "        vertical-align: top;\n",
              "    }\n",
              "\n",
              "    .dataframe thead th {\n",
              "        text-align: right;\n",
              "    }\n",
              "</style>\n",
              "<table border=\"1\" class=\"dataframe\">\n",
              "  <thead>\n",
              "    <tr style=\"text-align: right;\">\n",
              "      <th></th>\n",
              "      <th>sep</th>\n",
              "      <th>oct</th>\n",
              "      <th>nov</th>\n",
              "    </tr>\n",
              "  </thead>\n",
              "  <tbody>\n",
              "    <tr>\n",
              "      <th>alice</th>\n",
              "      <td>8.0</td>\n",
              "      <td>8.0</td>\n",
              "      <td>9.0</td>\n",
              "    </tr>\n",
              "    <tr>\n",
              "      <th>bob</th>\n",
              "      <td>10.0</td>\n",
              "      <td>9.0</td>\n",
              "      <td>10.0</td>\n",
              "    </tr>\n",
              "    <tr>\n",
              "      <th>charles</th>\n",
              "      <td>4.0</td>\n",
              "      <td>11.0</td>\n",
              "      <td>5.0</td>\n",
              "    </tr>\n",
              "    <tr>\n",
              "      <th>darwin</th>\n",
              "      <td>9.0</td>\n",
              "      <td>10.0</td>\n",
              "      <td>11.0</td>\n",
              "    </tr>\n",
              "  </tbody>\n",
              "</table>\n",
              "</div>"
            ],
            "text/plain": [
              "          sep   oct   nov\n",
              "alice     8.0   8.0   9.0\n",
              "bob      10.0   9.0  10.0\n",
              "charles   4.0  11.0   5.0\n",
              "darwin    9.0  10.0  11.0"
            ]
          },
          "execution_count": 317,
          "metadata": {},
          "output_type": "execute_result"
        }
      ],
      "source": [
        "final_grades_clean = final_grades_clean.dropna(axis=1, how=\"all\")\n",
        "final_grades_clean"
      ]
    },
    {
      "cell_type": "markdown",
      "metadata": {
        "id": "QWJ_8bNTe3FR"
      },
      "source": [
        "## `groupby`로 집계하기\n",
        "\n",
        "SQL과 비슷하게 판다스는 데이터를 그룹핑하고 각 그룹에 대해 연산을 수행할 수 있습니다.\n",
        "\n",
        "먼저 그루핑을 위해 각 사람의 데이터를 추가로 만들겠습니다. `NaN` 값을 어떻게 다루는지 보기 위해 `final_grades` `DataFrame`을 다시 사용하겠습니다:"
      ]
    },
    {
      "cell_type": "code",
      "execution_count": 318,
      "metadata": {
        "id": "HW2W9tTJe3FR",
        "outputId": "007349eb-2b32-4105-db45-d124a3c396e5",
        "scrolled": true
      },
      "outputs": [
        {
          "data": {
            "text/html": [
              "<div>\n",
              "<style scoped>\n",
              "    .dataframe tbody tr th:only-of-type {\n",
              "        vertical-align: middle;\n",
              "    }\n",
              "\n",
              "    .dataframe tbody tr th {\n",
              "        vertical-align: top;\n",
              "    }\n",
              "\n",
              "    .dataframe thead th {\n",
              "        text-align: right;\n",
              "    }\n",
              "</style>\n",
              "<table border=\"1\" class=\"dataframe\">\n",
              "  <thead>\n",
              "    <tr style=\"text-align: right;\">\n",
              "      <th></th>\n",
              "      <th>sep</th>\n",
              "      <th>oct</th>\n",
              "      <th>nov</th>\n",
              "      <th>dec</th>\n",
              "      <th>hobby</th>\n",
              "    </tr>\n",
              "  </thead>\n",
              "  <tbody>\n",
              "    <tr>\n",
              "      <th>alice</th>\n",
              "      <td>8.0</td>\n",
              "      <td>8.0</td>\n",
              "      <td>9.0</td>\n",
              "      <td>NaN</td>\n",
              "      <td>Biking</td>\n",
              "    </tr>\n",
              "    <tr>\n",
              "      <th>bob</th>\n",
              "      <td>10.0</td>\n",
              "      <td>9.0</td>\n",
              "      <td>10.0</td>\n",
              "      <td>NaN</td>\n",
              "      <td>Dancing</td>\n",
              "    </tr>\n",
              "    <tr>\n",
              "      <th>charles</th>\n",
              "      <td>4.0</td>\n",
              "      <td>11.0</td>\n",
              "      <td>5.0</td>\n",
              "      <td>NaN</td>\n",
              "      <td>NaN</td>\n",
              "    </tr>\n",
              "    <tr>\n",
              "      <th>colin</th>\n",
              "      <td>NaN</td>\n",
              "      <td>NaN</td>\n",
              "      <td>NaN</td>\n",
              "      <td>NaN</td>\n",
              "      <td>Dancing</td>\n",
              "    </tr>\n",
              "    <tr>\n",
              "      <th>darwin</th>\n",
              "      <td>9.0</td>\n",
              "      <td>10.0</td>\n",
              "      <td>11.0</td>\n",
              "      <td>NaN</td>\n",
              "      <td>Biking</td>\n",
              "    </tr>\n",
              "  </tbody>\n",
              "</table>\n",
              "</div>"
            ],
            "text/plain": [
              "          sep   oct   nov  dec    hobby\n",
              "alice     8.0   8.0   9.0  NaN   Biking\n",
              "bob      10.0   9.0  10.0  NaN  Dancing\n",
              "charles   4.0  11.0   5.0  NaN      NaN\n",
              "colin     NaN   NaN   NaN  NaN  Dancing\n",
              "darwin    9.0  10.0  11.0  NaN   Biking"
            ]
          },
          "execution_count": 318,
          "metadata": {},
          "output_type": "execute_result"
        }
      ],
      "source": [
        "final_grades[\"hobby\"] = [\"Biking\", \"Dancing\", np.nan, \"Dancing\", \"Biking\"]\n",
        "final_grades"
      ]
    },
    {
      "cell_type": "markdown",
      "metadata": {
        "id": "5mFvwr3Ae3FR"
      },
      "source": [
        "hobby로 이 `DataFrame`을 그룹핑해 보죠:"
      ]
    },
    {
      "cell_type": "code",
      "execution_count": 319,
      "metadata": {
        "id": "3q_pGcYme3FR",
        "outputId": "caae3948-2920-4db2-c8c8-175ce3c4e6bf"
      },
      "outputs": [
        {
          "data": {
            "text/plain": [
              "<pandas.core.groupby.generic.DataFrameGroupBy object at 0x000002D12972F2E0>"
            ]
          },
          "execution_count": 319,
          "metadata": {},
          "output_type": "execute_result"
        }
      ],
      "source": [
        "grouped_grades = final_grades.groupby(\"hobby\")\n",
        "grouped_grades"
      ]
    },
    {
      "cell_type": "markdown",
      "metadata": {
        "id": "LnA5_R_Pe3FR"
      },
      "source": [
        "이제 hobby마다 평균 점수를 계산할 수 있습니다:"
      ]
    },
    {
      "cell_type": "code",
      "execution_count": 320,
      "metadata": {
        "id": "HQyGZVsXe3FR",
        "outputId": "ca914c6e-6787-40bf-8c34-65617de244a4"
      },
      "outputs": [
        {
          "data": {
            "text/html": [
              "<div>\n",
              "<style scoped>\n",
              "    .dataframe tbody tr th:only-of-type {\n",
              "        vertical-align: middle;\n",
              "    }\n",
              "\n",
              "    .dataframe tbody tr th {\n",
              "        vertical-align: top;\n",
              "    }\n",
              "\n",
              "    .dataframe thead th {\n",
              "        text-align: right;\n",
              "    }\n",
              "</style>\n",
              "<table border=\"1\" class=\"dataframe\">\n",
              "  <thead>\n",
              "    <tr style=\"text-align: right;\">\n",
              "      <th></th>\n",
              "      <th>sep</th>\n",
              "      <th>oct</th>\n",
              "      <th>nov</th>\n",
              "      <th>dec</th>\n",
              "    </tr>\n",
              "    <tr>\n",
              "      <th>hobby</th>\n",
              "      <th></th>\n",
              "      <th></th>\n",
              "      <th></th>\n",
              "      <th></th>\n",
              "    </tr>\n",
              "  </thead>\n",
              "  <tbody>\n",
              "    <tr>\n",
              "      <th>Biking</th>\n",
              "      <td>8.5</td>\n",
              "      <td>9.0</td>\n",
              "      <td>10.0</td>\n",
              "      <td>NaN</td>\n",
              "    </tr>\n",
              "    <tr>\n",
              "      <th>Dancing</th>\n",
              "      <td>10.0</td>\n",
              "      <td>9.0</td>\n",
              "      <td>10.0</td>\n",
              "      <td>NaN</td>\n",
              "    </tr>\n",
              "  </tbody>\n",
              "</table>\n",
              "</div>"
            ],
            "text/plain": [
              "          sep  oct   nov  dec\n",
              "hobby                        \n",
              "Biking    8.5  9.0  10.0  NaN\n",
              "Dancing  10.0  9.0  10.0  NaN"
            ]
          },
          "execution_count": 320,
          "metadata": {},
          "output_type": "execute_result"
        }
      ],
      "source": [
        "grouped_grades.mean()"
      ]
    },
    {
      "cell_type": "code",
      "execution_count": 321,
      "metadata": {
        "id": "yOki85l3mu6E",
        "outputId": "e75f371a-8bce-42b8-c6b6-b175033df501"
      },
      "outputs": [
        {
          "data": {
            "text/html": [
              "<div>\n",
              "<style scoped>\n",
              "    .dataframe tbody tr th:only-of-type {\n",
              "        vertical-align: middle;\n",
              "    }\n",
              "\n",
              "    .dataframe tbody tr th {\n",
              "        vertical-align: top;\n",
              "    }\n",
              "\n",
              "    .dataframe thead th {\n",
              "        text-align: right;\n",
              "    }\n",
              "</style>\n",
              "<table border=\"1\" class=\"dataframe\">\n",
              "  <thead>\n",
              "    <tr style=\"text-align: right;\">\n",
              "      <th></th>\n",
              "      <th>sep</th>\n",
              "      <th>oct</th>\n",
              "      <th>nov</th>\n",
              "      <th>dec</th>\n",
              "    </tr>\n",
              "    <tr>\n",
              "      <th>hobby</th>\n",
              "      <th></th>\n",
              "      <th></th>\n",
              "      <th></th>\n",
              "      <th></th>\n",
              "    </tr>\n",
              "  </thead>\n",
              "  <tbody>\n",
              "    <tr>\n",
              "      <th>Biking</th>\n",
              "      <td>8.5</td>\n",
              "      <td>9.0</td>\n",
              "      <td>10.0</td>\n",
              "      <td>NaN</td>\n",
              "    </tr>\n",
              "    <tr>\n",
              "      <th>Dancing</th>\n",
              "      <td>10.0</td>\n",
              "      <td>9.0</td>\n",
              "      <td>10.0</td>\n",
              "      <td>NaN</td>\n",
              "    </tr>\n",
              "  </tbody>\n",
              "</table>\n",
              "</div>"
            ],
            "text/plain": [
              "          sep  oct   nov  dec\n",
              "hobby                        \n",
              "Biking    8.5  9.0  10.0  NaN\n",
              "Dancing  10.0  9.0  10.0  NaN"
            ]
          },
          "execution_count": 321,
          "metadata": {},
          "output_type": "execute_result"
        }
      ],
      "source": [
        "final_grades.groupby(\"hobby\").mean()"
      ]
    },
    {
      "cell_type": "markdown",
      "metadata": {
        "id": "gGxbL7nie3FS"
      },
      "source": [
        "아주 쉽네요! 평균을 계산할 때 `NaN` 값은 그냥 무시됩니다."
      ]
    },
    {
      "cell_type": "markdown",
      "metadata": {
        "id": "28Miowage3FS"
      },
      "source": [
        "## 피봇 테이블\n",
        "\n",
        "판다스는 스프레드시트와 비슷하 [피봇 테이블](https://en.wikipedia.org/wiki/Pivot_table)을 지원하여 데이터를 빠르게 요약할 수 있습니다. 어떻게 동작하는 알아 보기 위해 간단한 `DataFrame`을 만들어 보죠:"
      ]
    },
    {
      "cell_type": "code",
      "execution_count": 322,
      "metadata": {
        "id": "Ost_Y7oae3FS",
        "outputId": "51bb559c-3229-4849-9ac6-64f558062279"
      },
      "outputs": [
        {
          "data": {
            "text/html": [
              "<div>\n",
              "<style scoped>\n",
              "    .dataframe tbody tr th:only-of-type {\n",
              "        vertical-align: middle;\n",
              "    }\n",
              "\n",
              "    .dataframe tbody tr th {\n",
              "        vertical-align: top;\n",
              "    }\n",
              "\n",
              "    .dataframe thead th {\n",
              "        text-align: right;\n",
              "    }\n",
              "</style>\n",
              "<table border=\"1\" class=\"dataframe\">\n",
              "  <thead>\n",
              "    <tr style=\"text-align: right;\">\n",
              "      <th></th>\n",
              "      <th>level_0</th>\n",
              "      <th>level_1</th>\n",
              "      <th>0</th>\n",
              "    </tr>\n",
              "  </thead>\n",
              "  <tbody>\n",
              "    <tr>\n",
              "      <th>0</th>\n",
              "      <td>bob</td>\n",
              "      <td>oct</td>\n",
              "      <td>0.0</td>\n",
              "    </tr>\n",
              "    <tr>\n",
              "      <th>1</th>\n",
              "      <td>bob</td>\n",
              "      <td>dec</td>\n",
              "      <td>2.0</td>\n",
              "    </tr>\n",
              "    <tr>\n",
              "      <th>2</th>\n",
              "      <td>colin</td>\n",
              "      <td>nov</td>\n",
              "      <td>1.0</td>\n",
              "    </tr>\n",
              "    <tr>\n",
              "      <th>3</th>\n",
              "      <td>colin</td>\n",
              "      <td>dec</td>\n",
              "      <td>0.0</td>\n",
              "    </tr>\n",
              "    <tr>\n",
              "      <th>4</th>\n",
              "      <td>darwin</td>\n",
              "      <td>oct</td>\n",
              "      <td>0.0</td>\n",
              "    </tr>\n",
              "    <tr>\n",
              "      <th>5</th>\n",
              "      <td>darwin</td>\n",
              "      <td>nov</td>\n",
              "      <td>1.0</td>\n",
              "    </tr>\n",
              "    <tr>\n",
              "      <th>6</th>\n",
              "      <td>darwin</td>\n",
              "      <td>dec</td>\n",
              "      <td>0.0</td>\n",
              "    </tr>\n",
              "    <tr>\n",
              "      <th>7</th>\n",
              "      <td>charles</td>\n",
              "      <td>oct</td>\n",
              "      <td>3.0</td>\n",
              "    </tr>\n",
              "    <tr>\n",
              "      <th>8</th>\n",
              "      <td>charles</td>\n",
              "      <td>nov</td>\n",
              "      <td>3.0</td>\n",
              "    </tr>\n",
              "    <tr>\n",
              "      <th>9</th>\n",
              "      <td>charles</td>\n",
              "      <td>dec</td>\n",
              "      <td>0.0</td>\n",
              "    </tr>\n",
              "  </tbody>\n",
              "</table>\n",
              "</div>"
            ],
            "text/plain": [
              "   level_0 level_1    0\n",
              "0      bob     oct  0.0\n",
              "1      bob     dec  2.0\n",
              "2    colin     nov  1.0\n",
              "3    colin     dec  0.0\n",
              "4   darwin     oct  0.0\n",
              "5   darwin     nov  1.0\n",
              "6   darwin     dec  0.0\n",
              "7  charles     oct  3.0\n",
              "8  charles     nov  3.0\n",
              "9  charles     dec  0.0"
            ]
          },
          "execution_count": 322,
          "metadata": {},
          "output_type": "execute_result"
        }
      ],
      "source": [
        "bonus_points.stack().reset_index()"
      ]
    },
    {
      "cell_type": "code",
      "execution_count": 323,
      "metadata": {
        "id": "4QL3xfnQe3FS",
        "outputId": "99f90955-bc91-4c47-af13-cff2afe8fbab"
      },
      "outputs": [
        {
          "data": {
            "text/html": [
              "<div>\n",
              "<style scoped>\n",
              "    .dataframe tbody tr th:only-of-type {\n",
              "        vertical-align: middle;\n",
              "    }\n",
              "\n",
              "    .dataframe tbody tr th {\n",
              "        vertical-align: top;\n",
              "    }\n",
              "\n",
              "    .dataframe thead th {\n",
              "        text-align: right;\n",
              "    }\n",
              "</style>\n",
              "<table border=\"1\" class=\"dataframe\">\n",
              "  <thead>\n",
              "    <tr style=\"text-align: right;\">\n",
              "      <th></th>\n",
              "      <th>name</th>\n",
              "      <th>month</th>\n",
              "      <th>grade</th>\n",
              "      <th>bonus</th>\n",
              "    </tr>\n",
              "  </thead>\n",
              "  <tbody>\n",
              "    <tr>\n",
              "      <th>0</th>\n",
              "      <td>alice</td>\n",
              "      <td>sep</td>\n",
              "      <td>8.0</td>\n",
              "      <td>NaN</td>\n",
              "    </tr>\n",
              "    <tr>\n",
              "      <th>1</th>\n",
              "      <td>alice</td>\n",
              "      <td>oct</td>\n",
              "      <td>8.0</td>\n",
              "      <td>NaN</td>\n",
              "    </tr>\n",
              "    <tr>\n",
              "      <th>2</th>\n",
              "      <td>alice</td>\n",
              "      <td>nov</td>\n",
              "      <td>9.0</td>\n",
              "      <td>NaN</td>\n",
              "    </tr>\n",
              "    <tr>\n",
              "      <th>3</th>\n",
              "      <td>bob</td>\n",
              "      <td>sep</td>\n",
              "      <td>10.0</td>\n",
              "      <td>0.0</td>\n",
              "    </tr>\n",
              "    <tr>\n",
              "      <th>4</th>\n",
              "      <td>bob</td>\n",
              "      <td>oct</td>\n",
              "      <td>9.0</td>\n",
              "      <td>NaN</td>\n",
              "    </tr>\n",
              "    <tr>\n",
              "      <th>5</th>\n",
              "      <td>bob</td>\n",
              "      <td>nov</td>\n",
              "      <td>10.0</td>\n",
              "      <td>2.0</td>\n",
              "    </tr>\n",
              "    <tr>\n",
              "      <th>6</th>\n",
              "      <td>charles</td>\n",
              "      <td>sep</td>\n",
              "      <td>4.0</td>\n",
              "      <td>3.0</td>\n",
              "    </tr>\n",
              "    <tr>\n",
              "      <th>7</th>\n",
              "      <td>charles</td>\n",
              "      <td>oct</td>\n",
              "      <td>11.0</td>\n",
              "      <td>3.0</td>\n",
              "    </tr>\n",
              "    <tr>\n",
              "      <th>8</th>\n",
              "      <td>charles</td>\n",
              "      <td>nov</td>\n",
              "      <td>5.0</td>\n",
              "      <td>0.0</td>\n",
              "    </tr>\n",
              "    <tr>\n",
              "      <th>9</th>\n",
              "      <td>darwin</td>\n",
              "      <td>sep</td>\n",
              "      <td>9.0</td>\n",
              "      <td>0.0</td>\n",
              "    </tr>\n",
              "    <tr>\n",
              "      <th>10</th>\n",
              "      <td>darwin</td>\n",
              "      <td>oct</td>\n",
              "      <td>10.0</td>\n",
              "      <td>1.0</td>\n",
              "    </tr>\n",
              "    <tr>\n",
              "      <th>11</th>\n",
              "      <td>darwin</td>\n",
              "      <td>nov</td>\n",
              "      <td>11.0</td>\n",
              "      <td>0.0</td>\n",
              "    </tr>\n",
              "  </tbody>\n",
              "</table>\n",
              "</div>"
            ],
            "text/plain": [
              "       name month  grade  bonus\n",
              "0     alice   sep    8.0    NaN\n",
              "1     alice   oct    8.0    NaN\n",
              "2     alice   nov    9.0    NaN\n",
              "3       bob   sep   10.0    0.0\n",
              "4       bob   oct    9.0    NaN\n",
              "5       bob   nov   10.0    2.0\n",
              "6   charles   sep    4.0    3.0\n",
              "7   charles   oct   11.0    3.0\n",
              "8   charles   nov    5.0    0.0\n",
              "9    darwin   sep    9.0    0.0\n",
              "10   darwin   oct   10.0    1.0\n",
              "11   darwin   nov   11.0    0.0"
            ]
          },
          "execution_count": 323,
          "metadata": {},
          "output_type": "execute_result"
        }
      ],
      "source": [
        "more_grades = final_grades_clean.stack().reset_index()\n",
        "more_grades.columns = [\"name\", \"month\", \"grade\"]\n",
        "more_grades[\"bonus\"] = [np.nan, np.nan, np.nan, 0, np.nan, 2, 3, 3, 0, 0, 1, 0]\n",
        "more_grades"
      ]
    },
    {
      "cell_type": "markdown",
      "metadata": {
        "id": "DY-PYvzwe3FS"
      },
      "source": [
        "이제 이 `DataFrame`에 대해 `pd.pivot_table()` 함수를 호출하고 `name` 열로 그룹핑합니다. 기본적으로 `pivot_table()`은 수치 열의 평균을 계산합니다:"
      ]
    },
    {
      "cell_type": "code",
      "execution_count": 324,
      "metadata": {
        "id": "FcS-4TGEe3FS",
        "outputId": "55dec68a-242a-456c-efb2-71dcf2abb54e"
      },
      "outputs": [
        {
          "data": {
            "text/html": [
              "<div>\n",
              "<style scoped>\n",
              "    .dataframe tbody tr th:only-of-type {\n",
              "        vertical-align: middle;\n",
              "    }\n",
              "\n",
              "    .dataframe tbody tr th {\n",
              "        vertical-align: top;\n",
              "    }\n",
              "\n",
              "    .dataframe thead th {\n",
              "        text-align: right;\n",
              "    }\n",
              "</style>\n",
              "<table border=\"1\" class=\"dataframe\">\n",
              "  <thead>\n",
              "    <tr style=\"text-align: right;\">\n",
              "      <th></th>\n",
              "      <th>bonus</th>\n",
              "      <th>grade</th>\n",
              "    </tr>\n",
              "    <tr>\n",
              "      <th>name</th>\n",
              "      <th></th>\n",
              "      <th></th>\n",
              "    </tr>\n",
              "  </thead>\n",
              "  <tbody>\n",
              "    <tr>\n",
              "      <th>alice</th>\n",
              "      <td>NaN</td>\n",
              "      <td>8.333333</td>\n",
              "    </tr>\n",
              "    <tr>\n",
              "      <th>bob</th>\n",
              "      <td>1.000000</td>\n",
              "      <td>9.666667</td>\n",
              "    </tr>\n",
              "    <tr>\n",
              "      <th>charles</th>\n",
              "      <td>2.000000</td>\n",
              "      <td>6.666667</td>\n",
              "    </tr>\n",
              "    <tr>\n",
              "      <th>darwin</th>\n",
              "      <td>0.333333</td>\n",
              "      <td>10.000000</td>\n",
              "    </tr>\n",
              "  </tbody>\n",
              "</table>\n",
              "</div>"
            ],
            "text/plain": [
              "            bonus      grade\n",
              "name                        \n",
              "alice         NaN   8.333333\n",
              "bob      1.000000   9.666667\n",
              "charles  2.000000   6.666667\n",
              "darwin   0.333333  10.000000"
            ]
          },
          "execution_count": 324,
          "metadata": {},
          "output_type": "execute_result"
        }
      ],
      "source": [
        "pd.pivot_table(more_grades, index=\"name\")"
      ]
    },
    {
      "cell_type": "markdown",
      "metadata": {
        "id": "nBlqsh6oe3FS"
      },
      "source": [
        "집계 함수를 `aggfunc` 매개변수로 바꿀 수 있습니다. 또한 집계 대상의 열을 리스트로 지정할 수 있습니다:"
      ]
    },
    {
      "cell_type": "code",
      "execution_count": 325,
      "metadata": {
        "id": "WK2i1jD8e3FS",
        "outputId": "f33605f2-378f-4dd5-9435-a335cd733c2d"
      },
      "outputs": [
        {
          "data": {
            "text/html": [
              "<div>\n",
              "<style scoped>\n",
              "    .dataframe tbody tr th:only-of-type {\n",
              "        vertical-align: middle;\n",
              "    }\n",
              "\n",
              "    .dataframe tbody tr th {\n",
              "        vertical-align: top;\n",
              "    }\n",
              "\n",
              "    .dataframe thead th {\n",
              "        text-align: right;\n",
              "    }\n",
              "</style>\n",
              "<table border=\"1\" class=\"dataframe\">\n",
              "  <thead>\n",
              "    <tr style=\"text-align: right;\">\n",
              "      <th></th>\n",
              "      <th>bonus</th>\n",
              "      <th>grade</th>\n",
              "    </tr>\n",
              "    <tr>\n",
              "      <th>name</th>\n",
              "      <th></th>\n",
              "      <th></th>\n",
              "    </tr>\n",
              "  </thead>\n",
              "  <tbody>\n",
              "    <tr>\n",
              "      <th>alice</th>\n",
              "      <td>NaN</td>\n",
              "      <td>9.0</td>\n",
              "    </tr>\n",
              "    <tr>\n",
              "      <th>bob</th>\n",
              "      <td>2.0</td>\n",
              "      <td>10.0</td>\n",
              "    </tr>\n",
              "    <tr>\n",
              "      <th>charles</th>\n",
              "      <td>3.0</td>\n",
              "      <td>11.0</td>\n",
              "    </tr>\n",
              "    <tr>\n",
              "      <th>darwin</th>\n",
              "      <td>1.0</td>\n",
              "      <td>11.0</td>\n",
              "    </tr>\n",
              "  </tbody>\n",
              "</table>\n",
              "</div>"
            ],
            "text/plain": [
              "         bonus  grade\n",
              "name                 \n",
              "alice      NaN    9.0\n",
              "bob        2.0   10.0\n",
              "charles    3.0   11.0\n",
              "darwin     1.0   11.0"
            ]
          },
          "execution_count": 325,
          "metadata": {},
          "output_type": "execute_result"
        }
      ],
      "source": [
        "pd.pivot_table(more_grades, index=\"name\", values=[\"grade\",\"bonus\"], aggfunc=np.max)"
      ]
    },
    {
      "cell_type": "markdown",
      "metadata": {
        "id": "lRGRXDdCe3FT"
      },
      "source": [
        "`columns` 매개변수를 지정하여 수평으로 집계할 수 있고 `margins=True`로 설정해 각 행과 열에 대해 전체 합을 계산할 수 있습니다:"
      ]
    },
    {
      "cell_type": "code",
      "execution_count": 326,
      "metadata": {
        "id": "LGz5wRWfe3FT",
        "outputId": "959f0387-1ace-4ded-8450-609db817b7c4"
      },
      "outputs": [
        {
          "data": {
            "text/html": [
              "<div>\n",
              "<style scoped>\n",
              "    .dataframe tbody tr th:only-of-type {\n",
              "        vertical-align: middle;\n",
              "    }\n",
              "\n",
              "    .dataframe tbody tr th {\n",
              "        vertical-align: top;\n",
              "    }\n",
              "\n",
              "    .dataframe thead th {\n",
              "        text-align: right;\n",
              "    }\n",
              "</style>\n",
              "<table border=\"1\" class=\"dataframe\">\n",
              "  <thead>\n",
              "    <tr style=\"text-align: right;\">\n",
              "      <th>month</th>\n",
              "      <th>nov</th>\n",
              "      <th>oct</th>\n",
              "      <th>sep</th>\n",
              "      <th>All</th>\n",
              "    </tr>\n",
              "    <tr>\n",
              "      <th>name</th>\n",
              "      <th></th>\n",
              "      <th></th>\n",
              "      <th></th>\n",
              "      <th></th>\n",
              "    </tr>\n",
              "  </thead>\n",
              "  <tbody>\n",
              "    <tr>\n",
              "      <th>alice</th>\n",
              "      <td>9.00</td>\n",
              "      <td>8.0</td>\n",
              "      <td>8.00</td>\n",
              "      <td>8.333333</td>\n",
              "    </tr>\n",
              "    <tr>\n",
              "      <th>bob</th>\n",
              "      <td>10.00</td>\n",
              "      <td>9.0</td>\n",
              "      <td>10.00</td>\n",
              "      <td>9.666667</td>\n",
              "    </tr>\n",
              "    <tr>\n",
              "      <th>charles</th>\n",
              "      <td>5.00</td>\n",
              "      <td>11.0</td>\n",
              "      <td>4.00</td>\n",
              "      <td>6.666667</td>\n",
              "    </tr>\n",
              "    <tr>\n",
              "      <th>darwin</th>\n",
              "      <td>11.00</td>\n",
              "      <td>10.0</td>\n",
              "      <td>9.00</td>\n",
              "      <td>10.000000</td>\n",
              "    </tr>\n",
              "    <tr>\n",
              "      <th>All</th>\n",
              "      <td>8.75</td>\n",
              "      <td>9.5</td>\n",
              "      <td>7.75</td>\n",
              "      <td>8.666667</td>\n",
              "    </tr>\n",
              "  </tbody>\n",
              "</table>\n",
              "</div>"
            ],
            "text/plain": [
              "month      nov   oct    sep        All\n",
              "name                                  \n",
              "alice     9.00   8.0   8.00   8.333333\n",
              "bob      10.00   9.0  10.00   9.666667\n",
              "charles   5.00  11.0   4.00   6.666667\n",
              "darwin   11.00  10.0   9.00  10.000000\n",
              "All       8.75   9.5   7.75   8.666667"
            ]
          },
          "execution_count": 326,
          "metadata": {},
          "output_type": "execute_result"
        }
      ],
      "source": [
        "pd.pivot_table(more_grades, index=\"name\", values=\"grade\", columns=\"month\", margins=True)"
      ]
    },
    {
      "cell_type": "markdown",
      "metadata": {
        "id": "WJJZDoo-e3FT"
      },
      "source": [
        "마지막으로 여러 개의 인덱스나 열 이름을 지정하면 판다스가 다중 레벨 인덱스를 만듭니다:"
      ]
    },
    {
      "cell_type": "code",
      "execution_count": 327,
      "metadata": {
        "id": "eEp7v_qLe3FT",
        "outputId": "de4bd392-86d7-48c2-a445-e16fc664aab5"
      },
      "outputs": [
        {
          "data": {
            "text/html": [
              "<div>\n",
              "<style scoped>\n",
              "    .dataframe tbody tr th:only-of-type {\n",
              "        vertical-align: middle;\n",
              "    }\n",
              "\n",
              "    .dataframe tbody tr th {\n",
              "        vertical-align: top;\n",
              "    }\n",
              "\n",
              "    .dataframe thead th {\n",
              "        text-align: right;\n",
              "    }\n",
              "</style>\n",
              "<table border=\"1\" class=\"dataframe\">\n",
              "  <thead>\n",
              "    <tr style=\"text-align: right;\">\n",
              "      <th></th>\n",
              "      <th></th>\n",
              "      <th>bonus</th>\n",
              "      <th>grade</th>\n",
              "    </tr>\n",
              "    <tr>\n",
              "      <th>name</th>\n",
              "      <th>month</th>\n",
              "      <th></th>\n",
              "      <th></th>\n",
              "    </tr>\n",
              "  </thead>\n",
              "  <tbody>\n",
              "    <tr>\n",
              "      <th rowspan=\"3\" valign=\"top\">alice</th>\n",
              "      <th>nov</th>\n",
              "      <td>NaN</td>\n",
              "      <td>9.00</td>\n",
              "    </tr>\n",
              "    <tr>\n",
              "      <th>oct</th>\n",
              "      <td>NaN</td>\n",
              "      <td>8.00</td>\n",
              "    </tr>\n",
              "    <tr>\n",
              "      <th>sep</th>\n",
              "      <td>NaN</td>\n",
              "      <td>8.00</td>\n",
              "    </tr>\n",
              "    <tr>\n",
              "      <th rowspan=\"3\" valign=\"top\">bob</th>\n",
              "      <th>nov</th>\n",
              "      <td>2.000</td>\n",
              "      <td>10.00</td>\n",
              "    </tr>\n",
              "    <tr>\n",
              "      <th>oct</th>\n",
              "      <td>NaN</td>\n",
              "      <td>9.00</td>\n",
              "    </tr>\n",
              "    <tr>\n",
              "      <th>sep</th>\n",
              "      <td>0.000</td>\n",
              "      <td>10.00</td>\n",
              "    </tr>\n",
              "    <tr>\n",
              "      <th rowspan=\"3\" valign=\"top\">charles</th>\n",
              "      <th>nov</th>\n",
              "      <td>0.000</td>\n",
              "      <td>5.00</td>\n",
              "    </tr>\n",
              "    <tr>\n",
              "      <th>oct</th>\n",
              "      <td>3.000</td>\n",
              "      <td>11.00</td>\n",
              "    </tr>\n",
              "    <tr>\n",
              "      <th>sep</th>\n",
              "      <td>3.000</td>\n",
              "      <td>4.00</td>\n",
              "    </tr>\n",
              "    <tr>\n",
              "      <th rowspan=\"3\" valign=\"top\">darwin</th>\n",
              "      <th>nov</th>\n",
              "      <td>0.000</td>\n",
              "      <td>11.00</td>\n",
              "    </tr>\n",
              "    <tr>\n",
              "      <th>oct</th>\n",
              "      <td>1.000</td>\n",
              "      <td>10.00</td>\n",
              "    </tr>\n",
              "    <tr>\n",
              "      <th>sep</th>\n",
              "      <td>0.000</td>\n",
              "      <td>9.00</td>\n",
              "    </tr>\n",
              "    <tr>\n",
              "      <th>All</th>\n",
              "      <th></th>\n",
              "      <td>1.125</td>\n",
              "      <td>8.75</td>\n",
              "    </tr>\n",
              "  </tbody>\n",
              "</table>\n",
              "</div>"
            ],
            "text/plain": [
              "               bonus  grade\n",
              "name    month              \n",
              "alice   nov      NaN   9.00\n",
              "        oct      NaN   8.00\n",
              "        sep      NaN   8.00\n",
              "bob     nov    2.000  10.00\n",
              "        oct      NaN   9.00\n",
              "        sep    0.000  10.00\n",
              "charles nov    0.000   5.00\n",
              "        oct    3.000  11.00\n",
              "        sep    3.000   4.00\n",
              "darwin  nov    0.000  11.00\n",
              "        oct    1.000  10.00\n",
              "        sep    0.000   9.00\n",
              "All            1.125   8.75"
            ]
          },
          "execution_count": 327,
          "metadata": {},
          "output_type": "execute_result"
        }
      ],
      "source": [
        "pd.pivot_table(more_grades, index=(\"name\", \"month\"), margins=True)"
      ]
    },
    {
      "cell_type": "markdown",
      "metadata": {
        "id": "Y-hUT-_fe3FT"
      },
      "source": [
        "## 함수\n",
        "\n",
        "큰 `DataFrame`을 다룰 때 내용을 간단히 요약하는 것이 도움이 됩니다. 판다스는 이를 위한 몇 가지 함수를 제공합니다. 먼저 수치 값, 누락된 값, 텍스트 값이 섞인 큰 `DataFrame`을 만들어 보죠. 주피터 노트북은 이 `DataFrame`의 일부만 보여줍니다:"
      ]
    },
    {
      "cell_type": "code",
      "execution_count": 328,
      "metadata": {
        "id": "uXTwQbzIe3FT",
        "outputId": "f88eee5f-05db-41bb-c4f9-511dc569a795"
      },
      "outputs": [
        {
          "data": {
            "text/html": [
              "<div>\n",
              "<style scoped>\n",
              "    .dataframe tbody tr th:only-of-type {\n",
              "        vertical-align: middle;\n",
              "    }\n",
              "\n",
              "    .dataframe tbody tr th {\n",
              "        vertical-align: top;\n",
              "    }\n",
              "\n",
              "    .dataframe thead th {\n",
              "        text-align: right;\n",
              "    }\n",
              "</style>\n",
              "<table border=\"1\" class=\"dataframe\">\n",
              "  <thead>\n",
              "    <tr style=\"text-align: right;\">\n",
              "      <th></th>\n",
              "      <th>A</th>\n",
              "      <th>B</th>\n",
              "      <th>C</th>\n",
              "      <th>some_text</th>\n",
              "      <th>D</th>\n",
              "      <th>E</th>\n",
              "      <th>F</th>\n",
              "      <th>G</th>\n",
              "      <th>H</th>\n",
              "      <th>I</th>\n",
              "      <th>...</th>\n",
              "      <th>Q</th>\n",
              "      <th>R</th>\n",
              "      <th>S</th>\n",
              "      <th>T</th>\n",
              "      <th>U</th>\n",
              "      <th>V</th>\n",
              "      <th>W</th>\n",
              "      <th>X</th>\n",
              "      <th>Y</th>\n",
              "      <th>Z</th>\n",
              "    </tr>\n",
              "  </thead>\n",
              "  <tbody>\n",
              "    <tr>\n",
              "      <th>0</th>\n",
              "      <td>NaN</td>\n",
              "      <td>11.0</td>\n",
              "      <td>44.0</td>\n",
              "      <td>Blabla</td>\n",
              "      <td>99.0</td>\n",
              "      <td>NaN</td>\n",
              "      <td>88.0</td>\n",
              "      <td>22.0</td>\n",
              "      <td>165.0</td>\n",
              "      <td>143.0</td>\n",
              "      <td>...</td>\n",
              "      <td>11.0</td>\n",
              "      <td>NaN</td>\n",
              "      <td>11.0</td>\n",
              "      <td>44.0</td>\n",
              "      <td>99.0</td>\n",
              "      <td>NaN</td>\n",
              "      <td>88.0</td>\n",
              "      <td>22.0</td>\n",
              "      <td>165.0</td>\n",
              "      <td>143.0</td>\n",
              "    </tr>\n",
              "    <tr>\n",
              "      <th>1</th>\n",
              "      <td>11.0</td>\n",
              "      <td>22.0</td>\n",
              "      <td>55.0</td>\n",
              "      <td>Blabla</td>\n",
              "      <td>110.0</td>\n",
              "      <td>NaN</td>\n",
              "      <td>99.0</td>\n",
              "      <td>33.0</td>\n",
              "      <td>NaN</td>\n",
              "      <td>154.0</td>\n",
              "      <td>...</td>\n",
              "      <td>22.0</td>\n",
              "      <td>11.0</td>\n",
              "      <td>22.0</td>\n",
              "      <td>55.0</td>\n",
              "      <td>110.0</td>\n",
              "      <td>NaN</td>\n",
              "      <td>99.0</td>\n",
              "      <td>33.0</td>\n",
              "      <td>NaN</td>\n",
              "      <td>154.0</td>\n",
              "    </tr>\n",
              "    <tr>\n",
              "      <th>2</th>\n",
              "      <td>22.0</td>\n",
              "      <td>33.0</td>\n",
              "      <td>66.0</td>\n",
              "      <td>Blabla</td>\n",
              "      <td>121.0</td>\n",
              "      <td>11.0</td>\n",
              "      <td>110.0</td>\n",
              "      <td>44.0</td>\n",
              "      <td>NaN</td>\n",
              "      <td>165.0</td>\n",
              "      <td>...</td>\n",
              "      <td>33.0</td>\n",
              "      <td>22.0</td>\n",
              "      <td>33.0</td>\n",
              "      <td>66.0</td>\n",
              "      <td>121.0</td>\n",
              "      <td>11.0</td>\n",
              "      <td>110.0</td>\n",
              "      <td>44.0</td>\n",
              "      <td>NaN</td>\n",
              "      <td>165.0</td>\n",
              "    </tr>\n",
              "    <tr>\n",
              "      <th>3</th>\n",
              "      <td>33.0</td>\n",
              "      <td>44.0</td>\n",
              "      <td>77.0</td>\n",
              "      <td>Blabla</td>\n",
              "      <td>132.0</td>\n",
              "      <td>22.0</td>\n",
              "      <td>121.0</td>\n",
              "      <td>55.0</td>\n",
              "      <td>11.0</td>\n",
              "      <td>NaN</td>\n",
              "      <td>...</td>\n",
              "      <td>44.0</td>\n",
              "      <td>33.0</td>\n",
              "      <td>44.0</td>\n",
              "      <td>77.0</td>\n",
              "      <td>132.0</td>\n",
              "      <td>22.0</td>\n",
              "      <td>121.0</td>\n",
              "      <td>55.0</td>\n",
              "      <td>11.0</td>\n",
              "      <td>NaN</td>\n",
              "    </tr>\n",
              "    <tr>\n",
              "      <th>4</th>\n",
              "      <td>44.0</td>\n",
              "      <td>55.0</td>\n",
              "      <td>88.0</td>\n",
              "      <td>Blabla</td>\n",
              "      <td>143.0</td>\n",
              "      <td>33.0</td>\n",
              "      <td>132.0</td>\n",
              "      <td>66.0</td>\n",
              "      <td>22.0</td>\n",
              "      <td>NaN</td>\n",
              "      <td>...</td>\n",
              "      <td>55.0</td>\n",
              "      <td>44.0</td>\n",
              "      <td>55.0</td>\n",
              "      <td>88.0</td>\n",
              "      <td>143.0</td>\n",
              "      <td>33.0</td>\n",
              "      <td>132.0</td>\n",
              "      <td>66.0</td>\n",
              "      <td>22.0</td>\n",
              "      <td>NaN</td>\n",
              "    </tr>\n",
              "    <tr>\n",
              "      <th>...</th>\n",
              "      <td>...</td>\n",
              "      <td>...</td>\n",
              "      <td>...</td>\n",
              "      <td>...</td>\n",
              "      <td>...</td>\n",
              "      <td>...</td>\n",
              "      <td>...</td>\n",
              "      <td>...</td>\n",
              "      <td>...</td>\n",
              "      <td>...</td>\n",
              "      <td>...</td>\n",
              "      <td>...</td>\n",
              "      <td>...</td>\n",
              "      <td>...</td>\n",
              "      <td>...</td>\n",
              "      <td>...</td>\n",
              "      <td>...</td>\n",
              "      <td>...</td>\n",
              "      <td>...</td>\n",
              "      <td>...</td>\n",
              "      <td>...</td>\n",
              "    </tr>\n",
              "    <tr>\n",
              "      <th>9995</th>\n",
              "      <td>NaN</td>\n",
              "      <td>NaN</td>\n",
              "      <td>33.0</td>\n",
              "      <td>Blabla</td>\n",
              "      <td>88.0</td>\n",
              "      <td>165.0</td>\n",
              "      <td>77.0</td>\n",
              "      <td>11.0</td>\n",
              "      <td>154.0</td>\n",
              "      <td>132.0</td>\n",
              "      <td>...</td>\n",
              "      <td>NaN</td>\n",
              "      <td>NaN</td>\n",
              "      <td>NaN</td>\n",
              "      <td>33.0</td>\n",
              "      <td>88.0</td>\n",
              "      <td>165.0</td>\n",
              "      <td>77.0</td>\n",
              "      <td>11.0</td>\n",
              "      <td>154.0</td>\n",
              "      <td>132.0</td>\n",
              "    </tr>\n",
              "    <tr>\n",
              "      <th>9996</th>\n",
              "      <td>NaN</td>\n",
              "      <td>11.0</td>\n",
              "      <td>44.0</td>\n",
              "      <td>Blabla</td>\n",
              "      <td>99.0</td>\n",
              "      <td>NaN</td>\n",
              "      <td>88.0</td>\n",
              "      <td>22.0</td>\n",
              "      <td>165.0</td>\n",
              "      <td>143.0</td>\n",
              "      <td>...</td>\n",
              "      <td>11.0</td>\n",
              "      <td>NaN</td>\n",
              "      <td>11.0</td>\n",
              "      <td>44.0</td>\n",
              "      <td>99.0</td>\n",
              "      <td>NaN</td>\n",
              "      <td>88.0</td>\n",
              "      <td>22.0</td>\n",
              "      <td>165.0</td>\n",
              "      <td>143.0</td>\n",
              "    </tr>\n",
              "    <tr>\n",
              "      <th>9997</th>\n",
              "      <td>11.0</td>\n",
              "      <td>22.0</td>\n",
              "      <td>55.0</td>\n",
              "      <td>Blabla</td>\n",
              "      <td>110.0</td>\n",
              "      <td>NaN</td>\n",
              "      <td>99.0</td>\n",
              "      <td>33.0</td>\n",
              "      <td>NaN</td>\n",
              "      <td>154.0</td>\n",
              "      <td>...</td>\n",
              "      <td>22.0</td>\n",
              "      <td>11.0</td>\n",
              "      <td>22.0</td>\n",
              "      <td>55.0</td>\n",
              "      <td>110.0</td>\n",
              "      <td>NaN</td>\n",
              "      <td>99.0</td>\n",
              "      <td>33.0</td>\n",
              "      <td>NaN</td>\n",
              "      <td>154.0</td>\n",
              "    </tr>\n",
              "    <tr>\n",
              "      <th>9998</th>\n",
              "      <td>22.0</td>\n",
              "      <td>33.0</td>\n",
              "      <td>66.0</td>\n",
              "      <td>Blabla</td>\n",
              "      <td>121.0</td>\n",
              "      <td>11.0</td>\n",
              "      <td>110.0</td>\n",
              "      <td>44.0</td>\n",
              "      <td>NaN</td>\n",
              "      <td>165.0</td>\n",
              "      <td>...</td>\n",
              "      <td>33.0</td>\n",
              "      <td>22.0</td>\n",
              "      <td>33.0</td>\n",
              "      <td>66.0</td>\n",
              "      <td>121.0</td>\n",
              "      <td>11.0</td>\n",
              "      <td>110.0</td>\n",
              "      <td>44.0</td>\n",
              "      <td>NaN</td>\n",
              "      <td>165.0</td>\n",
              "    </tr>\n",
              "    <tr>\n",
              "      <th>9999</th>\n",
              "      <td>33.0</td>\n",
              "      <td>44.0</td>\n",
              "      <td>77.0</td>\n",
              "      <td>Blabla</td>\n",
              "      <td>132.0</td>\n",
              "      <td>22.0</td>\n",
              "      <td>121.0</td>\n",
              "      <td>55.0</td>\n",
              "      <td>11.0</td>\n",
              "      <td>NaN</td>\n",
              "      <td>...</td>\n",
              "      <td>44.0</td>\n",
              "      <td>33.0</td>\n",
              "      <td>44.0</td>\n",
              "      <td>77.0</td>\n",
              "      <td>132.0</td>\n",
              "      <td>22.0</td>\n",
              "      <td>121.0</td>\n",
              "      <td>55.0</td>\n",
              "      <td>11.0</td>\n",
              "      <td>NaN</td>\n",
              "    </tr>\n",
              "  </tbody>\n",
              "</table>\n",
              "<p>10000 rows × 27 columns</p>\n",
              "</div>"
            ],
            "text/plain": [
              "         A     B     C some_text      D      E      F     G      H      I  \\\n",
              "0      NaN  11.0  44.0    Blabla   99.0    NaN   88.0  22.0  165.0  143.0   \n",
              "1     11.0  22.0  55.0    Blabla  110.0    NaN   99.0  33.0    NaN  154.0   \n",
              "2     22.0  33.0  66.0    Blabla  121.0   11.0  110.0  44.0    NaN  165.0   \n",
              "3     33.0  44.0  77.0    Blabla  132.0   22.0  121.0  55.0   11.0    NaN   \n",
              "4     44.0  55.0  88.0    Blabla  143.0   33.0  132.0  66.0   22.0    NaN   \n",
              "...    ...   ...   ...       ...    ...    ...    ...   ...    ...    ...   \n",
              "9995   NaN   NaN  33.0    Blabla   88.0  165.0   77.0  11.0  154.0  132.0   \n",
              "9996   NaN  11.0  44.0    Blabla   99.0    NaN   88.0  22.0  165.0  143.0   \n",
              "9997  11.0  22.0  55.0    Blabla  110.0    NaN   99.0  33.0    NaN  154.0   \n",
              "9998  22.0  33.0  66.0    Blabla  121.0   11.0  110.0  44.0    NaN  165.0   \n",
              "9999  33.0  44.0  77.0    Blabla  132.0   22.0  121.0  55.0   11.0    NaN   \n",
              "\n",
              "      ...     Q     R     S     T      U      V      W     X      Y      Z  \n",
              "0     ...  11.0   NaN  11.0  44.0   99.0    NaN   88.0  22.0  165.0  143.0  \n",
              "1     ...  22.0  11.0  22.0  55.0  110.0    NaN   99.0  33.0    NaN  154.0  \n",
              "2     ...  33.0  22.0  33.0  66.0  121.0   11.0  110.0  44.0    NaN  165.0  \n",
              "3     ...  44.0  33.0  44.0  77.0  132.0   22.0  121.0  55.0   11.0    NaN  \n",
              "4     ...  55.0  44.0  55.0  88.0  143.0   33.0  132.0  66.0   22.0    NaN  \n",
              "...   ...   ...   ...   ...   ...    ...    ...    ...   ...    ...    ...  \n",
              "9995  ...   NaN   NaN   NaN  33.0   88.0  165.0   77.0  11.0  154.0  132.0  \n",
              "9996  ...  11.0   NaN  11.0  44.0   99.0    NaN   88.0  22.0  165.0  143.0  \n",
              "9997  ...  22.0  11.0  22.0  55.0  110.0    NaN   99.0  33.0    NaN  154.0  \n",
              "9998  ...  33.0  22.0  33.0  66.0  121.0   11.0  110.0  44.0    NaN  165.0  \n",
              "9999  ...  44.0  33.0  44.0  77.0  132.0   22.0  121.0  55.0   11.0    NaN  \n",
              "\n",
              "[10000 rows x 27 columns]"
            ]
          },
          "execution_count": 328,
          "metadata": {},
          "output_type": "execute_result"
        }
      ],
      "source": [
        "much_data = np.fromfunction(lambda x,y: (x+y*y)%17*11, (10000, 26))\n",
        "large_df = pd.DataFrame(much_data, columns=list(\"ABCDEFGHIJKLMNOPQRSTUVWXYZ\"))\n",
        "large_df[large_df % 16 == 0] = np.nan\n",
        "large_df.insert(3,\"some_text\", \"Blabla\")\n",
        "large_df"
      ]
    },
    {
      "cell_type": "markdown",
      "metadata": {
        "id": "TikzIrDze3FT"
      },
      "source": [
        "`head()` 메서드는 처음 5개 행을 반환합니다:"
      ]
    },
    {
      "cell_type": "code",
      "execution_count": 329,
      "metadata": {
        "id": "_FcmNPjqe3FT",
        "outputId": "cf610482-6b6b-479d-ee8d-f862b623eb74"
      },
      "outputs": [
        {
          "data": {
            "text/html": [
              "<div>\n",
              "<style scoped>\n",
              "    .dataframe tbody tr th:only-of-type {\n",
              "        vertical-align: middle;\n",
              "    }\n",
              "\n",
              "    .dataframe tbody tr th {\n",
              "        vertical-align: top;\n",
              "    }\n",
              "\n",
              "    .dataframe thead th {\n",
              "        text-align: right;\n",
              "    }\n",
              "</style>\n",
              "<table border=\"1\" class=\"dataframe\">\n",
              "  <thead>\n",
              "    <tr style=\"text-align: right;\">\n",
              "      <th></th>\n",
              "      <th>A</th>\n",
              "      <th>B</th>\n",
              "      <th>C</th>\n",
              "      <th>some_text</th>\n",
              "      <th>D</th>\n",
              "      <th>E</th>\n",
              "      <th>F</th>\n",
              "      <th>G</th>\n",
              "      <th>H</th>\n",
              "      <th>I</th>\n",
              "      <th>...</th>\n",
              "      <th>Q</th>\n",
              "      <th>R</th>\n",
              "      <th>S</th>\n",
              "      <th>T</th>\n",
              "      <th>U</th>\n",
              "      <th>V</th>\n",
              "      <th>W</th>\n",
              "      <th>X</th>\n",
              "      <th>Y</th>\n",
              "      <th>Z</th>\n",
              "    </tr>\n",
              "  </thead>\n",
              "  <tbody>\n",
              "    <tr>\n",
              "      <th>0</th>\n",
              "      <td>NaN</td>\n",
              "      <td>11.0</td>\n",
              "      <td>44.0</td>\n",
              "      <td>Blabla</td>\n",
              "      <td>99.0</td>\n",
              "      <td>NaN</td>\n",
              "      <td>88.0</td>\n",
              "      <td>22.0</td>\n",
              "      <td>165.0</td>\n",
              "      <td>143.0</td>\n",
              "      <td>...</td>\n",
              "      <td>11.0</td>\n",
              "      <td>NaN</td>\n",
              "      <td>11.0</td>\n",
              "      <td>44.0</td>\n",
              "      <td>99.0</td>\n",
              "      <td>NaN</td>\n",
              "      <td>88.0</td>\n",
              "      <td>22.0</td>\n",
              "      <td>165.0</td>\n",
              "      <td>143.0</td>\n",
              "    </tr>\n",
              "    <tr>\n",
              "      <th>1</th>\n",
              "      <td>11.0</td>\n",
              "      <td>22.0</td>\n",
              "      <td>55.0</td>\n",
              "      <td>Blabla</td>\n",
              "      <td>110.0</td>\n",
              "      <td>NaN</td>\n",
              "      <td>99.0</td>\n",
              "      <td>33.0</td>\n",
              "      <td>NaN</td>\n",
              "      <td>154.0</td>\n",
              "      <td>...</td>\n",
              "      <td>22.0</td>\n",
              "      <td>11.0</td>\n",
              "      <td>22.0</td>\n",
              "      <td>55.0</td>\n",
              "      <td>110.0</td>\n",
              "      <td>NaN</td>\n",
              "      <td>99.0</td>\n",
              "      <td>33.0</td>\n",
              "      <td>NaN</td>\n",
              "      <td>154.0</td>\n",
              "    </tr>\n",
              "    <tr>\n",
              "      <th>2</th>\n",
              "      <td>22.0</td>\n",
              "      <td>33.0</td>\n",
              "      <td>66.0</td>\n",
              "      <td>Blabla</td>\n",
              "      <td>121.0</td>\n",
              "      <td>11.0</td>\n",
              "      <td>110.0</td>\n",
              "      <td>44.0</td>\n",
              "      <td>NaN</td>\n",
              "      <td>165.0</td>\n",
              "      <td>...</td>\n",
              "      <td>33.0</td>\n",
              "      <td>22.0</td>\n",
              "      <td>33.0</td>\n",
              "      <td>66.0</td>\n",
              "      <td>121.0</td>\n",
              "      <td>11.0</td>\n",
              "      <td>110.0</td>\n",
              "      <td>44.0</td>\n",
              "      <td>NaN</td>\n",
              "      <td>165.0</td>\n",
              "    </tr>\n",
              "    <tr>\n",
              "      <th>3</th>\n",
              "      <td>33.0</td>\n",
              "      <td>44.0</td>\n",
              "      <td>77.0</td>\n",
              "      <td>Blabla</td>\n",
              "      <td>132.0</td>\n",
              "      <td>22.0</td>\n",
              "      <td>121.0</td>\n",
              "      <td>55.0</td>\n",
              "      <td>11.0</td>\n",
              "      <td>NaN</td>\n",
              "      <td>...</td>\n",
              "      <td>44.0</td>\n",
              "      <td>33.0</td>\n",
              "      <td>44.0</td>\n",
              "      <td>77.0</td>\n",
              "      <td>132.0</td>\n",
              "      <td>22.0</td>\n",
              "      <td>121.0</td>\n",
              "      <td>55.0</td>\n",
              "      <td>11.0</td>\n",
              "      <td>NaN</td>\n",
              "    </tr>\n",
              "    <tr>\n",
              "      <th>4</th>\n",
              "      <td>44.0</td>\n",
              "      <td>55.0</td>\n",
              "      <td>88.0</td>\n",
              "      <td>Blabla</td>\n",
              "      <td>143.0</td>\n",
              "      <td>33.0</td>\n",
              "      <td>132.0</td>\n",
              "      <td>66.0</td>\n",
              "      <td>22.0</td>\n",
              "      <td>NaN</td>\n",
              "      <td>...</td>\n",
              "      <td>55.0</td>\n",
              "      <td>44.0</td>\n",
              "      <td>55.0</td>\n",
              "      <td>88.0</td>\n",
              "      <td>143.0</td>\n",
              "      <td>33.0</td>\n",
              "      <td>132.0</td>\n",
              "      <td>66.0</td>\n",
              "      <td>22.0</td>\n",
              "      <td>NaN</td>\n",
              "    </tr>\n",
              "    <tr>\n",
              "      <th>5</th>\n",
              "      <td>55.0</td>\n",
              "      <td>66.0</td>\n",
              "      <td>99.0</td>\n",
              "      <td>Blabla</td>\n",
              "      <td>154.0</td>\n",
              "      <td>44.0</td>\n",
              "      <td>143.0</td>\n",
              "      <td>77.0</td>\n",
              "      <td>33.0</td>\n",
              "      <td>11.0</td>\n",
              "      <td>...</td>\n",
              "      <td>66.0</td>\n",
              "      <td>55.0</td>\n",
              "      <td>66.0</td>\n",
              "      <td>99.0</td>\n",
              "      <td>154.0</td>\n",
              "      <td>44.0</td>\n",
              "      <td>143.0</td>\n",
              "      <td>77.0</td>\n",
              "      <td>33.0</td>\n",
              "      <td>11.0</td>\n",
              "    </tr>\n",
              "    <tr>\n",
              "      <th>6</th>\n",
              "      <td>66.0</td>\n",
              "      <td>77.0</td>\n",
              "      <td>110.0</td>\n",
              "      <td>Blabla</td>\n",
              "      <td>165.0</td>\n",
              "      <td>55.0</td>\n",
              "      <td>154.0</td>\n",
              "      <td>88.0</td>\n",
              "      <td>44.0</td>\n",
              "      <td>22.0</td>\n",
              "      <td>...</td>\n",
              "      <td>77.0</td>\n",
              "      <td>66.0</td>\n",
              "      <td>77.0</td>\n",
              "      <td>110.0</td>\n",
              "      <td>165.0</td>\n",
              "      <td>55.0</td>\n",
              "      <td>154.0</td>\n",
              "      <td>88.0</td>\n",
              "      <td>44.0</td>\n",
              "      <td>22.0</td>\n",
              "    </tr>\n",
              "    <tr>\n",
              "      <th>7</th>\n",
              "      <td>77.0</td>\n",
              "      <td>88.0</td>\n",
              "      <td>121.0</td>\n",
              "      <td>Blabla</td>\n",
              "      <td>NaN</td>\n",
              "      <td>66.0</td>\n",
              "      <td>165.0</td>\n",
              "      <td>99.0</td>\n",
              "      <td>55.0</td>\n",
              "      <td>33.0</td>\n",
              "      <td>...</td>\n",
              "      <td>88.0</td>\n",
              "      <td>77.0</td>\n",
              "      <td>88.0</td>\n",
              "      <td>121.0</td>\n",
              "      <td>NaN</td>\n",
              "      <td>66.0</td>\n",
              "      <td>165.0</td>\n",
              "      <td>99.0</td>\n",
              "      <td>55.0</td>\n",
              "      <td>33.0</td>\n",
              "    </tr>\n",
              "    <tr>\n",
              "      <th>8</th>\n",
              "      <td>88.0</td>\n",
              "      <td>99.0</td>\n",
              "      <td>132.0</td>\n",
              "      <td>Blabla</td>\n",
              "      <td>NaN</td>\n",
              "      <td>77.0</td>\n",
              "      <td>NaN</td>\n",
              "      <td>110.0</td>\n",
              "      <td>66.0</td>\n",
              "      <td>44.0</td>\n",
              "      <td>...</td>\n",
              "      <td>99.0</td>\n",
              "      <td>88.0</td>\n",
              "      <td>99.0</td>\n",
              "      <td>132.0</td>\n",
              "      <td>NaN</td>\n",
              "      <td>77.0</td>\n",
              "      <td>NaN</td>\n",
              "      <td>110.0</td>\n",
              "      <td>66.0</td>\n",
              "      <td>44.0</td>\n",
              "    </tr>\n",
              "    <tr>\n",
              "      <th>9</th>\n",
              "      <td>99.0</td>\n",
              "      <td>110.0</td>\n",
              "      <td>143.0</td>\n",
              "      <td>Blabla</td>\n",
              "      <td>11.0</td>\n",
              "      <td>88.0</td>\n",
              "      <td>NaN</td>\n",
              "      <td>121.0</td>\n",
              "      <td>77.0</td>\n",
              "      <td>55.0</td>\n",
              "      <td>...</td>\n",
              "      <td>110.0</td>\n",
              "      <td>99.0</td>\n",
              "      <td>110.0</td>\n",
              "      <td>143.0</td>\n",
              "      <td>11.0</td>\n",
              "      <td>88.0</td>\n",
              "      <td>NaN</td>\n",
              "      <td>121.0</td>\n",
              "      <td>77.0</td>\n",
              "      <td>55.0</td>\n",
              "    </tr>\n",
              "  </tbody>\n",
              "</table>\n",
              "<p>10 rows × 27 columns</p>\n",
              "</div>"
            ],
            "text/plain": [
              "      A      B      C some_text      D     E      F      G      H      I  ...  \\\n",
              "0   NaN   11.0   44.0    Blabla   99.0   NaN   88.0   22.0  165.0  143.0  ...   \n",
              "1  11.0   22.0   55.0    Blabla  110.0   NaN   99.0   33.0    NaN  154.0  ...   \n",
              "2  22.0   33.0   66.0    Blabla  121.0  11.0  110.0   44.0    NaN  165.0  ...   \n",
              "3  33.0   44.0   77.0    Blabla  132.0  22.0  121.0   55.0   11.0    NaN  ...   \n",
              "4  44.0   55.0   88.0    Blabla  143.0  33.0  132.0   66.0   22.0    NaN  ...   \n",
              "5  55.0   66.0   99.0    Blabla  154.0  44.0  143.0   77.0   33.0   11.0  ...   \n",
              "6  66.0   77.0  110.0    Blabla  165.0  55.0  154.0   88.0   44.0   22.0  ...   \n",
              "7  77.0   88.0  121.0    Blabla    NaN  66.0  165.0   99.0   55.0   33.0  ...   \n",
              "8  88.0   99.0  132.0    Blabla    NaN  77.0    NaN  110.0   66.0   44.0  ...   \n",
              "9  99.0  110.0  143.0    Blabla   11.0  88.0    NaN  121.0   77.0   55.0  ...   \n",
              "\n",
              "       Q     R      S      T      U     V      W      X      Y      Z  \n",
              "0   11.0   NaN   11.0   44.0   99.0   NaN   88.0   22.0  165.0  143.0  \n",
              "1   22.0  11.0   22.0   55.0  110.0   NaN   99.0   33.0    NaN  154.0  \n",
              "2   33.0  22.0   33.0   66.0  121.0  11.0  110.0   44.0    NaN  165.0  \n",
              "3   44.0  33.0   44.0   77.0  132.0  22.0  121.0   55.0   11.0    NaN  \n",
              "4   55.0  44.0   55.0   88.0  143.0  33.0  132.0   66.0   22.0    NaN  \n",
              "5   66.0  55.0   66.0   99.0  154.0  44.0  143.0   77.0   33.0   11.0  \n",
              "6   77.0  66.0   77.0  110.0  165.0  55.0  154.0   88.0   44.0   22.0  \n",
              "7   88.0  77.0   88.0  121.0    NaN  66.0  165.0   99.0   55.0   33.0  \n",
              "8   99.0  88.0   99.0  132.0    NaN  77.0    NaN  110.0   66.0   44.0  \n",
              "9  110.0  99.0  110.0  143.0   11.0  88.0    NaN  121.0   77.0   55.0  \n",
              "\n",
              "[10 rows x 27 columns]"
            ]
          },
          "execution_count": 329,
          "metadata": {},
          "output_type": "execute_result"
        }
      ],
      "source": [
        "large_df.head(n=10)"
      ]
    },
    {
      "cell_type": "markdown",
      "metadata": {
        "id": "rOZFtJPLe3FT"
      },
      "source": [
        "마지막 5개 행을 반환하는 `tail()` 함수도 있습니다. 원하는 행 개수를 전달할 수도 있습니다:"
      ]
    },
    {
      "cell_type": "code",
      "execution_count": 330,
      "metadata": {
        "id": "CuPSUpi0e3FT",
        "outputId": "41b75ddb-3370-477e-e75e-e2df06a7da2c"
      },
      "outputs": [
        {
          "data": {
            "text/html": [
              "<div>\n",
              "<style scoped>\n",
              "    .dataframe tbody tr th:only-of-type {\n",
              "        vertical-align: middle;\n",
              "    }\n",
              "\n",
              "    .dataframe tbody tr th {\n",
              "        vertical-align: top;\n",
              "    }\n",
              "\n",
              "    .dataframe thead th {\n",
              "        text-align: right;\n",
              "    }\n",
              "</style>\n",
              "<table border=\"1\" class=\"dataframe\">\n",
              "  <thead>\n",
              "    <tr style=\"text-align: right;\">\n",
              "      <th></th>\n",
              "      <th>A</th>\n",
              "      <th>B</th>\n",
              "      <th>C</th>\n",
              "      <th>some_text</th>\n",
              "      <th>D</th>\n",
              "      <th>E</th>\n",
              "      <th>F</th>\n",
              "      <th>G</th>\n",
              "      <th>H</th>\n",
              "      <th>I</th>\n",
              "      <th>...</th>\n",
              "      <th>Q</th>\n",
              "      <th>R</th>\n",
              "      <th>S</th>\n",
              "      <th>T</th>\n",
              "      <th>U</th>\n",
              "      <th>V</th>\n",
              "      <th>W</th>\n",
              "      <th>X</th>\n",
              "      <th>Y</th>\n",
              "      <th>Z</th>\n",
              "    </tr>\n",
              "  </thead>\n",
              "  <tbody>\n",
              "    <tr>\n",
              "      <th>9998</th>\n",
              "      <td>22.0</td>\n",
              "      <td>33.0</td>\n",
              "      <td>66.0</td>\n",
              "      <td>Blabla</td>\n",
              "      <td>121.0</td>\n",
              "      <td>11.0</td>\n",
              "      <td>110.0</td>\n",
              "      <td>44.0</td>\n",
              "      <td>NaN</td>\n",
              "      <td>165.0</td>\n",
              "      <td>...</td>\n",
              "      <td>33.0</td>\n",
              "      <td>22.0</td>\n",
              "      <td>33.0</td>\n",
              "      <td>66.0</td>\n",
              "      <td>121.0</td>\n",
              "      <td>11.0</td>\n",
              "      <td>110.0</td>\n",
              "      <td>44.0</td>\n",
              "      <td>NaN</td>\n",
              "      <td>165.0</td>\n",
              "    </tr>\n",
              "    <tr>\n",
              "      <th>9999</th>\n",
              "      <td>33.0</td>\n",
              "      <td>44.0</td>\n",
              "      <td>77.0</td>\n",
              "      <td>Blabla</td>\n",
              "      <td>132.0</td>\n",
              "      <td>22.0</td>\n",
              "      <td>121.0</td>\n",
              "      <td>55.0</td>\n",
              "      <td>11.0</td>\n",
              "      <td>NaN</td>\n",
              "      <td>...</td>\n",
              "      <td>44.0</td>\n",
              "      <td>33.0</td>\n",
              "      <td>44.0</td>\n",
              "      <td>77.0</td>\n",
              "      <td>132.0</td>\n",
              "      <td>22.0</td>\n",
              "      <td>121.0</td>\n",
              "      <td>55.0</td>\n",
              "      <td>11.0</td>\n",
              "      <td>NaN</td>\n",
              "    </tr>\n",
              "  </tbody>\n",
              "</table>\n",
              "<p>2 rows × 27 columns</p>\n",
              "</div>"
            ],
            "text/plain": [
              "         A     B     C some_text      D     E      F     G     H      I  ...  \\\n",
              "9998  22.0  33.0  66.0    Blabla  121.0  11.0  110.0  44.0   NaN  165.0  ...   \n",
              "9999  33.0  44.0  77.0    Blabla  132.0  22.0  121.0  55.0  11.0    NaN  ...   \n",
              "\n",
              "         Q     R     S     T      U     V      W     X     Y      Z  \n",
              "9998  33.0  22.0  33.0  66.0  121.0  11.0  110.0  44.0   NaN  165.0  \n",
              "9999  44.0  33.0  44.0  77.0  132.0  22.0  121.0  55.0  11.0    NaN  \n",
              "\n",
              "[2 rows x 27 columns]"
            ]
          },
          "execution_count": 330,
          "metadata": {},
          "output_type": "execute_result"
        }
      ],
      "source": [
        "large_df.tail(n=2)"
      ]
    },
    {
      "cell_type": "markdown",
      "metadata": {
        "id": "FvsO6IU_e3FU"
      },
      "source": [
        "`info()` 메서드는 각 열의 내용을 요약하여 출력합니다:"
      ]
    },
    {
      "cell_type": "code",
      "execution_count": 331,
      "metadata": {
        "id": "NL-PRcuDe3FU",
        "outputId": "878e4d4a-fc13-4777-c19d-d0e103c316da"
      },
      "outputs": [
        {
          "name": "stdout",
          "output_type": "stream",
          "text": [
            "<class 'pandas.core.frame.DataFrame'>\n",
            "RangeIndex: 10000 entries, 0 to 9999\n",
            "Data columns (total 27 columns):\n",
            " #   Column     Non-Null Count  Dtype  \n",
            "---  ------     --------------  -----  \n",
            " 0   A          8823 non-null   float64\n",
            " 1   B          8824 non-null   float64\n",
            " 2   C          8824 non-null   float64\n",
            " 3   some_text  10000 non-null  object \n",
            " 4   D          8824 non-null   float64\n",
            " 5   E          8822 non-null   float64\n",
            " 6   F          8824 non-null   float64\n",
            " 7   G          8824 non-null   float64\n",
            " 8   H          8822 non-null   float64\n",
            " 9   I          8823 non-null   float64\n",
            " 10  J          8823 non-null   float64\n",
            " 11  K          8822 non-null   float64\n",
            " 12  L          8824 non-null   float64\n",
            " 13  M          8824 non-null   float64\n",
            " 14  N          8822 non-null   float64\n",
            " 15  O          8824 non-null   float64\n",
            " 16  P          8824 non-null   float64\n",
            " 17  Q          8824 non-null   float64\n",
            " 18  R          8823 non-null   float64\n",
            " 19  S          8824 non-null   float64\n",
            " 20  T          8824 non-null   float64\n",
            " 21  U          8824 non-null   float64\n",
            " 22  V          8822 non-null   float64\n",
            " 23  W          8824 non-null   float64\n",
            " 24  X          8824 non-null   float64\n",
            " 25  Y          8822 non-null   float64\n",
            " 26  Z          8823 non-null   float64\n",
            "dtypes: float64(26), object(1)\n",
            "memory usage: 2.1+ MB\n"
          ]
        }
      ],
      "source": [
        "large_df.info()"
      ]
    },
    {
      "cell_type": "markdown",
      "metadata": {
        "id": "HtAmtfxWe3FU"
      },
      "source": [
        "마지막으로 `describe()` 메서드는 각 열에 대한 주요 집계 연산을 수행한 결과를 보여줍니다:\n",
        "\n",
        "Finally, the `describe()` method gives a nice overview of the main aggregated values over each column:\n",
        "* `count`: null(NaN)이 아닌 값의 개수\n",
        "* `mean`: null이 아닌 값의 평균\n",
        "* `std`: null이 아닌 값의 [표준 편차](https://ko.wikipedia.org/wiki/%ED%91%9C%EC%A4%80_%ED%8E%B8%EC%B0%A8)\n",
        "* `min`: null이 아닌 값의 최솟값\n",
        "* `25%`, `50%`, `75%`: null이 아닌 값의 25번째, 50번째, 75번째 [백분위수](https://ko.wikipedia.org/wiki/%EB%B0%B1%EB%B6%84%EC%9C%84%EC%88%98)\n",
        "* `max`: null이 아닌 값의 최댓값"
      ]
    },
    {
      "cell_type": "code",
      "execution_count": 332,
      "metadata": {
        "id": "IqoV2Xt2e3FU",
        "outputId": "73af866c-02db-41d9-8171-ba07d850e7bb"
      },
      "outputs": [
        {
          "data": {
            "text/html": [
              "<div>\n",
              "<style scoped>\n",
              "    .dataframe tbody tr th:only-of-type {\n",
              "        vertical-align: middle;\n",
              "    }\n",
              "\n",
              "    .dataframe tbody tr th {\n",
              "        vertical-align: top;\n",
              "    }\n",
              "\n",
              "    .dataframe thead th {\n",
              "        text-align: right;\n",
              "    }\n",
              "</style>\n",
              "<table border=\"1\" class=\"dataframe\">\n",
              "  <thead>\n",
              "    <tr style=\"text-align: right;\">\n",
              "      <th></th>\n",
              "      <th>A</th>\n",
              "      <th>B</th>\n",
              "      <th>C</th>\n",
              "      <th>D</th>\n",
              "      <th>E</th>\n",
              "      <th>F</th>\n",
              "      <th>G</th>\n",
              "      <th>H</th>\n",
              "      <th>I</th>\n",
              "      <th>J</th>\n",
              "      <th>...</th>\n",
              "      <th>Q</th>\n",
              "      <th>R</th>\n",
              "      <th>S</th>\n",
              "      <th>T</th>\n",
              "      <th>U</th>\n",
              "      <th>V</th>\n",
              "      <th>W</th>\n",
              "      <th>X</th>\n",
              "      <th>Y</th>\n",
              "      <th>Z</th>\n",
              "    </tr>\n",
              "  </thead>\n",
              "  <tbody>\n",
              "    <tr>\n",
              "      <th>count</th>\n",
              "      <td>8823.000000</td>\n",
              "      <td>8824.000000</td>\n",
              "      <td>8824.000000</td>\n",
              "      <td>8824.000000</td>\n",
              "      <td>8822.000000</td>\n",
              "      <td>8824.000000</td>\n",
              "      <td>8824.000000</td>\n",
              "      <td>8822.000000</td>\n",
              "      <td>8823.000000</td>\n",
              "      <td>8823.000000</td>\n",
              "      <td>...</td>\n",
              "      <td>8824.000000</td>\n",
              "      <td>8823.000000</td>\n",
              "      <td>8824.000000</td>\n",
              "      <td>8824.000000</td>\n",
              "      <td>8824.000000</td>\n",
              "      <td>8822.000000</td>\n",
              "      <td>8824.000000</td>\n",
              "      <td>8824.000000</td>\n",
              "      <td>8822.000000</td>\n",
              "      <td>8823.000000</td>\n",
              "    </tr>\n",
              "    <tr>\n",
              "      <th>mean</th>\n",
              "      <td>87.977559</td>\n",
              "      <td>87.972575</td>\n",
              "      <td>87.987534</td>\n",
              "      <td>88.012466</td>\n",
              "      <td>87.983791</td>\n",
              "      <td>88.007480</td>\n",
              "      <td>87.977561</td>\n",
              "      <td>88.000000</td>\n",
              "      <td>88.022441</td>\n",
              "      <td>88.022441</td>\n",
              "      <td>...</td>\n",
              "      <td>87.972575</td>\n",
              "      <td>87.977559</td>\n",
              "      <td>87.972575</td>\n",
              "      <td>87.987534</td>\n",
              "      <td>88.012466</td>\n",
              "      <td>87.983791</td>\n",
              "      <td>88.007480</td>\n",
              "      <td>87.977561</td>\n",
              "      <td>88.000000</td>\n",
              "      <td>88.022441</td>\n",
              "    </tr>\n",
              "    <tr>\n",
              "      <th>std</th>\n",
              "      <td>47.535911</td>\n",
              "      <td>47.535523</td>\n",
              "      <td>47.521679</td>\n",
              "      <td>47.521679</td>\n",
              "      <td>47.535001</td>\n",
              "      <td>47.519371</td>\n",
              "      <td>47.529755</td>\n",
              "      <td>47.536879</td>\n",
              "      <td>47.535911</td>\n",
              "      <td>47.535911</td>\n",
              "      <td>...</td>\n",
              "      <td>47.535523</td>\n",
              "      <td>47.535911</td>\n",
              "      <td>47.535523</td>\n",
              "      <td>47.521679</td>\n",
              "      <td>47.521679</td>\n",
              "      <td>47.535001</td>\n",
              "      <td>47.519371</td>\n",
              "      <td>47.529755</td>\n",
              "      <td>47.536879</td>\n",
              "      <td>47.535911</td>\n",
              "    </tr>\n",
              "    <tr>\n",
              "      <th>min</th>\n",
              "      <td>11.000000</td>\n",
              "      <td>11.000000</td>\n",
              "      <td>11.000000</td>\n",
              "      <td>11.000000</td>\n",
              "      <td>11.000000</td>\n",
              "      <td>11.000000</td>\n",
              "      <td>11.000000</td>\n",
              "      <td>11.000000</td>\n",
              "      <td>11.000000</td>\n",
              "      <td>11.000000</td>\n",
              "      <td>...</td>\n",
              "      <td>11.000000</td>\n",
              "      <td>11.000000</td>\n",
              "      <td>11.000000</td>\n",
              "      <td>11.000000</td>\n",
              "      <td>11.000000</td>\n",
              "      <td>11.000000</td>\n",
              "      <td>11.000000</td>\n",
              "      <td>11.000000</td>\n",
              "      <td>11.000000</td>\n",
              "      <td>11.000000</td>\n",
              "    </tr>\n",
              "    <tr>\n",
              "      <th>25%</th>\n",
              "      <td>44.000000</td>\n",
              "      <td>44.000000</td>\n",
              "      <td>44.000000</td>\n",
              "      <td>44.000000</td>\n",
              "      <td>44.000000</td>\n",
              "      <td>44.000000</td>\n",
              "      <td>44.000000</td>\n",
              "      <td>44.000000</td>\n",
              "      <td>44.000000</td>\n",
              "      <td>44.000000</td>\n",
              "      <td>...</td>\n",
              "      <td>44.000000</td>\n",
              "      <td>44.000000</td>\n",
              "      <td>44.000000</td>\n",
              "      <td>44.000000</td>\n",
              "      <td>44.000000</td>\n",
              "      <td>44.000000</td>\n",
              "      <td>44.000000</td>\n",
              "      <td>44.000000</td>\n",
              "      <td>44.000000</td>\n",
              "      <td>44.000000</td>\n",
              "    </tr>\n",
              "    <tr>\n",
              "      <th>50%</th>\n",
              "      <td>88.000000</td>\n",
              "      <td>88.000000</td>\n",
              "      <td>88.000000</td>\n",
              "      <td>88.000000</td>\n",
              "      <td>88.000000</td>\n",
              "      <td>88.000000</td>\n",
              "      <td>88.000000</td>\n",
              "      <td>88.000000</td>\n",
              "      <td>88.000000</td>\n",
              "      <td>88.000000</td>\n",
              "      <td>...</td>\n",
              "      <td>88.000000</td>\n",
              "      <td>88.000000</td>\n",
              "      <td>88.000000</td>\n",
              "      <td>88.000000</td>\n",
              "      <td>88.000000</td>\n",
              "      <td>88.000000</td>\n",
              "      <td>88.000000</td>\n",
              "      <td>88.000000</td>\n",
              "      <td>88.000000</td>\n",
              "      <td>88.000000</td>\n",
              "    </tr>\n",
              "    <tr>\n",
              "      <th>75%</th>\n",
              "      <td>132.000000</td>\n",
              "      <td>132.000000</td>\n",
              "      <td>132.000000</td>\n",
              "      <td>132.000000</td>\n",
              "      <td>132.000000</td>\n",
              "      <td>132.000000</td>\n",
              "      <td>132.000000</td>\n",
              "      <td>132.000000</td>\n",
              "      <td>132.000000</td>\n",
              "      <td>132.000000</td>\n",
              "      <td>...</td>\n",
              "      <td>132.000000</td>\n",
              "      <td>132.000000</td>\n",
              "      <td>132.000000</td>\n",
              "      <td>132.000000</td>\n",
              "      <td>132.000000</td>\n",
              "      <td>132.000000</td>\n",
              "      <td>132.000000</td>\n",
              "      <td>132.000000</td>\n",
              "      <td>132.000000</td>\n",
              "      <td>132.000000</td>\n",
              "    </tr>\n",
              "    <tr>\n",
              "      <th>max</th>\n",
              "      <td>165.000000</td>\n",
              "      <td>165.000000</td>\n",
              "      <td>165.000000</td>\n",
              "      <td>165.000000</td>\n",
              "      <td>165.000000</td>\n",
              "      <td>165.000000</td>\n",
              "      <td>165.000000</td>\n",
              "      <td>165.000000</td>\n",
              "      <td>165.000000</td>\n",
              "      <td>165.000000</td>\n",
              "      <td>...</td>\n",
              "      <td>165.000000</td>\n",
              "      <td>165.000000</td>\n",
              "      <td>165.000000</td>\n",
              "      <td>165.000000</td>\n",
              "      <td>165.000000</td>\n",
              "      <td>165.000000</td>\n",
              "      <td>165.000000</td>\n",
              "      <td>165.000000</td>\n",
              "      <td>165.000000</td>\n",
              "      <td>165.000000</td>\n",
              "    </tr>\n",
              "  </tbody>\n",
              "</table>\n",
              "<p>8 rows × 26 columns</p>\n",
              "</div>"
            ],
            "text/plain": [
              "                 A            B            C            D            E  \\\n",
              "count  8823.000000  8824.000000  8824.000000  8824.000000  8822.000000   \n",
              "mean     87.977559    87.972575    87.987534    88.012466    87.983791   \n",
              "std      47.535911    47.535523    47.521679    47.521679    47.535001   \n",
              "min      11.000000    11.000000    11.000000    11.000000    11.000000   \n",
              "25%      44.000000    44.000000    44.000000    44.000000    44.000000   \n",
              "50%      88.000000    88.000000    88.000000    88.000000    88.000000   \n",
              "75%     132.000000   132.000000   132.000000   132.000000   132.000000   \n",
              "max     165.000000   165.000000   165.000000   165.000000   165.000000   \n",
              "\n",
              "                 F            G            H            I            J  ...  \\\n",
              "count  8824.000000  8824.000000  8822.000000  8823.000000  8823.000000  ...   \n",
              "mean     88.007480    87.977561    88.000000    88.022441    88.022441  ...   \n",
              "std      47.519371    47.529755    47.536879    47.535911    47.535911  ...   \n",
              "min      11.000000    11.000000    11.000000    11.000000    11.000000  ...   \n",
              "25%      44.000000    44.000000    44.000000    44.000000    44.000000  ...   \n",
              "50%      88.000000    88.000000    88.000000    88.000000    88.000000  ...   \n",
              "75%     132.000000   132.000000   132.000000   132.000000   132.000000  ...   \n",
              "max     165.000000   165.000000   165.000000   165.000000   165.000000  ...   \n",
              "\n",
              "                 Q            R            S            T            U  \\\n",
              "count  8824.000000  8823.000000  8824.000000  8824.000000  8824.000000   \n",
              "mean     87.972575    87.977559    87.972575    87.987534    88.012466   \n",
              "std      47.535523    47.535911    47.535523    47.521679    47.521679   \n",
              "min      11.000000    11.000000    11.000000    11.000000    11.000000   \n",
              "25%      44.000000    44.000000    44.000000    44.000000    44.000000   \n",
              "50%      88.000000    88.000000    88.000000    88.000000    88.000000   \n",
              "75%     132.000000   132.000000   132.000000   132.000000   132.000000   \n",
              "max     165.000000   165.000000   165.000000   165.000000   165.000000   \n",
              "\n",
              "                 V            W            X            Y            Z  \n",
              "count  8822.000000  8824.000000  8824.000000  8822.000000  8823.000000  \n",
              "mean     87.983791    88.007480    87.977561    88.000000    88.022441  \n",
              "std      47.535001    47.519371    47.529755    47.536879    47.535911  \n",
              "min      11.000000    11.000000    11.000000    11.000000    11.000000  \n",
              "25%      44.000000    44.000000    44.000000    44.000000    44.000000  \n",
              "50%      88.000000    88.000000    88.000000    88.000000    88.000000  \n",
              "75%     132.000000   132.000000   132.000000   132.000000   132.000000  \n",
              "max     165.000000   165.000000   165.000000   165.000000   165.000000  \n",
              "\n",
              "[8 rows x 26 columns]"
            ]
          },
          "execution_count": 332,
          "metadata": {},
          "output_type": "execute_result"
        }
      ],
      "source": [
        "large_df.describe()"
      ]
    },
    {
      "cell_type": "markdown",
      "metadata": {
        "id": "LUI1cU4Ie3FU"
      },
      "source": [
        "# 저장 & 로딩\n",
        "\n",
        "판다스는 `DataFrame`를 여러 가지 포맷으로 저장할 수 있습니다. CSV, Excel, JSON, HTML, HDF5, SQL 데이터베이스 같은 포맷이 가능합니다. 예제를 위해 `DataFrame`을 하나 만들어 보겠습니다:"
      ]
    },
    {
      "cell_type": "code",
      "execution_count": 333,
      "metadata": {
        "id": "GFh-ObSoe3FU",
        "outputId": "361e3224-7fae-4d99-f86f-5af8220f620f"
      },
      "outputs": [
        {
          "data": {
            "text/html": [
              "<div>\n",
              "<style scoped>\n",
              "    .dataframe tbody tr th:only-of-type {\n",
              "        vertical-align: middle;\n",
              "    }\n",
              "\n",
              "    .dataframe tbody tr th {\n",
              "        vertical-align: top;\n",
              "    }\n",
              "\n",
              "    .dataframe thead th {\n",
              "        text-align: right;\n",
              "    }\n",
              "</style>\n",
              "<table border=\"1\" class=\"dataframe\">\n",
              "  <thead>\n",
              "    <tr style=\"text-align: right;\">\n",
              "      <th></th>\n",
              "      <th>hobby</th>\n",
              "      <th>weight</th>\n",
              "      <th>birthyear</th>\n",
              "      <th>children</th>\n",
              "    </tr>\n",
              "  </thead>\n",
              "  <tbody>\n",
              "    <tr>\n",
              "      <th>alice</th>\n",
              "      <td>Biking</td>\n",
              "      <td>68.5</td>\n",
              "      <td>1985</td>\n",
              "      <td>NaN</td>\n",
              "    </tr>\n",
              "    <tr>\n",
              "      <th>bob</th>\n",
              "      <td>Dancing</td>\n",
              "      <td>83.1</td>\n",
              "      <td>1984</td>\n",
              "      <td>3.0</td>\n",
              "    </tr>\n",
              "  </tbody>\n",
              "</table>\n",
              "</div>"
            ],
            "text/plain": [
              "         hobby  weight  birthyear  children\n",
              "alice   Biking    68.5       1985       NaN\n",
              "bob    Dancing    83.1       1984       3.0"
            ]
          },
          "execution_count": 333,
          "metadata": {},
          "output_type": "execute_result"
        }
      ],
      "source": [
        "my_df = pd.DataFrame(\n",
        "    [[\"Biking\", 68.5, 1985, np.nan], [\"Dancing\", 83.1, 1984, 3]], \n",
        "    columns=[\"hobby\",\"weight\",\"birthyear\",\"children\"],\n",
        "    index=[\"alice\", \"bob\"]\n",
        ")\n",
        "my_df"
      ]
    },
    {
      "cell_type": "markdown",
      "metadata": {
        "id": "05pUat8ze3FU"
      },
      "source": [
        "## 저장\n",
        "\n",
        "CSV, HTML, JSON로 저장해 보죠:"
      ]
    },
    {
      "cell_type": "code",
      "execution_count": 334,
      "metadata": {
        "id": "mFuysfn_e3FU"
      },
      "outputs": [],
      "source": [
        "my_df.to_csv(\"my_df.csv\")\n",
        "my_df.to_html(\"my_df.html\")\n",
        "my_df.to_json(\"my_df.json\")"
      ]
    },
    {
      "cell_type": "markdown",
      "metadata": {
        "id": "b_b8ab3Re3FU"
      },
      "source": [
        "저장된 내용을 확인해 보죠:"
      ]
    },
    {
      "cell_type": "code",
      "execution_count": 335,
      "metadata": {
        "id": "gWho86DXe3FU",
        "outputId": "21ea6a2e-1101-4d6e-ad9b-8c1ca2f8fa8e"
      },
      "outputs": [
        {
          "name": "stdout",
          "output_type": "stream",
          "text": [
            "# my_df.csv\n",
            ",hobby,weight,birthyear,children\n",
            "alice,Biking,68.5,1985,\n",
            "bob,Dancing,83.1,1984,3.0\n",
            "\n",
            "\n",
            "# my_df.html\n",
            "<table border=\"1\" class=\"dataframe\">\n",
            "  <thead>\n",
            "    <tr style=\"text-align: right;\">\n",
            "      <th></th>\n",
            "      <th>hobby</th>\n",
            "      <th>weight</th>\n",
            "      <th>birthyear</th>\n",
            "      <th>children</th>\n",
            "    </tr>\n",
            "  </thead>\n",
            "  <tbody>\n",
            "    <tr>\n",
            "      <th>alice</th>\n",
            "      <td>Biking</td>\n",
            "      <td>68.5</td>\n",
            "      <td>1985</td>\n",
            "      <td>NaN</td>\n",
            "    </tr>\n",
            "    <tr>\n",
            "      <th>bob</th>\n",
            "      <td>Dancing</td>\n",
            "      <td>83.1</td>\n",
            "      <td>1984</td>\n",
            "      <td>3.0</td>\n",
            "    </tr>\n",
            "  </tbody>\n",
            "</table>\n",
            "\n",
            "# my_df.json\n",
            "{\"hobby\":{\"alice\":\"Biking\",\"bob\":\"Dancing\"},\"weight\":{\"alice\":68.5,\"bob\":83.1},\"birthyear\":{\"alice\":1985,\"bob\":1984},\"children\":{\"alice\":null,\"bob\":3.0}}\n",
            "\n"
          ]
        }
      ],
      "source": [
        "for filename in (\"my_df.csv\", \"my_df.html\", \"my_df.json\"):\n",
        "    print(\"#\", filename)\n",
        "    with open(filename, \"rt\") as f:\n",
        "        print(f.read())\n",
        "        print()\n"
      ]
    },
    {
      "cell_type": "markdown",
      "metadata": {
        "id": "BRDz-Evae3FV"
      },
      "source": [
        "인덱스는 (이름 없이) CSV 파일의 첫 번째 열에 저장되었습니다. HTML에서는 `<th>` 태그와 JSON에서는 키로 저장되었습니다.\n",
        "\n",
        "다른 포맷으로 저장하는 것도 비슷합니다. 하지만 일부 포맷은 추가적인 라이브러리 설치가 필요합니다. 예를 들어, 엑셀로 저장하려면 openpyxl 라이브러리가 필요합니다:"
      ]
    },
    {
      "cell_type": "code",
      "execution_count": 336,
      "metadata": {
        "id": "tyscHGnre3FV",
        "outputId": "24987aed-875d-487d-861c-6c4c90628df7"
      },
      "outputs": [],
      "source": [
        "try:\n",
        "    my_df.to_excel(\"my_df.xlsx\", sheet_name='People')\n",
        "except ImportError as e:\n",
        "    print(e)"
      ]
    },
    {
      "cell_type": "markdown",
      "metadata": {
        "id": "68s8prcNe3FV"
      },
      "source": [
        "## 로딩\n",
        "\n",
        "CSV 파일을 `DataFrame`으로 로드해 보죠:"
      ]
    },
    {
      "cell_type": "code",
      "execution_count": 337,
      "metadata": {
        "id": "OLal0crEe3FV",
        "outputId": "965940b7-982c-44fa-eebd-83514ecbee62"
      },
      "outputs": [
        {
          "data": {
            "text/html": [
              "<div>\n",
              "<style scoped>\n",
              "    .dataframe tbody tr th:only-of-type {\n",
              "        vertical-align: middle;\n",
              "    }\n",
              "\n",
              "    .dataframe tbody tr th {\n",
              "        vertical-align: top;\n",
              "    }\n",
              "\n",
              "    .dataframe thead th {\n",
              "        text-align: right;\n",
              "    }\n",
              "</style>\n",
              "<table border=\"1\" class=\"dataframe\">\n",
              "  <thead>\n",
              "    <tr style=\"text-align: right;\">\n",
              "      <th></th>\n",
              "      <th>hobby</th>\n",
              "      <th>weight</th>\n",
              "      <th>birthyear</th>\n",
              "      <th>children</th>\n",
              "    </tr>\n",
              "  </thead>\n",
              "  <tbody>\n",
              "    <tr>\n",
              "      <th>alice</th>\n",
              "      <td>Biking</td>\n",
              "      <td>68.5</td>\n",
              "      <td>1985</td>\n",
              "      <td>NaN</td>\n",
              "    </tr>\n",
              "    <tr>\n",
              "      <th>bob</th>\n",
              "      <td>Dancing</td>\n",
              "      <td>83.1</td>\n",
              "      <td>1984</td>\n",
              "      <td>3.0</td>\n",
              "    </tr>\n",
              "  </tbody>\n",
              "</table>\n",
              "</div>"
            ],
            "text/plain": [
              "         hobby  weight  birthyear  children\n",
              "alice   Biking    68.5       1985       NaN\n",
              "bob    Dancing    83.1       1984       3.0"
            ]
          },
          "execution_count": 337,
          "metadata": {},
          "output_type": "execute_result"
        }
      ],
      "source": [
        "my_df_loaded = pd.read_csv(\"my_df.csv\", index_col=0)\n",
        "my_df_loaded"
      ]
    },
    {
      "cell_type": "markdown",
      "metadata": {
        "id": "RyuftmQOe3FV"
      },
      "source": [
        "예상할 수 있듯이 `read_json`, `read_html`, `read_excel` 함수도 있습니다. 인터넷에서 데이터를 바로 읽을 수도 있습니다. 예를 들어 깃허브에서 1,000개의 U.S. 도시를 로드해 보죠:"
      ]
    },
    {
      "cell_type": "code",
      "execution_count": 338,
      "metadata": {
        "id": "OOFibmFle3FV",
        "outputId": "13768d46-4667-49df-cb86-431132d07fec"
      },
      "outputs": [
        {
          "data": {
            "text/html": [
              "<div>\n",
              "<style scoped>\n",
              "    .dataframe tbody tr th:only-of-type {\n",
              "        vertical-align: middle;\n",
              "    }\n",
              "\n",
              "    .dataframe tbody tr th {\n",
              "        vertical-align: top;\n",
              "    }\n",
              "\n",
              "    .dataframe thead th {\n",
              "        text-align: right;\n",
              "    }\n",
              "</style>\n",
              "<table border=\"1\" class=\"dataframe\">\n",
              "  <thead>\n",
              "    <tr style=\"text-align: right;\">\n",
              "      <th></th>\n",
              "      <th>State</th>\n",
              "      <th>Population</th>\n",
              "      <th>lat</th>\n",
              "      <th>lon</th>\n",
              "    </tr>\n",
              "    <tr>\n",
              "      <th>City</th>\n",
              "      <th></th>\n",
              "      <th></th>\n",
              "      <th></th>\n",
              "      <th></th>\n",
              "    </tr>\n",
              "  </thead>\n",
              "  <tbody>\n",
              "    <tr>\n",
              "      <th>Marysville</th>\n",
              "      <td>Washington</td>\n",
              "      <td>63269</td>\n",
              "      <td>48.051764</td>\n",
              "      <td>-122.177082</td>\n",
              "    </tr>\n",
              "    <tr>\n",
              "      <th>Perris</th>\n",
              "      <td>California</td>\n",
              "      <td>72326</td>\n",
              "      <td>33.782519</td>\n",
              "      <td>-117.228648</td>\n",
              "    </tr>\n",
              "    <tr>\n",
              "      <th>Cleveland</th>\n",
              "      <td>Ohio</td>\n",
              "      <td>390113</td>\n",
              "      <td>41.499320</td>\n",
              "      <td>-81.694361</td>\n",
              "    </tr>\n",
              "    <tr>\n",
              "      <th>Worcester</th>\n",
              "      <td>Massachusetts</td>\n",
              "      <td>182544</td>\n",
              "      <td>42.262593</td>\n",
              "      <td>-71.802293</td>\n",
              "    </tr>\n",
              "    <tr>\n",
              "      <th>Columbia</th>\n",
              "      <td>South Carolina</td>\n",
              "      <td>133358</td>\n",
              "      <td>34.000710</td>\n",
              "      <td>-81.034814</td>\n",
              "    </tr>\n",
              "  </tbody>\n",
              "</table>\n",
              "</div>"
            ],
            "text/plain": [
              "                     State  Population        lat         lon\n",
              "City                                                         \n",
              "Marysville      Washington       63269  48.051764 -122.177082\n",
              "Perris          California       72326  33.782519 -117.228648\n",
              "Cleveland             Ohio      390113  41.499320  -81.694361\n",
              "Worcester    Massachusetts      182544  42.262593  -71.802293\n",
              "Columbia    South Carolina      133358  34.000710  -81.034814"
            ]
          },
          "execution_count": 338,
          "metadata": {},
          "output_type": "execute_result"
        }
      ],
      "source": [
        "us_cities = None\n",
        "try:\n",
        "    csv_url = \"https://raw.githubusercontent.com/plotly/datasets/master/us-cities-top-1k.csv\"\n",
        "    us_cities = pd.read_csv(csv_url, index_col=0)\n",
        "    us_cities = us_cities.head()\n",
        "except IOError as e:\n",
        "    print(e)\n",
        "us_cities"
      ]
    },
    {
      "cell_type": "markdown",
      "metadata": {
        "id": "lACLsX1ge3FV"
      },
      "source": [
        "이외에도 많은 옵션이 있습니다. 특히 datetime 포맷에 관련된 옵션이 많습니다. 더 자세한 내용은 온라인 [문서](http://pandas.pydata.org/pandas-docs/stable/io.html)를 참고하세요."
      ]
    },
    {
      "cell_type": "markdown",
      "metadata": {
        "id": "IAEs7Z3oe3FV"
      },
      "source": [
        "# `DataFrame` 합치기\n",
        "\n",
        "## SQL 조인\n",
        "\n",
        "판다스의 강력한 기능 중 하나는 `DataFrame`에 대해 SQL 같은 조인(join)을 수행할 수 있는 것입니다. 여러 종류의 조인이 지원됩니다. 이너 조인(inner join), 레프트/라이트 아우터 조인(left/right outer join), 풀 조인(full join)입니다. 이에 대해 알아 보기 위해 간단한 `DataFrame`을 만들어 보죠:"
      ]
    },
    {
      "cell_type": "code",
      "execution_count": 339,
      "metadata": {
        "id": "JxtPRbiCe3FV",
        "outputId": "43ea19b2-4800-4645-905e-6c0ad799b94d"
      },
      "outputs": [
        {
          "data": {
            "text/html": [
              "<div>\n",
              "<style scoped>\n",
              "    .dataframe tbody tr th:only-of-type {\n",
              "        vertical-align: middle;\n",
              "    }\n",
              "\n",
              "    .dataframe tbody tr th {\n",
              "        vertical-align: top;\n",
              "    }\n",
              "\n",
              "    .dataframe thead th {\n",
              "        text-align: right;\n",
              "    }\n",
              "</style>\n",
              "<table border=\"1\" class=\"dataframe\">\n",
              "  <thead>\n",
              "    <tr style=\"text-align: right;\">\n",
              "      <th></th>\n",
              "      <th>state</th>\n",
              "      <th>city</th>\n",
              "      <th>lat</th>\n",
              "      <th>lng</th>\n",
              "    </tr>\n",
              "  </thead>\n",
              "  <tbody>\n",
              "    <tr>\n",
              "      <th>0</th>\n",
              "      <td>CA</td>\n",
              "      <td>San Francisco</td>\n",
              "      <td>37.781334</td>\n",
              "      <td>-122.416728</td>\n",
              "    </tr>\n",
              "    <tr>\n",
              "      <th>1</th>\n",
              "      <td>NY</td>\n",
              "      <td>New York</td>\n",
              "      <td>40.705649</td>\n",
              "      <td>-74.008344</td>\n",
              "    </tr>\n",
              "    <tr>\n",
              "      <th>2</th>\n",
              "      <td>FL</td>\n",
              "      <td>Miami</td>\n",
              "      <td>25.791100</td>\n",
              "      <td>-80.320733</td>\n",
              "    </tr>\n",
              "    <tr>\n",
              "      <th>3</th>\n",
              "      <td>OH</td>\n",
              "      <td>Cleveland</td>\n",
              "      <td>41.473508</td>\n",
              "      <td>-81.739791</td>\n",
              "    </tr>\n",
              "    <tr>\n",
              "      <th>4</th>\n",
              "      <td>UT</td>\n",
              "      <td>Salt Lake City</td>\n",
              "      <td>40.755851</td>\n",
              "      <td>-111.896657</td>\n",
              "    </tr>\n",
              "  </tbody>\n",
              "</table>\n",
              "</div>"
            ],
            "text/plain": [
              "  state            city        lat         lng\n",
              "0    CA   San Francisco  37.781334 -122.416728\n",
              "1    NY        New York  40.705649  -74.008344\n",
              "2    FL           Miami  25.791100  -80.320733\n",
              "3    OH       Cleveland  41.473508  -81.739791\n",
              "4    UT  Salt Lake City  40.755851 -111.896657"
            ]
          },
          "execution_count": 339,
          "metadata": {},
          "output_type": "execute_result"
        }
      ],
      "source": [
        "city_loc = pd.DataFrame(\n",
        "    [\n",
        "        [\"CA\", \"San Francisco\", 37.781334, -122.416728],\n",
        "        [\"NY\", \"New York\", 40.705649, -74.008344],\n",
        "        [\"FL\", \"Miami\", 25.791100, -80.320733],\n",
        "        [\"OH\", \"Cleveland\", 41.473508, -81.739791],\n",
        "        [\"UT\", \"Salt Lake City\", 40.755851, -111.896657]\n",
        "    ], columns=[\"state\", \"city\", \"lat\", \"lng\"])\n",
        "city_loc"
      ]
    },
    {
      "cell_type": "code",
      "execution_count": 340,
      "metadata": {
        "id": "eQdTCzq6e3FW",
        "outputId": "0b0a09f5-9fa1-4a64-bb0a-602cfc4ab1b0"
      },
      "outputs": [
        {
          "data": {
            "text/html": [
              "<div>\n",
              "<style scoped>\n",
              "    .dataframe tbody tr th:only-of-type {\n",
              "        vertical-align: middle;\n",
              "    }\n",
              "\n",
              "    .dataframe tbody tr th {\n",
              "        vertical-align: top;\n",
              "    }\n",
              "\n",
              "    .dataframe thead th {\n",
              "        text-align: right;\n",
              "    }\n",
              "</style>\n",
              "<table border=\"1\" class=\"dataframe\">\n",
              "  <thead>\n",
              "    <tr style=\"text-align: right;\">\n",
              "      <th></th>\n",
              "      <th>population</th>\n",
              "      <th>city</th>\n",
              "      <th>state</th>\n",
              "    </tr>\n",
              "  </thead>\n",
              "  <tbody>\n",
              "    <tr>\n",
              "      <th>3</th>\n",
              "      <td>808976</td>\n",
              "      <td>San Francisco</td>\n",
              "      <td>California</td>\n",
              "    </tr>\n",
              "    <tr>\n",
              "      <th>4</th>\n",
              "      <td>8363710</td>\n",
              "      <td>New York</td>\n",
              "      <td>New-York</td>\n",
              "    </tr>\n",
              "    <tr>\n",
              "      <th>5</th>\n",
              "      <td>413201</td>\n",
              "      <td>Miami</td>\n",
              "      <td>Florida</td>\n",
              "    </tr>\n",
              "    <tr>\n",
              "      <th>6</th>\n",
              "      <td>2242193</td>\n",
              "      <td>Houston</td>\n",
              "      <td>Texas</td>\n",
              "    </tr>\n",
              "  </tbody>\n",
              "</table>\n",
              "</div>"
            ],
            "text/plain": [
              "   population           city       state\n",
              "3      808976  San Francisco  California\n",
              "4     8363710       New York    New-York\n",
              "5      413201          Miami     Florida\n",
              "6     2242193        Houston       Texas"
            ]
          },
          "execution_count": 340,
          "metadata": {},
          "output_type": "execute_result"
        }
      ],
      "source": [
        "city_pop = pd.DataFrame(\n",
        "    [\n",
        "        [808976, \"San Francisco\", \"California\"],\n",
        "        [8363710, \"New York\", \"New-York\"],\n",
        "        [413201, \"Miami\", \"Florida\"],\n",
        "        [2242193, \"Houston\", \"Texas\"]\n",
        "    ], index=[3,4,5,6], columns=[\"population\", \"city\", \"state\"])\n",
        "city_pop"
      ]
    },
    {
      "cell_type": "markdown",
      "metadata": {
        "id": "onm7MH6Ge3FW"
      },
      "source": [
        "이제 `merge()` 함수를 사용해 이 `DataFrame`을 조인해 보죠:"
      ]
    },
    {
      "cell_type": "code",
      "execution_count": 341,
      "metadata": {
        "id": "oNUBTRVXe3FW",
        "outputId": "681fe8a3-5cd9-4e29-ba6c-14e94063dd4e"
      },
      "outputs": [
        {
          "data": {
            "text/html": [
              "<div>\n",
              "<style scoped>\n",
              "    .dataframe tbody tr th:only-of-type {\n",
              "        vertical-align: middle;\n",
              "    }\n",
              "\n",
              "    .dataframe tbody tr th {\n",
              "        vertical-align: top;\n",
              "    }\n",
              "\n",
              "    .dataframe thead th {\n",
              "        text-align: right;\n",
              "    }\n",
              "</style>\n",
              "<table border=\"1\" class=\"dataframe\">\n",
              "  <thead>\n",
              "    <tr style=\"text-align: right;\">\n",
              "      <th></th>\n",
              "      <th>state_x</th>\n",
              "      <th>city</th>\n",
              "      <th>lat</th>\n",
              "      <th>lng</th>\n",
              "      <th>population</th>\n",
              "      <th>state_y</th>\n",
              "    </tr>\n",
              "  </thead>\n",
              "  <tbody>\n",
              "    <tr>\n",
              "      <th>0</th>\n",
              "      <td>CA</td>\n",
              "      <td>San Francisco</td>\n",
              "      <td>37.781334</td>\n",
              "      <td>-122.416728</td>\n",
              "      <td>808976</td>\n",
              "      <td>California</td>\n",
              "    </tr>\n",
              "    <tr>\n",
              "      <th>1</th>\n",
              "      <td>NY</td>\n",
              "      <td>New York</td>\n",
              "      <td>40.705649</td>\n",
              "      <td>-74.008344</td>\n",
              "      <td>8363710</td>\n",
              "      <td>New-York</td>\n",
              "    </tr>\n",
              "    <tr>\n",
              "      <th>2</th>\n",
              "      <td>FL</td>\n",
              "      <td>Miami</td>\n",
              "      <td>25.791100</td>\n",
              "      <td>-80.320733</td>\n",
              "      <td>413201</td>\n",
              "      <td>Florida</td>\n",
              "    </tr>\n",
              "  </tbody>\n",
              "</table>\n",
              "</div>"
            ],
            "text/plain": [
              "  state_x           city        lat         lng  population     state_y\n",
              "0      CA  San Francisco  37.781334 -122.416728      808976  California\n",
              "1      NY       New York  40.705649  -74.008344     8363710    New-York\n",
              "2      FL          Miami  25.791100  -80.320733      413201     Florida"
            ]
          },
          "execution_count": 341,
          "metadata": {},
          "output_type": "execute_result"
        }
      ],
      "source": [
        "pd.merge(left=city_loc, right=city_pop, on=\"city\")"
      ]
    },
    {
      "cell_type": "markdown",
      "metadata": {
        "id": "7S6jOY3je3FW"
      },
      "source": [
        "두 `DataFrame`은 `state`란 이름의 열을 가지고 있으므로 `state_x`와 `state_y`로 이름이 바뀌었습니다.\n",
        "\n",
        "또한 Cleveland, Salt Lake City, Houston은 두 `DataFrame`에 모두 존재하지 않기 때문에 삭제되었습니다. SQL의 `INNER JOIN`과 동일합니다. 도시를 삭제하지 않고 `NaN`으로 채우는 `FULL OUTER JOIN`을 원하면 `how=\"outer\"`로 지정합니다:"
      ]
    },
    {
      "cell_type": "code",
      "execution_count": 342,
      "metadata": {
        "id": "kRZTJEIBe3FW",
        "outputId": "5114da81-de96-4630-8b89-db96ec8b1c65"
      },
      "outputs": [
        {
          "data": {
            "text/html": [
              "<div>\n",
              "<style scoped>\n",
              "    .dataframe tbody tr th:only-of-type {\n",
              "        vertical-align: middle;\n",
              "    }\n",
              "\n",
              "    .dataframe tbody tr th {\n",
              "        vertical-align: top;\n",
              "    }\n",
              "\n",
              "    .dataframe thead th {\n",
              "        text-align: right;\n",
              "    }\n",
              "</style>\n",
              "<table border=\"1\" class=\"dataframe\">\n",
              "  <thead>\n",
              "    <tr style=\"text-align: right;\">\n",
              "      <th></th>\n",
              "      <th>state_x</th>\n",
              "      <th>city</th>\n",
              "      <th>lat</th>\n",
              "      <th>lng</th>\n",
              "      <th>population</th>\n",
              "      <th>state_y</th>\n",
              "    </tr>\n",
              "  </thead>\n",
              "  <tbody>\n",
              "    <tr>\n",
              "      <th>0</th>\n",
              "      <td>CA</td>\n",
              "      <td>San Francisco</td>\n",
              "      <td>37.781334</td>\n",
              "      <td>-122.416728</td>\n",
              "      <td>808976.0</td>\n",
              "      <td>California</td>\n",
              "    </tr>\n",
              "    <tr>\n",
              "      <th>1</th>\n",
              "      <td>NY</td>\n",
              "      <td>New York</td>\n",
              "      <td>40.705649</td>\n",
              "      <td>-74.008344</td>\n",
              "      <td>8363710.0</td>\n",
              "      <td>New-York</td>\n",
              "    </tr>\n",
              "    <tr>\n",
              "      <th>2</th>\n",
              "      <td>FL</td>\n",
              "      <td>Miami</td>\n",
              "      <td>25.791100</td>\n",
              "      <td>-80.320733</td>\n",
              "      <td>413201.0</td>\n",
              "      <td>Florida</td>\n",
              "    </tr>\n",
              "    <tr>\n",
              "      <th>3</th>\n",
              "      <td>OH</td>\n",
              "      <td>Cleveland</td>\n",
              "      <td>41.473508</td>\n",
              "      <td>-81.739791</td>\n",
              "      <td>NaN</td>\n",
              "      <td>NaN</td>\n",
              "    </tr>\n",
              "    <tr>\n",
              "      <th>4</th>\n",
              "      <td>UT</td>\n",
              "      <td>Salt Lake City</td>\n",
              "      <td>40.755851</td>\n",
              "      <td>-111.896657</td>\n",
              "      <td>NaN</td>\n",
              "      <td>NaN</td>\n",
              "    </tr>\n",
              "    <tr>\n",
              "      <th>5</th>\n",
              "      <td>NaN</td>\n",
              "      <td>Houston</td>\n",
              "      <td>NaN</td>\n",
              "      <td>NaN</td>\n",
              "      <td>2242193.0</td>\n",
              "      <td>Texas</td>\n",
              "    </tr>\n",
              "  </tbody>\n",
              "</table>\n",
              "</div>"
            ],
            "text/plain": [
              "  state_x            city        lat         lng  population     state_y\n",
              "0      CA   San Francisco  37.781334 -122.416728    808976.0  California\n",
              "1      NY        New York  40.705649  -74.008344   8363710.0    New-York\n",
              "2      FL           Miami  25.791100  -80.320733    413201.0     Florida\n",
              "3      OH       Cleveland  41.473508  -81.739791         NaN         NaN\n",
              "4      UT  Salt Lake City  40.755851 -111.896657         NaN         NaN\n",
              "5     NaN         Houston        NaN         NaN   2242193.0       Texas"
            ]
          },
          "execution_count": 342,
          "metadata": {},
          "output_type": "execute_result"
        }
      ],
      "source": [
        "all_cities = pd.merge(left=city_loc, right=city_pop, on=\"city\", how=\"outer\")\n",
        "all_cities"
      ]
    },
    {
      "cell_type": "markdown",
      "metadata": {
        "id": "q6vC1mI-e3FW"
      },
      "source": [
        "물론 `LEFT OUTER JOIN`은 `how=\"left\"`로 지정할 수 있습니다. 왼쪽의 `DataFrame`에 있는 도시만 남습니다. 비슷하게 `how=\"right\"`는 오른쪽 `DataFrame`에 있는 도시만 결과에 남습니다. 예를 들면:"
      ]
    },
    {
      "cell_type": "code",
      "execution_count": 343,
      "metadata": {
        "id": "_0bEf9kGe3FW",
        "outputId": "a1f3d0e3-ef81-4d48-abac-33199f3e4488"
      },
      "outputs": [
        {
          "data": {
            "text/html": [
              "<div>\n",
              "<style scoped>\n",
              "    .dataframe tbody tr th:only-of-type {\n",
              "        vertical-align: middle;\n",
              "    }\n",
              "\n",
              "    .dataframe tbody tr th {\n",
              "        vertical-align: top;\n",
              "    }\n",
              "\n",
              "    .dataframe thead th {\n",
              "        text-align: right;\n",
              "    }\n",
              "</style>\n",
              "<table border=\"1\" class=\"dataframe\">\n",
              "  <thead>\n",
              "    <tr style=\"text-align: right;\">\n",
              "      <th></th>\n",
              "      <th>state_x</th>\n",
              "      <th>city</th>\n",
              "      <th>lat</th>\n",
              "      <th>lng</th>\n",
              "      <th>population</th>\n",
              "      <th>state_y</th>\n",
              "    </tr>\n",
              "  </thead>\n",
              "  <tbody>\n",
              "    <tr>\n",
              "      <th>0</th>\n",
              "      <td>CA</td>\n",
              "      <td>San Francisco</td>\n",
              "      <td>37.781334</td>\n",
              "      <td>-122.416728</td>\n",
              "      <td>808976</td>\n",
              "      <td>California</td>\n",
              "    </tr>\n",
              "    <tr>\n",
              "      <th>1</th>\n",
              "      <td>NY</td>\n",
              "      <td>New York</td>\n",
              "      <td>40.705649</td>\n",
              "      <td>-74.008344</td>\n",
              "      <td>8363710</td>\n",
              "      <td>New-York</td>\n",
              "    </tr>\n",
              "    <tr>\n",
              "      <th>2</th>\n",
              "      <td>FL</td>\n",
              "      <td>Miami</td>\n",
              "      <td>25.791100</td>\n",
              "      <td>-80.320733</td>\n",
              "      <td>413201</td>\n",
              "      <td>Florida</td>\n",
              "    </tr>\n",
              "    <tr>\n",
              "      <th>3</th>\n",
              "      <td>NaN</td>\n",
              "      <td>Houston</td>\n",
              "      <td>NaN</td>\n",
              "      <td>NaN</td>\n",
              "      <td>2242193</td>\n",
              "      <td>Texas</td>\n",
              "    </tr>\n",
              "  </tbody>\n",
              "</table>\n",
              "</div>"
            ],
            "text/plain": [
              "  state_x           city        lat         lng  population     state_y\n",
              "0      CA  San Francisco  37.781334 -122.416728      808976  California\n",
              "1      NY       New York  40.705649  -74.008344     8363710    New-York\n",
              "2      FL          Miami  25.791100  -80.320733      413201     Florida\n",
              "3     NaN        Houston        NaN         NaN     2242193       Texas"
            ]
          },
          "execution_count": 343,
          "metadata": {},
          "output_type": "execute_result"
        }
      ],
      "source": [
        "pd.merge(left=city_loc, right=city_pop, on=\"city\", how=\"right\")"
      ]
    },
    {
      "cell_type": "markdown",
      "metadata": {
        "id": "G9iRTdXze3FW"
      },
      "source": [
        "조인할 키가 `DataFrame` 인덱스라면 `left_index=True`나 `right_index=True`로 지정해야 합니다. 키 열의 이름이 다르면 `left_on`과 `right_on`을 사용합니다. 예를 들어:"
      ]
    },
    {
      "cell_type": "code",
      "execution_count": 344,
      "metadata": {
        "id": "LRNWd_EQe3FW",
        "outputId": "5bb9016f-5894-40a0-ac19-759b49308f9c"
      },
      "outputs": [
        {
          "data": {
            "text/html": [
              "<div>\n",
              "<style scoped>\n",
              "    .dataframe tbody tr th:only-of-type {\n",
              "        vertical-align: middle;\n",
              "    }\n",
              "\n",
              "    .dataframe tbody tr th {\n",
              "        vertical-align: top;\n",
              "    }\n",
              "\n",
              "    .dataframe thead th {\n",
              "        text-align: right;\n",
              "    }\n",
              "</style>\n",
              "<table border=\"1\" class=\"dataframe\">\n",
              "  <thead>\n",
              "    <tr style=\"text-align: right;\">\n",
              "      <th></th>\n",
              "      <th>population</th>\n",
              "      <th>name</th>\n",
              "      <th>state</th>\n",
              "    </tr>\n",
              "  </thead>\n",
              "  <tbody>\n",
              "    <tr>\n",
              "      <th>3</th>\n",
              "      <td>808976</td>\n",
              "      <td>San Francisco</td>\n",
              "      <td>California</td>\n",
              "    </tr>\n",
              "    <tr>\n",
              "      <th>4</th>\n",
              "      <td>8363710</td>\n",
              "      <td>New York</td>\n",
              "      <td>New-York</td>\n",
              "    </tr>\n",
              "    <tr>\n",
              "      <th>5</th>\n",
              "      <td>413201</td>\n",
              "      <td>Miami</td>\n",
              "      <td>Florida</td>\n",
              "    </tr>\n",
              "    <tr>\n",
              "      <th>6</th>\n",
              "      <td>2242193</td>\n",
              "      <td>Houston</td>\n",
              "      <td>Texas</td>\n",
              "    </tr>\n",
              "  </tbody>\n",
              "</table>\n",
              "</div>"
            ],
            "text/plain": [
              "   population           name       state\n",
              "3      808976  San Francisco  California\n",
              "4     8363710       New York    New-York\n",
              "5      413201          Miami     Florida\n",
              "6     2242193        Houston       Texas"
            ]
          },
          "execution_count": 344,
          "metadata": {},
          "output_type": "execute_result"
        }
      ],
      "source": [
        "city_pop2 = city_pop.copy()\n",
        "city_pop2.columns = [\"population\", \"name\", \"state\"]\n",
        "city_pop2"
      ]
    },
    {
      "cell_type": "code",
      "execution_count": 345,
      "metadata": {
        "id": "MPCrw2nGmu6G",
        "outputId": "217bb2a8-5cf7-44da-b1c8-06a60b7f7022"
      },
      "outputs": [
        {
          "data": {
            "text/html": [
              "<div>\n",
              "<style scoped>\n",
              "    .dataframe tbody tr th:only-of-type {\n",
              "        vertical-align: middle;\n",
              "    }\n",
              "\n",
              "    .dataframe tbody tr th {\n",
              "        vertical-align: top;\n",
              "    }\n",
              "\n",
              "    .dataframe thead th {\n",
              "        text-align: right;\n",
              "    }\n",
              "</style>\n",
              "<table border=\"1\" class=\"dataframe\">\n",
              "  <thead>\n",
              "    <tr style=\"text-align: right;\">\n",
              "      <th></th>\n",
              "      <th>state_x</th>\n",
              "      <th>city</th>\n",
              "      <th>lat</th>\n",
              "      <th>lng</th>\n",
              "      <th>population</th>\n",
              "      <th>name</th>\n",
              "      <th>state_y</th>\n",
              "    </tr>\n",
              "  </thead>\n",
              "  <tbody>\n",
              "    <tr>\n",
              "      <th>0</th>\n",
              "      <td>CA</td>\n",
              "      <td>San Francisco</td>\n",
              "      <td>37.781334</td>\n",
              "      <td>-122.416728</td>\n",
              "      <td>808976</td>\n",
              "      <td>San Francisco</td>\n",
              "      <td>California</td>\n",
              "    </tr>\n",
              "    <tr>\n",
              "      <th>1</th>\n",
              "      <td>NY</td>\n",
              "      <td>New York</td>\n",
              "      <td>40.705649</td>\n",
              "      <td>-74.008344</td>\n",
              "      <td>8363710</td>\n",
              "      <td>New York</td>\n",
              "      <td>New-York</td>\n",
              "    </tr>\n",
              "    <tr>\n",
              "      <th>2</th>\n",
              "      <td>FL</td>\n",
              "      <td>Miami</td>\n",
              "      <td>25.791100</td>\n",
              "      <td>-80.320733</td>\n",
              "      <td>413201</td>\n",
              "      <td>Miami</td>\n",
              "      <td>Florida</td>\n",
              "    </tr>\n",
              "  </tbody>\n",
              "</table>\n",
              "</div>"
            ],
            "text/plain": [
              "  state_x           city        lat         lng  population           name  \\\n",
              "0      CA  San Francisco  37.781334 -122.416728      808976  San Francisco   \n",
              "1      NY       New York  40.705649  -74.008344     8363710       New York   \n",
              "2      FL          Miami  25.791100  -80.320733      413201          Miami   \n",
              "\n",
              "      state_y  \n",
              "0  California  \n",
              "1    New-York  \n",
              "2     Florida  "
            ]
          },
          "execution_count": 345,
          "metadata": {},
          "output_type": "execute_result"
        }
      ],
      "source": [
        "pd.merge(left=city_loc, right=city_pop2, left_on=\"city\", right_on=\"name\")"
      ]
    },
    {
      "cell_type": "markdown",
      "metadata": {
        "id": "Sha5W80Xe3FW"
      },
      "source": [
        "## 연결\n",
        "\n",
        "`DataFrame`을 조인하는 대신 그냥 연결할 수도 있습니다. `concat()` 함수가 하는 일입니다:"
      ]
    },
    {
      "cell_type": "code",
      "execution_count": 346,
      "metadata": {
        "id": "UEwAe3MWmu6G",
        "outputId": "1262f845-c107-4f0b-9102-fd5e2f1d7f5b"
      },
      "outputs": [
        {
          "data": {
            "text/html": [
              "<div>\n",
              "<style scoped>\n",
              "    .dataframe tbody tr th:only-of-type {\n",
              "        vertical-align: middle;\n",
              "    }\n",
              "\n",
              "    .dataframe tbody tr th {\n",
              "        vertical-align: top;\n",
              "    }\n",
              "\n",
              "    .dataframe thead th {\n",
              "        text-align: right;\n",
              "    }\n",
              "</style>\n",
              "<table border=\"1\" class=\"dataframe\">\n",
              "  <thead>\n",
              "    <tr style=\"text-align: right;\">\n",
              "      <th></th>\n",
              "      <th>state</th>\n",
              "      <th>city</th>\n",
              "      <th>lat</th>\n",
              "      <th>lng</th>\n",
              "    </tr>\n",
              "  </thead>\n",
              "  <tbody>\n",
              "    <tr>\n",
              "      <th>0</th>\n",
              "      <td>CA</td>\n",
              "      <td>San Francisco</td>\n",
              "      <td>37.781334</td>\n",
              "      <td>-122.416728</td>\n",
              "    </tr>\n",
              "    <tr>\n",
              "      <th>1</th>\n",
              "      <td>NY</td>\n",
              "      <td>New York</td>\n",
              "      <td>40.705649</td>\n",
              "      <td>-74.008344</td>\n",
              "    </tr>\n",
              "    <tr>\n",
              "      <th>2</th>\n",
              "      <td>FL</td>\n",
              "      <td>Miami</td>\n",
              "      <td>25.791100</td>\n",
              "      <td>-80.320733</td>\n",
              "    </tr>\n",
              "    <tr>\n",
              "      <th>3</th>\n",
              "      <td>OH</td>\n",
              "      <td>Cleveland</td>\n",
              "      <td>41.473508</td>\n",
              "      <td>-81.739791</td>\n",
              "    </tr>\n",
              "    <tr>\n",
              "      <th>4</th>\n",
              "      <td>UT</td>\n",
              "      <td>Salt Lake City</td>\n",
              "      <td>40.755851</td>\n",
              "      <td>-111.896657</td>\n",
              "    </tr>\n",
              "  </tbody>\n",
              "</table>\n",
              "</div>"
            ],
            "text/plain": [
              "  state            city        lat         lng\n",
              "0    CA   San Francisco  37.781334 -122.416728\n",
              "1    NY        New York  40.705649  -74.008344\n",
              "2    FL           Miami  25.791100  -80.320733\n",
              "3    OH       Cleveland  41.473508  -81.739791\n",
              "4    UT  Salt Lake City  40.755851 -111.896657"
            ]
          },
          "execution_count": 346,
          "metadata": {},
          "output_type": "execute_result"
        }
      ],
      "source": [
        "city_loc"
      ]
    },
    {
      "cell_type": "code",
      "execution_count": 347,
      "metadata": {
        "id": "6g3qUGGZmu6G",
        "outputId": "b40c219e-8abc-40ad-9da0-87a9178c900e"
      },
      "outputs": [
        {
          "data": {
            "text/html": [
              "<div>\n",
              "<style scoped>\n",
              "    .dataframe tbody tr th:only-of-type {\n",
              "        vertical-align: middle;\n",
              "    }\n",
              "\n",
              "    .dataframe tbody tr th {\n",
              "        vertical-align: top;\n",
              "    }\n",
              "\n",
              "    .dataframe thead th {\n",
              "        text-align: right;\n",
              "    }\n",
              "</style>\n",
              "<table border=\"1\" class=\"dataframe\">\n",
              "  <thead>\n",
              "    <tr style=\"text-align: right;\">\n",
              "      <th></th>\n",
              "      <th>population</th>\n",
              "      <th>city</th>\n",
              "      <th>state</th>\n",
              "    </tr>\n",
              "  </thead>\n",
              "  <tbody>\n",
              "    <tr>\n",
              "      <th>3</th>\n",
              "      <td>808976</td>\n",
              "      <td>San Francisco</td>\n",
              "      <td>California</td>\n",
              "    </tr>\n",
              "    <tr>\n",
              "      <th>4</th>\n",
              "      <td>8363710</td>\n",
              "      <td>New York</td>\n",
              "      <td>New-York</td>\n",
              "    </tr>\n",
              "    <tr>\n",
              "      <th>5</th>\n",
              "      <td>413201</td>\n",
              "      <td>Miami</td>\n",
              "      <td>Florida</td>\n",
              "    </tr>\n",
              "    <tr>\n",
              "      <th>6</th>\n",
              "      <td>2242193</td>\n",
              "      <td>Houston</td>\n",
              "      <td>Texas</td>\n",
              "    </tr>\n",
              "  </tbody>\n",
              "</table>\n",
              "</div>"
            ],
            "text/plain": [
              "   population           city       state\n",
              "3      808976  San Francisco  California\n",
              "4     8363710       New York    New-York\n",
              "5      413201          Miami     Florida\n",
              "6     2242193        Houston       Texas"
            ]
          },
          "execution_count": 347,
          "metadata": {},
          "output_type": "execute_result"
        }
      ],
      "source": [
        "city_pop"
      ]
    },
    {
      "cell_type": "code",
      "execution_count": 348,
      "metadata": {
        "id": "ISXwZ_mVe3FX",
        "outputId": "d078d836-06c2-4850-8d6e-5a15bf4c840b"
      },
      "outputs": [
        {
          "data": {
            "text/html": [
              "<div>\n",
              "<style scoped>\n",
              "    .dataframe tbody tr th:only-of-type {\n",
              "        vertical-align: middle;\n",
              "    }\n",
              "\n",
              "    .dataframe tbody tr th {\n",
              "        vertical-align: top;\n",
              "    }\n",
              "\n",
              "    .dataframe thead th {\n",
              "        text-align: right;\n",
              "    }\n",
              "</style>\n",
              "<table border=\"1\" class=\"dataframe\">\n",
              "  <thead>\n",
              "    <tr style=\"text-align: right;\">\n",
              "      <th></th>\n",
              "      <th>state</th>\n",
              "      <th>city</th>\n",
              "      <th>lat</th>\n",
              "      <th>lng</th>\n",
              "      <th>population</th>\n",
              "    </tr>\n",
              "  </thead>\n",
              "  <tbody>\n",
              "    <tr>\n",
              "      <th>0</th>\n",
              "      <td>CA</td>\n",
              "      <td>San Francisco</td>\n",
              "      <td>37.781334</td>\n",
              "      <td>-122.416728</td>\n",
              "      <td>NaN</td>\n",
              "    </tr>\n",
              "    <tr>\n",
              "      <th>1</th>\n",
              "      <td>NY</td>\n",
              "      <td>New York</td>\n",
              "      <td>40.705649</td>\n",
              "      <td>-74.008344</td>\n",
              "      <td>NaN</td>\n",
              "    </tr>\n",
              "    <tr>\n",
              "      <th>2</th>\n",
              "      <td>FL</td>\n",
              "      <td>Miami</td>\n",
              "      <td>25.791100</td>\n",
              "      <td>-80.320733</td>\n",
              "      <td>NaN</td>\n",
              "    </tr>\n",
              "    <tr>\n",
              "      <th>3</th>\n",
              "      <td>OH</td>\n",
              "      <td>Cleveland</td>\n",
              "      <td>41.473508</td>\n",
              "      <td>-81.739791</td>\n",
              "      <td>NaN</td>\n",
              "    </tr>\n",
              "    <tr>\n",
              "      <th>4</th>\n",
              "      <td>UT</td>\n",
              "      <td>Salt Lake City</td>\n",
              "      <td>40.755851</td>\n",
              "      <td>-111.896657</td>\n",
              "      <td>NaN</td>\n",
              "    </tr>\n",
              "    <tr>\n",
              "      <th>3</th>\n",
              "      <td>California</td>\n",
              "      <td>San Francisco</td>\n",
              "      <td>NaN</td>\n",
              "      <td>NaN</td>\n",
              "      <td>808976.0</td>\n",
              "    </tr>\n",
              "    <tr>\n",
              "      <th>4</th>\n",
              "      <td>New-York</td>\n",
              "      <td>New York</td>\n",
              "      <td>NaN</td>\n",
              "      <td>NaN</td>\n",
              "      <td>8363710.0</td>\n",
              "    </tr>\n",
              "    <tr>\n",
              "      <th>5</th>\n",
              "      <td>Florida</td>\n",
              "      <td>Miami</td>\n",
              "      <td>NaN</td>\n",
              "      <td>NaN</td>\n",
              "      <td>413201.0</td>\n",
              "    </tr>\n",
              "    <tr>\n",
              "      <th>6</th>\n",
              "      <td>Texas</td>\n",
              "      <td>Houston</td>\n",
              "      <td>NaN</td>\n",
              "      <td>NaN</td>\n",
              "      <td>2242193.0</td>\n",
              "    </tr>\n",
              "  </tbody>\n",
              "</table>\n",
              "</div>"
            ],
            "text/plain": [
              "        state            city        lat         lng  population\n",
              "0          CA   San Francisco  37.781334 -122.416728         NaN\n",
              "1          NY        New York  40.705649  -74.008344         NaN\n",
              "2          FL           Miami  25.791100  -80.320733         NaN\n",
              "3          OH       Cleveland  41.473508  -81.739791         NaN\n",
              "4          UT  Salt Lake City  40.755851 -111.896657         NaN\n",
              "3  California   San Francisco        NaN         NaN    808976.0\n",
              "4    New-York        New York        NaN         NaN   8363710.0\n",
              "5     Florida           Miami        NaN         NaN    413201.0\n",
              "6       Texas         Houston        NaN         NaN   2242193.0"
            ]
          },
          "execution_count": 348,
          "metadata": {},
          "output_type": "execute_result"
        }
      ],
      "source": [
        "result_concat = pd.concat([city_loc, city_pop])\n",
        "result_concat"
      ]
    },
    {
      "cell_type": "markdown",
      "metadata": {
        "id": "rNDg6Jgke3FX"
      },
      "source": [
        "이 연산은 (행을 따라) 수직적으로 데이터를 연결하고 (열을 따라) 수평으로 연결하지 않습니다. 이 예에서 동일한 인덱스를 가진 행이 있습니다(예를 들면 3). 판다스는 이를 우아하게 처리합니다:"
      ]
    },
    {
      "cell_type": "code",
      "execution_count": 349,
      "metadata": {
        "id": "feuCsQWde3FX",
        "outputId": "f9bf360b-7fd5-4d9c-b66c-2375b7f4edaa"
      },
      "outputs": [
        {
          "data": {
            "text/html": [
              "<div>\n",
              "<style scoped>\n",
              "    .dataframe tbody tr th:only-of-type {\n",
              "        vertical-align: middle;\n",
              "    }\n",
              "\n",
              "    .dataframe tbody tr th {\n",
              "        vertical-align: top;\n",
              "    }\n",
              "\n",
              "    .dataframe thead th {\n",
              "        text-align: right;\n",
              "    }\n",
              "</style>\n",
              "<table border=\"1\" class=\"dataframe\">\n",
              "  <thead>\n",
              "    <tr style=\"text-align: right;\">\n",
              "      <th></th>\n",
              "      <th>state</th>\n",
              "      <th>city</th>\n",
              "      <th>lat</th>\n",
              "      <th>lng</th>\n",
              "      <th>population</th>\n",
              "    </tr>\n",
              "  </thead>\n",
              "  <tbody>\n",
              "    <tr>\n",
              "      <th>3</th>\n",
              "      <td>OH</td>\n",
              "      <td>Cleveland</td>\n",
              "      <td>41.473508</td>\n",
              "      <td>-81.739791</td>\n",
              "      <td>NaN</td>\n",
              "    </tr>\n",
              "    <tr>\n",
              "      <th>3</th>\n",
              "      <td>California</td>\n",
              "      <td>San Francisco</td>\n",
              "      <td>NaN</td>\n",
              "      <td>NaN</td>\n",
              "      <td>808976.0</td>\n",
              "    </tr>\n",
              "  </tbody>\n",
              "</table>\n",
              "</div>"
            ],
            "text/plain": [
              "        state           city        lat        lng  population\n",
              "3          OH      Cleveland  41.473508 -81.739791         NaN\n",
              "3  California  San Francisco        NaN        NaN    808976.0"
            ]
          },
          "execution_count": 349,
          "metadata": {},
          "output_type": "execute_result"
        }
      ],
      "source": [
        "result_concat.loc[3]"
      ]
    },
    {
      "cell_type": "markdown",
      "metadata": {
        "id": "rL77tggee3FX"
      },
      "source": [
        "또는 인덱스를 무시하도록 설정할 수 있습니다:"
      ]
    },
    {
      "cell_type": "code",
      "execution_count": 350,
      "metadata": {
        "id": "m_hrAP_6e3FX",
        "outputId": "23d57e8a-8f9e-4505-b5dc-c7c6c8d64a38"
      },
      "outputs": [
        {
          "data": {
            "text/html": [
              "<div>\n",
              "<style scoped>\n",
              "    .dataframe tbody tr th:only-of-type {\n",
              "        vertical-align: middle;\n",
              "    }\n",
              "\n",
              "    .dataframe tbody tr th {\n",
              "        vertical-align: top;\n",
              "    }\n",
              "\n",
              "    .dataframe thead th {\n",
              "        text-align: right;\n",
              "    }\n",
              "</style>\n",
              "<table border=\"1\" class=\"dataframe\">\n",
              "  <thead>\n",
              "    <tr style=\"text-align: right;\">\n",
              "      <th></th>\n",
              "      <th>state</th>\n",
              "      <th>city</th>\n",
              "      <th>lat</th>\n",
              "      <th>lng</th>\n",
              "      <th>population</th>\n",
              "    </tr>\n",
              "  </thead>\n",
              "  <tbody>\n",
              "    <tr>\n",
              "      <th>0</th>\n",
              "      <td>CA</td>\n",
              "      <td>San Francisco</td>\n",
              "      <td>37.781334</td>\n",
              "      <td>-122.416728</td>\n",
              "      <td>NaN</td>\n",
              "    </tr>\n",
              "    <tr>\n",
              "      <th>1</th>\n",
              "      <td>NY</td>\n",
              "      <td>New York</td>\n",
              "      <td>40.705649</td>\n",
              "      <td>-74.008344</td>\n",
              "      <td>NaN</td>\n",
              "    </tr>\n",
              "    <tr>\n",
              "      <th>2</th>\n",
              "      <td>FL</td>\n",
              "      <td>Miami</td>\n",
              "      <td>25.791100</td>\n",
              "      <td>-80.320733</td>\n",
              "      <td>NaN</td>\n",
              "    </tr>\n",
              "    <tr>\n",
              "      <th>3</th>\n",
              "      <td>OH</td>\n",
              "      <td>Cleveland</td>\n",
              "      <td>41.473508</td>\n",
              "      <td>-81.739791</td>\n",
              "      <td>NaN</td>\n",
              "    </tr>\n",
              "    <tr>\n",
              "      <th>4</th>\n",
              "      <td>UT</td>\n",
              "      <td>Salt Lake City</td>\n",
              "      <td>40.755851</td>\n",
              "      <td>-111.896657</td>\n",
              "      <td>NaN</td>\n",
              "    </tr>\n",
              "    <tr>\n",
              "      <th>5</th>\n",
              "      <td>California</td>\n",
              "      <td>San Francisco</td>\n",
              "      <td>NaN</td>\n",
              "      <td>NaN</td>\n",
              "      <td>808976.0</td>\n",
              "    </tr>\n",
              "    <tr>\n",
              "      <th>6</th>\n",
              "      <td>New-York</td>\n",
              "      <td>New York</td>\n",
              "      <td>NaN</td>\n",
              "      <td>NaN</td>\n",
              "      <td>8363710.0</td>\n",
              "    </tr>\n",
              "    <tr>\n",
              "      <th>7</th>\n",
              "      <td>Florida</td>\n",
              "      <td>Miami</td>\n",
              "      <td>NaN</td>\n",
              "      <td>NaN</td>\n",
              "      <td>413201.0</td>\n",
              "    </tr>\n",
              "    <tr>\n",
              "      <th>8</th>\n",
              "      <td>Texas</td>\n",
              "      <td>Houston</td>\n",
              "      <td>NaN</td>\n",
              "      <td>NaN</td>\n",
              "      <td>2242193.0</td>\n",
              "    </tr>\n",
              "  </tbody>\n",
              "</table>\n",
              "</div>"
            ],
            "text/plain": [
              "        state            city        lat         lng  population\n",
              "0          CA   San Francisco  37.781334 -122.416728         NaN\n",
              "1          NY        New York  40.705649  -74.008344         NaN\n",
              "2          FL           Miami  25.791100  -80.320733         NaN\n",
              "3          OH       Cleveland  41.473508  -81.739791         NaN\n",
              "4          UT  Salt Lake City  40.755851 -111.896657         NaN\n",
              "5  California   San Francisco        NaN         NaN    808976.0\n",
              "6    New-York        New York        NaN         NaN   8363710.0\n",
              "7     Florida           Miami        NaN         NaN    413201.0\n",
              "8       Texas         Houston        NaN         NaN   2242193.0"
            ]
          },
          "execution_count": 350,
          "metadata": {},
          "output_type": "execute_result"
        }
      ],
      "source": [
        "pd.concat([city_loc, city_pop], ignore_index=True)"
      ]
    },
    {
      "cell_type": "markdown",
      "metadata": {
        "id": "e1R28UVhe3FX"
      },
      "source": [
        "한 `DataFrame`에 열이 없을 때 `NaN`이 채워져 있는 것처럼 동작합니다. `join=\"inner\"`로 설정하면 *양쪽*의 `DataFrame`에 존재하는 열만 반환됩니다:"
      ]
    },
    {
      "cell_type": "code",
      "execution_count": 351,
      "metadata": {
        "id": "ukQlZ7uUe3FX",
        "outputId": "8a0bf2af-9a20-4c40-fd51-a3359c3cbf09"
      },
      "outputs": [
        {
          "data": {
            "text/html": [
              "<div>\n",
              "<style scoped>\n",
              "    .dataframe tbody tr th:only-of-type {\n",
              "        vertical-align: middle;\n",
              "    }\n",
              "\n",
              "    .dataframe tbody tr th {\n",
              "        vertical-align: top;\n",
              "    }\n",
              "\n",
              "    .dataframe thead th {\n",
              "        text-align: right;\n",
              "    }\n",
              "</style>\n",
              "<table border=\"1\" class=\"dataframe\">\n",
              "  <thead>\n",
              "    <tr style=\"text-align: right;\">\n",
              "      <th></th>\n",
              "      <th>state</th>\n",
              "      <th>city</th>\n",
              "    </tr>\n",
              "  </thead>\n",
              "  <tbody>\n",
              "    <tr>\n",
              "      <th>0</th>\n",
              "      <td>CA</td>\n",
              "      <td>San Francisco</td>\n",
              "    </tr>\n",
              "    <tr>\n",
              "      <th>1</th>\n",
              "      <td>NY</td>\n",
              "      <td>New York</td>\n",
              "    </tr>\n",
              "    <tr>\n",
              "      <th>2</th>\n",
              "      <td>FL</td>\n",
              "      <td>Miami</td>\n",
              "    </tr>\n",
              "    <tr>\n",
              "      <th>3</th>\n",
              "      <td>OH</td>\n",
              "      <td>Cleveland</td>\n",
              "    </tr>\n",
              "    <tr>\n",
              "      <th>4</th>\n",
              "      <td>UT</td>\n",
              "      <td>Salt Lake City</td>\n",
              "    </tr>\n",
              "    <tr>\n",
              "      <th>3</th>\n",
              "      <td>California</td>\n",
              "      <td>San Francisco</td>\n",
              "    </tr>\n",
              "    <tr>\n",
              "      <th>4</th>\n",
              "      <td>New-York</td>\n",
              "      <td>New York</td>\n",
              "    </tr>\n",
              "    <tr>\n",
              "      <th>5</th>\n",
              "      <td>Florida</td>\n",
              "      <td>Miami</td>\n",
              "    </tr>\n",
              "    <tr>\n",
              "      <th>6</th>\n",
              "      <td>Texas</td>\n",
              "      <td>Houston</td>\n",
              "    </tr>\n",
              "  </tbody>\n",
              "</table>\n",
              "</div>"
            ],
            "text/plain": [
              "        state            city\n",
              "0          CA   San Francisco\n",
              "1          NY        New York\n",
              "2          FL           Miami\n",
              "3          OH       Cleveland\n",
              "4          UT  Salt Lake City\n",
              "3  California   San Francisco\n",
              "4    New-York        New York\n",
              "5     Florida           Miami\n",
              "6       Texas         Houston"
            ]
          },
          "execution_count": 351,
          "metadata": {},
          "output_type": "execute_result"
        }
      ],
      "source": [
        "pd.concat([city_loc, city_pop], join=\"inner\")"
      ]
    },
    {
      "cell_type": "markdown",
      "metadata": {
        "id": "5ibVD_K9e3FX"
      },
      "source": [
        "`axis=1`로 설정하면 `DataFrame`을 수직이 아니라 수평으로 연결할 수 있습니다:"
      ]
    },
    {
      "cell_type": "code",
      "execution_count": 354,
      "metadata": {
        "id": "NVJYFVV8e3FX",
        "outputId": "a39ab3b4-782a-4b68-8dc3-fb723e2059da",
        "scrolled": true
      },
      "outputs": [
        {
          "data": {
            "text/html": [
              "<div>\n",
              "<style scoped>\n",
              "    .dataframe tbody tr th:only-of-type {\n",
              "        vertical-align: middle;\n",
              "    }\n",
              "\n",
              "    .dataframe tbody tr th {\n",
              "        vertical-align: top;\n",
              "    }\n",
              "\n",
              "    .dataframe thead th {\n",
              "        text-align: right;\n",
              "    }\n",
              "</style>\n",
              "<table border=\"1\" class=\"dataframe\">\n",
              "  <thead>\n",
              "    <tr style=\"text-align: right;\">\n",
              "      <th></th>\n",
              "      <th>state</th>\n",
              "      <th>city</th>\n",
              "      <th>lat</th>\n",
              "      <th>lng</th>\n",
              "      <th>population</th>\n",
              "      <th>city</th>\n",
              "      <th>state</th>\n",
              "    </tr>\n",
              "  </thead>\n",
              "  <tbody>\n",
              "    <tr>\n",
              "      <th>0</th>\n",
              "      <td>CA</td>\n",
              "      <td>San Francisco</td>\n",
              "      <td>37.781334</td>\n",
              "      <td>-122.416728</td>\n",
              "      <td>NaN</td>\n",
              "      <td>NaN</td>\n",
              "      <td>NaN</td>\n",
              "    </tr>\n",
              "    <tr>\n",
              "      <th>1</th>\n",
              "      <td>NY</td>\n",
              "      <td>New York</td>\n",
              "      <td>40.705649</td>\n",
              "      <td>-74.008344</td>\n",
              "      <td>NaN</td>\n",
              "      <td>NaN</td>\n",
              "      <td>NaN</td>\n",
              "    </tr>\n",
              "    <tr>\n",
              "      <th>2</th>\n",
              "      <td>FL</td>\n",
              "      <td>Miami</td>\n",
              "      <td>25.791100</td>\n",
              "      <td>-80.320733</td>\n",
              "      <td>NaN</td>\n",
              "      <td>NaN</td>\n",
              "      <td>NaN</td>\n",
              "    </tr>\n",
              "    <tr>\n",
              "      <th>3</th>\n",
              "      <td>OH</td>\n",
              "      <td>Cleveland</td>\n",
              "      <td>41.473508</td>\n",
              "      <td>-81.739791</td>\n",
              "      <td>808976.0</td>\n",
              "      <td>San Francisco</td>\n",
              "      <td>California</td>\n",
              "    </tr>\n",
              "    <tr>\n",
              "      <th>4</th>\n",
              "      <td>UT</td>\n",
              "      <td>Salt Lake City</td>\n",
              "      <td>40.755851</td>\n",
              "      <td>-111.896657</td>\n",
              "      <td>8363710.0</td>\n",
              "      <td>New York</td>\n",
              "      <td>New-York</td>\n",
              "    </tr>\n",
              "    <tr>\n",
              "      <th>5</th>\n",
              "      <td>NaN</td>\n",
              "      <td>NaN</td>\n",
              "      <td>NaN</td>\n",
              "      <td>NaN</td>\n",
              "      <td>413201.0</td>\n",
              "      <td>Miami</td>\n",
              "      <td>Florida</td>\n",
              "    </tr>\n",
              "    <tr>\n",
              "      <th>6</th>\n",
              "      <td>NaN</td>\n",
              "      <td>NaN</td>\n",
              "      <td>NaN</td>\n",
              "      <td>NaN</td>\n",
              "      <td>2242193.0</td>\n",
              "      <td>Houston</td>\n",
              "      <td>Texas</td>\n",
              "    </tr>\n",
              "  </tbody>\n",
              "</table>\n",
              "</div>"
            ],
            "text/plain": [
              "  state            city        lat         lng  population           city  \\\n",
              "0    CA   San Francisco  37.781334 -122.416728         NaN            NaN   \n",
              "1    NY        New York  40.705649  -74.008344         NaN            NaN   \n",
              "2    FL           Miami  25.791100  -80.320733         NaN            NaN   \n",
              "3    OH       Cleveland  41.473508  -81.739791    808976.0  San Francisco   \n",
              "4    UT  Salt Lake City  40.755851 -111.896657   8363710.0       New York   \n",
              "5   NaN             NaN        NaN         NaN    413201.0          Miami   \n",
              "6   NaN             NaN        NaN         NaN   2242193.0        Houston   \n",
              "\n",
              "        state  \n",
              "0         NaN  \n",
              "1         NaN  \n",
              "2         NaN  \n",
              "3  California  \n",
              "4    New-York  \n",
              "5     Florida  \n",
              "6       Texas  "
            ]
          },
          "execution_count": 354,
          "metadata": {},
          "output_type": "execute_result"
        }
      ],
      "source": [
        "pd.concat([city_loc, city_pop], axis=1)"
      ]
    },
    {
      "cell_type": "markdown",
      "metadata": {
        "id": "sxjivJIpe3FX"
      },
      "source": [
        "이 경우 인덱스가 잘 정렬되지 않기 때문에 의미가 없습니다(예를 들어 Cleveland와 San Francisco의 인덱스 레이블이 `3`이기 때문에 동일한 행에 놓여 있습니다). 이 `DataFrame`을 연결하기 전에 도시로 인덱스를 재설정해 보죠:"
      ]
    },
    {
      "cell_type": "code",
      "execution_count": 355,
      "metadata": {
        "id": "0_lF1T8Oe3FY",
        "outputId": "ce780c3a-3246-4330-8278-48ecfe7573f4",
        "scrolled": true
      },
      "outputs": [
        {
          "data": {
            "text/html": [
              "<div>\n",
              "<style scoped>\n",
              "    .dataframe tbody tr th:only-of-type {\n",
              "        vertical-align: middle;\n",
              "    }\n",
              "\n",
              "    .dataframe tbody tr th {\n",
              "        vertical-align: top;\n",
              "    }\n",
              "\n",
              "    .dataframe thead th {\n",
              "        text-align: right;\n",
              "    }\n",
              "</style>\n",
              "<table border=\"1\" class=\"dataframe\">\n",
              "  <thead>\n",
              "    <tr style=\"text-align: right;\">\n",
              "      <th></th>\n",
              "      <th>state</th>\n",
              "      <th>lat</th>\n",
              "      <th>lng</th>\n",
              "      <th>population</th>\n",
              "      <th>state</th>\n",
              "    </tr>\n",
              "    <tr>\n",
              "      <th>city</th>\n",
              "      <th></th>\n",
              "      <th></th>\n",
              "      <th></th>\n",
              "      <th></th>\n",
              "      <th></th>\n",
              "    </tr>\n",
              "  </thead>\n",
              "  <tbody>\n",
              "    <tr>\n",
              "      <th>San Francisco</th>\n",
              "      <td>CA</td>\n",
              "      <td>37.781334</td>\n",
              "      <td>-122.416728</td>\n",
              "      <td>808976.0</td>\n",
              "      <td>California</td>\n",
              "    </tr>\n",
              "    <tr>\n",
              "      <th>New York</th>\n",
              "      <td>NY</td>\n",
              "      <td>40.705649</td>\n",
              "      <td>-74.008344</td>\n",
              "      <td>8363710.0</td>\n",
              "      <td>New-York</td>\n",
              "    </tr>\n",
              "    <tr>\n",
              "      <th>Miami</th>\n",
              "      <td>FL</td>\n",
              "      <td>25.791100</td>\n",
              "      <td>-80.320733</td>\n",
              "      <td>413201.0</td>\n",
              "      <td>Florida</td>\n",
              "    </tr>\n",
              "    <tr>\n",
              "      <th>Cleveland</th>\n",
              "      <td>OH</td>\n",
              "      <td>41.473508</td>\n",
              "      <td>-81.739791</td>\n",
              "      <td>NaN</td>\n",
              "      <td>NaN</td>\n",
              "    </tr>\n",
              "    <tr>\n",
              "      <th>Salt Lake City</th>\n",
              "      <td>UT</td>\n",
              "      <td>40.755851</td>\n",
              "      <td>-111.896657</td>\n",
              "      <td>NaN</td>\n",
              "      <td>NaN</td>\n",
              "    </tr>\n",
              "    <tr>\n",
              "      <th>Houston</th>\n",
              "      <td>NaN</td>\n",
              "      <td>NaN</td>\n",
              "      <td>NaN</td>\n",
              "      <td>2242193.0</td>\n",
              "      <td>Texas</td>\n",
              "    </tr>\n",
              "  </tbody>\n",
              "</table>\n",
              "</div>"
            ],
            "text/plain": [
              "               state        lat         lng  population       state\n",
              "city                                                               \n",
              "San Francisco     CA  37.781334 -122.416728    808976.0  California\n",
              "New York          NY  40.705649  -74.008344   8363710.0    New-York\n",
              "Miami             FL  25.791100  -80.320733    413201.0     Florida\n",
              "Cleveland         OH  41.473508  -81.739791         NaN         NaN\n",
              "Salt Lake City    UT  40.755851 -111.896657         NaN         NaN\n",
              "Houston          NaN        NaN         NaN   2242193.0       Texas"
            ]
          },
          "execution_count": 355,
          "metadata": {},
          "output_type": "execute_result"
        }
      ],
      "source": [
        "pd.concat([city_loc.set_index(\"city\"), city_pop.set_index(\"city\")], axis=1)"
      ]
    },
    {
      "cell_type": "markdown",
      "metadata": {
        "id": "kkEvCNIoe3FY"
      },
      "source": [
        "`FULL OUTER JOIN`을 수행한 것과 비슷합니다. 하지만 `state` 열이 `state_x`와 `state_y`로 바뀌지 않았고 `city` 열이 인덱스가 되었습니다."
      ]
    },
    {
      "cell_type": "markdown",
      "metadata": {
        "id": "Dg8m8Aife3FY"
      },
      "source": [
        "`append()` 메서드는 `DataFrame`을 수직으로 연결하는 단축 메서드입니다:"
      ]
    },
    {
      "cell_type": "code",
      "execution_count": 356,
      "metadata": {
        "id": "E4L7q5xSe3FZ",
        "outputId": "3273cf05-85b4-4183-e828-d297c01bc1f7"
      },
      "outputs": [
        {
          "name": "stderr",
          "output_type": "stream",
          "text": [
            "C:\\Users\\leegabin\\AppData\\Local\\Temp\\ipykernel_1672\\360768564.py:1: FutureWarning: The frame.append method is deprecated and will be removed from pandas in a future version. Use pandas.concat instead.\n",
            "  city_loc.append(city_pop)\n"
          ]
        },
        {
          "data": {
            "text/html": [
              "<div>\n",
              "<style scoped>\n",
              "    .dataframe tbody tr th:only-of-type {\n",
              "        vertical-align: middle;\n",
              "    }\n",
              "\n",
              "    .dataframe tbody tr th {\n",
              "        vertical-align: top;\n",
              "    }\n",
              "\n",
              "    .dataframe thead th {\n",
              "        text-align: right;\n",
              "    }\n",
              "</style>\n",
              "<table border=\"1\" class=\"dataframe\">\n",
              "  <thead>\n",
              "    <tr style=\"text-align: right;\">\n",
              "      <th></th>\n",
              "      <th>state</th>\n",
              "      <th>city</th>\n",
              "      <th>lat</th>\n",
              "      <th>lng</th>\n",
              "      <th>population</th>\n",
              "    </tr>\n",
              "  </thead>\n",
              "  <tbody>\n",
              "    <tr>\n",
              "      <th>0</th>\n",
              "      <td>CA</td>\n",
              "      <td>San Francisco</td>\n",
              "      <td>37.781334</td>\n",
              "      <td>-122.416728</td>\n",
              "      <td>NaN</td>\n",
              "    </tr>\n",
              "    <tr>\n",
              "      <th>1</th>\n",
              "      <td>NY</td>\n",
              "      <td>New York</td>\n",
              "      <td>40.705649</td>\n",
              "      <td>-74.008344</td>\n",
              "      <td>NaN</td>\n",
              "    </tr>\n",
              "    <tr>\n",
              "      <th>2</th>\n",
              "      <td>FL</td>\n",
              "      <td>Miami</td>\n",
              "      <td>25.791100</td>\n",
              "      <td>-80.320733</td>\n",
              "      <td>NaN</td>\n",
              "    </tr>\n",
              "    <tr>\n",
              "      <th>3</th>\n",
              "      <td>OH</td>\n",
              "      <td>Cleveland</td>\n",
              "      <td>41.473508</td>\n",
              "      <td>-81.739791</td>\n",
              "      <td>NaN</td>\n",
              "    </tr>\n",
              "    <tr>\n",
              "      <th>4</th>\n",
              "      <td>UT</td>\n",
              "      <td>Salt Lake City</td>\n",
              "      <td>40.755851</td>\n",
              "      <td>-111.896657</td>\n",
              "      <td>NaN</td>\n",
              "    </tr>\n",
              "    <tr>\n",
              "      <th>3</th>\n",
              "      <td>California</td>\n",
              "      <td>San Francisco</td>\n",
              "      <td>NaN</td>\n",
              "      <td>NaN</td>\n",
              "      <td>808976.0</td>\n",
              "    </tr>\n",
              "    <tr>\n",
              "      <th>4</th>\n",
              "      <td>New-York</td>\n",
              "      <td>New York</td>\n",
              "      <td>NaN</td>\n",
              "      <td>NaN</td>\n",
              "      <td>8363710.0</td>\n",
              "    </tr>\n",
              "    <tr>\n",
              "      <th>5</th>\n",
              "      <td>Florida</td>\n",
              "      <td>Miami</td>\n",
              "      <td>NaN</td>\n",
              "      <td>NaN</td>\n",
              "      <td>413201.0</td>\n",
              "    </tr>\n",
              "    <tr>\n",
              "      <th>6</th>\n",
              "      <td>Texas</td>\n",
              "      <td>Houston</td>\n",
              "      <td>NaN</td>\n",
              "      <td>NaN</td>\n",
              "      <td>2242193.0</td>\n",
              "    </tr>\n",
              "  </tbody>\n",
              "</table>\n",
              "</div>"
            ],
            "text/plain": [
              "        state            city        lat         lng  population\n",
              "0          CA   San Francisco  37.781334 -122.416728         NaN\n",
              "1          NY        New York  40.705649  -74.008344         NaN\n",
              "2          FL           Miami  25.791100  -80.320733         NaN\n",
              "3          OH       Cleveland  41.473508  -81.739791         NaN\n",
              "4          UT  Salt Lake City  40.755851 -111.896657         NaN\n",
              "3  California   San Francisco        NaN         NaN    808976.0\n",
              "4    New-York        New York        NaN         NaN   8363710.0\n",
              "5     Florida           Miami        NaN         NaN    413201.0\n",
              "6       Texas         Houston        NaN         NaN   2242193.0"
            ]
          },
          "execution_count": 356,
          "metadata": {},
          "output_type": "execute_result"
        }
      ],
      "source": [
        "city_loc.append(city_pop)"
      ]
    },
    {
      "cell_type": "code",
      "execution_count": 357,
      "metadata": {
        "id": "6hRzVEpTmu6H",
        "outputId": "bee69336-4727-40ad-8d28-9645a05f454d"
      },
      "outputs": [
        {
          "data": {
            "text/html": [
              "<div>\n",
              "<style scoped>\n",
              "    .dataframe tbody tr th:only-of-type {\n",
              "        vertical-align: middle;\n",
              "    }\n",
              "\n",
              "    .dataframe tbody tr th {\n",
              "        vertical-align: top;\n",
              "    }\n",
              "\n",
              "    .dataframe thead th {\n",
              "        text-align: right;\n",
              "    }\n",
              "</style>\n",
              "<table border=\"1\" class=\"dataframe\">\n",
              "  <thead>\n",
              "    <tr style=\"text-align: right;\">\n",
              "      <th></th>\n",
              "      <th>state</th>\n",
              "      <th>city</th>\n",
              "      <th>lat</th>\n",
              "      <th>lng</th>\n",
              "      <th>population</th>\n",
              "    </tr>\n",
              "  </thead>\n",
              "  <tbody>\n",
              "    <tr>\n",
              "      <th>0</th>\n",
              "      <td>CA</td>\n",
              "      <td>San Francisco</td>\n",
              "      <td>37.781334</td>\n",
              "      <td>-122.416728</td>\n",
              "      <td>NaN</td>\n",
              "    </tr>\n",
              "    <tr>\n",
              "      <th>1</th>\n",
              "      <td>NY</td>\n",
              "      <td>New York</td>\n",
              "      <td>40.705649</td>\n",
              "      <td>-74.008344</td>\n",
              "      <td>NaN</td>\n",
              "    </tr>\n",
              "    <tr>\n",
              "      <th>2</th>\n",
              "      <td>FL</td>\n",
              "      <td>Miami</td>\n",
              "      <td>25.791100</td>\n",
              "      <td>-80.320733</td>\n",
              "      <td>NaN</td>\n",
              "    </tr>\n",
              "    <tr>\n",
              "      <th>3</th>\n",
              "      <td>OH</td>\n",
              "      <td>Cleveland</td>\n",
              "      <td>41.473508</td>\n",
              "      <td>-81.739791</td>\n",
              "      <td>NaN</td>\n",
              "    </tr>\n",
              "    <tr>\n",
              "      <th>4</th>\n",
              "      <td>UT</td>\n",
              "      <td>Salt Lake City</td>\n",
              "      <td>40.755851</td>\n",
              "      <td>-111.896657</td>\n",
              "      <td>NaN</td>\n",
              "    </tr>\n",
              "    <tr>\n",
              "      <th>3</th>\n",
              "      <td>California</td>\n",
              "      <td>San Francisco</td>\n",
              "      <td>NaN</td>\n",
              "      <td>NaN</td>\n",
              "      <td>808976.0</td>\n",
              "    </tr>\n",
              "    <tr>\n",
              "      <th>4</th>\n",
              "      <td>New-York</td>\n",
              "      <td>New York</td>\n",
              "      <td>NaN</td>\n",
              "      <td>NaN</td>\n",
              "      <td>8363710.0</td>\n",
              "    </tr>\n",
              "    <tr>\n",
              "      <th>5</th>\n",
              "      <td>Florida</td>\n",
              "      <td>Miami</td>\n",
              "      <td>NaN</td>\n",
              "      <td>NaN</td>\n",
              "      <td>413201.0</td>\n",
              "    </tr>\n",
              "    <tr>\n",
              "      <th>6</th>\n",
              "      <td>Texas</td>\n",
              "      <td>Houston</td>\n",
              "      <td>NaN</td>\n",
              "      <td>NaN</td>\n",
              "      <td>2242193.0</td>\n",
              "    </tr>\n",
              "  </tbody>\n",
              "</table>\n",
              "</div>"
            ],
            "text/plain": [
              "        state            city        lat         lng  population\n",
              "0          CA   San Francisco  37.781334 -122.416728         NaN\n",
              "1          NY        New York  40.705649  -74.008344         NaN\n",
              "2          FL           Miami  25.791100  -80.320733         NaN\n",
              "3          OH       Cleveland  41.473508  -81.739791         NaN\n",
              "4          UT  Salt Lake City  40.755851 -111.896657         NaN\n",
              "3  California   San Francisco        NaN         NaN    808976.0\n",
              "4    New-York        New York        NaN         NaN   8363710.0\n",
              "5     Florida           Miami        NaN         NaN    413201.0\n",
              "6       Texas         Houston        NaN         NaN   2242193.0"
            ]
          },
          "execution_count": 357,
          "metadata": {},
          "output_type": "execute_result"
        }
      ],
      "source": [
        "pd.concat([city_loc,city_pop])"
      ]
    },
    {
      "cell_type": "markdown",
      "metadata": {
        "id": "mRnGfXeOe3FZ"
      },
      "source": [
        "판다스의 다른 메서드와 마찬가지로 `append()` 메서드는 실제 `city_loc`을 수정하지 않습니다. 복사본을 만들어 수정한 다음 반환합니다."
      ]
    },
    {
      "cell_type": "markdown",
      "metadata": {
        "id": "ai1njVGie3FZ"
      },
      "source": [
        "# 범주\n",
        "\n",
        "범주로 표현된 값을 가진 경우가 흔합니다. 예를 들어 `1`은 여성, `2`는 남성이거나 `\"A\"`는 좋은 것, `\"B\"`는 평균, `\"C\"`는 나쁜 것 등입니다. 범주형 값을 읽기 힘들고 다루기 번거롭습니다. 하지만 판다스에서는 간단합니다. 예를 들기 위해 앞서 만든 `city_pop` `DataFrame`에 범주를 표현하는 열을 추가해 보겠습니다:"
      ]
    },
    {
      "cell_type": "code",
      "execution_count": 358,
      "metadata": {
        "id": "QVvJtby8mu6H",
        "outputId": "2d9a498f-316e-4ab2-d774-ea4a439e83a5"
      },
      "outputs": [
        {
          "data": {
            "text/html": [
              "<div>\n",
              "<style scoped>\n",
              "    .dataframe tbody tr th:only-of-type {\n",
              "        vertical-align: middle;\n",
              "    }\n",
              "\n",
              "    .dataframe tbody tr th {\n",
              "        vertical-align: top;\n",
              "    }\n",
              "\n",
              "    .dataframe thead th {\n",
              "        text-align: right;\n",
              "    }\n",
              "</style>\n",
              "<table border=\"1\" class=\"dataframe\">\n",
              "  <thead>\n",
              "    <tr style=\"text-align: right;\">\n",
              "      <th></th>\n",
              "      <th>population</th>\n",
              "      <th>city</th>\n",
              "      <th>state</th>\n",
              "    </tr>\n",
              "  </thead>\n",
              "  <tbody>\n",
              "    <tr>\n",
              "      <th>3</th>\n",
              "      <td>808976</td>\n",
              "      <td>San Francisco</td>\n",
              "      <td>California</td>\n",
              "    </tr>\n",
              "    <tr>\n",
              "      <th>4</th>\n",
              "      <td>8363710</td>\n",
              "      <td>New York</td>\n",
              "      <td>New-York</td>\n",
              "    </tr>\n",
              "    <tr>\n",
              "      <th>5</th>\n",
              "      <td>413201</td>\n",
              "      <td>Miami</td>\n",
              "      <td>Florida</td>\n",
              "    </tr>\n",
              "    <tr>\n",
              "      <th>6</th>\n",
              "      <td>2242193</td>\n",
              "      <td>Houston</td>\n",
              "      <td>Texas</td>\n",
              "    </tr>\n",
              "  </tbody>\n",
              "</table>\n",
              "</div>"
            ],
            "text/plain": [
              "   population           city       state\n",
              "3      808976  San Francisco  California\n",
              "4     8363710       New York    New-York\n",
              "5      413201          Miami     Florida\n",
              "6     2242193        Houston       Texas"
            ]
          },
          "execution_count": 358,
          "metadata": {},
          "output_type": "execute_result"
        }
      ],
      "source": [
        "city_pop"
      ]
    },
    {
      "cell_type": "code",
      "execution_count": 359,
      "metadata": {
        "id": "LkAyEXuPmu6H",
        "outputId": "2355a3b3-6e8b-4495-891f-0a147491ed07"
      },
      "outputs": [
        {
          "name": "stdout",
          "output_type": "stream",
          "text": [
            "<class 'pandas.core.frame.DataFrame'>\n",
            "Int64Index: 4 entries, 3 to 6\n",
            "Data columns (total 3 columns):\n",
            " #   Column      Non-Null Count  Dtype \n",
            "---  ------      --------------  ----- \n",
            " 0   population  4 non-null      int64 \n",
            " 1   city        4 non-null      object\n",
            " 2   state       4 non-null      object\n",
            "dtypes: int64(1), object(2)\n",
            "memory usage: 300.0+ bytes\n"
          ]
        }
      ],
      "source": [
        "city_pop.info()"
      ]
    },
    {
      "cell_type": "code",
      "execution_count": 360,
      "metadata": {
        "id": "X2zAniJse3FZ",
        "outputId": "5adb4e99-f3ae-4482-a14b-4a1504b7774b"
      },
      "outputs": [
        {
          "data": {
            "text/html": [
              "<div>\n",
              "<style scoped>\n",
              "    .dataframe tbody tr th:only-of-type {\n",
              "        vertical-align: middle;\n",
              "    }\n",
              "\n",
              "    .dataframe tbody tr th {\n",
              "        vertical-align: top;\n",
              "    }\n",
              "\n",
              "    .dataframe thead th {\n",
              "        text-align: right;\n",
              "    }\n",
              "</style>\n",
              "<table border=\"1\" class=\"dataframe\">\n",
              "  <thead>\n",
              "    <tr style=\"text-align: right;\">\n",
              "      <th></th>\n",
              "      <th>population</th>\n",
              "      <th>city</th>\n",
              "      <th>state</th>\n",
              "      <th>eco_code</th>\n",
              "    </tr>\n",
              "  </thead>\n",
              "  <tbody>\n",
              "    <tr>\n",
              "      <th>3</th>\n",
              "      <td>808976</td>\n",
              "      <td>San Francisco</td>\n",
              "      <td>California</td>\n",
              "      <td>17</td>\n",
              "    </tr>\n",
              "    <tr>\n",
              "      <th>4</th>\n",
              "      <td>8363710</td>\n",
              "      <td>New York</td>\n",
              "      <td>New-York</td>\n",
              "      <td>17</td>\n",
              "    </tr>\n",
              "    <tr>\n",
              "      <th>5</th>\n",
              "      <td>413201</td>\n",
              "      <td>Miami</td>\n",
              "      <td>Florida</td>\n",
              "      <td>34</td>\n",
              "    </tr>\n",
              "    <tr>\n",
              "      <th>6</th>\n",
              "      <td>2242193</td>\n",
              "      <td>Houston</td>\n",
              "      <td>Texas</td>\n",
              "      <td>20</td>\n",
              "    </tr>\n",
              "  </tbody>\n",
              "</table>\n",
              "</div>"
            ],
            "text/plain": [
              "   population           city       state  eco_code\n",
              "3      808976  San Francisco  California        17\n",
              "4     8363710       New York    New-York        17\n",
              "5      413201          Miami     Florida        34\n",
              "6     2242193        Houston       Texas        20"
            ]
          },
          "execution_count": 360,
          "metadata": {},
          "output_type": "execute_result"
        }
      ],
      "source": [
        "city_eco = city_pop.copy()\n",
        "city_eco[\"eco_code\"] = [17, 17, 34, 20]\n",
        "city_eco"
      ]
    },
    {
      "cell_type": "markdown",
      "metadata": {
        "id": "XTQsuExfe3FZ"
      },
      "source": [
        "이제 `eco_code`열은 의미없는 코드입니다. 이를 바꿔 보죠. 먼저 `eco_code`를 기반으로 새로운 범주형 열을 만듭니다:"
      ]
    },
    {
      "cell_type": "code",
      "execution_count": 361,
      "metadata": {
        "id": "ePsMjd_fe3FZ",
        "outputId": "2dd1828f-bb27-4224-c787-4bc1066621cb"
      },
      "outputs": [
        {
          "data": {
            "text/html": [
              "<div>\n",
              "<style scoped>\n",
              "    .dataframe tbody tr th:only-of-type {\n",
              "        vertical-align: middle;\n",
              "    }\n",
              "\n",
              "    .dataframe tbody tr th {\n",
              "        vertical-align: top;\n",
              "    }\n",
              "\n",
              "    .dataframe thead th {\n",
              "        text-align: right;\n",
              "    }\n",
              "</style>\n",
              "<table border=\"1\" class=\"dataframe\">\n",
              "  <thead>\n",
              "    <tr style=\"text-align: right;\">\n",
              "      <th></th>\n",
              "      <th>population</th>\n",
              "      <th>city</th>\n",
              "      <th>state</th>\n",
              "      <th>eco_code</th>\n",
              "      <th>economy</th>\n",
              "    </tr>\n",
              "  </thead>\n",
              "  <tbody>\n",
              "    <tr>\n",
              "      <th>3</th>\n",
              "      <td>808976</td>\n",
              "      <td>San Francisco</td>\n",
              "      <td>California</td>\n",
              "      <td>17</td>\n",
              "      <td>17</td>\n",
              "    </tr>\n",
              "    <tr>\n",
              "      <th>4</th>\n",
              "      <td>8363710</td>\n",
              "      <td>New York</td>\n",
              "      <td>New-York</td>\n",
              "      <td>17</td>\n",
              "      <td>17</td>\n",
              "    </tr>\n",
              "    <tr>\n",
              "      <th>5</th>\n",
              "      <td>413201</td>\n",
              "      <td>Miami</td>\n",
              "      <td>Florida</td>\n",
              "      <td>34</td>\n",
              "      <td>34</td>\n",
              "    </tr>\n",
              "    <tr>\n",
              "      <th>6</th>\n",
              "      <td>2242193</td>\n",
              "      <td>Houston</td>\n",
              "      <td>Texas</td>\n",
              "      <td>20</td>\n",
              "      <td>20</td>\n",
              "    </tr>\n",
              "  </tbody>\n",
              "</table>\n",
              "</div>"
            ],
            "text/plain": [
              "   population           city       state  eco_code economy\n",
              "3      808976  San Francisco  California        17      17\n",
              "4     8363710       New York    New-York        17      17\n",
              "5      413201          Miami     Florida        34      34\n",
              "6     2242193        Houston       Texas        20      20"
            ]
          },
          "execution_count": 361,
          "metadata": {},
          "output_type": "execute_result"
        }
      ],
      "source": [
        "city_eco[\"economy\"] = city_eco[\"eco_code\"].astype('category')\n",
        "city_eco"
      ]
    },
    {
      "cell_type": "code",
      "execution_count": 362,
      "metadata": {
        "id": "ynkeycoomu6H",
        "outputId": "5c9515c0-1105-4c3f-b109-7fe7e4c6a543"
      },
      "outputs": [
        {
          "name": "stdout",
          "output_type": "stream",
          "text": [
            "<class 'pandas.core.frame.DataFrame'>\n",
            "Int64Index: 4 entries, 3 to 6\n",
            "Data columns (total 5 columns):\n",
            " #   Column      Non-Null Count  Dtype   \n",
            "---  ------      --------------  -----   \n",
            " 0   population  4 non-null      int64   \n",
            " 1   city        4 non-null      object  \n",
            " 2   state       4 non-null      object  \n",
            " 3   eco_code    4 non-null      int64   \n",
            " 4   economy     4 non-null      category\n",
            "dtypes: category(1), int64(2), object(2)\n",
            "memory usage: 468.0+ bytes\n"
          ]
        }
      ],
      "source": [
        "city_eco.info()"
      ]
    },
    {
      "cell_type": "code",
      "execution_count": 363,
      "metadata": {
        "id": "bHJJ563omu6H",
        "outputId": "77b1f219-8bd3-4893-92c1-cdeb48239f98"
      },
      "outputs": [
        {
          "data": {
            "text/plain": [
              "Int64Index([17, 20, 34], dtype='int64')"
            ]
          },
          "execution_count": 363,
          "metadata": {},
          "output_type": "execute_result"
        }
      ],
      "source": [
        "city_eco[\"economy\"].cat.categories"
      ]
    },
    {
      "cell_type": "markdown",
      "metadata": {
        "id": "yzgBMfjge3FZ"
      },
      "source": [
        "의미있는 이름을 가진 범주를 지정할 수 있습니다:"
      ]
    },
    {
      "cell_type": "code",
      "execution_count": 364,
      "metadata": {
        "id": "lENtM9e9e3FZ",
        "outputId": "157cf142-9c01-483d-80bd-101f34687998"
      },
      "outputs": [
        {
          "data": {
            "text/html": [
              "<div>\n",
              "<style scoped>\n",
              "    .dataframe tbody tr th:only-of-type {\n",
              "        vertical-align: middle;\n",
              "    }\n",
              "\n",
              "    .dataframe tbody tr th {\n",
              "        vertical-align: top;\n",
              "    }\n",
              "\n",
              "    .dataframe thead th {\n",
              "        text-align: right;\n",
              "    }\n",
              "</style>\n",
              "<table border=\"1\" class=\"dataframe\">\n",
              "  <thead>\n",
              "    <tr style=\"text-align: right;\">\n",
              "      <th></th>\n",
              "      <th>population</th>\n",
              "      <th>city</th>\n",
              "      <th>state</th>\n",
              "      <th>eco_code</th>\n",
              "      <th>economy</th>\n",
              "    </tr>\n",
              "  </thead>\n",
              "  <tbody>\n",
              "    <tr>\n",
              "      <th>3</th>\n",
              "      <td>808976</td>\n",
              "      <td>San Francisco</td>\n",
              "      <td>California</td>\n",
              "      <td>17</td>\n",
              "      <td>Finance</td>\n",
              "    </tr>\n",
              "    <tr>\n",
              "      <th>4</th>\n",
              "      <td>8363710</td>\n",
              "      <td>New York</td>\n",
              "      <td>New-York</td>\n",
              "      <td>17</td>\n",
              "      <td>Finance</td>\n",
              "    </tr>\n",
              "    <tr>\n",
              "      <th>5</th>\n",
              "      <td>413201</td>\n",
              "      <td>Miami</td>\n",
              "      <td>Florida</td>\n",
              "      <td>34</td>\n",
              "      <td>Tourism</td>\n",
              "    </tr>\n",
              "    <tr>\n",
              "      <th>6</th>\n",
              "      <td>2242193</td>\n",
              "      <td>Houston</td>\n",
              "      <td>Texas</td>\n",
              "      <td>20</td>\n",
              "      <td>Energy</td>\n",
              "    </tr>\n",
              "  </tbody>\n",
              "</table>\n",
              "</div>"
            ],
            "text/plain": [
              "   population           city       state  eco_code  economy\n",
              "3      808976  San Francisco  California        17  Finance\n",
              "4     8363710       New York    New-York        17  Finance\n",
              "5      413201          Miami     Florida        34  Tourism\n",
              "6     2242193        Houston       Texas        20   Energy"
            ]
          },
          "execution_count": 364,
          "metadata": {},
          "output_type": "execute_result"
        }
      ],
      "source": [
        "city_eco[\"economy\"].cat.categories = [\"Finance\", \"Energy\", \"Tourism\"]\n",
        "city_eco"
      ]
    },
    {
      "cell_type": "markdown",
      "metadata": {
        "id": "GufkhZ2te3FZ"
      },
      "source": [
        "범주형 값은 알파벳 순서가 아니라 범주형 순서로 정렬합니다:"
      ]
    },
    {
      "cell_type": "code",
      "execution_count": 365,
      "metadata": {
        "id": "KtFtit5Se3Fa",
        "outputId": "147867d8-f754-4d73-c3cd-261427acfa0b"
      },
      "outputs": [
        {
          "data": {
            "text/html": [
              "<div>\n",
              "<style scoped>\n",
              "    .dataframe tbody tr th:only-of-type {\n",
              "        vertical-align: middle;\n",
              "    }\n",
              "\n",
              "    .dataframe tbody tr th {\n",
              "        vertical-align: top;\n",
              "    }\n",
              "\n",
              "    .dataframe thead th {\n",
              "        text-align: right;\n",
              "    }\n",
              "</style>\n",
              "<table border=\"1\" class=\"dataframe\">\n",
              "  <thead>\n",
              "    <tr style=\"text-align: right;\">\n",
              "      <th></th>\n",
              "      <th>population</th>\n",
              "      <th>city</th>\n",
              "      <th>state</th>\n",
              "      <th>eco_code</th>\n",
              "      <th>economy</th>\n",
              "    </tr>\n",
              "  </thead>\n",
              "  <tbody>\n",
              "    <tr>\n",
              "      <th>5</th>\n",
              "      <td>413201</td>\n",
              "      <td>Miami</td>\n",
              "      <td>Florida</td>\n",
              "      <td>34</td>\n",
              "      <td>Tourism</td>\n",
              "    </tr>\n",
              "    <tr>\n",
              "      <th>6</th>\n",
              "      <td>2242193</td>\n",
              "      <td>Houston</td>\n",
              "      <td>Texas</td>\n",
              "      <td>20</td>\n",
              "      <td>Energy</td>\n",
              "    </tr>\n",
              "    <tr>\n",
              "      <th>3</th>\n",
              "      <td>808976</td>\n",
              "      <td>San Francisco</td>\n",
              "      <td>California</td>\n",
              "      <td>17</td>\n",
              "      <td>Finance</td>\n",
              "    </tr>\n",
              "    <tr>\n",
              "      <th>4</th>\n",
              "      <td>8363710</td>\n",
              "      <td>New York</td>\n",
              "      <td>New-York</td>\n",
              "      <td>17</td>\n",
              "      <td>Finance</td>\n",
              "    </tr>\n",
              "  </tbody>\n",
              "</table>\n",
              "</div>"
            ],
            "text/plain": [
              "   population           city       state  eco_code  economy\n",
              "5      413201          Miami     Florida        34  Tourism\n",
              "6     2242193        Houston       Texas        20   Energy\n",
              "3      808976  San Francisco  California        17  Finance\n",
              "4     8363710       New York    New-York        17  Finance"
            ]
          },
          "execution_count": 365,
          "metadata": {},
          "output_type": "execute_result"
        }
      ],
      "source": [
        "city_eco.sort_values(by=\"economy\", ascending=False)"
      ]
    },
    {
      "cell_type": "markdown",
      "metadata": {
        "id": "drvoE3cEe3Fa"
      },
      "source": [
        "# 그 다음엔?\n",
        "\n",
        "이제 알았겠지만 판다스는 매우 커다란 라이브러리이고 기능이 많습니다. 가장 중요한 기능들을 둘러 보았지만 빙산의 일각일 뿐입니다. 더 많은 것을 익히려면 실전 데이터로 직접 실습해 보는 것이 제일 좋습니다. 판다스의 훌륭한 [문서](http://pandas.pydata.org/pandas-docs/stable/index.html)와 [쿡북](http://pandas.pydata.org/pandas-docs/stable/cookbook.html)을 보는 것도 좋습니다."
      ]
    }
  ],
  "metadata": {
    "colab": {
      "provenance": []
    },
    "kernelspec": {
      "display_name": "Python 3 (ipykernel)",
      "language": "python",
      "name": "python3"
    },
    "language_info": {
      "codemirror_mode": {
        "name": "ipython",
        "version": 3
      },
      "file_extension": ".py",
      "mimetype": "text/x-python",
      "name": "python",
      "nbconvert_exporter": "python",
      "pygments_lexer": "ipython3",
      "version": "3.9.13"
    },
    "toc": {
      "toc_cell": false,
      "toc_number_sections": true,
      "toc_section_display": "none",
      "toc_threshold": 6,
      "toc_window_display": true
    }
  },
  "nbformat": 4,
  "nbformat_minor": 0
}
